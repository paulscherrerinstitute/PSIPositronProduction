{
 "cells": [
  {
   "cell_type": "code",
   "execution_count": null,
   "id": "11e4893f",
   "metadata": {},
   "outputs": [],
   "source": [
    "import os\n",
    "import numpy as np\n",
    "import pandas as pd\n",
    "import matplotlib\n",
    "import matplotlib.pyplot as plt\n",
    "import BeamDynamics as bd\n",
    "import copy"
   ]
  },
  {
   "cell_type": "code",
   "execution_count": null,
   "id": "eaf8d117",
   "metadata": {},
   "outputs": [],
   "source": [
    "from importlib import reload\n",
    "reload(bd)"
   ]
  },
  {
   "cell_type": "code",
   "execution_count": null,
   "id": "c1eb47ab-60ad-4cf7-8320-93ff1ff41ee6",
   "metadata": {},
   "outputs": [],
   "source": [
    "# %matplotlib inline\n",
    "# %matplotlib notebook\n",
    "%matplotlib widget"
   ]
  },
  {
   "cell_type": "code",
   "execution_count": null,
   "id": "95498146-62c1-4909-b007-3cb0ae8c2020",
   "metadata": {},
   "outputs": [],
   "source": [
    "plt.rcParams['figure.figsize'] = [9.6, 6.4]\n",
    "# plotFont = {\n",
    "#     'family' : 'sans-serif',\n",
    "#     'weight' : 'normal',\n",
    "#     'size'   : 12\n",
    "# }\n",
    "# matplotlib.rc('font', size=9)\n",
    "# plt.rc('legend', fontsize=7)\n",
    "defaultColorCycle = plt.rcParams[\"axes.prop_cycle\"]"
   ]
  },
  {
   "cell_type": "markdown",
   "id": "39f9e228",
   "metadata": {},
   "source": [
    "# Emittance Growth in Drift Space"
   ]
  },
  {
   "cell_type": "code",
   "execution_count": null,
   "id": "a157fcd7",
   "metadata": {
    "tags": []
   },
   "outputs": [],
   "source": [
    "plotDefs = [\n",
    "    {\n",
    "        'varName1': 'x', 'varName2': 'y',\n",
    "        'opacityHist': 0.5,\n",
    "    },\n",
    "    {\n",
    "        'varName1': 't', 'varName2': 'x',\n",
    "        'opacityHist': 0.5,\n",
    "    },\n",
    "    {\n",
    "        'varName1': 't', 'varName2': 'y',\n",
    "        'opacityHist': 0.5,\n",
    "    },\n",
    "    {\n",
    "        'varName1': 'x', 'varName2': 'xp',\n",
    "        'opacityHist': 0.5,\n",
    "    },\n",
    "    {\n",
    "        'varName1': 'y', 'varName2': 'yp',\n",
    "        'opacityHist': 0.5,\n",
    "    },\n",
    "    {\n",
    "        'varName1': 'z', 'varName2': 'pz',\n",
    "        'opacityHist': 0.5,\n",
    "    },\n",
    "    {\n",
    "        'varName1': 't', 'varName2': 'Ekin',\n",
    "        'opacityHist': 0.5,\n",
    "    },\n",
    "    {\n",
    "        'varName1': 't', 'varName2': 'pz',\n",
    "        'opacityHist': 0.5,\n",
    "    },\n",
    "    {\n",
    "        'varName1': 't', 'varName2': 'z',\n",
    "        'opacityHist': 0.5,\n",
    "    },\n",
    "]"
   ]
  },
  {
   "cell_type": "markdown",
   "id": "735be2cf",
   "metadata": {},
   "source": [
    "## Load distribution showing emittance growth"
   ]
  },
  {
   "cell_type": "code",
   "execution_count": null,
   "id": "0a523e6a-6164-428c-89de-b6a70871da8b",
   "metadata": {
    "tags": []
   },
   "outputs": [],
   "source": [
    "sourceFilePath = '/home/tia/tmp/EmitGrowthInDriftSpace/NicoDistr_Z20p57m/AllBuckets/RUN_2501_121416.2057.001'\n",
    "distr1 = bd.convert_astra_to_standard_df(\n",
    "    sourceFilePath, zProjection=None, zCut=None, saveStandardFwf=False, verbose=False\n",
    ")\n",
    "distr1.describe()"
   ]
  },
  {
   "cell_type": "code",
   "execution_count": null,
   "id": "6a54d5f4-c430-43e5-8ebb-e16ed9797f80",
   "metadata": {},
   "outputs": [],
   "source": [
    "plotDefs[0]['lims1'] = (-30, 30.)   # [mm]\n",
    "plotDefs[0]['lims2'] = (-30., 30.)   # [mm]\n",
    "plotDefs[1]['lims1'] = (115.024, 115.032)   # [ns]\n",
    "plotDefs[1]['lims2'] = plotDefs[0]['lims1']\n",
    "plotDefs[2]['lims1'] = plotDefs[1]['lims1']\n",
    "plotDefs[2]['lims2'] = plotDefs[0]['lims2']\n",
    "plotDefs[3]['lims1'] = plotDefs[0]['lims1']\n",
    "plotDefs[3]['lims2'] = (-25., 25.)   # [mrad]\n",
    "plotDefs[4]['lims1'] = plotDefs[0]['lims2']\n",
    "plotDefs[4]['lims2'] = (-25., 25.)   # [mrad]\n",
    "plotDefs[5]['lims1'] = (20.25e3, 20.65e3)   # [mm]\n",
    "plotDefs[5]['lims2'] = (0., 650.)   # [MeV/c]\n",
    "plotDefs[6]['lims1'] = plotDefs[1]['lims1']\n",
    "plotDefs[6]['lims2'] = plotDefs[5]['lims2']   # [MeV]\n",
    "plotDefs[7]['lims1'] = plotDefs[1]['lims1']\n",
    "plotDefs[7]['lims2'] = plotDefs[5]['lims2']   # [MeV/c]\n",
    "plotDefs[8]['lims1'] = plotDefs[1]['lims1']\n",
    "plotDefs[8]['lims2'] = plotDefs[5]['lims1']"
   ]
  },
  {
   "cell_type": "markdown",
   "id": "a3dc0a80-b916-435f-86e3-c61e4e9b0c3f",
   "metadata": {},
   "source": [
    "## Select single RF bucket"
   ]
  },
  {
   "cell_type": "code",
   "execution_count": null,
   "id": "48634cbd-1040-4bf1-a6ff-155768aa7a6f",
   "metadata": {},
   "outputs": [],
   "source": [
    "filterSpecs = {\n",
    "    'x': plotDefs[0]['lims1'],\n",
    "    'y': plotDefs[0]['lims2'],\n",
    "    'z': (20.55e3, 20.70e3),\n",
    "    'px': plotDefs[3]['lims2'],\n",
    "    'py': plotDefs[4]['lims2'],\n",
    "    'pz': plotDefs[5]['lims2'],\n",
    "    't': plotDefs[1]['lims1'],\n",
    "}"
   ]
  },
  {
   "cell_type": "code",
   "execution_count": null,
   "id": "facf9aa5-959d-4620-a881-2fc2bdae3dc4",
   "metadata": {
    "tags": []
   },
   "outputs": [],
   "source": [
    "distr1Bucket = bd.filter_distr(distr1, filterSpecs)\n",
    "distr1Bucket.describe()"
   ]
  },
  {
   "cell_type": "code",
   "execution_count": null,
   "id": "6dd5de5e-63a6-4f85-b2b3-bf199651b0c0",
   "metadata": {},
   "outputs": [],
   "source": [
    "distr1Bucket.head()"
   ]
  },
  {
   "cell_type": "markdown",
   "id": "93e424c8-48de-4fbb-ad16-d06282d1b4c3",
   "metadata": {},
   "source": [
    "## Load equivalent Gaussian beam"
   ]
  },
  {
   "cell_type": "code",
   "execution_count": null,
   "id": "928d02ba-b99b-42b5-abb7-1eefb697cf7f",
   "metadata": {},
   "outputs": [],
   "source": [
    "sourceFilePath = '/home/tia/tmp/EmitGrowthInDriftSpace/LargeEspread/LargeEspread_z_distr.ini'\n",
    "distr1GaussZ = bd.convert_astra_to_standard_df(\n",
    "    sourceFilePath, zProjection=None, zCut=None, saveStandardFwf=False, verbose=False\n",
    ")\n",
    "distr1GaussZ.describe()"
   ]
  },
  {
   "cell_type": "code",
   "execution_count": null,
   "id": "135d34ba-9cdf-42f8-8732-2f607c87b626",
   "metadata": {},
   "outputs": [],
   "source": [
    "sourceFilePath = '/home/tia/tmp/EmitGrowthInDriftSpace/LargeEspread/LargeEspread_t_distr.ini'\n",
    "distr1GaussT = bd.convert_astra_to_standard_df(\n",
    "    sourceFilePath, zProjection=None, zCut=None, saveStandardFwf=False, verbose=False\n",
    ")\n",
    "distr1GaussT.describe()"
   ]
  },
  {
   "cell_type": "markdown",
   "id": "1c1190fc-c3b1-41c8-8a2e-a69fa8cdb946",
   "metadata": {},
   "source": [
    "## Plot"
   ]
  },
  {
   "cell_type": "code",
   "execution_count": null,
   "id": "cf85595f-1b75-41e9-a5a4-de563c475294",
   "metadata": {
    "tags": []
   },
   "outputs": [],
   "source": [
    "ax = bd.plot_distr(\n",
    "    [distr1, distr1GaussZ, distr1GaussT, distr1Bucket], plotDefs,\n",
    "    title='Astra output at z = 20.57 m'\n",
    ")"
   ]
  },
  {
   "cell_type": "markdown",
   "id": "857dfc32-0da7-4e00-ab7b-93c6fda457f0",
   "metadata": {},
   "source": [
    "## Save distribution with single RF bucket"
   ]
  },
  {
   "cell_type": "markdown",
   "id": "75a70d89-37ff-4ec8-9bfa-2b9dd30f126b",
   "metadata": {},
   "source": [
    "### Full energy spread"
   ]
  },
  {
   "cell_type": "code",
   "execution_count": null,
   "id": "656211fb-a068-4672-a716-48546a3f0685",
   "metadata": {},
   "outputs": [],
   "source": [
    "astraRefParticle = {\n",
    "    'x': 0.,\n",
    "    'px': 0.,\n",
    "    'y': 0.,\n",
    "    'py': 0.,\n",
    "    'z': 20.600e3,\n",
    "    'pz': 520.,\n",
    "    't': 115.0275,\n",
    "    'pdgId': -11,\n",
    "}\n",
    "astraRefParticle['Q'] = distr1Bucket['Q'][1]\n",
    "distr1Bucket = distr1Bucket.append(astraRefParticle, ignore_index=True)\n",
    "distr1Bucket.describe()"
   ]
  },
  {
   "cell_type": "code",
   "execution_count": null,
   "id": "0f255493-cb3c-4d9b-8a7f-8ca465c2bcdc",
   "metadata": {},
   "outputs": [],
   "source": [
    "distr1Bucket.tail()"
   ]
  },
  {
   "cell_type": "code",
   "execution_count": null,
   "id": "9e95fc7d-ea80-4ce9-b6bd-4704f593b49e",
   "metadata": {},
   "outputs": [],
   "source": [
    "outFilePath = '/home/tia/tmp/EmitGrowthInDriftSpace/NicoDistr_Z20p57m/AllBuckets/RUN_2501_121416.2057.001'\n",
    "outFilePath = outFilePath[:-4] + '_SingleBucket'\n",
    "_ = bd.convert_standard_df_to_astra(distr1Bucket, refParticleId=distr1Bucket.shape[0]-1, outFilePath=outFilePath)"
   ]
  },
  {
   "cell_type": "markdown",
   "id": "f6bb29d0-f668-42a5-9abb-429a78023ef7",
   "metadata": {},
   "source": [
    "### Only larger energies"
   ]
  },
  {
   "cell_type": "code",
   "execution_count": null,
   "id": "96af4cca-edca-49e2-87d1-d0bbc31f8608",
   "metadata": {},
   "outputs": [],
   "source": [
    "filterSpecs['pz'] = (400., np.inf)   # [MeV/c]"
   ]
  },
  {
   "cell_type": "code",
   "execution_count": null,
   "id": "11531f67-6dec-425d-b0b7-c64ab2717704",
   "metadata": {
    "tags": []
   },
   "outputs": [],
   "source": [
    "distr1BucketLargeE = bd.filter_distr(distr1Bucket, filterSpecs)\n",
    "distr1BucketLargeE.describe()"
   ]
  },
  {
   "cell_type": "code",
   "execution_count": null,
   "id": "db2c13d3-ff43-449a-8e8c-78245baa7d93",
   "metadata": {},
   "outputs": [],
   "source": [
    "distr1BucketLargeE.tail()"
   ]
  },
  {
   "cell_type": "code",
   "execution_count": null,
   "id": "49049609-49b8-4321-a5a1-d1e43308bc34",
   "metadata": {},
   "outputs": [],
   "source": [
    "distr1Bucket.loc[distr1Bucket.shape[0]-1,:]"
   ]
  },
  {
   "cell_type": "code",
   "execution_count": null,
   "id": "cc36f0e9-0ba4-4057-9d6b-1fe1f21e069d",
   "metadata": {},
   "outputs": [],
   "source": [
    "outFilePath = outFilePath[:-4] + '_SingleBucket_LargeE'\n",
    "_ = bd.convert_standard_df_to_astra(distr1BucketLargeE, refParticleId=distr1Bucket.shape[0]-1, outFilePath=outFilePath)"
   ]
  },
  {
   "cell_type": "markdown",
   "id": "86aee971-0322-4fb6-a1e7-dcb9140d035e",
   "metadata": {},
   "source": [
    "## Load output distribution"
   ]
  },
  {
   "cell_type": "code",
   "execution_count": null,
   "id": "77117e20-8a38-413d-bafc-8ca59ad396dd",
   "metadata": {},
   "outputs": [],
   "source": [
    "sourceFilePath = '/home/tia/tmp/EmitGrowthInDriftSpace/NicoDistr_Z20p57m/SingleBucket/EmitGrowthInDriftSpace.2260.001'"
   ]
  },
  {
   "cell_type": "code",
   "execution_count": null,
   "id": "790e4a70-6aa1-402d-96d5-1bfac491b92a",
   "metadata": {},
   "outputs": [],
   "source": [
    "distrOutBucket = bd.convert_astra_to_standard_df(\n",
    "    sourceFilePath, zProjection=None, zCut=None, saveStandardFwf=False, verbose=False\n",
    ")\n",
    "distrOutBucket.describe()"
   ]
  },
  {
   "cell_type": "code",
   "execution_count": null,
   "id": "7e99d740-a976-40d6-b588-5b12381a7b8f",
   "metadata": {},
   "outputs": [],
   "source": [
    "distrOutBucketProj = bd.convert_astra_to_standard_df(\n",
    "    sourceFilePath, zProjection=22.600e3, zCut=None, saveStandardFwf=False, verbose=False\n",
    ")\n",
    "distrOutBucketProj.describe()"
   ]
  },
  {
   "cell_type": "code",
   "execution_count": null,
   "id": "da6a9f97-4ac6-43eb-9258-f27165688275",
   "metadata": {},
   "outputs": [],
   "source": [
    "plotDefs[0]['lims1'] = (-30, 30.)   # [mm]\n",
    "plotDefs[0]['lims2'] = (-30., 30.)   # [mm]\n",
    "plotDefs[1]['lims1'] = (121.60, 121.78)   # [ns]\n",
    "# plotDefs[1]['lims1'] = (148.28, 148.48)   # [ns]\n",
    "plotDefs[1]['lims2'] = plotDefs[0]['lims1']\n",
    "plotDefs[2]['lims1'] = plotDefs[1]['lims1']\n",
    "plotDefs[2]['lims2'] = plotDefs[0]['lims2']\n",
    "plotDefs[3]['lims1'] = plotDefs[0]['lims1']\n",
    "plotDefs[3]['lims2'] = (-25., 25.)   # [mrad]\n",
    "plotDefs[4]['lims1'] = plotDefs[0]['lims2']\n",
    "plotDefs[4]['lims2'] = (-25., 25.)   # [mrad]\n",
    "plotDefs[5]['lims1'] = (22.25e3, 22.65e3)   # [mm]\n",
    "plotDefs[5]['lims2'] = (0., 600.)   # [MeV/c]\n",
    "plotDefs[6]['lims1'] = plotDefs[1]['lims1']\n",
    "plotDefs[6]['lims2'] = plotDefs[5]['lims2']   # [MeV]\n",
    "plotDefs[7]['lims1'] = plotDefs[1]['lims1']\n",
    "plotDefs[7]['lims2'] = plotDefs[5]['lims2']   # [MeV/c]\n",
    "plotDefs[8]['lims1'] = plotDefs[1]['lims1']\n",
    "plotDefs[8]['lims2'] = plotDefs[5]['lims1']"
   ]
  },
  {
   "cell_type": "code",
   "execution_count": null,
   "id": "347640a1-4cbc-428f-97a1-a1c0dccfce78",
   "metadata": {
    "tags": []
   },
   "outputs": [],
   "source": [
    "ax = bd.plot_distr(\n",
    "    [distrOutBucket, distrOutBucketProj], plotDefs,\n",
    "    title='Astra output at z = 30.60 m'\n",
    ")"
   ]
  },
  {
   "cell_type": "markdown",
   "id": "97447e5b-734a-4810-9fc8-a665d97b5fa3",
   "metadata": {},
   "source": [
    "## Emittance evolution along drift space"
   ]
  },
  {
   "cell_type": "markdown",
   "id": "ccc1f68c-9560-4dc7-9bdc-4acc012c07e5",
   "metadata": {},
   "source": [
    "### Independent computation in Python"
   ]
  },
  {
   "cell_type": "code",
   "execution_count": null,
   "id": "a42281d9-5a0a-4632-a3ce-73b81fa91356",
   "metadata": {},
   "outputs": [],
   "source": [
    "zProjs = np.linspace(18.6, 30.6, 100) * 1e3   # [mm]\n",
    "emitn = np.zeros(*zProjs.shape)\n",
    "for ind, zProj in enumerate(zProjs):\n",
    "    distrOutBucket = bd.convert_astra_to_standard_df(\n",
    "        sourceFilePath, zProjection=zProj, zCut=None, saveStandardFwf=False, verbose=False\n",
    "    )\n",
    "    emitn[ind] = bd.compute_emittance(distrOutBucket, 'x', verbose=False)"
   ]
  },
  {
   "cell_type": "markdown",
   "id": "1736dbbe-daba-4ce2-a823-ada3cf349d40",
   "metadata": {},
   "source": [
    "### Computation in ASTRA (different variants)"
   ]
  },
  {
   "cell_type": "code",
   "execution_count": null,
   "id": "d8201c2e-8709-4073-b5d6-6b7da169f3c2",
   "metadata": {},
   "outputs": [],
   "source": [
    "astraEmitX_LprojectEmitFalse = pd.read_fwf(\n",
    "    '/home/tia/tmp/EmitGrowthInDriftSpace/NicoDistr_Z20p57m/SingleBucket/EmitGrowthInDriftSpace.Xemit.002'\n",
    ")\n",
    "astraEmitX_LprojectEmitFalse.columns = ['z', 't', 'xAvg', 'xRms', 'xpRms', 'emitnX', 'xxpAvg']"
   ]
  },
  {
   "cell_type": "code",
   "execution_count": null,
   "id": "1e431dc4-60e0-42c1-ad2c-29f41719e16f",
   "metadata": {},
   "outputs": [],
   "source": [
    "astraEmitX_LprojectEmitTrue = pd.read_fwf(\n",
    "    '/home/tia/tmp/EmitGrowthInDriftSpace/NicoDistr_Z20p57m/SingleBucket/EmitGrowthInDriftSpace.Xemit.001'\n",
    ")\n",
    "astraEmitX_LprojectEmitTrue.columns = ['z', 't', 'xAvg', 'xRms', 'xpRms', 'emitnX', 'xxpAvg']"
   ]
  },
  {
   "cell_type": "code",
   "execution_count": null,
   "id": "667af5a0-146a-49d2-bc84-a7e91e99b6f9",
   "metadata": {},
   "outputs": [],
   "source": [
    "astraEmitX_LocalEmitTrue = pd.read_fwf(\n",
    "    '/home/tia/tmp/EmitGrowthInDriftSpace/NicoDistr_Z20p57m/SingleBucket/EmitGrowthInDriftSpace.Xemit.003'\n",
    ")\n",
    "astraEmitX_LocalEmitTrue.columns = ['z', 't', 'xAvg', 'xRms', 'xpRms', 'emitnX', 'xxpAvg']"
   ]
  },
  {
   "cell_type": "code",
   "execution_count": null,
   "id": "47340076-77b4-4449-8d43-1e266c652cf3",
   "metadata": {},
   "outputs": [],
   "source": [
    "fig, ax = plt.subplots(figsize=(9.6, 6.4))\n",
    "ax.plot(zProjs*1e-3, emitn, label='Python computation')\n",
    "ax.plot(\n",
    "    astraEmitX_LprojectEmitFalse['z'], astraEmitX_LprojectEmitFalse ['emitnX'],\n",
    "    label='Astra computation, Lproject_emit=F'\n",
    ")\n",
    "ax.plot(\n",
    "    astraEmitX_LprojectEmitTrue['z'], astraEmitX_LprojectEmitTrue['emitnX'],\n",
    "    label='Astra computation, Lproject_emit=T'\n",
    ")\n",
    "ax.plot(\n",
    "    astraEmitX_LocalEmitTrue['z'], astraEmitX_LocalEmitTrue['emitnX'],\n",
    "    label='Astra computation, Local_emit=T'\n",
    ")\n",
    "ax.set_xlim([18.6, 30.6])\n",
    "ax.set_ylim([10e3, 50e3])\n",
    "ax.set_xlabel('z [m]')\n",
    "ax.set_ylabel('emitn [pi mm mrad]')\n",
    "ax.legend()\n",
    "ax.grid()"
   ]
  },
  {
   "cell_type": "markdown",
   "id": "4ca29c7b-db3a-4c52-908b-5929104658b0",
   "metadata": {},
   "source": [
    "### Evolution with different energy spreads"
   ]
  },
  {
   "cell_type": "code",
   "execution_count": null,
   "id": "043f0bd6-4b60-45a7-924d-3de3d54fb624",
   "metadata": {},
   "outputs": [],
   "source": [
    "astraEmitX_LprojectEmitTrue_LargeE = pd.read_fwf(\n",
    "    '/home/tia/tmp/EmitGrowthInDriftSpace/NicoDistr_Z20p57m/SingleBucket_LargeE/EmitGrowthInDriftSpace.Xemit.001'\n",
    ")\n",
    "astraEmitX_LprojectEmitTrue_LargeE.columns = ['z', 't', 'xAvg', 'xRms', 'xpRms', 'emitnX', 'xxpAvg']"
   ]
  },
  {
   "cell_type": "code",
   "execution_count": null,
   "id": "4392acf1-7b9a-4989-98a3-00e98cac99f8",
   "metadata": {
    "tags": []
   },
   "outputs": [],
   "source": [
    "fig, ax = plt.subplots(figsize=(9.6, 6.4))\n",
    "sourceFilePath = '/home/tia/tmp/EmitGrowthInDriftSpace/NicoDistr_Z20p57m/SingleBucket/EmitGrowthInDriftSpace.2260.001'\n",
    "pzMins = np.array([550., 545., 540., 530., 520., 510., 500., 475., 450., 400., 350., 300., 200., 100., 50., 0.])   # [MeV/c]\n",
    "colorSeq = plt.cm.viridis(np.linspace(0,1,pzMins.shape[0]))\n",
    "for pzInd, pzMin in enumerate(pzMins,0):\n",
    "    filterSpecs = {'pz': (pzMin, np.inf)}\n",
    "    emitn = np.zeros(*zProjs.shape)\n",
    "    for ind, zProj in enumerate(zProjs):\n",
    "        distrOutBucket = bd.convert_astra_to_standard_df(\n",
    "            sourceFilePath, zProjection=zProj, zCut=None, saveStandardFwf=False, verbose=False\n",
    "        )\n",
    "        emitn[ind] = bd.compute_emittance(distrOutBucket, 'x', filterSpecs=filterSpecs, verbose=False)\n",
    "    ax.plot(zProjs*1e-3, emitn, '-', color=colorSeq[pzInd], label='pz > {:.1f} MeV/c'.format(pzMin))\n",
    "ax.plot(\n",
    "    astraEmitX_LprojectEmitTrue['z'], astraEmitX_LprojectEmitTrue['emitnX'],\n",
    "    'o--', color='k', markerfacecolor=colorSeq[0], markeredgecolor=colorSeq[0], markevery=5,\n",
    "    label='pz > 0 MeV/c, Astra output'\n",
    ")\n",
    "ax.plot(\n",
    "    astraEmitX_LprojectEmitTrue_LargeE['z'], astraEmitX_LprojectEmitTrue_LargeE['emitnX'],\n",
    "    'o--', color='k', markerfacecolor=colorSeq[8], markeredgecolor=colorSeq[8], markevery=5,\n",
    "    label='pz > 400 MeV/c, Astra output'\n",
    ")\n",
    "ax.set_xlim([18.6, 30.6])\n",
    "ax.set_ylim([10e3, 20e3])\n",
    "ax.set_xlabel('z [m]')\n",
    "ax.set_ylabel('emitn [pi mm mrad]')\n",
    "ax.legend()\n",
    "ax.grid()"
   ]
  },
  {
   "cell_type": "markdown",
   "id": "be42a2d8-1656-466e-a590-9ed6b60f58c5",
   "metadata": {},
   "source": [
    "## Emittance vs. energy range"
   ]
  },
  {
   "cell_type": "code",
   "execution_count": null,
   "id": "c080bd7f-0ca3-4993-be13-807e41052e34",
   "metadata": {},
   "outputs": [],
   "source": [
    "fig, ax = plt.subplots(figsize=(9.6, 6.4))\n",
    "zProjs = np.array((20.6, 22.6, 24.6, 26.6)) * 1e3   # [m]\n",
    "labelInds = np.delete(np.arange(len(pzMins)), [1, 2, 10, 12, 13, 14])\n",
    "for zProj in zProjs:\n",
    "    particleFractions = np.zeros(*pzMins.shape)\n",
    "    emitn = np.zeros(*pzMins.shape)\n",
    "    for pzInd, pzMin in enumerate(pzMins,0):\n",
    "        filterSpecs = {'pz': (pzMin, np.inf)}\n",
    "        distrOutBucket = bd.convert_astra_to_standard_df(\n",
    "            sourceFilePath, zProjection=zProj, zCut=None, saveStandardFwf=False, verbose=False\n",
    "        )\n",
    "        distrSelected = bd.filter_distr(distrOutBucket, filterSpecs)\n",
    "        particleFractions[pzInd] = distrSelected.shape[0] / distrOutBucket.shape[0]\n",
    "        # _, particleFractions[pzInd] = bd.distr_within_ellipse(\n",
    "        #     distrOutBucket, emitTraceSpace, ellipseSpecs)\n",
    "        emitn[pzInd] = bd.compute_emittance(\n",
    "            distrSelected, 'x', verbose=False\n",
    "        )\n",
    "    ax.plot(\n",
    "        particleFractions, emitn,\n",
    "        'o-', label='z = {:.1f} m'.format(zProj*1e-3)\n",
    "    )\n",
    "# ax.set_xscale('log')\n",
    "ax.set_ylim([0, 18e3])\n",
    "ax.set_xlabel('Beam fraction')\n",
    "ax.set_ylabel('Norm. emittance [pi mm mrad]')\n",
    "ax.legend()\n",
    "ax.grid()\n",
    "\n",
    "ax2 = ax.twiny()\n",
    "ax2.set_xlim(ax.get_xlim())\n",
    "ax2.set_xticks(particleFractions[labelInds])\n",
    "ax2.set_xticklabels(['{:.0f}'.format(pzm) for pzm in pzMins[labelInds]])\n",
    "_ = ax2.set_xlabel('Min. pz considered [Mev/c]')"
   ]
  },
  {
   "cell_type": "markdown",
   "id": "8c2e2f67",
   "metadata": {},
   "source": [
    "<div class=\"alert alert-block alert-success\">\n",
    "Some good news.\n",
    "</div>"
   ]
  },
  {
   "cell_type": "markdown",
   "id": "eb6ca689",
   "metadata": {},
   "source": [
    "<div class=\"alert alert-block alert-warning\">\n",
    "Some warning.\n",
    "</div>"
   ]
  },
  {
   "cell_type": "markdown",
   "id": "4111ea5b",
   "metadata": {},
   "source": [
    "<div class=\"alert alert-block alert-danger\">\n",
    "Some danger.\n",
    "</div>"
   ]
  },
  {
   "cell_type": "code",
   "execution_count": null,
   "id": "2f2e637d",
   "metadata": {},
   "outputs": [],
   "source": []
  }
 ],
 "metadata": {
  "kernelspec": {
   "display_name": "Python 3 (ipykernel)",
   "language": "python",
   "name": "python3"
  },
  "language_info": {
   "codemirror_mode": {
    "name": "ipython",
    "version": 3
   },
   "file_extension": ".py",
   "mimetype": "text/x-python",
   "name": "python",
   "nbconvert_exporter": "python",
   "pygments_lexer": "ipython3",
   "version": "3.10.1"
  },
  "toc": {
   "base_numbering": 1,
   "nav_menu": {},
   "number_sections": true,
   "sideBar": true,
   "skip_h1_title": true,
   "title_cell": "Table of Contents",
   "title_sidebar": "Contents",
   "toc_cell": true,
   "toc_position": {},
   "toc_section_display": true,
   "toc_window_display": false
  },
  "toc-autonumbering": true,
  "toc-showcode": false,
  "toc-showmarkdowntxt": false,
  "toc-showtags": false
 },
 "nbformat": 4,
 "nbformat_minor": 5
}
