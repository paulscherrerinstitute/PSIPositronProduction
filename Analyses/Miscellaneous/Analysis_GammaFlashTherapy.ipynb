{
 "cells": [
  {
   "cell_type": "code",
   "execution_count": null,
   "id": "11e4893f",
   "metadata": {},
   "outputs": [],
   "source": [
    "import os\n",
    "import numpy as np\n",
    "import pandas as pd\n",
    "import matplotlib\n",
    "import matplotlib.pyplot as plt\n",
    "import cycler\n",
    "import BeamDynamics as bd\n",
    "import copy"
   ]
  },
  {
   "cell_type": "code",
   "execution_count": null,
   "id": "eaf8d117",
   "metadata": {},
   "outputs": [],
   "source": [
    "from importlib import reload\n",
    "reload(bd)"
   ]
  },
  {
   "cell_type": "code",
   "execution_count": null,
   "id": "8e4c4dd0",
   "metadata": {},
   "outputs": [],
   "source": [
    "# %matplotlib inline\n",
    "# %matplotlib notebook\n",
    "%matplotlib widget\n",
    "plt.rcParams['figure.figsize'] = [9.6, 6.4]\n",
    "defaultColorCycle = plt.rcParams[\"axes.prop_cycle\"].by_key()['color']\n",
    "# plotFont = {\n",
    "#     'family' : 'sans-serif',\n",
    "#     'weight' : 'normal',\n",
    "#     'size'   : 12\n",
    "# }\n",
    "# matplotlib.rc('font', **plotFont)\n",
    "# plt.rc('legend', fontsize=10)"
   ]
  },
  {
   "cell_type": "markdown",
   "id": "39f9e228",
   "metadata": {},
   "source": [
    "# Gamma FLASH Therapy"
   ]
  },
  {
   "cell_type": "markdown",
   "id": "a9e7ec6e-15aa-4fd9-9d29-335df1017740",
   "metadata": {},
   "source": [
    "## Plot Drive Electron Beam at E = 35 MeV"
   ]
  },
  {
   "cell_type": "code",
   "execution_count": null,
   "id": "934b679a-5dbc-439d-87cf-3d0035af6fb6",
   "metadata": {},
   "outputs": [],
   "source": [
    "# sdfFilePath = '/afs/psi.ch/project/newgun/gammaFlashTherapy/E35MeV_D4mm/FCCeeTargetTracking_primary.root.sdf_txt'\n",
    "sdfFilePath = '../Data/Geant4/GammaFlashTherapy/WTargetSim1/E35MeV_D4mm/FCCeeTargetTracking_primary.root.sdf_txt'\n",
    "driveBeam = bd.load_standard_fwf(sdfFilePath)\n",
    "totElectronsIn = driveBeam.shape[0]\n",
    "driveBeam.describe()"
   ]
  },
  {
   "cell_type": "markdown",
   "id": "735be2cf",
   "metadata": {},
   "source": [
    "## Optimize Gamma Fluence with Target Thickness"
   ]
  },
  {
   "cell_type": "code",
   "execution_count": null,
   "id": "a157fcd7",
   "metadata": {},
   "outputs": [],
   "source": [
    "# sdfFilePath = '/afs/psi.ch/project/newgun/gammaFlashTherapy/E35MeV_D4mm/FCCeeTargetTracking_amor_leave.root.sdf_txt'\n",
    "sdfFilePath = '../Data/Geant4/GammaFlashTherapy/WTargetSim1/E35MeV_D4mm/FCCeeTargetTracking_amor_leave.root.sdf_txt'\n",
    "targetOut = bd.load_standard_fwf(sdfFilePath)\n",
    "targetOut.describe()"
   ]
  },
  {
   "cell_type": "code",
   "execution_count": null,
   "id": "95fb4219-fd8a-490a-b8b7-f6e8dc8bb1bf",
   "metadata": {
    "tags": []
   },
   "outputs": [],
   "source": [
    "# folderBasePath = '/afs/psi.ch/project/newgun/gammaFlashTherapy'\n",
    "folderBasePath = '../Data/Geant4/GammaFlashTherapy/WTargetSim1'\n",
    "targetThicknessList = np.arange(1, 16, 1)\n",
    "driveBeamEList = np.array([5., 10., 15., 20., 25., 30., 35., 40., 45.])  # [MeV]\n",
    "simCollection = []\n",
    "pdgIdList = []\n",
    "for driveBeamE in driveBeamEList:\n",
    "    for targetThickness in targetThicknessList:\n",
    "        sdfFilePath = os.path.join(\n",
    "            folderBasePath,\n",
    "            'E{:.0f}MeV_D{:.0f}mm/FCCeeTargetTracking_amor_leave.root.sdf_txt'.format(\n",
    "                driveBeamE, targetThickness\n",
    "            )\n",
    "        )\n",
    "        distr = bd.load_standard_fwf(sdfFilePath)\n",
    "        particleCounts = {}\n",
    "        EparticleType = {}\n",
    "        for pdgId in distr['pdgId'].unique():\n",
    "            if pdgId not in pdgIdList:\n",
    "                pdgIdList.append(pdgId)\n",
    "            selIds = distr['pdgId'].isin([pdgId])\n",
    "            particleCounts[pdgId] = distr[selIds].shape[0]\n",
    "            # TODO: Check Ekin vs. E!!!\n",
    "            EparticleType[pdgId] = distr[selIds]['Ekin'].sum() / totElectronsIn / 1e3  # [J/nC]\n",
    "        simCollection.append({\n",
    "            'driveBeamE': driveBeamE,\n",
    "            'targetThickness': targetThickness,\n",
    "            'distr': distr,\n",
    "            'partCounts': particleCounts,\n",
    "            'EparticleType': EparticleType\n",
    "        })"
   ]
  },
  {
   "cell_type": "code",
   "execution_count": null,
   "id": "f3c9c272-77aa-4ed0-9b8e-0de88f10c4d7",
   "metadata": {},
   "outputs": [],
   "source": [
    "pdgIdList"
   ]
  },
  {
   "cell_type": "code",
   "execution_count": null,
   "id": "3b2b143f-4acd-4c8f-8bb0-04002f65422f",
   "metadata": {},
   "outputs": [],
   "source": [
    "partNames = {\n",
    "    11: 'Electrons',\n",
    "    22: 'Photons',\n",
    "    -11: 'Positrons'\n",
    "}"
   ]
  },
  {
   "cell_type": "code",
   "execution_count": null,
   "id": "9c96a618-be87-47fa-b24a-2b916fec3b23",
   "metadata": {},
   "outputs": [],
   "source": [
    "def select_sims_from_collection(simCollection, selDriveBeamE, selTargetThicknesses):\n",
    "    selectedSims = [sim for sim in simCollection if sim['driveBeamE'] in selDriveBeamE and sim['targetThickness'] in selTargetThicknesses]    \n",
    "    partCounts = {}\n",
    "    EsingleTypes = {}\n",
    "    for pdgId in pdgIdList:\n",
    "        partCountSingleType = []\n",
    "        EsingleType = []\n",
    "        for sim in selectedSims:\n",
    "            try:\n",
    "                partCountSingleType.append(sim['partCounts'][pdgId])\n",
    "                EsingleType.append(sim['EparticleType'][pdgId])\n",
    "            except KeyError:\n",
    "                partCountSingleType.append(0.)\n",
    "                EsingleType.append(0.)\n",
    "        partCounts[pdgId] = partCountSingleType\n",
    "        EsingleTypes[pdgId] = EsingleType\n",
    "    return selectedSims, partCounts, EsingleTypes"
   ]
  },
  {
   "cell_type": "code",
   "execution_count": null,
   "id": "40961d7d-3ea6-4e65-9b84-615f1efe03b8",
   "metadata": {
    "tags": []
   },
   "outputs": [],
   "source": [
    "selTargetThicknesses = targetThicknessList[:10]\n",
    "for driveBeamE in driveBeamEList:\n",
    "    _, partCounts, EsingleTypes = select_sims_from_collection(simCollection, [driveBeamE], selTargetThicknesses)\n",
    "    fig, ax = plt.subplots()\n",
    "    axr = ax.twinx()\n",
    "    for pdgId in pdgIdList:\n",
    "        ax.plot(selTargetThicknesses, partCounts[pdgId], 'o-')\n",
    "        axr.plot(selTargetThicknesses, EsingleTypes[pdgId], 'o--')\n",
    "    ax.set_xlabel('Target thickness [mm]')\n",
    "    ax.set_ylabel('Counts (solid lines)')\n",
    "    axr.set_ylabel('Average E per charge [J/nC] (dashed lines)')\n",
    "    ax.legend([partNames[pdgId] for pdgId in pdgIdList])\n",
    "    EperChargeDriveBeam = driveBeamE / 1e3  # [J/nC]\n",
    "    ax.set_title('E per charge drive beam = {:.3f} J/nC'.format(EperChargeDriveBeam))\n",
    "    ax.grid()"
   ]
  },
  {
   "cell_type": "markdown",
   "id": "1bce06e6-ed5b-4bfd-be61-c27a36df52f9",
   "metadata": {},
   "source": [
    "## Energy Spectra of Different Particle Types"
   ]
  },
  {
   "cell_type": "code",
   "execution_count": null,
   "id": "cbfedc1b-ae64-464e-9894-abc518419b7f",
   "metadata": {},
   "outputs": [],
   "source": [
    "SELECTED_TARGET_THICKNESS = 4.  # [mm]"
   ]
  },
  {
   "cell_type": "code",
   "execution_count": null,
   "id": "b52d1c92-4523-4d56-a397-cb6ea2067bf4",
   "metadata": {
    "tags": []
   },
   "outputs": [],
   "source": [
    "EbinWidthPhotons = .2  # [MV]\n",
    "EbinsPhotons = np.arange(0., driveBeamEList[-1], EbinWidthPhotons)\n",
    "photonSpectra = []\n",
    "for driveBeamE in driveBeamEList:\n",
    "    selectedSims, _, _ = select_sims_from_collection(simCollection, [driveBeamE], selTargetThicknesses)\n",
    "    fig, ax = plt.subplots(len(pdgIdList), 1, figsize=(9.6, 9.))\n",
    "    customCycler = (\n",
    "        cycler.cycler(color=[plt.get_cmap('jet')(1. * ind/len(selectedSims)) for ind in range(len(selectedSims))])  # +\n",
    "        # cycler(lw=[1, 2, 3, 4])\n",
    "    )\n",
    "    fig.suptitle('EdriveBeam = {:.1f} MeV'.format(driveBeamE))\n",
    "    for ind, pdgId in enumerate(pdgIdList):\n",
    "        ax[ind].set_prop_cycle(customCycler)\n",
    "        for sim in selectedSims:\n",
    "            countsPhotons, EbinEdgesPhotons, _ = ax[ind].hist(sim['distr'][sim['distr']['pdgId'].isin([pdgId])]['Ekin'], bins=EbinsPhotons, label='D = {:.1f} mm'.format(sim['targetThickness']))\n",
    "            if pdgId == 22 and sim['targetThickness'] == SELECTED_TARGET_THICKNESS:\n",
    "                photonSpectra.append(countsPhotons)\n",
    "        ax[ind].set_xlabel('E [MeV]')\n",
    "        ax[ind].set_ylabel('Counts')\n",
    "        if ind == 0:\n",
    "            ax[ind].legend()\n",
    "        ax[ind].set_title(partNames[pdgId])\n",
    "        ax[ind].grid()\n",
    "if len(photonSpectra) != len(driveBeamEList):\n",
    "    raise ValueError('Number of saved photon spectra = {:d} does not match number of simulated drive beam energies = {:d}'.format(len(photonSpectra), len(driveBeamEList)))"
   ]
  },
  {
   "cell_type": "markdown",
   "id": "c39ebc3f-8a90-4f10-b4fe-b0c6566c2433",
   "metadata": {},
   "source": [
    "## Plot Photon Distribution Leaving the Target"
   ]
  },
  {
   "cell_type": "code",
   "execution_count": null,
   "id": "b84693ec-f484-4c3e-90fe-d59f581ecd49",
   "metadata": {},
   "outputs": [],
   "source": [
    "selSim, _, _ = select_sims_from_collection(simCollection, [35.], [4.])\n",
    "selDistr = selSim[0]['distr']\n",
    "selDistrGammas = selDistr[selDistr['pdgId'].isin([22])]"
   ]
  },
  {
   "cell_type": "code",
   "execution_count": null,
   "id": "d72ea858-b352-4d23-a3c1-981063f03aad",
   "metadata": {
    "tags": []
   },
   "outputs": [],
   "source": [
    "plotSets = ['TransvPlane', 'TransvPsAngles', 'LongPsT']\n",
    "plotDefs = bd.set_plot_defs_from_distrs([selDistrGammas], setNames=plotSets)\n",
    "_ = bd.plot_distr([selDistrGammas], plotDefs)"
   ]
  },
  {
   "cell_type": "markdown",
   "id": "71c644ee-0c03-4e87-aafe-16bade8bd571",
   "metadata": {},
   "source": [
    "## Convert Realistic Electron Beam Spectrum to Photon Spectrum"
   ]
  },
  {
   "cell_type": "markdown",
   "id": "a06feac1-21f0-4ac6-8410-eddbfd0e65b6",
   "metadata": {},
   "source": [
    "### Load Electron Beam Spectrum"
   ]
  },
  {
   "cell_type": "code",
   "execution_count": null,
   "id": "b783315b-0a0f-4c16-ba19-4738dcc64263",
   "metadata": {},
   "outputs": [],
   "source": [
    "driveBeamSpectrum = np.loadtxt('../Data/Geant4/GammaFlashTherapy/PIC_sim.dat')\n",
    "driveBeamSpectrum = driveBeamSpectrum.reshape((int(len(driveBeamSpectrum)/2), 2), order='F')\n",
    "EbinWidthDrive = driveBeamSpectrum[1,0] - driveBeamSpectrum[0,0]  # [MeV]"
   ]
  },
  {
   "cell_type": "code",
   "execution_count": null,
   "id": "885eea7b-9cc3-4f8d-86eb-3e98c7cd0e94",
   "metadata": {},
   "outputs": [],
   "source": [
    "driveBeamSpectrumRebinned = np.zeros(driveBeamEList.shape)\n",
    "EbinEdgesDrive = (driveBeamEList[1:] + driveBeamEList[:-1]) / 2.\n",
    "EbinEdgesDrive = np.insert(EbinEdgesDrive, 0, 0.)\n",
    "EbinEdgesDrive = np.append(EbinEdgesDrive, np.Inf)\n",
    "EbinWidthDriveRebinned = EbinEdgesDrive[2] - EbinEdgesDrive[1]  ## 1st and last bins are larger\n",
    "for binInd in range(len(driveBeamEList)):\n",
    "    selBinInds = (EbinEdgesDrive[binInd] <= driveBeamSpectrum[:,0]) & (driveBeamSpectrum[:,0] < EbinEdgesDrive[binInd+1])\n",
    "    driveBeamSpectrumRebinned[binInd] = driveBeamSpectrum[selBinInds,1].sum()\n",
    "QtotBunch = driveBeamSpectrum[:,1].sum()"
   ]
  },
  {
   "cell_type": "code",
   "execution_count": null,
   "id": "2c17134b-be03-4838-92e8-6601138a5d75",
   "metadata": {},
   "outputs": [],
   "source": [
    "fig, ax = plt.subplots()\n",
    "ax.bar(EbinEdgesDrive[:-1], driveBeamSpectrumRebinned, width=EbinWidthDriveRebinned, align='edge')\n",
    "ax.bar(driveBeamSpectrum[:,0], driveBeamSpectrum[:,1], width=-EbinWidthDrive, align='edge')\n",
    "ax.set_xlabel('Electron energy [MeV]')\n",
    "ax.set_ylabel('Charge [pc] / bin')\n",
    "ax.legend([\n",
    "    'Rebinned, Bin width = {:.2f} MeV, Total charge = {:.3f} pC'.format(EbinWidthDriveRebinned, driveBeamSpectrumRebinned.sum()),\n",
    "    'Original, Bin width = {:.2f} MeV, Total charge = {:.3f} pC'.format(EbinWidthDrive, QtotBunch)\n",
    "])\n",
    "ax.grid()"
   ]
  },
  {
   "cell_type": "code",
   "execution_count": null,
   "id": "971a37a7-65e4-4cbe-baf7-2d919e40d12f",
   "metadata": {},
   "outputs": [],
   "source": [
    "totPhotonCnts = np.zeros(photonSpectra[0].shape)\n",
    "for driveBeamEInd in range(len(driveBeamEList)):\n",
    "    totPhotonCnts += photonSpectra[driveBeamEInd] / totElectronsIn * driveBeamSpectrumRebinned[driveBeamEInd] / 1e12 / bd.PART_CONSTS['Q'][-11]\n",
    "EbinCentersPhotons = (EbinEdgesPhotons[1:] + EbinEdgesPhotons[:-1]) / 2.\n",
    "EtotPhotons = (totPhotonCnts * EbinCentersPhotons).sum() * 1e6 * bd.PART_CONSTS['Q'][-11]  # [J]"
   ]
  },
  {
   "cell_type": "code",
   "execution_count": null,
   "id": "675c3b1a-3e20-4747-a20e-72b2d83b50e0",
   "metadata": {},
   "outputs": [],
   "source": [
    "fig, ax = plt.subplots()\n",
    "ax.bar(EbinEdgesPhotons[:-1], totPhotonCnts, width=EbinWidthPhotons, align='edge')\n",
    "# TODO: checke edges above\n",
    "ax.set_xlabel('Photon energy [MV]')\n",
    "ax.set_ylabel('Counts')\n",
    "ax.set_title('Total energy of {:.3e} J from bunch charge of {:.3f} pC'.format(EtotPhotons, QtotBunch))\n",
    "ax.grid()"
   ]
  },
  {
   "cell_type": "markdown",
   "id": "8c2e2f67",
   "metadata": {},
   "source": [
    "<div class=\"alert alert-block alert-success\">\n",
    "Some good news.\n",
    "</div>"
   ]
  },
  {
   "cell_type": "markdown",
   "id": "eb6ca689",
   "metadata": {},
   "source": [
    "<div class=\"alert alert-block alert-warning\">\n",
    "Some warning.\n",
    "</div>"
   ]
  },
  {
   "cell_type": "markdown",
   "id": "4111ea5b",
   "metadata": {},
   "source": [
    "<div class=\"alert alert-block alert-danger\">\n",
    "Some danger.\n",
    "</div>"
   ]
  },
  {
   "cell_type": "code",
   "execution_count": null,
   "id": "40dcde2b-c71f-42c2-86d8-2ba3e3e7fee5",
   "metadata": {},
   "outputs": [],
   "source": []
  }
 ],
 "metadata": {
  "kernelspec": {
   "display_name": "Python 3 (ipykernel)",
   "language": "python",
   "name": "python3"
  },
  "language_info": {
   "codemirror_mode": {
    "name": "ipython",
    "version": 3
   },
   "file_extension": ".py",
   "mimetype": "text/x-python",
   "name": "python",
   "nbconvert_exporter": "python",
   "pygments_lexer": "ipython3",
   "version": "3.10.5"
  },
  "toc": {
   "base_numbering": 1,
   "nav_menu": {},
   "number_sections": true,
   "sideBar": true,
   "skip_h1_title": true,
   "title_cell": "Table of Contents",
   "title_sidebar": "Contents",
   "toc_cell": true,
   "toc_position": {},
   "toc_section_display": true,
   "toc_window_display": false
  }
 },
 "nbformat": 4,
 "nbformat_minor": 5
}
