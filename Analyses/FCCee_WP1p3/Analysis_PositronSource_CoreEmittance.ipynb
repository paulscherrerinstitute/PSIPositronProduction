{
 "cells": [
  {
   "cell_type": "code",
   "execution_count": null,
   "id": "11e4893f",
   "metadata": {},
   "outputs": [],
   "source": [
    "import os\n",
    "import numpy as np\n",
    "import pandas as pd\n",
    "import matplotlib\n",
    "import matplotlib.pyplot as plt\n",
    "import BeamDynamics as bd\n",
    "import SimulationData as sd\n",
    "import RFTrackTools as rfttools\n",
    "import copy\n",
    "import json"
   ]
  },
  {
   "cell_type": "code",
   "execution_count": null,
   "id": "eaf8d117",
   "metadata": {},
   "outputs": [],
   "source": [
    "from importlib import reload\n",
    "reload(bd)\n",
    "reload(rfttools)"
   ]
  },
  {
   "cell_type": "code",
   "execution_count": null,
   "id": "8e4c4dd0",
   "metadata": {},
   "outputs": [],
   "source": [
    "# %matplotlib inline\n",
    "# %matplotlib notebook\n",
    "%matplotlib widget\n",
    "plt.rcParams['figure.figsize'] = [9.6, 6.4]\n",
    "defaultColorCycle = plt.rcParams[\"axes.prop_cycle\"].by_key()['color']\n",
    "# plotFont = {\n",
    "#     'family' : 'sans-serif',\n",
    "#     'weight' : 'normal',\n",
    "#     'size'   : 12\n",
    "# }\n",
    "# matplotlib.rc('font', **plotFont)\n",
    "# plt.rc('legend', fontsize=10)"
   ]
  },
  {
   "cell_type": "markdown",
   "id": "39f9e228",
   "metadata": {},
   "source": [
    "# Emittance vs. Number of Particles"
   ]
  },
  {
   "cell_type": "markdown",
   "id": "7e90f8c0-bd34-4a59-8622-56630a3222cc",
   "metadata": {},
   "source": [
    "## Distributions at the End of Capture Linac V0 (After 5 RF Structures, ~ 200 MeV)"
   ]
  },
  {
   "cell_type": "markdown",
   "id": "b1c29b79-f6ce-484b-9aa6-b5adcd0149a4",
   "metadata": {},
   "source": [
    "### 3 m L-Band Large R (30 mm), Realistic Solenoids Type 1"
   ]
  },
  {
   "cell_type": "code",
   "execution_count": null,
   "id": "9381c5f7-7750-4dd0-bf64-19b82306a761",
   "metadata": {},
   "outputs": [],
   "source": [
    "# DISTR_REL_PATH_1 = '../../Data/RFTrack/CaptureLinac/CaptureLinacUpTo200MeV_LBandLargeR_RealSolenoids_Type1and2_TargetAt35mm/DistrOut_After1stTracking_6d.sdf_txt'\n",
    "DISTR_REL_PATH_1 = '../../Data/RFTrack/CaptureLinac/PositronLinacUpTo1p54GeV_LBandLargeR_RealSolenoids_Type1and2_TuningSolenoid_Ecut40MeV/DistrOut_After2ndTracking_6d.sdf_txt'\n",
    "# DISTR_REL_PATH_1 = '../../Results_CaptureLinac/LatestSim/DistrOut_After1stTracking_6d.sdf_txt'\n",
    "FILTER_SPECS_MAIN_BUNCH_1 = 'MainBunch'\n",
    "beam1 = bd.load_standard_fwf(DISTR_REL_PATH_1)\n",
    "beam1.describe()"
   ]
  },
  {
   "cell_type": "markdown",
   "id": "07c7d6d7-a749-4397-871f-93fdbc41ee4a",
   "metadata": {},
   "source": [
    "## Plot Full Distributions"
   ]
  },
  {
   "cell_type": "code",
   "execution_count": null,
   "id": "016b82ee-c9d1-4c45-b229-4c62d721b2b3",
   "metadata": {
    "tags": []
   },
   "outputs": [],
   "source": [
    "plotSets = ['TransvPlane', 'TransvPsAngles', 'LongPsT']\n",
    "plotDefs = bd.set_plot_defs_from_distrs([beam1], setNames=plotSets)\n",
    "_ = bd.plot_distr(\n",
    "    [beam1],\n",
    "    plotDefs, #markerStyle=['o', 'x'], legendLabels=['Volume + Lattice', 'Volume']\n",
    ")"
   ]
  },
  {
   "cell_type": "markdown",
   "id": "aa0a79f8-66e0-4d7c-a093-f13faf5d7c28",
   "metadata": {},
   "source": [
    "## Select Desired Bucket"
   ]
  },
  {
   "cell_type": "code",
   "execution_count": null,
   "id": "b3a0877b-24bd-4805-a9e5-5e5f50f48b73",
   "metadata": {},
   "outputs": [],
   "source": [
    "mainBunch1 = bd.use_filter_specs_selector(beam1, DISTR_REL_PATH_1, FILTER_SPECS_MAIN_BUNCH_1)\n",
    "plotDefs = bd.set_plot_defs_from_distrs([mainBunch1], setNames=plotSets)\n",
    "_ = bd.plot_distr(\n",
    "    [mainBunch1],\n",
    "    plotDefs, #markerStyle=['o', 'x'], legendLabels=['Volume + Lattice', 'Volume']\n",
    ")"
   ]
  },
  {
   "cell_type": "code",
   "execution_count": null,
   "id": "9852f66d-7c4c-4f9e-9ef8-b13330f0f887",
   "metadata": {},
   "outputs": [],
   "source": [
    "filterSpecs = {}\n",
    "emitn = {}\n",
    "emitGeom = {}\n",
    "emitTraceSpace = {}\n",
    "alphaTwiss = {}\n",
    "betaTwiss = {}\n",
    "gammaTwiss = {}\n",
    "for planeName in ('x', 'y'):\n",
    "    emitn[planeName] = bd.compute_emittance(\n",
    "        mainBunch1, planeName, norm='normalized', filterSpecs=filterSpecs\n",
    "    )\n",
    "    emitGeom[planeName] = bd.compute_emittance(\n",
    "        mainBunch1, planeName, norm='geometric', filterSpecs=filterSpecs\n",
    "    )\n",
    "    emitTraceSpace[planeName] = bd.compute_emittance(\n",
    "        mainBunch1, planeName, norm='tracespace', filterSpecs=filterSpecs\n",
    "    )\n",
    "    alphaTwiss[planeName], betaTwiss[planeName], gammaTwiss[planeName] = bd.compute_twiss(\n",
    "        mainBunch1, planeName, filterSpecs=filterSpecs\n",
    "    )\n",
    "    print(\n",
    "        'emitn_{0:s} = {1:.1f} pi mm mrad, emitGeom_{0:s} = {2:.1f} pi mm mrad, emitTraceSpace_{0:s} = {3:.1f} pi mm mrad.'.format(\n",
    "            planeName, emitn[planeName], emitGeom[planeName], emitTraceSpace[planeName]\n",
    "        )\n",
    "    )\n",
    "    print(\n",
    "        'alphaTwiss_{0:s} = {1:.3f}, betaTwiss_{0:s} = {2:.3f} mm, gammaTwiss_{0:s} = {3:.3f} 1/mm.'.format(\n",
    "            planeName, alphaTwiss[planeName], betaTwiss[planeName], gammaTwiss[planeName]\n",
    "        )\n",
    "    )"
   ]
  },
  {
   "cell_type": "code",
   "execution_count": null,
   "id": "38fc114b-d170-4ee6-84d0-096014baba34",
   "metadata": {},
   "outputs": [],
   "source": [
    "# emitRef = emitTraceSpace['x']\n",
    "# or\n",
    "refParticle = bd.get_json_entry(DISTR_REL_PATH_1, FILTER_SPECS_MAIN_BUNCH_1, 'RefParticle1')\n",
    "betaGammaRef = bd.p_to_betagamma(np.array(refParticle['pz']), -11)\n",
    "print('betaGammaRef = {:.1f}.'.format(betaGammaRef))\n",
    "emitRef = emitn['x'] / betaGammaRef"
   ]
  },
  {
   "cell_type": "code",
   "execution_count": null,
   "id": "ac485268-688b-4d74-9a0f-6561d01f43b1",
   "metadata": {},
   "outputs": [],
   "source": [
    "selFa = 4.\n",
    "gaussianPortions = {1: 0.6827, 2: 0.9545, 3: 0.9973, 4: 0.999937, 6: 0.99999998}\n",
    "ellipseSpecs = {\n",
    "    'x': {'alphaTwiss': alphaTwiss['x'], 'betaTwiss': betaTwiss['x']},\n",
    "    'y': {'alphaTwiss': alphaTwiss['y'], 'betaTwiss': betaTwiss['y']}\n",
    "}\n",
    "for planes in (['x'], ['x', 'y']):\n",
    "    print('\\nFiltering on {:d} planes:'.format(len(planes)))\n",
    "    for Fa in (1., 2., 3., 4., 6.):\n",
    "        selEllipseSpecs = {k: v for k, v in ellipseSpecs.items() if k in planes}\n",
    "        distrWithinFaSigma, portionWithinFaSigma = bd.distr_within_ellipse(\n",
    "            mainBunch1, Fa**2.*emitRef, selEllipseSpecs\n",
    "        )\n",
    "        print(\n",
    "            'Portion within {:.1f} sigma: {:.3f} (vs. {:.3f} for Gaussian).'.format(\n",
    "                Fa, portionWithinFaSigma, gaussianPortions[Fa]\n",
    "            )\n",
    "        )"
   ]
  },
  {
   "cell_type": "code",
   "execution_count": null,
   "id": "309827c2-cbb7-4d54-bd2d-6e20abad446e",
   "metadata": {},
   "outputs": [],
   "source": [
    "refEllipseSpecs = {\n",
    "    'x': {'alphaTwiss': alphaTwiss['x'], 'betaTwiss': betaTwiss['x']},\n",
    "    'y': {'alphaTwiss': alphaTwiss['y'], 'betaTwiss': betaTwiss['y']}\n",
    "}\n",
    "FaList = np.arange(10., 0, -0.25)  # (4., 3., 2., 1.)\n",
    "distrWithinRef = []\n",
    "bunchPortions = []\n",
    "emitnPortions = []\n",
    "for Fa in FaList:\n",
    "    distrWithinRef.append(bd.distr_within_ellipse(\n",
    "        mainBunch1, Fa**2.*emitRef, refEllipseSpecs\n",
    "    )[0])\n",
    "    bunchPortions.append(distrWithinRef[-1].shape[0]/mainBunch1.shape[0])\n",
    "    emitnPortions.append(bd.compute_emittance(distrWithinRef[-1], 'x'))"
   ]
  },
  {
   "cell_type": "code",
   "execution_count": null,
   "id": "b5e04901-6472-4f2f-9bb4-202c72496f47",
   "metadata": {},
   "outputs": [],
   "source": [
    "fig, ax = plt.subplots(figsize=(8., 4.5))\n",
    "ax.plot(bunchPortions, emitnPortions, 'o-')\n",
    "for ind, txt in enumerate(FaList):\n",
    "    ax.annotate(txt, (bunchPortions[ind], emitnPortions[ind]))\n",
    "ax.set_xlim([0, 1])\n",
    "ax.set_ylim([0, np.max(emitnPortions)])\n",
    "ax.set_xlabel('Bunch portion')\n",
    "ax.set_ylabel('Norm. emittance [pimmmrad]')\n",
    "ax.grid()"
   ]
  },
  {
   "cell_type": "code",
   "execution_count": null,
   "id": "ad4b6a69-cbb9-4b2e-9a86-10a41e2b69a6",
   "metadata": {},
   "outputs": [],
   "source": [
    "fig, ax = plt.subplots(figsize=(8, 4.5))\n",
    "ax.plot(FaList, bunchPortions, 'o-')\n",
    "ax.set_xlim([0, np.max(FaList)])\n",
    "ax.set_ylim([0, np.max(bunchPortions)])\n",
    "ax.set_xlabel('Fa of cut with Fa^2*rmsEmit ellipse')\n",
    "ax.set_ylabel('Bunch portion')\n",
    "ax.grid()"
   ]
  },
  {
   "cell_type": "code",
   "execution_count": null,
   "id": "54354b97-ff78-43ee-ae98-1b6999935ff7",
   "metadata": {},
   "outputs": [],
   "source": [
    "stepsToPlot = np.arange(6*4, len(distrWithinRef), 4)\n",
    "FaListToPlot = [FaList[stepInd] for stepInd in stepsToPlot]\n",
    "plotDefs[1]['lims2'] = [-3., 3.]\n",
    "plotDefs[1]['displayTable'] = False\n",
    "ax = bd.plot_distr(\n",
    "    [mainBunch1, *[distrWithinRef[stepInd] for stepInd in stepsToPlot]], plotDefs,\n",
    "    legendLabels=[\n",
    "        'Full bunch',\n",
    "        *['Within {:.1f} sigma'.format(Fa) for Fa in FaListToPlot]\n",
    "    ]\n",
    ")\n",
    "for ind, Fa in enumerate(FaListToPlot):\n",
    "    bd.plot_ellipse(\n",
    "        ax[1][0,0], Fa**2.*emitRef, semiAxisOrder=2,\n",
    "        alphaTwiss=alphaTwiss['x'], betaTwiss=betaTwiss['x'],\n",
    "        color='k'  # ax[1][0,0].get_children()[ind+1].get_edgecolor()\n",
    "    )\n",
    "    bd.plot_ellipse(\n",
    "        ax[2][0,0], Fa**2.*emitRef, semiAxisOrder=2,\n",
    "        alphaTwiss=alphaTwiss['y'], betaTwiss=betaTwiss['y'],\n",
    "        color='k'  # ax[2][0,0].get_children()[ind+1].get_edgecolor()\n",
    "    )"
   ]
  },
  {
   "cell_type": "markdown",
   "id": "8c2e2f67",
   "metadata": {},
   "source": [
    "<div class=\"alert alert-block alert-success\">\n",
    "Some good news.\n",
    "</div>"
   ]
  },
  {
   "cell_type": "markdown",
   "id": "eb6ca689",
   "metadata": {},
   "source": [
    "<div class=\"alert alert-block alert-warning\">\n",
    "Some warning.\n",
    "</div>"
   ]
  },
  {
   "cell_type": "markdown",
   "id": "4111ea5b",
   "metadata": {},
   "source": [
    "<div class=\"alert alert-block alert-danger\">\n",
    "Some danger.\n",
    "</div>"
   ]
  },
  {
   "cell_type": "code",
   "execution_count": null,
   "id": "9e5d1257-2d78-4b27-ae9a-f27a46c5eeff",
   "metadata": {},
   "outputs": [],
   "source": []
  }
 ],
 "metadata": {
  "kernelspec": {
   "display_name": "Python 3 (ipykernel)",
   "language": "python",
   "name": "python3"
  },
  "language_info": {
   "codemirror_mode": {
    "name": "ipython",
    "version": 3
   },
   "file_extension": ".py",
   "mimetype": "text/x-python",
   "name": "python",
   "nbconvert_exporter": "python",
   "pygments_lexer": "ipython3",
   "version": "3.10.8"
  },
  "toc": {
   "base_numbering": 1,
   "nav_menu": {},
   "number_sections": true,
   "sideBar": true,
   "skip_h1_title": true,
   "title_cell": "Table of Contents",
   "title_sidebar": "Contents",
   "toc_cell": true,
   "toc_position": {},
   "toc_section_display": true,
   "toc_window_display": false
  },
  "toc-showcode": false,
  "vscode": {
   "interpreter": {
    "hash": "e7370f93d1d0cde622a1f8e1c04877d8463912d04d973331ad4851f04de6915a"
   }
  }
 },
 "nbformat": 4,
 "nbformat_minor": 5
}
