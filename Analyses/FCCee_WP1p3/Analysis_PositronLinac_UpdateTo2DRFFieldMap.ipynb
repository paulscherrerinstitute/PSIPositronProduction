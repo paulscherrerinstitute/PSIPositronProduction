{
 "cells": [
  {
   "cell_type": "code",
   "execution_count": null,
   "id": "11e4893f",
   "metadata": {},
   "outputs": [],
   "source": [
    "import os\n",
    "import numpy as np\n",
    "import pandas as pd\n",
    "import matplotlib\n",
    "import matplotlib.pyplot as plt\n",
    "import BeamDynamics as bd\n",
    "import SimulationData as sd\n",
    "import RFTrackTools as rfttools\n",
    "import copy\n",
    "import json"
   ]
  },
  {
   "cell_type": "code",
   "execution_count": null,
   "id": "8e4c4dd0",
   "metadata": {},
   "outputs": [],
   "source": [
    "# %matplotlib inline\n",
    "# %matplotlib notebook\n",
    "%matplotlib widget\n",
    "plt.rcParams['figure.figsize'] = [9.6, 6.4]\n",
    "defaultColorCycle = plt.rcParams[\"axes.prop_cycle\"].by_key()['color']\n",
    "# plotFont = {\n",
    "#     'family' : 'sans-serif',\n",
    "#     'weight' : 'normal',\n",
    "#     'size'   : 12\n",
    "# }\n",
    "# matplotlib.rc('font', **plotFont)\n",
    "# plt.rc('legend', fontsize=10)"
   ]
  },
  {
   "cell_type": "markdown",
   "id": "39f9e228",
   "metadata": {},
   "source": [
    "# RF-Track, Positron Linac Layout 1, New 2D RF Field Map (from Alexej)\n",
    "\n",
    "Linac Layout 1 = Solenoids up to damping ring (1.54 GeV)"
   ]
  },
  {
   "cell_type": "markdown",
   "id": "fa92fd87-c68d-4093-bf98-dd0c50647870",
   "metadata": {
    "tags": []
   },
   "source": [
    "# Distribution at the End of Positron Linac"
   ]
  },
  {
   "cell_type": "code",
   "execution_count": null,
   "id": "f3ceb8e5-c1b1-4a01-a3c1-a87af2d91cb6",
   "metadata": {
    "tags": []
   },
   "outputs": [],
   "source": [
    "xpHalfWindowPlot = 5.  # [mrad]\n",
    "tMinPlot = 306.82  # [ns]\n",
    "tWindowPlot = 0.15  # [ns]\n",
    "pzMinPlot = 1100.  # [MeV/c]\n",
    "pzWindowPlot = 500.  # [Mev/c]\n",
    "rMaxPlot = 30.  # [mm]"
   ]
  },
  {
   "cell_type": "markdown",
   "id": "72109262-4c64-4d1b-9d9a-b73649300ebf",
   "metadata": {},
   "source": [
    "## RF Field Map 1D"
   ]
  },
  {
   "cell_type": "code",
   "execution_count": null,
   "id": "cdb34312-0b3f-4bf0-8eae-904f551a6fd2",
   "metadata": {},
   "outputs": [],
   "source": [
    "DISTR_REL_PATH = '../../Data/RFTrack/CaptureLinac/PositronLinacUpTo1p54GeV_LBandLargeR_RealSolenoids_Type1and2_TuningSolenoid/DistrOut_After2ndTracking_6d.sdf_txt'\n",
    "beamEnd1_RF1D = bd.load_standard_fwf(DISTR_REL_PATH)\n",
    "beamEnd1_RF1D.describe()"
   ]
  },
  {
   "cell_type": "code",
   "execution_count": null,
   "id": "21f81e42-dd6c-455c-80a6-0add1a9f48c3",
   "metadata": {},
   "outputs": [],
   "source": [
    "plotSets = ['TransvPlane', 'TransvPsAngles', 'LongPsT', 'r-pz']\n",
    "distrList = [beamEnd1_RF1D]\n",
    "plotDefs = bd.set_plot_defs_from_distrs(distrList, setNames=plotSets)\n",
    "plotDefs[0]['lims1'] = [-rMaxPlot, rMaxPlot]\n",
    "plotDefs[0]['lims2'] = [-rMaxPlot, rMaxPlot]\n",
    "plotDefs[1]['lims1'] = [-rMaxPlot, rMaxPlot]\n",
    "plotDefs[1]['lims2'] = [-xpHalfWindowPlot, xpHalfWindowPlot]\n",
    "plotDefs[2]['lims1'] = [-rMaxPlot, rMaxPlot]\n",
    "plotDefs[2]['lims2'] = [-xpHalfWindowPlot, xpHalfWindowPlot]\n",
    "plotDefs[3]['lims1'] = [tMinPlot, tMinPlot+tWindowPlot]\n",
    "plotDefs[3]['lims2'] = [pzMinPlot, pzMinPlot+pzWindowPlot]\n",
    "plotDefs[5]['lims1'] = [0, rMaxPlot]\n",
    "plotDefs[5]['lims2'] = [pzMinPlot, pzMinPlot+pzWindowPlot]\n",
    "_ = bd.plot_distr(distrList, plotDefs)"
   ]
  },
  {
   "cell_type": "markdown",
   "id": "b69e0bc8-899a-4347-b66f-502d72b3d667",
   "metadata": {},
   "source": [
    "## RF Field Map 1D, 3rd Order Expansion"
   ]
  },
  {
   "cell_type": "code",
   "execution_count": null,
   "id": "153d63c0-349d-4ba1-93fe-36c4256c2098",
   "metadata": {
    "tags": []
   },
   "outputs": [],
   "source": [
    "DISTR_REL_PATH = '../../Data/RFTrack/CaptureLinac/PositronLinacUpTo1p54GeV_LBandLargeR_1D3rdOrder_RealSolenoids_Type1and2_TuningSolenoid/DistrOut_After2ndTracking_6d.sdf_txt'\n",
    "beamEnd1_RF1D3rdOrder = bd.load_standard_fwf(DISTR_REL_PATH)\n",
    "beamEnd1_RF1D3rdOrder.describe()"
   ]
  },
  {
   "cell_type": "code",
   "execution_count": null,
   "id": "20adf30a-780b-4551-9bdc-aebbc99bf1ba",
   "metadata": {
    "tags": []
   },
   "outputs": [],
   "source": [
    "plotSets = ['TransvPlane', 'TransvPsAngles', 'LongPsT', 'r-pz']\n",
    "distrList = [beamEnd1_RF1D3rdOrder]\n",
    "plotDefs = bd.set_plot_defs_from_distrs(distrList, setNames=plotSets)\n",
    "plotDefs[0]['lims1'] = [-rMaxPlot, rMaxPlot]\n",
    "plotDefs[0]['lims2'] = [-rMaxPlot, rMaxPlot]\n",
    "plotDefs[1]['lims1'] = [-rMaxPlot, rMaxPlot]\n",
    "plotDefs[1]['lims2'] = [-xpHalfWindowPlot, xpHalfWindowPlot]\n",
    "plotDefs[2]['lims1'] = [-rMaxPlot, rMaxPlot]\n",
    "plotDefs[2]['lims2'] = [-xpHalfWindowPlot, xpHalfWindowPlot]\n",
    "plotDefs[3]['lims1'] = [tMinPlot, tMinPlot+tWindowPlot]\n",
    "plotDefs[3]['lims2'] = [pzMinPlot, pzMinPlot+pzWindowPlot]\n",
    "plotDefs[5]['lims1'] = [0, rMaxPlot]\n",
    "plotDefs[5]['lims2'] = [pzMinPlot, pzMinPlot+pzWindowPlot]\n",
    "_ = bd.plot_distr(distrList, plotDefs)"
   ]
  },
  {
   "cell_type": "markdown",
   "id": "45b30c7e-45fd-49f1-808b-1d0073529db2",
   "metadata": {},
   "source": [
    "## RF Field Map 2D"
   ]
  },
  {
   "cell_type": "code",
   "execution_count": null,
   "id": "01347601-fffe-4243-93e6-7534e4dc8f97",
   "metadata": {
    "tags": []
   },
   "outputs": [],
   "source": [
    "DISTR_REL_PATH = '../../Data/RFTrack/CaptureLinac/PositronLinacUpTo1p54GeV_LBandLargeR_2D_RealSolenoids_Type1and2_TuningSolenoid/DistrOut_After2ndTracking_6d.sdf_txt'\n",
    "beamEnd1_RF2D = bd.load_standard_fwf(DISTR_REL_PATH)\n",
    "beamEnd1_RF2D.describe()"
   ]
  },
  {
   "cell_type": "code",
   "execution_count": null,
   "id": "81b0a81c-4e8c-4b1b-8eae-8b356e1ed638",
   "metadata": {
    "tags": []
   },
   "outputs": [],
   "source": [
    "plotSets = ['TransvPlane', 'TransvPsAngles', 'LongPsT', 'r-pz']\n",
    "distrList = [beamEnd1_RF2D]\n",
    "plotDefs = bd.set_plot_defs_from_distrs(distrList, setNames=plotSets)\n",
    "plotDefs[0]['lims1'] = [-rMaxPlot, rMaxPlot]\n",
    "plotDefs[0]['lims2'] = [-rMaxPlot, rMaxPlot]\n",
    "plotDefs[1]['lims1'] = [-rMaxPlot, rMaxPlot]\n",
    "plotDefs[1]['lims2'] = [-xpHalfWindowPlot, xpHalfWindowPlot]\n",
    "plotDefs[2]['lims1'] = [-rMaxPlot, rMaxPlot]\n",
    "plotDefs[2]['lims2'] = [-xpHalfWindowPlot, xpHalfWindowPlot]\n",
    "plotDefs[3]['lims1'] = [tMinPlot, tMinPlot+tWindowPlot]\n",
    "plotDefs[3]['lims2'] = [pzMinPlot, pzMinPlot+pzWindowPlot]\n",
    "plotDefs[5]['lims1'] = [0, rMaxPlot]\n",
    "plotDefs[5]['lims2'] = [pzMinPlot, pzMinPlot+pzWindowPlot]\n",
    "_ = bd.plot_distr(distrList, plotDefs)"
   ]
  },
  {
   "cell_type": "markdown",
   "id": "3abedde0-4e90-418a-9cae-b1c1f741392f",
   "metadata": {},
   "source": [
    "# Yield at Damping Ring"
   ]
  },
  {
   "cell_type": "code",
   "execution_count": null,
   "id": "ba5c94de-6518-437b-9f3b-f379e0cbc381",
   "metadata": {},
   "outputs": [],
   "source": [
    "totElectronsDriveBeam = 1e4\n",
    "pzWindowAmplitude = 0.038"
   ]
  },
  {
   "cell_type": "markdown",
   "id": "925c473b-2c95-42db-a0bc-49b78189c045",
   "metadata": {},
   "source": [
    "## RF Field Map 1D"
   ]
  },
  {
   "cell_type": "code",
   "execution_count": null,
   "id": "57310f0a-b28e-47b8-b8c9-9f999d7ee834",
   "metadata": {},
   "outputs": [],
   "source": [
    "pzWindowCenter = 1507.  # [MeV/c]\n",
    "drAcceptance1_RF1D = {\n",
    "    \"t\": [tMinPlot, tMinPlot+tWindowPlot],  # [ns]\n",
    "    \"pz\": [pzWindowCenter*(1-pzWindowAmplitude), pzWindowCenter*(1+pzWindowAmplitude)]\n",
    "}\n",
    "beamAccepted1_RF1D = bd.filter_distr(beamEnd1_RF1D, drAcceptance1_RF1D)\n",
    "print('Positron yield at damping ring = {:.2f}'.format(beamAccepted1_RF1D.shape[0]/totElectronsDriveBeam))"
   ]
  },
  {
   "cell_type": "code",
   "execution_count": null,
   "id": "c5f3eccc-f303-4ae6-8933-d77870ea4df0",
   "metadata": {
    "tags": []
   },
   "outputs": [],
   "source": [
    "plotSets = ['TransvPlane', 'TransvPsAngles', 'LongPsT', 'r-pz']\n",
    "distrList = [beamEnd1_RF1D, beamAccepted1_RF1D]\n",
    "plotDefs = bd.set_plot_defs_from_distrs(distrList, setNames=plotSets)\n",
    "plotDefs[0]['lims1'] = [-rMaxPlot, rMaxPlot]\n",
    "plotDefs[0]['lims2'] = [-rMaxPlot, rMaxPlot]\n",
    "plotDefs[1]['lims1'] = [-rMaxPlot, rMaxPlot]\n",
    "plotDefs[1]['lims2'] = [-xpHalfWindowPlot, xpHalfWindowPlot]\n",
    "plotDefs[2]['lims1'] = [-rMaxPlot, rMaxPlot]\n",
    "plotDefs[2]['lims2'] = [-xpHalfWindowPlot, xpHalfWindowPlot]\n",
    "plotDefs[3]['lims1'] = [tMinPlot, tMinPlot+tWindowPlot]\n",
    "plotDefs[3]['lims2'] = [pzMinPlot, pzMinPlot+pzWindowPlot]\n",
    "plotDefs[5]['lims1'] = [0, rMaxPlot]\n",
    "plotDefs[5]['lims2'] = [pzMinPlot, pzMinPlot+pzWindowPlot]\n",
    "_ = bd.plot_distr(distrList, plotDefs)"
   ]
  },
  {
   "cell_type": "markdown",
   "id": "09be9d68-c2ee-4789-9b97-ea31a346bd28",
   "metadata": {},
   "source": [
    "## RF Field Map 1D, 3rd Order Expansion"
   ]
  },
  {
   "cell_type": "code",
   "execution_count": null,
   "id": "315de881-ffdd-45d3-b611-b12859567800",
   "metadata": {
    "tags": []
   },
   "outputs": [],
   "source": [
    "pzWindowCenter1_RF1D3rdOrder = 1536.  # [MeV/c]\n",
    "drAcceptance1_RF1D3rdOrder = {\n",
    "    \"t\": [tMinPlot, tMinPlot+tWindowPlot],  # [ns]\n",
    "    \"pz\": [pzWindowCenter1_RF1D3rdOrder*(1-pzWindowAmplitude), pzWindowCenter1_RF1D3rdOrder*(1+pzWindowAmplitude)]\n",
    "}\n",
    "beamAccepted1_RF1D3rdOrder = bd.filter_distr(beamEnd1_RF1D3rdOrder, drAcceptance1_RF1D3rdOrder)\n",
    "print('Positron yield at damping ring = {:.2f}'.format(beamAccepted1_RF1D3rdOrder.shape[0]/totElectronsDriveBeam))"
   ]
  },
  {
   "cell_type": "code",
   "execution_count": null,
   "id": "9649c623-bcfc-40e2-865e-6634de04478b",
   "metadata": {
    "tags": []
   },
   "outputs": [],
   "source": [
    "plotSets = ['TransvPlane', 'TransvPsAngles', 'LongPsT', 'r-pz']\n",
    "distrList = [beamEnd1_RF1D3rdOrder, beamAccepted1_RF1D3rdOrder]\n",
    "plotDefs = bd.set_plot_defs_from_distrs(distrList, setNames=plotSets)\n",
    "plotDefs[0]['lims1'] = [-rMaxPlot, rMaxPlot]\n",
    "plotDefs[0]['lims2'] = [-rMaxPlot, rMaxPlot]\n",
    "plotDefs[1]['lims1'] = [-rMaxPlot, rMaxPlot]\n",
    "plotDefs[1]['lims2'] = [-xpHalfWindowPlot, xpHalfWindowPlot]\n",
    "plotDefs[2]['lims1'] = [-rMaxPlot, rMaxPlot]\n",
    "plotDefs[2]['lims2'] = [-xpHalfWindowPlot, xpHalfWindowPlot]\n",
    "plotDefs[3]['lims1'] = [tMinPlot, tMinPlot+tWindowPlot]\n",
    "plotDefs[3]['lims2'] = [pzMinPlot, pzMinPlot+pzWindowPlot]\n",
    "plotDefs[5]['lims1'] = [0, rMaxPlot]\n",
    "plotDefs[5]['lims2'] = [pzMinPlot, pzMinPlot+pzWindowPlot]\n",
    "_ = bd.plot_distr(distrList, plotDefs)"
   ]
  },
  {
   "cell_type": "markdown",
   "id": "8c6019b0-4da3-49d5-8c85-2ab6acfa35b2",
   "metadata": {},
   "source": [
    "## RF Field Map 2D"
   ]
  },
  {
   "cell_type": "code",
   "execution_count": null,
   "id": "a7f93cc9-dffb-4983-85c1-d1b8df3d7830",
   "metadata": {
    "tags": []
   },
   "outputs": [],
   "source": [
    "pzWindowCenter1_RF2D = 1534.  # [MeV/c]\n",
    "drAcceptance1_RF2D = {\n",
    "    \"t\": [tMinPlot, tMinPlot+tWindowPlot],  # [ns]\n",
    "    \"pz\": [pzWindowCenter1_RF2D*(1-pzWindowAmplitude), pzWindowCenter1_RF2D*(1+pzWindowAmplitude)]\n",
    "}\n",
    "beamAccepted1_RF2D = bd.filter_distr(beamEnd1_RF2D, drAcceptance1_RF2D)\n",
    "print('Positron yield at damping ring = {:.2f}'.format(beamAccepted1_RF2D.shape[0]/totElectronsDriveBeam))"
   ]
  },
  {
   "cell_type": "code",
   "execution_count": null,
   "id": "718d105e-1f25-4023-904f-17b7a6be89d7",
   "metadata": {
    "tags": []
   },
   "outputs": [],
   "source": [
    "plotSets = ['TransvPlane', 'TransvPsAngles', 'LongPsT', 'r-pz']\n",
    "distrList = [beamEnd1_RF2D, beamAccepted1_RF2D]\n",
    "plotDefs = bd.set_plot_defs_from_distrs(distrList, setNames=plotSets)\n",
    "plotDefs[0]['lims1'] = [-rMaxPlot, rMaxPlot]\n",
    "plotDefs[0]['lims2'] = [-rMaxPlot, rMaxPlot]\n",
    "plotDefs[1]['lims1'] = [-rMaxPlot, rMaxPlot]\n",
    "plotDefs[1]['lims2'] = [-xpHalfWindowPlot, xpHalfWindowPlot]\n",
    "plotDefs[2]['lims1'] = [-rMaxPlot, rMaxPlot]\n",
    "plotDefs[2]['lims2'] = [-xpHalfWindowPlot, xpHalfWindowPlot]\n",
    "plotDefs[3]['lims1'] = [tMinPlot, tMinPlot+tWindowPlot]\n",
    "plotDefs[3]['lims2'] = [pzMinPlot, pzMinPlot+pzWindowPlot]\n",
    "plotDefs[5]['lims1'] = [0, rMaxPlot]\n",
    "plotDefs[5]['lims2'] = [pzMinPlot, pzMinPlot+pzWindowPlot]\n",
    "_ = bd.plot_distr(distrList, plotDefs)"
   ]
  },
  {
   "cell_type": "markdown",
   "id": "8c2e2f67",
   "metadata": {},
   "source": [
    "<div class=\"alert alert-block alert-success\">\n",
    "Some good news.\n",
    "</div>"
   ]
  },
  {
   "cell_type": "markdown",
   "id": "eb6ca689",
   "metadata": {},
   "source": [
    "<div class=\"alert alert-block alert-warning\">\n",
    "Some warning.\n",
    "</div>"
   ]
  },
  {
   "cell_type": "markdown",
   "id": "4111ea5b",
   "metadata": {},
   "source": [
    "<div class=\"alert alert-block alert-danger\">\n",
    "Some danger.\n",
    "</div>"
   ]
  },
  {
   "cell_type": "code",
   "execution_count": null,
   "id": "9e5d1257-2d78-4b27-ae9a-f27a46c5eeff",
   "metadata": {},
   "outputs": [],
   "source": []
  }
 ],
 "metadata": {
  "kernelspec": {
   "display_name": "Python 3 (ipykernel)",
   "language": "python",
   "name": "python3"
  },
  "language_info": {
   "codemirror_mode": {
    "name": "ipython",
    "version": 3
   },
   "file_extension": ".py",
   "mimetype": "text/x-python",
   "name": "python",
   "nbconvert_exporter": "python",
   "pygments_lexer": "ipython3",
   "version": "3.10.10"
  },
  "toc": {
   "base_numbering": 1,
   "nav_menu": {},
   "number_sections": true,
   "sideBar": true,
   "skip_h1_title": true,
   "title_cell": "Table of Contents",
   "title_sidebar": "Contents",
   "toc_cell": true,
   "toc_position": {},
   "toc_section_display": true,
   "toc_window_display": false
  },
  "toc-showcode": false
 },
 "nbformat": 4,
 "nbformat_minor": 5
}
