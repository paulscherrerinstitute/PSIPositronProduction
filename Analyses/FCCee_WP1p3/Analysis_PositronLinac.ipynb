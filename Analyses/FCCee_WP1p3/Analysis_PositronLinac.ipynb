{
 "cells": [
  {
   "cell_type": "code",
   "execution_count": null,
   "id": "11e4893f",
   "metadata": {},
   "outputs": [],
   "source": [
    "import os\n",
    "import numpy as np\n",
    "import pandas as pd\n",
    "import matplotlib\n",
    "import matplotlib.pyplot as plt\n",
    "import BeamDynamics as bd\n",
    "import SimulationData as sd\n",
    "import RFTrackTools as rfttools\n",
    "import copy\n",
    "import json"
   ]
  },
  {
   "cell_type": "code",
   "execution_count": null,
   "id": "8e4c4dd0",
   "metadata": {},
   "outputs": [],
   "source": [
    "# %matplotlib inline\n",
    "# %matplotlib notebook\n",
    "%matplotlib widget\n",
    "plt.rcParams['figure.figsize'] = [9.6, 6.4]\n",
    "defaultColorCycle = plt.rcParams[\"axes.prop_cycle\"].by_key()['color']\n",
    "# plotFont = {\n",
    "#     'family' : 'sans-serif',\n",
    "#     'weight' : 'normal',\n",
    "#     'size'   : 12\n",
    "# }\n",
    "# matplotlib.rc('font', **plotFont)\n",
    "# plt.rc('legend', fontsize=10)"
   ]
  },
  {
   "cell_type": "markdown",
   "id": "39f9e228",
   "metadata": {},
   "source": [
    "# RF-Track, Positron Linac V0"
   ]
  },
  {
   "cell_type": "markdown",
   "id": "8caa63ac-5c43-4e52-bd79-f11a6ac435c7",
   "metadata": {},
   "source": [
    "## Simple Analytical Tracking of Longitudinal Phaase Space"
   ]
  },
  {
   "cell_type": "markdown",
   "id": "401b177d-1ff7-45da-99e0-3f33320bf15e",
   "metadata": {},
   "source": [
    "### Distribution at the End of Positron Linac"
   ]
  },
  {
   "cell_type": "code",
   "execution_count": null,
   "id": "97a388b1-aea6-4dfc-bb51-d62903f0d3c3",
   "metadata": {
    "tags": []
   },
   "outputs": [],
   "source": [
    "DISTR_REL_PATH = '../../Data/RFTrack/CaptureLinac/CaptureLinacUpTo200MeV_LBandLargeR_RealSolenoids_Type1and2_TargetAt35mm/DistrOut_PositronLinac.dat'\n",
    "beamEndAnalytical, _ = bd.convert_rftrack_to_standard_df(\n",
    "    sourceFilePath=DISTR_REL_PATH, sourceFormat='octave', octaveMatrixName='A_PL', rftrackDfFormat='rftrack_xp_t', pdgId=-11\n",
    ")\n",
    "beamEndAnalytical.describe()"
   ]
  },
  {
   "cell_type": "code",
   "execution_count": null,
   "id": "d165a0db-8edc-4e05-93cf-452da7dbe763",
   "metadata": {
    "tags": []
   },
   "outputs": [],
   "source": [
    "plotSets = ['TransvPlane', 'TransvPsAngles', 'LongPsT']\n",
    "distrList = [beamEndAnalytical]\n",
    "plotDefs = bd.set_plot_defs_from_distrs(distrList, setNames=plotSets)\n",
    "tMinPlot = 54.86  # [ns]\n",
    "tWindowPlot = 0.15  # [ns]\n",
    "plotDefs[3]['lims1'] = [tMinPlot, tMinPlot+tWindowPlot]\n",
    "pzMinPlot = 1100.  # [MeV/c]\n",
    "pzWindowPlot = 500.  # [Mev/c]\n",
    "plotDefs[3]['lims2'] = [pzMinPlot, pzMinPlot+pzWindowPlot]\n",
    "_ = bd.plot_distr(distrList, plotDefs)"
   ]
  },
  {
   "cell_type": "markdown",
   "id": "2bc6bf6c-ecca-4e11-8453-b31c5dfbd097",
   "metadata": {},
   "source": [
    "## Variant 1a: Solenoids up to Damping Ring at 1.54 GeV, With Tuning Solenoid After AMD"
   ]
  },
  {
   "cell_type": "markdown",
   "id": "b1c29b79-f6ce-484b-9aa6-b5adcd0149a4",
   "metadata": {},
   "source": [
    "### Intermediate Distribution After 5 RF Structures (End of First Tracking)"
   ]
  },
  {
   "cell_type": "code",
   "execution_count": null,
   "id": "68fff6d8-d977-44cd-8e74-71f6a72b0f2b",
   "metadata": {},
   "outputs": [],
   "source": [
    "# DISTR_REL_PATH = '../../Data/RFTrack/CaptureLinac/PositronLinacUpTo1p54GeV_LBandLargeR_RealSolenoids_Type1and2_TuningSolenoid/DistrOut_After1stTracking_6d.sdf_txt'\n",
    "DISTR_REL_PATH = '../../Data/RFTrack/CaptureLinac/PositronLinacUpTo1p54GeV_LBandLargeR_RealSolenoids_Type1and2_TuningSolenoid_Ecut40MeV/DistrOut_After1stTracking_6d.sdf_txt'\n",
    "beamInterm1 = bd.load_standard_fwf(DISTR_REL_PATH)\n",
    "beamInterm1.describe()"
   ]
  },
  {
   "cell_type": "code",
   "execution_count": null,
   "id": "5c9e5781-3310-47e6-a38d-4e9c5c650eb4",
   "metadata": {},
   "outputs": [],
   "source": [
    "# DISTR_REL_PATH = '../../Data/RFTrack/CaptureLinac/PositronLinacUpTo1p54GeV_LBandLargeR_RealSolenoids_Type1and2_TuningSolenoid/DistrOut_FrontBuckets_After1stTracking_6d.sdf_txt'\n",
    "DISTR_REL_PATH = '../../Data/RFTrack/CaptureLinac/PositronLinacUpTo1p54GeV_LBandLargeR_RealSolenoids_Type1and2_TuningSolenoid_Ecut40MeV/DistrOut_FrontBuckets_After1stTracking_6d.sdf_txt'\n",
    "beamInterm1Front = bd.load_standard_fwf(DISTR_REL_PATH)\n",
    "beamInterm1Front.describe()"
   ]
  },
  {
   "cell_type": "code",
   "execution_count": null,
   "id": "016b82ee-c9d1-4c45-b229-4c62d721b2b3",
   "metadata": {
    "tags": []
   },
   "outputs": [],
   "source": [
    "plotSets = ['TransvPlane', 'TransvPsAngles', 'LongPsT', 'r-pz']\n",
    "\n",
    "# distrList = [beamInterm1, beamInterm1Front]\n",
    "# legendLabels=['All RF buckets', 'Front RF bucket']\n",
    "# markerStyles = ['o', 'x']\n",
    "# or\n",
    "distrList = [beamInterm1Front]\n",
    "legendLabels = None\n",
    "markerStyles = None\n",
    "plotDefs = bd.set_plot_defs_from_distrs(distrList, setNames=plotSets)\n",
    "tMinPlot = 54.88  # [ns]\n",
    "plotDefs[3]['lims1'] = [tMinPlot, tMinPlot+tWindowPlot]\n",
    "pzMinPlot = 180.  # [MeV/c]\n",
    "plotDefs[3]['lims2'] = [pzMinPlot, pzMinPlot+pzWindowPlot*200./1540.]\n",
    "rMaxPlot = 30.\n",
    "plotDefs[5]['lims1'] = [0, rMaxPlot]\n",
    "plotDefs[5]['lims2'] = [pzMinPlot, pzMinPlot+pzWindowPlot*200./1540.]\n",
    "_ = bd.plot_distr(\n",
    "    distrList,\n",
    "    plotDefs, markerStyle=markerStyles, legendLabels=legendLabels\n",
    ")"
   ]
  },
  {
   "cell_type": "markdown",
   "id": "7e90f8c0-bd34-4a59-8622-56630a3222cc",
   "metadata": {
    "tags": []
   },
   "source": [
    "### Distribution at the End of Positron Linac (After 28 RF Structures)"
   ]
  },
  {
   "cell_type": "code",
   "execution_count": null,
   "id": "adb6164e-341f-403c-adff-d66caf8ce23d",
   "metadata": {},
   "outputs": [],
   "source": [
    "# DISTR_REL_PATH = '../../Data/RFTrack/CaptureLinac/PositronLinacUpTo1p54GeV_LBandLargeR_RealSolenoids_Type1and2_TuningSolenoid/DistrOut_After2ndTracking_6d.sdf_txt'\n",
    "DISTR_REL_PATH = '../../Data/RFTrack/CaptureLinac/PositronLinacUpTo1p54GeV_LBandLargeR_RealSolenoids_Type1and2_TuningSolenoid_Ecut40MeV/DistrOut_After2ndTracking_6d.sdf_txt'\n",
    "beamEnd1 = bd.load_standard_fwf(DISTR_REL_PATH)\n",
    "beamEnd1.describe()"
   ]
  },
  {
   "cell_type": "code",
   "execution_count": null,
   "id": "7773680f-c094-47d1-8f8c-2ab0b5d49423",
   "metadata": {
    "tags": []
   },
   "outputs": [],
   "source": [
    "plotSets = ['TransvPlane', 'TransvPsAngles', 'LongPsT', 'r-pz']\n",
    "distrList = [beamEnd1]\n",
    "plotDefs = bd.set_plot_defs_from_distrs(distrList, setNames=plotSets)\n",
    "tMinPlot = 306.81  # [ns]\n",
    "plotDefs[3]['lims1'] = [tMinPlot, tMinPlot+tWindowPlot]\n",
    "pzMinPlot = 1100.  # [MeV/c]\n",
    "plotDefs[3]['lims2'] = [pzMinPlot, pzMinPlot+pzWindowPlot]\n",
    "plotDefs[5]['lims1'] = [0, rMaxPlot]\n",
    "plotDefs[5]['lims2'] = [pzMinPlot, pzMinPlot+pzWindowPlot]\n",
    "_ = bd.plot_distr(distrList, plotDefs)"
   ]
  },
  {
   "cell_type": "markdown",
   "id": "d9b72b1b-2f7e-44a2-91b6-79e492760062",
   "metadata": {},
   "source": [
    "### Transport"
   ]
  },
  {
   "cell_type": "code",
   "execution_count": null,
   "id": "9d2546b3-a593-4801-8536-0d252bcd1c36",
   "metadata": {},
   "outputs": [],
   "source": [
    "reload(rfttools)"
   ]
  },
  {
   "cell_type": "code",
   "execution_count": null,
   "id": "4f6c7934-a309-4b8d-8035-7151900b755c",
   "metadata": {},
   "outputs": [],
   "source": [
    "# SIM_REL_PATH_1 = '../../Data/RFTrack/CaptureLinac/PositronLinacUpTo1p54GeV_LBandLargeR_RealSolenoids_Type1and2_TuningSolenoid'\n",
    "SIM_REL_PATH_1 = '../../Data/RFTrack/CaptureLinac/PositronLinacUpTo1p54GeV_LBandLargeR_RealSolenoids_Type1and2_TuningSolenoid_Ecut40MeV'\n",
    "totParticlesAtSimStart = 136506\n",
    "normFactorCaptureEff2 = beamInterm1Front.shape[0] / totParticlesAtSimStart\n",
    "\n",
    "# fig1, ax1 = plt.subplots(7, 1, figsize=(9.6, 14.))\n",
    "# or\n",
    "# fig1, ax1 = plt.subplots(3, 1, figsize=(9.6, 6.4))\n",
    "# or\n",
    "fig1, ax1l = plt.subplots(3, 1, figsize=(10.5, 5.5))\n",
    "ax1r = []\n",
    "for ax in ax1l:\n",
    "    ax1r.append(ax.twinx())\n",
    "ax1 = [None] * (len(ax1l) + len(ax1r))\n",
    "ax1[::2] = ax1l\n",
    "ax1[1::2] = ax1r\n",
    "quantitiesToPlot = ['Bz', None, 'mean_E', 'CaptureEfficiency', 'Sigmas', None]\n",
    "rfttools.load_plot_transport(\n",
    "    ax1, SIM_REL_PATH_1, fileSuffix='1', quantitiesToPlot=quantitiesToPlot)\n",
    "rfttools.load_plot_transport(\n",
    "    ax1, SIM_REL_PATH_1, fileSuffix='2', quantitiesToPlot=quantitiesToPlot,\n",
    "    normFactorCaptureEff=normFactorCaptureEff2)\n",
    "# ax1[0].legend(['Volume + Lattice', 'Volume'], loc='upper center', bbox_to_anchor=(0.5, 1.3), ncol=2)\n",
    "# _ = ax1[0].set_xlim([40., 50.])\n",
    "_ = ax1[0].set_ylim([0., 1.])\n",
    "_ = ax1[4].set_ylim([0., 30.])\n",
    "_ = ax1[4].set_xlabel('s [m]')"
   ]
  },
  {
   "cell_type": "markdown",
   "id": "1181b394-9f38-4fe6-8bf8-0715edc65c02",
   "metadata": {},
   "source": [
    "## Variant 1b: Solenoids up to Damping Ring at 1.54 GeV, No Tuning Solenoid After AMD"
   ]
  },
  {
   "cell_type": "markdown",
   "id": "b7f09401-16f8-4952-a5b3-0a3f40be054d",
   "metadata": {},
   "source": [
    "### Intermediate Distribution After 5 RF Structures (End of First Tracking)"
   ]
  },
  {
   "cell_type": "code",
   "execution_count": null,
   "id": "b79832c4-0b05-48ba-b08f-52081d16ecf3",
   "metadata": {},
   "outputs": [],
   "source": [
    "DISTR_REL_PATH = '../../Data/RFTrack/CaptureLinac/PositronLinacUpTo1p54GeV_LBandLargeR_RealSolenoids_Type1and2/DistrOut_After1stTracking_6d.sdf_txt'\n",
    "beamInterm1b = bd.load_standard_fwf(DISTR_REL_PATH)\n",
    "beamInterm1b.describe()"
   ]
  },
  {
   "cell_type": "code",
   "execution_count": null,
   "id": "5d2d2ef8-f302-470f-ba00-565617e01b8e",
   "metadata": {},
   "outputs": [],
   "source": [
    "DISTR_REL_PATH = '../../Data/RFTrack/CaptureLinac/PositronLinacUpTo1p54GeV_LBandLargeR_RealSolenoids_Type1and2/DistrOut_FrontBuckets_After1stTracking_6d.sdf_txt'\n",
    "beamInterm1bFront = bd.load_standard_fwf(DISTR_REL_PATH)\n",
    "beamInterm1bFront.describe()"
   ]
  },
  {
   "cell_type": "code",
   "execution_count": null,
   "id": "049085ec-dd0a-40e0-8c54-cb592cd52500",
   "metadata": {
    "tags": []
   },
   "outputs": [],
   "source": [
    "plotSets = ['TransvPlane', 'TransvPsAngles', 'LongPsT']\n",
    "\n",
    "distrList = [beamInterm1b, beamInterm1bFront]\n",
    "plotDefs = bd.set_plot_defs_from_distrs(distrList, setNames=plotSets)\n",
    "_ = bd.plot_distr(\n",
    "    distrList,\n",
    "    plotDefs, markerStyle=['o', 'x'], legendLabels=['All RF buckets', 'Front RF bucket']\n",
    ")"
   ]
  },
  {
   "cell_type": "markdown",
   "id": "db9028de-ef24-4809-a750-130134d29711",
   "metadata": {
    "tags": []
   },
   "source": [
    "### Distribution at the End of Positron Linac (After 27 RF Structures)"
   ]
  },
  {
   "cell_type": "code",
   "execution_count": null,
   "id": "f402fc10-e206-45d1-b0eb-94c377da51e6",
   "metadata": {},
   "outputs": [],
   "source": [
    "# DISTR_REL_PATH = '../../Data/RFTrack/CaptureLinac/PositronLinacUpTo1p54GeV_LBandLargeR_RealSolenoids_Type1and2/DistrOut_After2ndTracking_6d.sdf_txt'\n",
    "DISTR_REL_PATH = '../../Data/RFTrack/CaptureLinac/PositronLinacUpTo1p54GeV_LBandLargeR_RealSolenoids_Type1and2/DistrOut_After2ndTracking_6d.sdf_txt'\n",
    "beamEnd1b = bd.load_standard_fwf(DISTR_REL_PATH)\n",
    "beamEnd1b.describe()"
   ]
  },
  {
   "cell_type": "markdown",
   "id": "9f9cd721-7967-4a1c-9a26-9c4e841a1df0",
   "metadata": {},
   "source": [
    "## Comparison Variant 1a vs. 1b"
   ]
  },
  {
   "cell_type": "markdown",
   "id": "cd335a4d-dbac-4d36-94ef-c8fb5dd91fe3",
   "metadata": {},
   "source": [
    "### Intermediate Distribution"
   ]
  },
  {
   "cell_type": "code",
   "execution_count": null,
   "id": "cf791acc-9309-43ed-9937-0f040a8967d2",
   "metadata": {
    "tags": []
   },
   "outputs": [],
   "source": [
    "plotSets = ['TransvPlane', 'TransvPsAngles', 'LongPsT']\n",
    "distrList = [beamInterm1, beamInterm1b]\n",
    "plotDefs = bd.set_plot_defs_from_distrs(distrList, setNames=plotSets)\n",
    "_ = bd.plot_distr(distrList, plotDefs, legendLabels=['With tuning solenoid', 'Without tuning solenoid'])"
   ]
  },
  {
   "cell_type": "markdown",
   "id": "f0ddb869-4a09-4ede-9a6e-d3b060c475f7",
   "metadata": {},
   "source": [
    "### Final Distribution"
   ]
  },
  {
   "cell_type": "code",
   "execution_count": null,
   "id": "be6773fc-8eb7-4610-8c43-6aa895919d6f",
   "metadata": {
    "tags": []
   },
   "outputs": [],
   "source": [
    "plotSets = ['TransvPlane', 'TransvPsAngles', 'LongPsT']\n",
    "distrList = [beamEnd1, beamEnd1b]\n",
    "plotDefs = bd.set_plot_defs_from_distrs(distrList, setNames=plotSets)\n",
    "_ = bd.plot_distr(distrList, plotDefs, legendLabels=['With tuning solenoid', 'Without tuning solenoid'])"
   ]
  },
  {
   "cell_type": "markdown",
   "id": "b1ef71d2-9d3c-4e93-a488-1b9019bcef93",
   "metadata": {},
   "source": [
    "### Transport"
   ]
  },
  {
   "cell_type": "code",
   "execution_count": null,
   "id": "37c9bfc6-af9a-4ea9-8309-737abcf7aa28",
   "metadata": {},
   "outputs": [],
   "source": [
    "reload(rfttools)"
   ]
  },
  {
   "cell_type": "code",
   "execution_count": null,
   "id": "d45c4fca-1f9e-4fde-8168-e7f4d829ff39",
   "metadata": {},
   "outputs": [],
   "source": [
    "SIM_REL_PATH_1 = '../../Data/RFTrack/CaptureLinac/PositronLinacUpTo1p54GeV_LBandLargeR_RealSolenoids_Type1and2_TuningSolenoid'\n",
    "SIM_REL_PATH_2 = '../../Data/RFTrack/CaptureLinac/PositronLinacUpTo1p54GeV_LBandLargeR_RealSolenoids_Type1and2'\n",
    "totParticlesAtSimStart = 136506\n",
    "normFactorCaptureEff2 = beamInterm1Front.shape[0] / totParticlesAtSimStart\n",
    "normFactorCaptureEff2TuningSolenoid = beamInterm1bFront.shape[0] / totParticlesAtSimStart\n",
    "\n",
    "fig1, ax1 = plt.subplots(7, 1, figsize=(9.6, 15.))\n",
    "# fig1, ax1l = plt.subplots(3, 1, figsize=(9.6, 6.4))\n",
    "# ax1r = []\n",
    "# for ax in ax1l:\n",
    "#     ax1r.append(ax.twinx())\n",
    "# ax1 = [None] * (len(ax1l) + len(ax1r))\n",
    "# ax1[::2] = ax1l\n",
    "# ax1[1::2] = ax1r\n",
    "rfttools.load_plot_transport(ax1, SIM_REL_PATH_1, fileSuffix='1')\n",
    "rfttools.load_plot_transport(ax1, SIM_REL_PATH_1, fileSuffix='2', normFactorCaptureEff=normFactorCaptureEff2)\n",
    "rfttools.load_plot_transport(ax1, SIM_REL_PATH_2, fileSuffix='1')\n",
    "rfttools.load_plot_transport(ax1, SIM_REL_PATH_2, fileSuffix='2', normFactorCaptureEff=normFactorCaptureEff2TuningSolenoid)\n",
    "# ax1[0].legend(['Volume + Lattice', 'Volume'], loc='upper center', bbox_to_anchor=(0.5, 1.3), ncol=2)\n",
    "# _ = ax1[2].set_ylim([150., 250.])"
   ]
  },
  {
   "cell_type": "markdown",
   "id": "27274347-5e3f-42d4-98ba-2ada78e4792a",
   "metadata": {},
   "source": [
    "## Variant 1a with Constant Ez Above 200 MeV"
   ]
  },
  {
   "cell_type": "markdown",
   "id": "29ec97fd-aec4-490a-a80c-b92918f6d87b",
   "metadata": {},
   "source": [
    "### Distribution at the End of Positron Linac (After 5 RF Structures + 23 Sections with Ez = 20 MV/m)"
   ]
  },
  {
   "cell_type": "code",
   "execution_count": null,
   "id": "4fa2d5db-4eaf-413a-8b6f-450eca734ef3",
   "metadata": {
    "tags": []
   },
   "outputs": [],
   "source": [
    "DISTR_REL_PATH = '../../Data/RFTrack/CaptureLinac/PositronLinacUpTo1p54GeV_ConstEzAfter200MeV_RealSolenoids_Type1and2_TuningSolenoid_Ecut40MeV/DistrOut_After2ndTracking_6d.sdf_txt'\n",
    "beamEnd1bConstEz = bd.load_standard_fwf(DISTR_REL_PATH)\n",
    "beamEnd1bConstEz.describe()"
   ]
  },
  {
   "cell_type": "code",
   "execution_count": null,
   "id": "76cdb841-d559-4f5f-9c0f-361096101e50",
   "metadata": {
    "tags": []
   },
   "outputs": [],
   "source": [
    "reload(bd)\n",
    "plotSets = ['TransvPlane', 'TransvPsAngles', 'LongPsT', 'r-pz']\n",
    "distrList = [beamEnd1bConstEz]\n",
    "plotDefs = bd.set_plot_defs_from_distrs(distrList, setNames=plotSets)\n",
    "tMinPlot = 306.85  # [ns]\n",
    "plotDefs[3]['lims1'] = [tMinPlot, tMinPlot+tWindowPlot]\n",
    "pzMinPlot = 1500.  # [MeV/c]\n",
    "plotDefs[3]['lims2'] = [pzMinPlot, pzMinPlot+pzWindowPlot]\n",
    "plotDefs[5]['lims1'] = [0, rMaxPlot]\n",
    "plotDefs[5]['lims2'] = [pzMinPlot, pzMinPlot+pzWindowPlot]\n",
    "_ = bd.plot_distr(distrList, plotDefs)"
   ]
  },
  {
   "cell_type": "markdown",
   "id": "9178be11-bdfd-49ac-b140-8060bfa6f71d",
   "metadata": {},
   "source": [
    "### Transport"
   ]
  },
  {
   "cell_type": "code",
   "execution_count": null,
   "id": "6edf040b-8c9b-4310-8f49-53f95eda2e45",
   "metadata": {},
   "outputs": [],
   "source": [
    "reload(rfttools)\n",
    "SIM_REL_PATH_1 = '../../Data/RFTrack/CaptureLinac/PositronLinacUpTo1p54GeV_ConstEzAfter200MeV_RealSolenoids_Type1and2_TuningSolenoid_Ecut40MeV'\n",
    "totParticlesAtSimStart = 136506\n",
    "normFactorCaptureEff2 = 2815 * 30 / totParticlesAtSimStart\n",
    "# normFactorCaptureEff2 = 1.\n",
    "\n",
    "# fig1, ax1 = plt.subplots(7, 1, figsize=(9.6, 15.))\n",
    "# or\n",
    "fig1, ax1l = plt.subplots(3, 1, figsize=(10.5, 5.5))\n",
    "ax1r = []\n",
    "for ax in ax1l:\n",
    "    ax1r.append(ax.twinx())\n",
    "ax1 = [None] * (len(ax1l) + len(ax1r))\n",
    "ax1[::2] = ax1l\n",
    "ax1[1::2] = ax1r\n",
    "quantitiesToPlot = ['Ez', None, 'mean_E', 'CaptureEfficiency', 'Sigmas', None]\n",
    "rfttools.load_plot_transport(ax1, SIM_REL_PATH_1, fileSuffix='1', quantitiesToPlot=quantitiesToPlot)\n",
    "rfttools.load_plot_transport(ax1, SIM_REL_PATH_1, fileSuffix='2', quantitiesToPlot=quantitiesToPlot, normFactorCaptureEff=normFactorCaptureEff2)\n",
    "# ax1[0].legend(['Volume + Lattice', 'Volume'], loc='upper center', bbox_to_anchor=(0.5, 1.3), ncol=2)\n",
    "# _ = ax1[0].set_xlim([40., 50.])\n",
    "# _ = ax1[0].set_ylim([0., 1.])\n",
    "_ = ax1[4].set_ylim([0., 30.])\n",
    "_ = ax1[4].set_xlabel('s [m]')"
   ]
  },
  {
   "cell_type": "markdown",
   "id": "72109262-4c64-4d1b-9d9a-b73649300ebf",
   "metadata": {},
   "source": [
    "## Variant 2: Solenoids Up To 780 MeV + Conventional FODO Up To Damping Ring"
   ]
  },
  {
   "cell_type": "markdown",
   "id": "293f915c-30a2-445a-bcd3-3965fb56fe2c",
   "metadata": {},
   "source": [
    "### Intermediate Distribution After 15 RF Structures (End of Solenoid Section)"
   ]
  },
  {
   "cell_type": "code",
   "execution_count": null,
   "id": "7d8e7b0c-c224-439d-ae83-290257e0d781",
   "metadata": {},
   "outputs": [],
   "source": [
    "DISTR_REL_PATH = '../../Data/RFTrack/CaptureLinac/PositronLinac_15RFStruct_LBandLargeR_SolenoidsType1and2/DistrOut_After2ndTracking_6d.sdf_txt'\n",
    "beamInterm2 = bd.load_standard_fwf(DISTR_REL_PATH)\n",
    "beamInterm2.describe()"
   ]
  },
  {
   "cell_type": "code",
   "execution_count": null,
   "id": "f8235e58-f7a6-4adb-9373-ddb59d6b6cb1",
   "metadata": {},
   "outputs": [],
   "source": [
    "plotSets = ['TransvPlane', 'TransvPsAngles', 'LongPsT', 'r-pz']\n",
    "distrList = [beamInterm2]\n",
    "plotDefs = bd.set_plot_defs_from_distrs(distrList, setNames=plotSets)\n",
    "plotDefs[5]['lims1'] = [0, rMaxPlot]\n",
    "pzMinPlot = 350.  # [MeV/c]\n",
    "pzWindowPlot = 500.  # [MeV/c]\n",
    "plotDefs[5]['lims2'] = [pzMinPlot, pzMinPlot+pzWindowPlot]\n",
    "_ = bd.plot_distr(distrList, plotDefs)"
   ]
  },
  {
   "cell_type": "markdown",
   "id": "fa92fd87-c68d-4093-bf98-dd0c50647870",
   "metadata": {
    "tags": []
   },
   "source": [
    "### Distribution at the End of Positron Linac (After 15+13=28 RF Structures)"
   ]
  },
  {
   "cell_type": "code",
   "execution_count": null,
   "id": "cdb34312-0b3f-4bf0-8eae-904f551a6fd2",
   "metadata": {},
   "outputs": [],
   "source": [
    "DISTR_REL_PATH = '../../Data/RFTrack/PositronLinacSection3/PositronLinacUpTo1p54GeV_LBandLargeR_Matching2_Fodo2/DistrOut_6d.sdf_txt'\n",
    "beamEnd2 = bd.load_standard_fwf(DISTR_REL_PATH)\n",
    "beamEnd2.describe()"
   ]
  },
  {
   "cell_type": "code",
   "execution_count": null,
   "id": "21f81e42-dd6c-455c-80a6-0add1a9f48c3",
   "metadata": {},
   "outputs": [],
   "source": [
    "plotSets = ['TransvPlane', 'TransvPsAngles', 'LongPsT', 'r-pz']\n",
    "distrList = [beamEnd2]\n",
    "plotDefs = bd.set_plot_defs_from_distrs(distrList, setNames=plotSets)\n",
    "tMinPlot = 418.9  # [ns]\n",
    "plotDefs[3]['lims1'] = [tMinPlot, tMinPlot+tWindowPlot]\n",
    "pzMinPlot = 1100.  # [MeV/c]\n",
    "plotDefs[3]['lims2'] = [pzMinPlot, pzMinPlot+pzWindowPlot]\n",
    "plotDefs[5]['lims1'] = [0, rMaxPlot]\n",
    "plotDefs[5]['lims2'] = [pzMinPlot, pzMinPlot+pzWindowPlot]\n",
    "_ = bd.plot_distr(distrList, plotDefs)"
   ]
  },
  {
   "cell_type": "markdown",
   "id": "2025f16b-6875-425b-bf68-3640dca6a897",
   "metadata": {
    "tags": []
   },
   "source": [
    "### Transport"
   ]
  },
  {
   "cell_type": "code",
   "execution_count": null,
   "id": "f2995b59-43ed-480d-ac02-e2f99cea9635",
   "metadata": {},
   "outputs": [],
   "source": [
    "reload(rfttools)\n",
    "SIM_REL_PATH_1 = '../../Data/RFTrack/CaptureLinac/PositronLinac_15RFStruct_LBandLargeR_SolenoidsType1and2'\n",
    "SIM_REL_PATH_2 = '../../Data/RFTrack/PositronLinacSection3/PositronLinacUpTo1p54GeV_LBandLargeR_Matching2_Fodo2'\n",
    "sShiftGlobal2 = 49.831  # [m]\n",
    "totParticlesAtSimStart = 136506\n",
    "normFactorCaptureEff1 = beamInterm1.shape[0] / totParticlesAtSimStart\n",
    "normFactorCaptureEff2 = beamInterm2.shape[0] / totParticlesAtSimStart\n",
    "# normFactorCaptureEff2 = 1.\n",
    "\n",
    "# fig1, ax1 = plt.subplots(7, 1, figsize=(9.6, 14.))\n",
    "# or\n",
    "# fig1, ax1 = plt.subplots(3, 1, figsize=(9.6, 6.4))\n",
    "# or\n",
    "fig1, ax1l = plt.subplots(3, 1, figsize=(10.5, 5.5))\n",
    "ax1r = []\n",
    "for ax in ax1l:\n",
    "    ax1r.append(ax.twinx())\n",
    "ax1 = [None] * (len(ax1l) + len(ax1r))\n",
    "ax1[::2] = ax1l\n",
    "ax1[1::2] = ax1r\n",
    "quantitiesToPlot = ['Bz', None, 'mean_E', 'CaptureEfficiency', 'Sigmas', None]\n",
    "rfttools.load_plot_transport(\n",
    "    ax1, SIM_REL_PATH_1, fileSuffix='2', quantitiesToPlot=quantitiesToPlot, normFactorCaptureEff=normFactorCaptureEff1)\n",
    "rfttools.load_plot_transport(\n",
    "    ax1, SIM_REL_PATH_2, quantitiesToPlot=quantitiesToPlot, sShiftGlobal=sShiftGlobal2, normFactorCaptureEff=normFactorCaptureEff2)\n",
    "# ax1[0].legend(['Volume + Lattice', 'Volume'], loc='upper center', bbox_to_anchor=(0.5, 1.3), ncol=2)\n",
    "# _ = ax1[0].set_xlim([40., 50.])\n",
    "_ = ax1[0].set_ylim([0., 1.])\n",
    "_ = ax1[4].set_ylim([0., 30.])\n",
    "_ = ax1[4].set_xlabel('s [m]')"
   ]
  },
  {
   "cell_type": "markdown",
   "id": "7da1e66c-6f4a-4c96-9aa4-6f7397571532",
   "metadata": {},
   "source": [
    "## Variant 3: Solenoids Up To 780 MeV + Conventional FODO Up To Damping Ring at 2.84 GeV"
   ]
  },
  {
   "cell_type": "markdown",
   "id": "82c523f1-e68c-4c0c-ae1d-3d535e15fffa",
   "metadata": {
    "tags": []
   },
   "source": [
    "### Distribution at the End of Positron Linac (After 15+35=50 RF Structures)"
   ]
  },
  {
   "cell_type": "code",
   "execution_count": null,
   "id": "a4ef89d9-82e7-4a95-bd1e-5c7b7d048654",
   "metadata": {},
   "outputs": [],
   "source": [
    "DISTR_REL_PATH = '../../RFTrackOutput/LatestSimPositronLinacSection3/DistrOut_6d.sdf_txt'\n",
    "beamEnd3 = bd.load_standard_fwf(DISTR_REL_PATH)\n",
    "beamEnd3.describe()"
   ]
  },
  {
   "cell_type": "code",
   "execution_count": null,
   "id": "db7f7c91-b4d0-4067-bd83-1392695a9382",
   "metadata": {},
   "outputs": [],
   "source": [
    "plotSets = ['TransvPlane', 'TransvPsAngles', 'LongPsT', 'r-pz']\n",
    "distrList = [beamEnd3]\n",
    "plotDefs = bd.set_plot_defs_from_distrs(distrList, setNames=plotSets)\n",
    "tMinPlot = 741.92  # [ns]\n",
    "plotDefs[3]['lims1'] = [tMinPlot, tMinPlot+tWindowPlot]\n",
    "pzMinPlot = 2400.  # [MeV/c]\n",
    "plotDefs[3]['lims2'] = [pzMinPlot, pzMinPlot+pzWindowPlot]\n",
    "plotDefs[5]['lims1'] = [0, rMaxPlot]\n",
    "plotDefs[5]['lims2'] = [pzMinPlot, pzMinPlot+pzWindowPlot]\n",
    "_ = bd.plot_distr(distrList, plotDefs)"
   ]
  },
  {
   "cell_type": "markdown",
   "id": "3abedde0-4e90-418a-9cae-b1c1f741392f",
   "metadata": {},
   "source": [
    "# Yield at Damping Ring"
   ]
  },
  {
   "cell_type": "markdown",
   "id": "59023ee3-8c09-43de-b984-5bf2943d0527",
   "metadata": {},
   "source": [
    "## Simple Analytical Tracking of Longitudinal Phase Space"
   ]
  },
  {
   "cell_type": "code",
   "execution_count": null,
   "id": "374500cb-927b-4cf0-b926-3d33249ee504",
   "metadata": {},
   "outputs": [],
   "source": [
    "totElectronsDriveBeamAnalytical = 1e4\n",
    "pzWindowCenterAnalytical = 1530.  # [MeV/c]\n",
    "pzWindowAmplitudeAnalytical = 0.038\n",
    "drAcceptanceAnalytical = {\n",
    "    \"t\": [54.8, 55.2],  # [ns]\n",
    "    \"pz\": [pzWindowCenterAnalytical*(1-pzWindowAmplitudeAnalytical), pzWindowCenterAnalytical*(1+pzWindowAmplitudeAnalytical)]\n",
    "}\n",
    "beamAcceptedAnalytical = bd.filter_distr(beamEndAnalytical, drAcceptanceAnalytical)\n",
    "print('Positron yield at damping ring = {:.2f}'.format(beamAcceptedAnalytical.shape[0]/totElectronsDriveBeamAnalytical))"
   ]
  },
  {
   "cell_type": "code",
   "execution_count": null,
   "id": "22f60641-1a77-4b7d-8ff9-418b8ffb8f5b",
   "metadata": {
    "tags": []
   },
   "outputs": [],
   "source": [
    "plotSets = ['TransvPlane', 'TransvPsAngles', 'LongPsT']\n",
    "distrList = [beamEndAnalytical, beamAcceptedAnalytical]\n",
    "plotDefs = bd.set_plot_defs_from_distrs(distrList, setNames=plotSets)\n",
    "tMinPlot = 54.86  # [ns]\n",
    "plotDefs[3]['lims1'] = [tMinPlot, tMinPlot+tWindowPlot]\n",
    "pzMinPlot = 1100.  # [MeV/c]\n",
    "plotDefs[3]['lims2'] = [pzMinPlot, pzMinPlot+pzWindowPlot]\n",
    "_ = bd.plot_distr(distrList, plotDefs)"
   ]
  },
  {
   "cell_type": "markdown",
   "id": "d962cf30-9b8f-49f1-acff-b760580d205c",
   "metadata": {},
   "source": [
    "## Variant 1a"
   ]
  },
  {
   "cell_type": "code",
   "execution_count": null,
   "id": "022dc0d6-c2fd-4dcc-a753-7fe11c526c63",
   "metadata": {},
   "outputs": [],
   "source": [
    "totElectronsDriveBeam1 = 1e4\n",
    "pzWindowCenter1 = 1505.  # [MeV/c]\n",
    "pzWindowAmplitude1 = 0.038\n",
    "drAcceptance1 = {\n",
    "    \"t\": [306.7, 307.1],  # [ns]\n",
    "    \"pz\": [pzWindowCenter1*(1-pzWindowAmplitude1), pzWindowCenter1*(1+pzWindowAmplitude1)]\n",
    "}\n",
    "beamAccepted1 = bd.filter_distr(beamEnd1, drAcceptance1)\n",
    "print('Positron yield at damping ring = {:.2f}'.format(beamAccepted1.shape[0]/totElectronsDriveBeam1))"
   ]
  },
  {
   "cell_type": "code",
   "execution_count": null,
   "id": "8178236d-5216-4be7-a6dc-ad76dcb4f9b6",
   "metadata": {
    "tags": []
   },
   "outputs": [],
   "source": [
    "plotSets = ['TransvPlane', 'TransvPsAngles', 'LongPsT']\n",
    "distrList = [beamEnd1, beamAccepted1]\n",
    "plotDefs = bd.set_plot_defs_from_distrs(distrList, setNames=plotSets)\n",
    "plotDefs[1]['lims2'] = [-5., 5.]  # [mrad]\n",
    "tMinPlot = 306.81  # [ns]\n",
    "plotDefs[3]['lims1'] = [tMinPlot, tMinPlot+tWindowPlot]\n",
    "pzMinPlot = 1100.  # [MeV/c]\n",
    "plotDefs[3]['lims2'] = [pzMinPlot, pzMinPlot+pzWindowPlot]\n",
    "_ = bd.plot_distr(distrList, plotDefs)"
   ]
  },
  {
   "cell_type": "markdown",
   "id": "925c473b-2c95-42db-a0bc-49b78189c045",
   "metadata": {},
   "source": [
    "## Variant 2"
   ]
  },
  {
   "cell_type": "code",
   "execution_count": null,
   "id": "57dd412c-cbc0-4ebd-8685-60c1bb7f3db8",
   "metadata": {},
   "outputs": [],
   "source": [
    "totElectronsDriveBeam2 = 1e4\n",
    "pzWindowCenter2 = 1510.  # [MeV/c]\n",
    "pzWindowAmplitude2 = 0.038\n",
    "drAcceptance2 = {\n",
    "    \"t\": [418.8, 419.1],  # [ns]\n",
    "    \"pz\": [pzWindowCenter2*(1-pzWindowAmplitude2), pzWindowCenter2*(1+pzWindowAmplitude2)]\n",
    "}\n",
    "beamAccepted2 = bd.filter_distr(beamEnd2, drAcceptance2)\n",
    "print('Positron yield at damping ring = {:.2f}'.format(beamAccepted2.shape[0]/totElectronsDriveBeam2))"
   ]
  },
  {
   "cell_type": "code",
   "execution_count": null,
   "id": "c5f3eccc-f303-4ae6-8933-d77870ea4df0",
   "metadata": {
    "tags": []
   },
   "outputs": [],
   "source": [
    "plotSets = ['TransvPlane', 'TransvPsAngles', 'LongPsT']\n",
    "distrList = [beamEnd2, beamAccepted2]\n",
    "plotDefs = bd.set_plot_defs_from_distrs(distrList, setNames=plotSets)\n",
    "tMinPlot = 418.9  # [ns]\n",
    "plotDefs[3]['lims1'] = [tMinPlot, tMinPlot+tWindowPlot]\n",
    "pzMinPlot = 1100.  # [MeV/c]\n",
    "plotDefs[3]['lims2'] = [pzMinPlot, pzMinPlot+pzWindowPlot]\n",
    "_ = bd.plot_distr(distrList, plotDefs)"
   ]
  },
  {
   "cell_type": "markdown",
   "id": "8c2e2f67",
   "metadata": {},
   "source": [
    "<div class=\"alert alert-block alert-success\">\n",
    "Some good news.\n",
    "</div>"
   ]
  },
  {
   "cell_type": "markdown",
   "id": "eb6ca689",
   "metadata": {},
   "source": [
    "<div class=\"alert alert-block alert-warning\">\n",
    "Some warning.\n",
    "</div>"
   ]
  },
  {
   "cell_type": "markdown",
   "id": "4111ea5b",
   "metadata": {},
   "source": [
    "<div class=\"alert alert-block alert-danger\">\n",
    "Some danger.\n",
    "</div>"
   ]
  },
  {
   "cell_type": "code",
   "execution_count": null,
   "id": "9e5d1257-2d78-4b27-ae9a-f27a46c5eeff",
   "metadata": {},
   "outputs": [],
   "source": []
  }
 ],
 "metadata": {
  "kernelspec": {
   "display_name": "Python 3 (ipykernel)",
   "language": "python",
   "name": "python3"
  },
  "language_info": {
   "codemirror_mode": {
    "name": "ipython",
    "version": 3
   },
   "file_extension": ".py",
   "mimetype": "text/x-python",
   "name": "python",
   "nbconvert_exporter": "python",
   "pygments_lexer": "ipython3",
   "version": "3.10.10"
  },
  "toc": {
   "base_numbering": 1,
   "nav_menu": {},
   "number_sections": true,
   "sideBar": true,
   "skip_h1_title": true,
   "title_cell": "Table of Contents",
   "title_sidebar": "Contents",
   "toc_cell": true,
   "toc_position": {},
   "toc_section_display": true,
   "toc_window_display": false
  },
  "toc-showcode": false
 },
 "nbformat": 4,
 "nbformat_minor": 5
}
