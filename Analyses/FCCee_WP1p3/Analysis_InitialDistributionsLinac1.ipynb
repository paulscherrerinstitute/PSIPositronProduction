{
 "cells": [
  {
   "cell_type": "code",
   "execution_count": null,
   "id": "11e4893f",
   "metadata": {},
   "outputs": [],
   "source": [
    "import os\n",
    "import numpy as np\n",
    "import pandas as pd\n",
    "import matplotlib\n",
    "import matplotlib.pyplot as plt\n",
    "import BeamDynamics as bd\n",
    "import SimulationData as sd\n",
    "import copy\n",
    "import json"
   ]
  },
  {
   "cell_type": "code",
   "execution_count": null,
   "id": "eaf8d117",
   "metadata": {},
   "outputs": [],
   "source": [
    "from importlib import reload\n",
    "reload(bd)"
   ]
  },
  {
   "cell_type": "code",
   "execution_count": null,
   "id": "8e4c4dd0",
   "metadata": {},
   "outputs": [],
   "source": [
    "# %matplotlib inline\n",
    "# %matplotlib notebook\n",
    "%matplotlib widget\n",
    "plt.rcParams['figure.figsize'] = [9.6, 6.4]\n",
    "defaultColorCycle = plt.rcParams[\"axes.prop_cycle\"].by_key()['color']\n",
    "# plotFont = {\n",
    "#     'family' : 'sans-serif',\n",
    "#     'weight' : 'normal',\n",
    "#     'size'   : 12\n",
    "# }\n",
    "# matplotlib.rc('font', **plotFont)\n",
    "# plt.rc('legend', fontsize=10)"
   ]
  },
  {
   "cell_type": "markdown",
   "id": "39f9e228",
   "metadata": {},
   "source": [
    "# Distributions from Capture Linac (Approx. 200 MeV)"
   ]
  },
  {
   "cell_type": "markdown",
   "id": "9bf0aa64-2593-4f20-9872-ae7ebe088672",
   "metadata": {
    "toc-hr-collapsed": true
   },
   "source": [
    "## Plot Single Distributions"
   ]
  },
  {
   "cell_type": "markdown",
   "id": "a4cd558e-e05c-409d-87b6-e682f9f99f41",
   "metadata": {},
   "source": [
    "### 200 MeV, Homogeneous Solenoidal Channel 0.5 T, CLIC L-band TW Structures (Yongke, V1)"
   ]
  },
  {
   "cell_type": "markdown",
   "id": "c8b2060c-7c96-4302-a118-502013f55bed",
   "metadata": {
    "tags": []
   },
   "source": [
    "#### First Positron Buckets (Overall Picture)"
   ]
  },
  {
   "cell_type": "code",
   "execution_count": null,
   "id": "93f8a227-3536-4a38-89c2-909d394249fc",
   "metadata": {},
   "outputs": [],
   "source": [
    "DISTR_REL_PATH = 'SimulationRuns/DistrsFromExternalPartners/PositronsAt200MeV/YongkeDistrsV1/CTSB-N02-F100-E06-S0.5-T5.0_HTSTest_JNov04_SolC_CLICTW-Ztc200-Ri15-Bc0.50.dat'\n",
    "FILTER_SPECS_SELECTOR = '../../Data/PositronsAt200MeV/YongkeDistrsV1CTSB-N02-F100-E06-S0.5-T5.0_HTSTest_JNov04_SolC_CLICTW-Ztc200-Ri15-Bc0.50_FirstBunches'\n",
    "# FILTER_SPECS_SELECTOR = None\n",
    "distrPath = sd.build_data_path(DISTR_REL_PATH)\n",
    "beamInYonClicZoomOut, _ = bd.convert_rftrack_to_standard_df(\n",
    "    sourceFilePath=distrPath, sourceFormat='rftrackYongke1', rftrackDfFormat='rftrack_xp_t',\n",
    "    filterSpecsSelector=FILTER_SPECS_SELECTOR, s=np.nan, pdgId=-11\n",
    ")\n",
    "beamInYonClicZoomOut['z'] = beamInYonClicZoomOut.loc[0, 't'] * bd.C / 1e6   # This is very approximative\n",
    "beamInYonClicZoomOut.describe()"
   ]
  },
  {
   "cell_type": "code",
   "execution_count": null,
   "id": "64ed4639-f414-4ef2-9328-65b5c39bb655",
   "metadata": {
    "tags": []
   },
   "outputs": [],
   "source": [
    "plotDefs = bd.set_plot_defs_from_distrs([beamInYonClicZoomOut], setName='angles-t')\n",
    "_ = bd.plot_distr([beamInYonClicZoomOut], plotDefs)"
   ]
  },
  {
   "cell_type": "markdown",
   "id": "56f8b6f0-8dd2-48d1-806c-8107523d02ce",
   "metadata": {},
   "source": [
    "#### Bucket of Interest (1st or 2nd?, Positrons)"
   ]
  },
  {
   "cell_type": "code",
   "execution_count": null,
   "id": "b35fbabd-b1f6-4864-915e-33a10122ca35",
   "metadata": {
    "tags": []
   },
   "outputs": [],
   "source": [
    "DISTR_REL_PATH = 'SimulationRuns/DistrsFromExternalPartners/PositronsAt200MeV/YongkeDistrsV1/CTSB-N02-F100-E06-S0.5-T5.0_HTSTest_JNov04_SolC_CLICTW-Ztc200-Ri15-Bc0.50.dat'\n",
    "FILTER_SPECS_SELECTOR = 'CTSB-N02-F100-E06-S0.5-T5.0_HTSTest_JNov04_SolC_CLICTW-Ztc200-Ri15-Bc0.50_MainBunch'\n",
    "distrPath = sd.build_data_path(DISTR_REL_PATH)\n",
    "beamInYonClic, _ = bd.convert_rftrack_to_standard_df(\n",
    "    sourceFilePath=distrPath, sourceFormat='rftrackYongke1', rftrackDfFormat='rftrack_xp_t',\n",
    "    filterSpecsSelector=FILTER_SPECS_SELECTOR, s=np.nan, pdgId=-11\n",
    ")\n",
    "beamInYonClic['z'] = beamInYonClic.loc[0, 't'] * bd.C / 1e6   # This is very approximative\n",
    "beamInYonClic.describe()"
   ]
  },
  {
   "cell_type": "code",
   "execution_count": null,
   "id": "82b9a94e-55b6-4eab-845c-51c174eec0fd",
   "metadata": {
    "tags": []
   },
   "outputs": [],
   "source": [
    "plotDefs = bd.set_plot_defs_from_distrs([beamInYonClic], setName='angles-t')\n",
    "_ = bd.plot_distr([beamInYonClic], plotDefs)"
   ]
  },
  {
   "cell_type": "markdown",
   "id": "1f666c74-3da8-4b87-8331-dad53e41da92",
   "metadata": {},
   "source": [
    "### 200 MeV, Homogeneous Solenoidal Channel 1.5 T, PSI S-band SW Structures (Yongke, V1)"
   ]
  },
  {
   "cell_type": "markdown",
   "id": "582f1f7d-6e68-4cbb-9f2f-163b7dad6152",
   "metadata": {
    "tags": []
   },
   "source": [
    "#### First Positron Buckets (Overall Picture)"
   ]
  },
  {
   "cell_type": "code",
   "execution_count": null,
   "id": "aa3ac799-4153-4c2c-863b-0cd83b4a9666",
   "metadata": {},
   "outputs": [],
   "source": [
    "DISTR_REL_PATH = 'SimulationRuns/DistrsFromExternalPartners/PositronsAt200MeV/YongkeDistrsV1/CTSB-N02-F100-E06-S0.5-T5.0_HTSTest_JNov04_SolC_PSISW-Ztc200-Ri15-Bc1.50.dat'\n",
    "FILTER_SPECS_SELECTOR = 'CTSB-N02-F100-E06-S0.5-T5.0_HTSTest_JNov04_SolC_PSISW-Ztc200-Ri15-Bc1.50_FirstBunches'\n",
    "distrPath = sd.build_data_path(DISTR_REL_PATH)\n",
    "beamInYonPsiZoomOut, _ = bd.convert_rftrack_to_standard_df(\n",
    "    sourceFilePath=distrPath, sourceFormat='rftrackYongke1', rftrackDfFormat='rftrack_xp_t',\n",
    "    filterSpecsSelector=FILTER_SPECS_SELECTOR, s=np.nan, pdgId=-11\n",
    ")\n",
    "beamInYonPsiZoomOut['z'] = beamInYonPsiZoomOut.loc[0, 't'] * bd.C / 1e6   # This is very approximative\n",
    "beamInYonPsiZoomOut.describe()"
   ]
  },
  {
   "cell_type": "code",
   "execution_count": null,
   "id": "765f33c3-fbb9-41fc-bec0-91f7d4bf878c",
   "metadata": {
    "tags": []
   },
   "outputs": [],
   "source": [
    "plotDefs = bd.set_plot_defs_from_distrs([beamInYonPsiZoomOut], setName='angles-t')\n",
    "_ = bd.plot_distr([beamInYonPsiZoomOut], plotDefs)"
   ]
  },
  {
   "cell_type": "markdown",
   "id": "cff188c9-9806-48d7-bbfe-b724bce9f1a0",
   "metadata": {},
   "source": [
    "#### Bucket of Interest (1st or 2nd?, Positrons)"
   ]
  },
  {
   "cell_type": "code",
   "execution_count": null,
   "id": "c0c2c846-ac64-48d1-802a-71b6572c1686",
   "metadata": {},
   "outputs": [],
   "source": [
    "DISTR_REL_PATH = 'SimulationRuns/DistrsFromExternalPartners/PositronsAt200MeV/YongkeDistrsV1/CTSB-N02-F100-E06-S0.5-T5.0_HTSTest_JNov04_SolC_PSISW-Ztc200-Ri15-Bc1.50.dat'\n",
    "FILTER_SPECS_SELECTOR = 'CTSB-N02-F100-E06-S0.5-T5.0_HTSTest_JNov04_SolC_PSISW-Ztc200-Ri15-Bc1.50_MainBunch'\n",
    "distrPath = sd.build_data_path(DISTR_REL_PATH)\n",
    "beamInYonPsi, _ = bd.convert_rftrack_to_standard_df(\n",
    "    sourceFilePath=distrPath, sourceFormat='rftrackYongke1', rftrackDfFormat='rftrack_xp_t',\n",
    "    filterSpecsSelector=FILTER_SPECS_SELECTOR, s=np.nan, pdgId=-11\n",
    ")\n",
    "beamInYonPsi['z'] = beamInYonPsi.loc[0, 't'] * bd.C / 1e6   # This is very approximative\n",
    "beamInYonPsi.describe()"
   ]
  },
  {
   "cell_type": "code",
   "execution_count": null,
   "id": "d28aaafa-871d-41bd-b562-68e8738fca82",
   "metadata": {
    "tags": []
   },
   "outputs": [],
   "source": [
    "plotDefs = bd.set_plot_defs_from_distrs([beamInYonPsi], setName='angles-t')\n",
    "_ = bd.plot_distr([beamInYonPsi], plotDefs)"
   ]
  },
  {
   "cell_type": "markdown",
   "id": "8be20005-c5e0-4b37-9170-411262531bb2",
   "metadata": {},
   "source": [
    "### 200 MeV, Realistic Solenoidal Channel 1.5 T, PSI S-band SW Structures, Main bucket is 2nd (Nicolás)"
   ]
  },
  {
   "cell_type": "markdown",
   "id": "355569c0-712f-406d-b087-2b03077b8fb5",
   "metadata": {
    "tags": []
   },
   "source": [
    "#### First Buckets, Positrons and Electrons (Overall Picture)"
   ]
  },
  {
   "cell_type": "code",
   "execution_count": null,
   "id": "737aaf46-9f0e-45cb-a485-e0158ea8dccb",
   "metadata": {},
   "outputs": [],
   "source": [
    "DISTR_REL_PATH = 'SimulationRuns/ASTRA/000012/RUN_1911_164058/RUN_1911_164058.1380.001'\n",
    "FILTER_SPECS_SELECTOR = 'RUN_1911_164058.1380.001_FirstBunches'\n",
    "# FILTER_SPECS_SELECTOR = None\n",
    "zProjection = None\n",
    "distrPath = sd.build_data_path(DISTR_REL_PATH)\n",
    "beamInNicoPsi1p5TZoomOut, _ = bd.convert_astra_to_standard_df(\n",
    "    distrPath, filterSpecsSelector=FILTER_SPECS_SELECTOR,\n",
    "    zProjection=zProjection, removeNanInf=True\n",
    ")\n",
    "beamInNicoPsi1p5TPositronsZoomOut = beamInNicoPsi1p5TZoomOut[beamInNicoPsi1p5TZoomOut['pdgId']==-11]\n",
    "beamInNicoPsi1p5TPositronsZoomOut.describe()"
   ]
  },
  {
   "cell_type": "code",
   "execution_count": null,
   "id": "0524540d-acdf-47e4-a214-efebaf59025e",
   "metadata": {},
   "outputs": [],
   "source": [
    "beamInNicoPsi1p5TElectronsZoomOut = beamInNicoPsi1p5TZoomOut[beamInNicoPsi1p5TZoomOut['pdgId']==11]\n",
    "beamInNicoPsi1p5TElectronsZoomOut.describe()"
   ]
  },
  {
   "cell_type": "code",
   "execution_count": null,
   "id": "7b59a18e",
   "metadata": {
    "tags": []
   },
   "outputs": [],
   "source": [
    "beamInAllBuckets = [beamInNicoPsi1p5TPositronsZoomOut, beamInNicoPsi1p5TElectronsZoomOut]\n",
    "plotDefs = bd.set_plot_defs_from_distrs(beamInAllBuckets, setName='angles-z')\n",
    "_ = bd.plot_distr(beamInAllBuckets, plotDefs, legendLabels=['Positrons', 'Electrons'])"
   ]
  },
  {
   "cell_type": "markdown",
   "id": "956d3fab-8b43-4280-bdc9-2dd63a7660bf",
   "metadata": {},
   "source": [
    "#### Bucket of Interest (2nd, Positrons)"
   ]
  },
  {
   "cell_type": "code",
   "execution_count": null,
   "id": "9a7cb8ed-c5a3-49de-8074-36b3a4644e23",
   "metadata": {
    "tags": []
   },
   "outputs": [],
   "source": [
    "DISTR_REL_PATH = 'SimulationRuns/ASTRA/000012/RUN_1911_164058/RUN_1911_164058.1380.001'\n",
    "FILTER_SPECS_SELECTOR = 'RUN_1911_164058.1380.001_MainBunch'\n",
    "# FILTER_SPECS_SELECTOR = None\n",
    "zProjection = 13800.\n",
    "distrPath = sd.build_data_path(DISTR_REL_PATH)\n",
    "beamInNicoPsi1p5T, _ = bd.convert_astra_to_standard_df(\n",
    "    distrPath, filterSpecsSelector=FILTER_SPECS_SELECTOR,\n",
    "    zProjection=zProjection, removeNanInf=True\n",
    ")\n",
    "beamInNicoPsi1p5T = beamInNicoPsi1p5T[beamInNicoPsi1p5T['pdgId']==-11]\n",
    "beamInNicoPsi1p5T.describe()"
   ]
  },
  {
   "cell_type": "code",
   "execution_count": null,
   "id": "7c375f82-568f-4699-b00a-6e8027479562",
   "metadata": {
    "tags": []
   },
   "outputs": [],
   "source": [
    "plotDefs = bd.set_plot_defs_from_distrs([beamInNicoPsi1p5T], setName='angles-t')\n",
    "_ = bd.plot_distr([beamInNicoPsi1p5T], plotDefs)"
   ]
  },
  {
   "cell_type": "markdown",
   "id": "b1313365-6311-417f-9a8f-6d5049b64d03",
   "metadata": {},
   "source": [
    "### 200 MeV, Realistic Solenoidal Channel 0.3 T, PSI S-band SW Structures, Main bucket is 2nd (Nicolás)"
   ]
  },
  {
   "cell_type": "markdown",
   "id": "aaffc7dd-48ec-4ed7-ba35-b62efd1f3786",
   "metadata": {
    "tags": []
   },
   "source": [
    "#### First Buckets, Positrons and Electrons (Overall Picture)"
   ]
  },
  {
   "cell_type": "code",
   "execution_count": null,
   "id": "b756fc81-c840-4bfb-a9e4-f103b725b9bc",
   "metadata": {},
   "outputs": [],
   "source": [
    "DISTR_REL_PATH = 'SimulationRuns/ASTRA/000012/RUN_2211_111717/RUN_2211_111717.1380.001'\n",
    "FILTER_SPECS_SELECTOR = 'RUN_2211_111717.1380.001_FirstBunches'\n",
    "# FILTER_SPECS_SELECTOR = None\n",
    "zProjection = None\n",
    "distrPath = sd.build_data_path(DISTR_REL_PATH)\n",
    "beamInNicoPsi0p3TZoomOut, _ = bd.convert_astra_to_standard_df(\n",
    "    distrPath, filterSpecsSelector=FILTER_SPECS_SELECTOR,\n",
    "    zProjection=zProjection, removeNanInf=True\n",
    ")\n",
    "beamInNicoPsi0p3TPositronsZoomOut = beamInNicoPsi0p3TZoomOut[beamInNicoPsi0p3TZoomOut['pdgId']==-11]\n",
    "beamInNicoPsi0p3TPositronsZoomOut.describe()"
   ]
  },
  {
   "cell_type": "code",
   "execution_count": null,
   "id": "4f39432b-de68-4e63-aad5-4a6c43f20b18",
   "metadata": {},
   "outputs": [],
   "source": [
    "beamInNicoPsi0p3TElectronsZoomOut = beamInNicoPsi0p3TZoomOut[beamInNicoPsi0p3TZoomOut['pdgId']==11]\n",
    "beamInNicoPsi0p3TElectronsZoomOut.describe()"
   ]
  },
  {
   "cell_type": "code",
   "execution_count": null,
   "id": "57f7883e-8fd4-420d-b9ca-079618fa5744",
   "metadata": {
    "tags": []
   },
   "outputs": [],
   "source": [
    "beamInAllBuckets = [beamInNicoPsi0p3TPositronsZoomOut, beamInNicoPsi0p3TElectronsZoomOut]\n",
    "plotDefs = bd.set_plot_defs_from_distrs(beamInAllBuckets, setName='angles-z')\n",
    "_ = bd.plot_distr(beamInAllBuckets, plotDefs, legendLabels=['Positrons', 'Electrons'])"
   ]
  },
  {
   "cell_type": "markdown",
   "id": "b4ccfe5b-5206-4981-8536-c3d615f75b49",
   "metadata": {},
   "source": [
    "#### Bucket of Interest (2nd, Positrons)"
   ]
  },
  {
   "cell_type": "code",
   "execution_count": null,
   "id": "f34d0092-4126-433f-be04-33f6870c23a9",
   "metadata": {
    "tags": []
   },
   "outputs": [],
   "source": [
    "DISTR_REL_PATH = 'SimulationRuns/ASTRA/000012/RUN_2211_111717/RUN_2211_111717.1380.001'\n",
    "FILTER_SPECS_SELECTOR = 'RUN_2211_111717.1380.001_MainBunch'\n",
    "# FILTER_SPECS_SELECTOR = None\n",
    "zProjection = 13800.\n",
    "distrPath = sd.build_data_path(DISTR_REL_PATH)\n",
    "beamInNicoPsi0p3T, _ = bd.convert_astra_to_standard_df(\n",
    "    distrPath, filterSpecsSelector=FILTER_SPECS_SELECTOR,\n",
    "    zProjection=zProjection, removeNanInf=True\n",
    ")\n",
    "beamInNicoPsi0p3T = beamInNicoPsi0p3T[beamInNicoPsi0p3T['pdgId']==-11]\n",
    "beamInNicoPsi0p3T.describe()"
   ]
  },
  {
   "cell_type": "code",
   "execution_count": null,
   "id": "0afc6b41-5700-4f54-a32c-51315e7d16c5",
   "metadata": {
    "tags": []
   },
   "outputs": [],
   "source": [
    "plotDefs = bd.set_plot_defs_from_distrs([beamInNicoPsi0p3T], setName='angles-t')\n",
    "_ = bd.plot_distr([beamInNicoPsi0p3T], plotDefs)"
   ]
  },
  {
   "cell_type": "markdown",
   "id": "b3ecafdf-39b5-45d4-8dd9-12cb7ed912c1",
   "metadata": {},
   "source": [
    "## Superimpose Distributions\n",
    "\n",
    "* Main bunch\n",
    "* Time offset to align them in time\n",
    "* pz offset to better compare shapes"
   ]
  },
  {
   "cell_type": "code",
   "execution_count": null,
   "id": "f10c3219-0889-4cb3-93d1-6649ef235965",
   "metadata": {},
   "outputs": [],
   "source": [
    "distrList = [beamInYonClic, beamInYonPsi, beamInNicoPsiMain1, beamInNicoPsiMain2]\n",
    "labelList = ['Yongke, CLIC', 'Yongke, PSI', 'Nicolás, PSI, Main 1st', 'Nicolás, PSI, Main 2nd']\n",
    "tOffsetList = [62.867, 58.731, 46.169, 46.364]\n",
    "pzOffsetList = [185., 224., 213., 203.]\n",
    "distrOffsetList = []\n",
    "selectedDistrs = [1, 2]\n",
    "for distr, tOffset, pzOffset in [list(zip(distrList, tOffsetList, pzOffsetList))[sel] for sel in selectedDistrs]:\n",
    "    tmpDistr = distr.copy()\n",
    "    tmpDistr['t'] = tmpDistr['t'] - tOffset\n",
    "    tmpDistr['pz'] = tmpDistr['pz'] - pzOffset\n",
    "    distrOffsetList.append(tmpDistr)"
   ]
  },
  {
   "cell_type": "code",
   "execution_count": null,
   "id": "89f2882a-f44b-4944-8b0c-cae559eab349",
   "metadata": {
    "tags": []
   },
   "outputs": [],
   "source": [
    "labelList = [labelList[sel] for sel in selectedDistrs]\n",
    "plotDefs = bd.set_plot_defs_from_distrs(distrOffsetList, setName='angles-t')\n",
    "_ = bd.plot_distr(distrOffsetList, plotDefs, legendLabels=labelList)"
   ]
  },
  {
   "cell_type": "markdown",
   "id": "70ab6249-bfb7-4ee7-b849-4008ffef1c06",
   "metadata": {
    "tags": [],
    "toc-hr-collapsed": true
   },
   "source": [
    "## Plot Phase Space Ellipses"
   ]
  },
  {
   "cell_type": "markdown",
   "id": "f7778582-5d31-429c-a40f-dae0cb83f32d",
   "metadata": {
    "tags": []
   },
   "source": [
    "### Compute Emittance and Corresponding Ellipses"
   ]
  },
  {
   "cell_type": "code",
   "execution_count": null,
   "id": "b2f38ebb",
   "metadata": {
    "tags": []
   },
   "outputs": [],
   "source": [
    "emitn = {}\n",
    "emitGeom = {}\n",
    "emitTraceSpace = {}\n",
    "alphaTwiss = {}\n",
    "betaTwiss = {}\n",
    "gammaTwiss = {}\n",
    "for planeName in ('x', 'y'):\n",
    "    emitn[planeName] = bd.compute_emittance(\n",
    "        beamIn, planeName, norm='normalized', filterSpecs=filterSpecs\n",
    "    )\n",
    "    emitGeom[planeName] = bd.compute_emittance(\n",
    "        beamIn, planeName, norm='geometric', filterSpecs=filterSpecs\n",
    "    )\n",
    "    emitTraceSpace[planeName] = bd.compute_emittance(\n",
    "        beamIn, planeName, norm='tracespace', filterSpecs=filterSpecs\n",
    "    )\n",
    "    alphaTwiss[planeName], betaTwiss[planeName], gammaTwiss[planeName] = bd.compute_twiss(\n",
    "        beamIn, planeName, filterSpecs=filterSpecs\n",
    "    )\n",
    "    print(\n",
    "        'emitn_{0:s} = {1:.1f} pi mm mrad, emitGeom_{0:s} = {2:.1f} pi mm mrad, emitTraceSpace_{0:s} = {3:.1f} pi mm mrad.'.format(\n",
    "            planeName, emitn[planeName], emitGeom[planeName], emitTraceSpace[planeName]\n",
    "        )\n",
    "    )\n",
    "    print(\n",
    "        'alphaTwiss_{0:s} = {1:.3f}, betaTwiss_{0:s} = {2:.3f} mm, gammaTwiss_{0:s} = {3:.3f} 1/mm.'.format(\n",
    "            planeName, alphaTwiss[planeName], betaTwiss[planeName], gammaTwiss[planeName]\n",
    "        )\n",
    "    )"
   ]
  },
  {
   "cell_type": "code",
   "execution_count": null,
   "id": "f0c38267",
   "metadata": {
    "tags": []
   },
   "outputs": [],
   "source": [
    "selFa = 4.\n",
    "gaussianPortions = {1: 0.6827, 2: 0.9545, 3: 0.9973, 4: 0.999937, 6: 0.99999998}\n",
    "ellipseSpecs = {\n",
    "    'x': {'alphaTwiss': alphaTwiss['x'], 'betaTwiss': betaTwiss['x']},\n",
    "    'y': {'alphaTwiss': alphaTwiss['y'], 'betaTwiss': betaTwiss['y']}\n",
    "}\n",
    "for planes in (['x'], ['x', 'y']):\n",
    "    for Fa in (1., 2., 3., 4., 6.):\n",
    "        selEllipseSpecs = {k: v for k, v in ellipseSpecs.items() if k in planes}\n",
    "        distrWithinFaSigma, portionWithinFaSigma = bd.distr_within_ellipse(\n",
    "            beamIn, Fa**2.*emitTraceSpace['x'], selEllipseSpecs\n",
    "        )\n",
    "        print(\n",
    "            'Portion within {:.1f} sigma: {:.3f} (vs. {:.3f} for Gaussian).'.format(\n",
    "                Fa, portionWithinFaSigma, gaussianPortions[Fa]\n",
    "            )\n",
    "        )"
   ]
  },
  {
   "cell_type": "markdown",
   "id": "2708e71a-232a-41bc-a09f-cc4c0d17d12f",
   "metadata": {},
   "source": [
    "### Reference values for FODO design"
   ]
  },
  {
   "cell_type": "code",
   "execution_count": null,
   "id": "343fc039-03f0-4563-a9a7-6d4c303a6cfa",
   "metadata": {
    "tags": []
   },
   "outputs": [],
   "source": [
    "emitnRef = 10e3   # [pi mm mrad]\n",
    "FaRef = 4.\n",
    "pRef = 200   # [MeV/c]\n",
    "betaGammaRef = bd.p_to_beta(pRef,-11) * bd.p_to_gamma(pRef,-11)\n",
    "betaGammaRef"
   ]
  },
  {
   "cell_type": "markdown",
   "id": "e1d392ee-33a0-4df3-9528-366d2dc6f437",
   "metadata": {},
   "source": [
    "### Select portion theoretically transported\n",
    "In the assumption of a monochromatic beam"
   ]
  },
  {
   "cell_type": "code",
   "execution_count": null,
   "id": "8f4a075e-469e-4ec1-8fc0-4d08a886fa6a",
   "metadata": {
    "tags": []
   },
   "outputs": [],
   "source": [
    "refEllipseSpecs = {\n",
    "    'x': {'alphaTwiss': 0, 'betaTwiss': betaTwiss['x']},\n",
    "    'y': {'alphaTwiss': 0, 'betaTwiss': betaTwiss['y']}\n",
    "}\n",
    "FaList = (4., 3., 2., 1.)\n",
    "distrWithinRef = []\n",
    "for Fa in FaList:\n",
    "    distrWithinRef.append(bd.distr_within_ellipse(\n",
    "        beamIn, Fa**2.*emitnRef/betaGammaRef, refEllipseSpecs\n",
    "    )[0])"
   ]
  },
  {
   "cell_type": "code",
   "execution_count": null,
   "id": "300c5bf0",
   "metadata": {
    "tags": []
   },
   "outputs": [],
   "source": [
    "ax = bd.plot_distr(\n",
    "    #[beamInYonClic, beamInYonPsi, beamInNicoPsi], plotDefs,\n",
    "    [beamInNicoPsi], plotDefs,\n",
    "    # [beamIn, *distrWithinRef], plotDefs,\n",
    "    # legendLabels=[\n",
    "    #     'Full distr.',\n",
    "    #     *['Within {:.1f} sigma'.format(Fa) for Fa in FaList]\n",
    "    # ]\n",
    ")\n",
    "# for ind, Fa in enumerate(FaList):\n",
    "#     bd.plot_ellipse(\n",
    "#         ax[1][0,0], Fa**2.*emitnRef/betaGammaRef, semiAxisOrder=2,\n",
    "#         alphaTwiss=0, betaTwiss=betaTwiss['x'], color=ax[1][0,0].get_children()[ind+1].get_edgecolor()\n",
    "#     )\n",
    "#     bd.plot_ellipse(\n",
    "#         ax[2][0,0], Fa**2.*emitnRef/betaGammaRef, semiAxisOrder=2,\n",
    "#         alphaTwiss=0, betaTwiss=betaTwiss['y'], color=ax[2][0,0].get_children()[ind+1].get_edgecolor()\n",
    "#     )"
   ]
  },
  {
   "cell_type": "markdown",
   "id": "8ab3694a-9c67-407a-83e6-0d1458d8e8a7",
   "metadata": {},
   "source": [
    "# Positron Distributions after Linac (Approx. 1.5 GeV)"
   ]
  },
  {
   "cell_type": "markdown",
   "id": "57e4e2bf-c55f-4097-9f8d-34701367beb9",
   "metadata": {},
   "source": [
    "## Load Distributions"
   ]
  },
  {
   "cell_type": "markdown",
   "id": "d39cf077-b027-4b1d-9472-ff84abf49ac1",
   "metadata": {},
   "source": [
    "### Positrons, 1.5 GeV, Initial Distribution Yongke CLIC (Mattia)"
   ]
  },
  {
   "cell_type": "code",
   "execution_count": null,
   "id": "acbe8e33-43ae-4f57-ba06-0b3f1e67c781",
   "metadata": {},
   "outputs": [],
   "source": [
    "distrPath = '/home/tia/Repos/GIT_PSIPositronProduction/DistrOut_Linac1_Section1_Simple_1p5GeV.sdf_txt'\n",
    "beamOutMattia = bd.load_standard_fwf(distrPath)\n",
    "beamOutMattia.describe()"
   ]
  },
  {
   "cell_type": "code",
   "execution_count": null,
   "id": "a7552372-6547-4f12-a334-3169a24c8089",
   "metadata": {
    "tags": []
   },
   "outputs": [],
   "source": [
    "plotDefs = bd.set_plot_defs_from_distrs([beamOutMattia], setName='angles-z')\n",
    "for defInd in [3, 4]:\n",
    "    plotDefs[defInd]['lims1'] = (102310., 102340.)\n",
    "    plotDefs[defInd]['lims2'] = (1300., 1550.)\n",
    "_ = bd.plot_distr([beamOutMattia], plotDefs)"
   ]
  },
  {
   "cell_type": "markdown",
   "id": "ad3b50c7-faaa-46ff-906d-facfcb2188f7",
   "metadata": {},
   "source": [
    "### Positrons, 700 MeV, Full ASTRA Tracking (Nicolás)"
   ]
  },
  {
   "cell_type": "code",
   "execution_count": null,
   "id": "ca4e905d-21b2-427c-be7c-5347a1d79ea9",
   "metadata": {},
   "outputs": [],
   "source": [
    "DISTR_REL_PATH = 'SimulationRuns/ASTRA/000014/RUN_2801_132916/RUN_2801_132916.4800.001'\n",
    "FILTER_SPECS_SELECTOR = 'RUN_2801_132916.4800.001_MainBunch'\n",
    "# FILTER_SPECS_SELECTOR = None\n",
    "zProjection = None\n",
    "distrPath = sd.build_data_path(DISTR_REL_PATH)\n",
    "beamOutNicoPsi, _ = bd.convert_astra_to_standard_df(\n",
    "    distrPath, filterSpecsSelector=FILTER_SPECS_SELECTOR,\n",
    "    zProjection=zProjection\n",
    ")\n",
    "beamOutNicoPsi.describe()"
   ]
  },
  {
   "cell_type": "code",
   "execution_count": null,
   "id": "b0a0e7b3-00d8-40e5-bd2a-943edf636422",
   "metadata": {},
   "outputs": [],
   "source": [
    "plotDefs = bd.set_plot_defs_from_distrs([beamOutNicoPsi], setName='angles-z')\n",
    "for defInd in [3, 4]:\n",
    "    # plotDefs[defInd]['lims1'] = (102310., 102340.)\n",
    "    plotDefs[defInd]['lims2'] = (500., 750.)\n",
    "_ = bd.plot_distr([beamOutNicoPsi], plotDefs)"
   ]
  },
  {
   "cell_type": "markdown",
   "id": "f3518fd3-628f-439d-9921-4c338efb594f",
   "metadata": {},
   "source": [
    "# Distribution at Injector Start (Input Yongke's Tool)"
   ]
  },
  {
   "cell_type": "code",
   "execution_count": null,
   "id": "30835f38-06a4-4d54-95af-247ba9e8f66d",
   "metadata": {},
   "outputs": [],
   "source": [
    "DISTR_PATH = '/home/tia/Repos/GIT_PSIPositronProduction/RFTrack/YongkeTool/input/HTS_5coils_CLIC_Lband.dat'\n",
    "SOURCE_FORMAT = 'rftrackOctaveSingleMatrix'\n",
    "RFTRACK_FORMAT = 'rftrack_xp_t'\n",
    "beamAfterAmdClicYongke, _ = bd.convert_rftrack_to_standard_df(\n",
    "    sourceFilePath=DISTR_PATH, sourceFormat=SOURCE_FORMAT, rftrackDfFormat=RFTRACK_FORMAT,\n",
    "    s=np.nan, pdgId=-11\n",
    ")\n",
    "# TODO: Ask exact value to Yongke\n",
    "beamAfterAmdClicYongke['z'] = beamAfterAmdClicYongke.loc[0, 't'] * bd.C / 1e6   # [mm]"
   ]
  },
  {
   "cell_type": "code",
   "execution_count": null,
   "id": "f1024499-abe2-4208-9de7-f488e1194337",
   "metadata": {
    "tags": []
   },
   "outputs": [],
   "source": [
    "plotDefs = bd.set_plot_defs_from_distrs([beamAfterAmdClicYongke], setName='angles-t')\n",
    "# for defInd in [3, 4]:\n",
    "#     # plotDefs[defInd]['lims1'] = (102310., 102340.)\n",
    "#     plotDefs[defInd]['lims2'] = (500., 750.)\n",
    "_ = bd.plot_distr([beamAfterAmdClicYongke], plotDefs)"
   ]
  },
  {
   "cell_type": "code",
   "execution_count": null,
   "id": "5040d51e-8b8f-44ae-96d2-22562a3ae926",
   "metadata": {},
   "outputs": [],
   "source": [
    "DISTR_PATH = '/home/tia/Repos/GIT_PSIPositronProduction/RFTrack/YongkeTool/input/HTS_5coils_PSI_Sband.dat'\n",
    "SOURCE_FORMAT = 'rftrackOctaveSingleMatrix'\n",
    "RFTRACK_FORMAT = 'rftrack_xp_t'\n",
    "beamAfterAmdPsiYongke, _ = bd.convert_rftrack_to_standard_df(\n",
    "    sourceFilePath=DISTR_PATH, sourceFormat=SOURCE_FORMAT, rftrackDfFormat=RFTRACK_FORMAT,\n",
    "    s=np.nan, pdgId=-11\n",
    ")\n",
    "# TODO: Ask exact value to Yongke\n",
    "beamAfterAmdPsiYongke['z'] = beamAfterAmdPsiYongke.loc[0, 't'] * bd.C / 1e6   # [mm]"
   ]
  },
  {
   "cell_type": "code",
   "execution_count": null,
   "id": "b9193325-6060-456e-bd11-edd5a15fe416",
   "metadata": {},
   "outputs": [],
   "source": [
    "plotDefs = bd.set_plot_defs_from_distrs([beamAfterAmdPsiYongke], setName='angles-t')\n",
    "# for defInd in [3, 4]:\n",
    "#     # plotDefs[defInd]['lims1'] = (102310., 102340.)\n",
    "#     plotDefs[defInd]['lims2'] = (500., 750.)\n",
    "_ = bd.plot_distr([beamAfterAmdPsiYongke], plotDefs)"
   ]
  },
  {
   "cell_type": "code",
   "execution_count": null,
   "id": "2cfee19b-a1bb-4b7d-9743-8eaeaf0cc16a",
   "metadata": {},
   "outputs": [],
   "source": [
    "distrList = [beamAfterAmdClicYongke, beamAfterAmdPsiYongke]\n",
    "labelList = ['Yongke, CLIC', 'Yongke, PSI']\n",
    "# tOffsetList = [62.867, 58.731, 46.169, 46.364]\n",
    "# pzOffsetList = [185., 224., 213., 203.]\n",
    "# distrOffsetList = []\n",
    "# selectedDistrs = [0, 1]\n",
    "# for distr, tOffset, pzOffset in [list(zip(distrList, tOffsetList, pzOffsetList))[sel] for sel in selectedDistrs]:\n",
    "#     tmpDistr = distr.copy()\n",
    "#     tmpDistr['t'] = tmpDistr['t'] - tOffset\n",
    "#     tmpDistr['pz'] = tmpDistr['pz'] - pzOffset\n",
    "#     distrOffsetList.append(tmpDistr)"
   ]
  },
  {
   "cell_type": "code",
   "execution_count": null,
   "id": "e1a02e9e-0500-4430-9c59-d3eb078f120e",
   "metadata": {
    "tags": []
   },
   "outputs": [],
   "source": [
    "# labelList = [labelList[sel] for sel in selectedDistrs]\n",
    "plotDefs = bd.set_plot_defs_from_distrs(distrList, setName='angles-t')\n",
    "_ = bd.plot_distr(distrList, plotDefs, legendLabels=labelList)"
   ]
  },
  {
   "cell_type": "markdown",
   "id": "8c2e2f67",
   "metadata": {},
   "source": [
    "<div class=\"alert alert-block alert-success\">\n",
    "Some good news.\n",
    "</div>"
   ]
  },
  {
   "cell_type": "markdown",
   "id": "eb6ca689",
   "metadata": {},
   "source": [
    "<div class=\"alert alert-block alert-warning\">\n",
    "Some warning.\n",
    "</div>"
   ]
  },
  {
   "cell_type": "markdown",
   "id": "4111ea5b",
   "metadata": {},
   "source": [
    "<div class=\"alert alert-block alert-danger\">\n",
    "Some danger.\n",
    "</div>"
   ]
  },
  {
   "cell_type": "code",
   "execution_count": null,
   "id": "2f2e637d",
   "metadata": {},
   "outputs": [],
   "source": []
  }
 ],
 "metadata": {
  "kernelspec": {
   "display_name": "Python 3 (ipykernel)",
   "language": "python",
   "name": "python3"
  },
  "language_info": {
   "codemirror_mode": {
    "name": "ipython",
    "version": 3
   },
   "file_extension": ".py",
   "mimetype": "text/x-python",
   "name": "python",
   "nbconvert_exporter": "python",
   "pygments_lexer": "ipython3",
   "version": "3.10.5"
  },
  "toc": {
   "base_numbering": 1,
   "nav_menu": {},
   "number_sections": true,
   "sideBar": true,
   "skip_h1_title": true,
   "title_cell": "Table of Contents",
   "title_sidebar": "Contents",
   "toc_cell": true,
   "toc_position": {},
   "toc_section_display": true,
   "toc_window_display": false
  },
  "toc-showcode": false
 },
 "nbformat": 4,
 "nbformat_minor": 5
}
