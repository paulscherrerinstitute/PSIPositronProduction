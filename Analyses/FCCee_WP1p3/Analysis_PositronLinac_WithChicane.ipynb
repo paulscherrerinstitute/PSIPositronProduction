{
 "cells": [
  {
   "cell_type": "code",
   "execution_count": null,
   "id": "11e4893f",
   "metadata": {
    "tags": []
   },
   "outputs": [],
   "source": [
    "import os\n",
    "import numpy as np\n",
    "import pandas as pd\n",
    "import matplotlib\n",
    "import matplotlib.pyplot as plt\n",
    "import BeamDynamics as bd\n",
    "import SimulationData as sd\n",
    "import RFTrackTools as rfttools\n",
    "import copy\n",
    "import json"
   ]
  },
  {
   "cell_type": "code",
   "execution_count": null,
   "id": "8e4c4dd0",
   "metadata": {},
   "outputs": [],
   "source": [
    "# %matplotlib inline\n",
    "# %matplotlib notebook\n",
    "%matplotlib widget\n",
    "plt.rcParams['figure.figsize'] = [9.6, 6.4]\n",
    "defaultColorCycle = plt.rcParams[\"axes.prop_cycle\"].by_key()['color']\n",
    "# plotFont = {\n",
    "#     'family' : 'sans-serif',\n",
    "#     'weight' : 'normal',\n",
    "#     'size'   : 12\n",
    "# }\n",
    "# matplotlib.rc('font', **plotFont)\n",
    "# plt.rc('legend', fontsize=10)"
   ]
  },
  {
   "cell_type": "markdown",
   "id": "39f9e228",
   "metadata": {},
   "source": [
    "# RF-Track, Positron Linac Layout 2 with Chicane (Baseline V0)\n",
    "\n",
    "Linac Layout 2 = Solenoids Up To 735 MeV + Conventional FODO Up To Damping Ring (1.54 GeV)"
   ]
  },
  {
   "cell_type": "markdown",
   "id": "d7044306-1d01-40fd-92d2-b85e77e8e975",
   "metadata": {},
   "source": [
    "## Positrons / Electrons Distributions"
   ]
  },
  {
   "cell_type": "code",
   "execution_count": null,
   "id": "36c530d4-5f3a-414b-a2c3-ce0064319d0f",
   "metadata": {
    "tags": []
   },
   "outputs": [],
   "source": [
    "totPositronsTargetExit = 140862\n",
    "totElectronsTargetExit = 172016"
   ]
  },
  {
   "cell_type": "markdown",
   "id": "85d66c48-edb7-4775-8da7-e3da7284781b",
   "metadata": {
    "tags": []
   },
   "source": [
    "### Intermediate Distribution After 3 RF Structures\n",
    "\n",
    "Check cut of secondary bunches with pz lower limit."
   ]
  },
  {
   "cell_type": "code",
   "execution_count": null,
   "id": "581dd58f-c759-4a07-88ad-5968a4491a5a",
   "metadata": {},
   "outputs": [],
   "source": [
    "DISTR_REL_PATH = '../../Data/RFTrack/Baseline_V0/PositronLinac_Chicane2m_After5RFStructs_14RFStructs_Positrons/DistrOut_Forward_After1stTracking_6dT.sdf_txt'\n",
    "beamAfter3RF = bd.load_standard_fwf(DISTR_REL_PATH)\n",
    "beamAfter3RF.describe()"
   ]
  },
  {
   "cell_type": "code",
   "execution_count": null,
   "id": "13f27c83-2dc8-46e5-bef4-2e1a52014157",
   "metadata": {},
   "outputs": [],
   "source": [
    "plotSets = ['TransvPlane', 'TransvPsAngles', 'LongPsZ', 'r-pz']\n",
    "distrList = [beamAfter3RF]\n",
    "plotDefs = bd.set_plot_defs_from_distrs(distrList, setNames=plotSets)\n",
    "_ = bd.plot_distr(distrList, plotDefs)"
   ]
  },
  {
   "cell_type": "markdown",
   "id": "3db2db32-7db0-460c-b9ee-3a03c6cc7540",
   "metadata": {
    "tags": []
   },
   "source": [
    "### At Chicane Center (After 5 RF Structures)"
   ]
  },
  {
   "cell_type": "code",
   "execution_count": null,
   "id": "b7524b40-d9a6-4d3f-9e74-dcb0ac39e251",
   "metadata": {},
   "outputs": [],
   "source": [
    "DISTR_REL_PATH = '../../Data/RFTrack/Baseline_V0/PositronLinac_Chicane2m_After5RFStructs_ChicaneCenter_Positrons_Downsampled5/DistrOut_After2ndTracking_6d.sdf_txt'\n",
    "beamChicaneIn = bd.load_standard_fwf(DISTR_REL_PATH)\n",
    "beamChicaneIn.describe()"
   ]
  },
  {
   "cell_type": "code",
   "execution_count": null,
   "id": "4fafd303-e4f6-47f6-ae7a-865d78e5df5d",
   "metadata": {
    "tags": []
   },
   "outputs": [],
   "source": [
    "DISTR_REL_PATH = '../../Data/RFTrack/Baseline_V0/PositronLinac_Chicane2m_After5RFStructs_ChicaneCenter_Electrons_Downsampled5/DistrOut_After2ndTracking_6d.sdf_txt'\n",
    "beamElChicaneIn = bd.load_standard_fwf(DISTR_REL_PATH)\n",
    "beamElChicaneIn.describe()"
   ]
  },
  {
   "cell_type": "code",
   "execution_count": null,
   "id": "1d704056-1b86-43ee-9bae-31c8dd5dbe77",
   "metadata": {},
   "outputs": [],
   "source": [
    "plotSets = ['TransvPlane', 'TransvPsAngles', 'LongPsT', 'x-pz']\n",
    "distrList = [beamElChicaneIn, beamChicaneIn]\n",
    "plotDefs = bd.set_plot_defs_from_distrs(distrList, setNames=plotSets)\n",
    "_ = bd.plot_distr(distrList, plotDefs)"
   ]
  },
  {
   "cell_type": "markdown",
   "id": "489d3928-5339-4c0a-aa1b-1e4c3878ab79",
   "metadata": {
    "tags": []
   },
   "source": [
    "### At End of Solenoids' Section (After 14 RF Structures)"
   ]
  },
  {
   "cell_type": "code",
   "execution_count": null,
   "id": "137adfee-1dac-48b8-99a8-71e97b49b93d",
   "metadata": {},
   "outputs": [],
   "source": [
    "DISTR_REL_PATH_END_SOL_SECT = '../../Data/RFTrack/Baseline_V0/PositronLinac_Chicane2m_After5RFStructs_14RFStructs_Positrons/DistrOut_After2ndTracking_6d.sdf_txt'\n",
    "beamEndSolSection = bd.load_standard_fwf(DISTR_REL_PATH_END_SOL_SECT)\n",
    "beamEndSolSection.describe()"
   ]
  },
  {
   "cell_type": "code",
   "execution_count": null,
   "id": "c6516ffb-dd34-4104-8850-27654b57621d",
   "metadata": {
    "tags": []
   },
   "outputs": [],
   "source": [
    "plotSets = ['TransvPlane', 'TransvPsAngles', 'LongPsT', 'r-pz']\n",
    "distrList = [beamEndSolSection]\n",
    "plotDefs = bd.set_plot_defs_from_distrs(distrList, setNames=plotSets)\n",
    "rMaxPlot = 30.  # [mm]\n",
    "plotDefs[0]['lims1'] = [-rMaxPlot, +rMaxPlot]\n",
    "plotDefs[0]['lims2'] = [-rMaxPlot, +rMaxPlot]\n",
    "xpypMaxPlot = 5.  # [mrad]\n",
    "plotDefs[1]['lims1'] = [-rMaxPlot, +rMaxPlot]\n",
    "plotDefs[1]['lims2'] = [-xpypMaxPlot, +xpypMaxPlot]\n",
    "plotDefs[2]['lims1'] = [-rMaxPlot, +rMaxPlot]\n",
    "plotDefs[2]['lims2'] = [-xpypMaxPlot, +xpypMaxPlot]\n",
    "tMinPlot = 162.22  # [ns]\n",
    "tWindowPlot = 0.1  # [ns]\n",
    "plotDefs[3]['lims1'] = [tMinPlot, tMinPlot+tWindowPlot]\n",
    "pzMinPlot = 300.  # [MeV/c]\n",
    "pzWindowPlot = 500.  # [Mev/c]\n",
    "plotDefs[3]['lims2'] = [pzMinPlot, pzMinPlot+pzWindowPlot]\n",
    "rMaxPlot = 30.\n",
    "plotDefs[5]['lims1'] = [0, rMaxPlot]\n",
    "plotDefs[5]['lims2'] = [pzMinPlot, pzMinPlot+pzWindowPlot]\n",
    "_ = bd.plot_distr(distrList, plotDefs)"
   ]
  },
  {
   "cell_type": "markdown",
   "id": "54baa66a-e4be-47a4-9bc2-a4cd94cdc903",
   "metadata": {
    "tags": []
   },
   "source": [
    "### At Linac End (After 28 RF Structures)"
   ]
  },
  {
   "cell_type": "code",
   "execution_count": null,
   "id": "09c98cb6-0154-4cc7-bfa4-2c11a7d8caee",
   "metadata": {},
   "outputs": [],
   "source": [
    "DISTR_REL_PATH_END = '../../Data/RFTrack/Baseline_V0/PositronLinac_Chicane2m_After5RFStructs_LinacEnd_Positrons/DistrOut_6d.sdf_txt'\n",
    "beamEnd = bd.load_standard_fwf(DISTR_REL_PATH_END)\n",
    "beamEnd = bd.use_filter_specs_selector(beamEnd, DISTR_REL_PATH_END, 'MainBunch')\n",
    "beamEnd.describe()"
   ]
  },
  {
   "cell_type": "code",
   "execution_count": null,
   "id": "8092f0da-6572-4338-8c0c-c8ca6f9c3d5e",
   "metadata": {
    "tags": []
   },
   "outputs": [],
   "source": [
    "plotSets = ['TransvPlane', 'TransvPsAngles', 'LongPsT', 'r-pz']\n",
    "distrList = [beamEnd]\n",
    "plotDefs = bd.set_plot_defs_from_distrs(distrList, setNames=plotSets)\n",
    "rMaxPlot = 30.  # [mm]\n",
    "plotDefs[0]['lims1'] = [-rMaxPlot, +rMaxPlot]\n",
    "plotDefs[0]['lims2'] = [-rMaxPlot, +rMaxPlot]\n",
    "xpypMaxPlot = 5.  # [mrad]\n",
    "plotDefs[1]['lims1'] = [-rMaxPlot, +rMaxPlot]\n",
    "plotDefs[1]['lims2'] = [-xpypMaxPlot, +xpypMaxPlot]\n",
    "plotDefs[2]['lims1'] = [-rMaxPlot, +rMaxPlot]\n",
    "plotDefs[2]['lims2'] = [-xpypMaxPlot, +xpypMaxPlot]\n",
    "tMinPlot = 410.64  # [ns]\n",
    "tWindowPlot = 0.1  # [ns]\n",
    "plotDefs[3]['lims1'] = [tMinPlot, tMinPlot+tWindowPlot]\n",
    "pzMinPlot = 1400.  # [MeV/c]\n",
    "pzWindowPlot = 200.  # [Mev/c]\n",
    "plotDefs[3]['lims2'] = [pzMinPlot, pzMinPlot+pzWindowPlot]\n",
    "rMaxPlot = 30.\n",
    "plotDefs[5]['lims1'] = [0, rMaxPlot]\n",
    "plotDefs[5]['lims2'] = [pzMinPlot, pzMinPlot+pzWindowPlot]\n",
    "_ = bd.plot_distr(distrList, plotDefs)"
   ]
  },
  {
   "cell_type": "markdown",
   "id": "11d22870-2236-4494-9b1b-a54209bf2e36",
   "metadata": {},
   "source": [
    "## Positrons / Electrons Transport"
   ]
  },
  {
   "cell_type": "code",
   "execution_count": null,
   "id": "d3730cb5-21ea-431d-957f-a16b1f412485",
   "metadata": {
    "tags": []
   },
   "outputs": [],
   "source": [
    "SIM_REL_PATH_POS_1 = '../../Data/RFTrack/Baseline_V0/PositronLinac_Chicane2m_After5RFStructs_14RFStructs_Positrons'\n",
    "normFactorCaptureEffPos1b = 89722 / (totPositronsTargetExit)\n",
    "SIM_REL_PATH_POS_2 = '../../Data/RFTrack/Baseline_V0/PositronLinac_Chicane2m_After5RFStructs_LinacEnd_Positrons'\n",
    "normFactorCaptureEffPos2b = 76081 / (totPositronsTargetExit)\n",
    "SIM_REL_PATH_EL = '../../Data/RFTrack/Baseline_V0/PositronLinac_Chicane2m_After5RFStructs_8RFStructs_Electrons'\n",
    "normFactorCaptureEffEl1b = 107120 / (totElectronsTargetExit)"
   ]
  },
  {
   "cell_type": "markdown",
   "id": "b9595a4c-bd1c-447a-8c0f-acc0ec9a2f6e",
   "metadata": {},
   "source": [
    "### Chicane Section"
   ]
  },
  {
   "cell_type": "code",
   "execution_count": null,
   "id": "393dd2a2-b852-45ed-91e9-e0343fbf73d5",
   "metadata": {
    "tags": []
   },
   "outputs": [],
   "source": [
    "quantitiesToPlot = ['Bz', 'By', 'mean_E', 'CaptureEfficiency']\n",
    "lineStyles = ['-', '--', '-', '--']\n",
    "fig1, ax1l = plt.subplots(2, 1, figsize=(10.5, 5.5))\n",
    "ax1r = []\n",
    "for ax in ax1l:\n",
    "    ax1r.append(ax.twinx())\n",
    "ax1 = [None] * (len(ax1l) + len(ax1r))\n",
    "ax1[::2] = ax1l\n",
    "ax1[1::2] = ax1r\n",
    "rfttools.load_plot_transport(\n",
    "    ax1, SIM_REL_PATH_POS_1, fileSuffix='1', quantitiesToPlot=quantitiesToPlot, lineStyles=lineStyles, colors=defaultColorCycle[1])\n",
    "rfttools.load_plot_transport(\n",
    "    ax1, SIM_REL_PATH_POS_1, fileSuffix='2', quantitiesToPlot=quantitiesToPlot, lineStyles=lineStyles, colors=defaultColorCycle[1],\n",
    "    normFactorCaptureEff=normFactorCaptureEffPos1b)\n",
    "rfttools.load_plot_transport(\n",
    "    ax1, SIM_REL_PATH_EL, fileSuffix='1', quantitiesToPlot=quantitiesToPlot, lineStyles=lineStyles, colors=defaultColorCycle[0],\n",
    "    cutAtInversionOfS=True)\n",
    "rfttools.load_plot_transport(\n",
    "    ax1, SIM_REL_PATH_EL, fileSuffix='2', quantitiesToPlot=quantitiesToPlot, lineStyles=lineStyles, colors=defaultColorCycle[0],\n",
    "    normFactorCaptureEff=normFactorCaptureEffEl1b, cutAtInversionOfS=True)\n",
    "#\n",
    "# For zoom\n",
    "# ax1[0].set_xlim([15.5, 19.5])\n",
    "# ax1[2].set_xlim([15.5, 19.5])\n",
    "#\n",
    "ax1[0].set_ylim([0., 0.6])\n",
    "ax1[1].set_ylim([-0.3, 0.3])\n",
    "ax1[2].set_ylim([0., 1000.])\n",
    "ax1[-2].set_xlabel('s [m]')\n",
    "_ = ax1[2].legend(['Positrons', '_nolegend_', 'Electrons', '_nolegend_'])"
   ]
  },
  {
   "cell_type": "markdown",
   "id": "2babaf5a-a254-4699-80e4-4eecd367cedb",
   "metadata": {},
   "source": [
    "### Solenoids' Section"
   ]
  },
  {
   "cell_type": "code",
   "execution_count": null,
   "id": "f707df80-c20a-4b31-9b34-4e5aa8594943",
   "metadata": {
    "tags": []
   },
   "outputs": [],
   "source": [
    "quantitiesToPlot = ['BeamPosition', 'Sigmas', 'Emittances']\n",
    "lineStyles = '-'\n",
    "fig1, ax1 = plt.subplots(3, 1, figsize=(10.5, 5.5))\n",
    "rfttools.load_plot_transport(\n",
    "    ax1, SIM_REL_PATH_POS_1, fileSuffix='1', quantitiesToPlot=quantitiesToPlot, lineStyles=lineStyles, colors=defaultColorCycle[1])\n",
    "rfttools.load_plot_transport(\n",
    "    ax1, SIM_REL_PATH_POS_1, fileSuffix='2', quantitiesToPlot=quantitiesToPlot, lineStyles=lineStyles, colors=defaultColorCycle[1],\n",
    "    normFactorCaptureEff=normFactorCaptureEffPos1b)\n",
    "rfttools.load_plot_transport(\n",
    "    ax1, SIM_REL_PATH_EL, fileSuffix='1', quantitiesToPlot=quantitiesToPlot, lineStyles=lineStyles, colors=defaultColorCycle[0],\n",
    "    cutAtInversionOfS=True)\n",
    "rfttools.load_plot_transport(\n",
    "    ax1, SIM_REL_PATH_EL, fileSuffix='2', quantitiesToPlot=quantitiesToPlot, lineStyles=lineStyles, colors=defaultColorCycle[0],\n",
    "    normFactorCaptureEff=normFactorCaptureEffEl1b, cutAtInversionOfS=True)\n",
    "ax1[0].set_ylim([-30., 30.])\n",
    "ax1[1].set_ylim([0., 30.])\n",
    "_ = ax1[-2].set_xlabel('s [m]')"
   ]
  },
  {
   "cell_type": "markdown",
   "id": "e6aed461-5748-4694-8b2b-ee220afe2039",
   "metadata": {},
   "source": [
    "### Quadrupoles' Section"
   ]
  },
  {
   "cell_type": "code",
   "execution_count": null,
   "id": "69d07e9e-8161-4c2e-8ece-4f8ac31735da",
   "metadata": {
    "tags": []
   },
   "outputs": [],
   "source": [
    "quantitiesToPlot = ['mean_E', 'CaptureEfficiency', 'Sigmas', None, 'TwissBetas', None]\n",
    "lineStyles = ['-', '--', '-', None, '-', None]\n",
    "fig1, ax1l = plt.subplots(3, 1, figsize=(10.5, 5.5))\n",
    "ax1r = []\n",
    "for ax in ax1l:\n",
    "    ax1r.append(ax.twinx())\n",
    "ax1 = [None] * (len(ax1l) + len(ax1r))\n",
    "ax1[::2] = ax1l\n",
    "ax1[1::2] = ax1r\n",
    "rfttools.load_plot_transport(\n",
    "    ax1, SIM_REL_PATH_POS_2, quantitiesToPlot=quantitiesToPlot, lineStyles=lineStyles, colors=defaultColorCycle[1],\n",
    "    normFactorCaptureEff=normFactorCaptureEffPos2b)\n",
    "ax1[0].set_ylim([700., 1700.])\n",
    "ax1[0].set_yticks([700., 900., 1100., 1300., 1500., 1700.])\n",
    "ax1[1].set_ylim([0.5, 0.55])\n",
    "ax1[1].set_yticks(np.arange(0.5, 0.551, 0.01))\n",
    "ax1[2].set_ylim([0., 15.])\n",
    "ax1[4].set_ylim([0., 20.])\n",
    "_ = ax1[-2].set_xlabel('s [m]')"
   ]
  },
  {
   "cell_type": "markdown",
   "id": "ae8e2ac5-88c8-432b-8e36-4f429b321710",
   "metadata": {},
   "source": [
    "## Compute Parameters for Design with Elegant"
   ]
  },
  {
   "cell_type": "code",
   "execution_count": null,
   "id": "6cb65ed7-c096-416f-aa6b-2813da4652b4",
   "metadata": {
    "tags": []
   },
   "outputs": [],
   "source": [
    "filterSpecsMainBunch = bd.get_json_entry(os.path.splitext(DISTR_REL_PATH_END_SOL_SECT)[0], 'MainBunch', 'filterSpecs')"
   ]
  },
  {
   "cell_type": "markdown",
   "id": "2b2235a2-7b9e-4e1c-88fd-077aa6330771",
   "metadata": {},
   "source": [
    "### FODO Design"
   ]
  },
  {
   "cell_type": "code",
   "execution_count": null,
   "id": "64550adb-738f-489c-a5e1-90b50978f497",
   "metadata": {
    "tags": []
   },
   "outputs": [],
   "source": [
    "emitnX = bd.compute_emittance(beamEndSolSection, 'x', filterSpecs=filterSpecsMainBunch)\n",
    "print('emitnX = {:.2f} mm mrad'.format(emitnX))\n",
    "emitnY = bd.compute_emittance(beamEndSolSection, 'y', filterSpecs=filterSpecsMainBunch)\n",
    "print('emitnY = {:.2f} mm mrad'.format(emitnY))"
   ]
  },
  {
   "cell_type": "markdown",
   "id": "f4a8e649-94ef-4f11-95bd-ddf02644c3ff",
   "metadata": {},
   "source": [
    "### Matching Section Design"
   ]
  },
  {
   "cell_type": "code",
   "execution_count": null,
   "id": "0c83f7e9-6010-46e9-9b9a-5999728ae5da",
   "metadata": {
    "tags": []
   },
   "outputs": [],
   "source": [
    "alphaTwissX, betaTwissX, gammaTwissX = bd.compute_twiss(beamEndSolSection, 'x', filterSpecs=filterSpecsMainBunch)\n",
    "print('alphaTwissX = {:.6f}, betaTwissX = {:.6f} m, gammaTwissX = {:.6} 1/m'.format(alphaTwissX, betaTwissX, gammaTwissX))\n",
    "alphaTwissY, betaTwissY, gammaTwissY = bd.compute_twiss(beamEndSolSection, 'y', filterSpecs=filterSpecsMainBunch)\n",
    "print('alphaTwissY = {:.6f}, betaTwissY = {:.6f} m, gammaTwissY = {:.6} 1/m'.format(alphaTwissY, betaTwissY, gammaTwissY))"
   ]
  },
  {
   "cell_type": "code",
   "execution_count": null,
   "id": "e7746d1f-4e31-42af-a3ca-1009575848d3",
   "metadata": {
    "tags": []
   },
   "outputs": [],
   "source": [
    "mainBunchEndSolSection = bd.filter_distr(beamEndSolSection, filterSpecsMainBunch)\n",
    "bd.convert_standard_df_to_sdds(standardDf=mainBunchEndSolSection, outFilePath=os.path.splitext(DISTR_REL_PATH_END_SOL_SECT)[0])"
   ]
  },
  {
   "cell_type": "markdown",
   "id": "3abedde0-4e90-418a-9cae-b1c1f741392f",
   "metadata": {},
   "source": [
    "## Yield at Damping Ring"
   ]
  },
  {
   "cell_type": "code",
   "execution_count": null,
   "id": "53b97146-c2bf-45c3-bdf3-8de73c4167df",
   "metadata": {},
   "outputs": [],
   "source": [
    "totElectronsDriveBeam = 1e4\n",
    "pzWindowCenter = 1535.  # [MeV/c]\n",
    "pzWindowAmplitude = 0.038\n",
    "drAcceptance = {\n",
    "    \"pz\": [pzWindowCenter*(1-pzWindowAmplitude), pzWindowCenter*(1+pzWindowAmplitude)]\n",
    "}\n",
    "beamAccepted = bd.filter_distr(beamEnd, drAcceptance)\n",
    "print('Positron yield at damping ring = {:.2f}'.format(beamAccepted.shape[0]/totElectronsDriveBeam))"
   ]
  },
  {
   "cell_type": "code",
   "execution_count": null,
   "id": "c5f3eccc-f303-4ae6-8933-d77870ea4df0",
   "metadata": {
    "tags": []
   },
   "outputs": [],
   "source": [
    "plotSets = ['TransvPlane', 'TransvPsAngles', 'LongPsT']\n",
    "distrList = [beamEnd, beamAccepted]\n",
    "plotDefs = bd.set_plot_defs_from_distrs(distrList, setNames=plotSets)\n",
    "tMinPlot = 410.64  # [ns]\n",
    "tWindowPlot = 0.1  # [ns]\n",
    "plotDefs[3]['lims1'] = [tMinPlot, tMinPlot+tWindowPlot]\n",
    "pzMinPlot = 1100.  # [MeV/c]\n",
    "pzWindowPlot = 500.  # [MeV/c]\n",
    "plotDefs[3]['lims2'] = [pzMinPlot, pzMinPlot+pzWindowPlot]\n",
    "_ = bd.plot_distr(distrList, plotDefs)"
   ]
  },
  {
   "cell_type": "markdown",
   "id": "8c2e2f67",
   "metadata": {},
   "source": [
    "<div class=\"alert alert-block alert-success\">\n",
    "Some good news.\n",
    "</div>"
   ]
  },
  {
   "cell_type": "markdown",
   "id": "eb6ca689",
   "metadata": {},
   "source": [
    "<div class=\"alert alert-block alert-warning\">\n",
    "Some warning.\n",
    "</div>"
   ]
  },
  {
   "cell_type": "markdown",
   "id": "4111ea5b",
   "metadata": {},
   "source": [
    "<div class=\"alert alert-block alert-danger\">\n",
    "Some danger.\n",
    "</div>"
   ]
  }
 ],
 "metadata": {
  "kernelspec": {
   "display_name": "Python 3 (ipykernel)",
   "language": "python",
   "name": "python3"
  },
  "language_info": {
   "codemirror_mode": {
    "name": "ipython",
    "version": 3
   },
   "file_extension": ".py",
   "mimetype": "text/x-python",
   "name": "python",
   "nbconvert_exporter": "python",
   "pygments_lexer": "ipython3",
   "version": "3.10.10"
  },
  "toc": {
   "base_numbering": 1,
   "nav_menu": {},
   "number_sections": true,
   "sideBar": true,
   "skip_h1_title": true,
   "title_cell": "Table of Contents",
   "title_sidebar": "Contents",
   "toc_cell": true,
   "toc_position": {},
   "toc_section_display": true,
   "toc_window_display": false
  },
  "toc-autonumbering": false,
  "toc-showcode": false,
  "toc-showmarkdowntxt": false
 },
 "nbformat": 4,
 "nbformat_minor": 5
}
