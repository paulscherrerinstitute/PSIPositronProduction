{
 "cells": [
  {
   "cell_type": "code",
   "execution_count": null,
   "id": "11e4893f",
   "metadata": {},
   "outputs": [],
   "source": [
    "import os\n",
    "import numpy as np\n",
    "import pandas as pd\n",
    "import matplotlib\n",
    "import matplotlib.pyplot as plt\n",
    "import BeamDynamics as bd\n",
    "import SimulationData as sd\n",
    "import RFTrackTools as rfttools\n",
    "import copy\n",
    "import json"
   ]
  },
  {
   "cell_type": "code",
   "execution_count": null,
   "id": "eaf8d117",
   "metadata": {},
   "outputs": [],
   "source": [
    "from importlib import reload\n",
    "reload(bd)\n",
    "reload(rfttools)"
   ]
  },
  {
   "cell_type": "code",
   "execution_count": null,
   "id": "8e4c4dd0",
   "metadata": {},
   "outputs": [],
   "source": [
    "# %matplotlib inline\n",
    "# %matplotlib notebook\n",
    "%matplotlib widget\n",
    "plt.rcParams['figure.figsize'] = [9.6, 6.4]\n",
    "defaultColorCycle = plt.rcParams[\"axes.prop_cycle\"].by_key()['color']\n",
    "# plotFont = {\n",
    "#     'family' : 'sans-serif',\n",
    "#     'weight' : 'normal',\n",
    "#     'size'   : 12\n",
    "# }\n",
    "# matplotlib.rc('font', **plotFont)\n",
    "# plt.rc('legend', fontsize=10)"
   ]
  },
  {
   "cell_type": "markdown",
   "id": "39f9e228",
   "metadata": {},
   "source": [
    "# Transverse Emittance Analisys"
   ]
  },
  {
   "cell_type": "markdown",
   "id": "7e90f8c0-bd34-4a59-8622-56630a3222cc",
   "metadata": {},
   "source": [
    "## Distribution at Target Exit"
   ]
  },
  {
   "cell_type": "code",
   "execution_count": null,
   "id": "765e1d56-d386-4cf5-9654-636a6d558b2c",
   "metadata": {},
   "outputs": [],
   "source": [
    "DISTR_REL_PATH = '../../Data/Geant4/Pcubed/P3dist_baseline_p.ini'\n",
    "targetDistr, _ = bd.convert_astra_to_standard_df(DISTR_REL_PATH, delim_whitespace=False, filterSpecsSelector=None, zProjection=None)\n",
    "targetDistr.describe()"
   ]
  },
  {
   "cell_type": "code",
   "execution_count": null,
   "id": "8e95b345-76ab-44de-9fd6-3bb24b51db5c",
   "metadata": {
    "tags": []
   },
   "outputs": [],
   "source": [
    "plotSets = ['TransvPlane', 'TransvPsAngles', 'TransvPsMomenta', 'LongPsT']\n",
    "plotDefs = bd.set_plot_defs_from_distrs([targetDistr], setNames=plotSets)\n",
    "plotDefs[6]['lims2'] = [0., 100.]\n",
    "_ = bd.plot_distr([targetDistr], plotDefs)"
   ]
  },
  {
   "cell_type": "markdown",
   "id": "aa0a79f8-66e0-4d7c-a093-f13faf5d7c28",
   "metadata": {},
   "source": [
    "## Overall Emittance"
   ]
  },
  {
   "cell_type": "code",
   "execution_count": null,
   "id": "9852f66d-7c4c-4f9e-9ef8-b13330f0f887",
   "metadata": {},
   "outputs": [],
   "source": [
    "emitn = {}\n",
    "emitGeom = {}\n",
    "emitTraceSpace = {}\n",
    "alphaTwiss = {}\n",
    "betaTwiss = {}\n",
    "gammaTwiss = {}\n",
    "for planeName in ('x', 'y'):\n",
    "    emitn[planeName] = bd.compute_emittance(targetDistr, planeName, norm='normalized')\n",
    "    emitGeom[planeName] = bd.compute_emittance(targetDistr, planeName, norm='geometric')\n",
    "    emitTraceSpace[planeName] = bd.compute_emittance(targetDistr, planeName, norm='tracespace')\n",
    "    alphaTwiss[planeName], betaTwiss[planeName], gammaTwiss[planeName] = bd.compute_twiss(targetDistr, planeName)\n",
    "    print(\n",
    "        'emitn_{0:s} = {1:.1f} pi mm mrad, emitGeom_{0:s} = {2:.1f} pi mm mrad, emitTraceSpace_{0:s} = {3:.1f} pi mm mrad.'.format(\n",
    "            planeName, emitn[planeName], emitGeom[planeName], emitTraceSpace[planeName]))\n",
    "    print(\n",
    "        'alphaTwiss_{0:s} = {1:.3f}, betaTwiss_{0:s} = {2:.3f} mm, gammaTwiss_{0:s} = {3:.3f} 1/mm.'.format(\n",
    "            planeName, alphaTwiss[planeName], betaTwiss[planeName], gammaTwiss[planeName]))"
   ]
  },
  {
   "cell_type": "code",
   "execution_count": null,
   "id": "38fc114b-d170-4ee6-84d0-096014baba34",
   "metadata": {},
   "outputs": [],
   "source": [
    "emitRef = emitTraceSpace['x']"
   ]
  },
  {
   "cell_type": "markdown",
   "id": "801224e6-a190-4477-868a-a21b3c6ec3e8",
   "metadata": {},
   "source": [
    "## Transverse Emittance Vs. Bunch Portion"
   ]
  },
  {
   "cell_type": "markdown",
   "id": "f95416df-74cc-45ca-9275-07f52d535243",
   "metadata": {},
   "source": [
    "### Values vs. 1D (?) Gaussian Distribution (To Be Revised)"
   ]
  },
  {
   "cell_type": "code",
   "execution_count": null,
   "id": "ac485268-688b-4d74-9a0f-6561d01f43b1",
   "metadata": {},
   "outputs": [],
   "source": [
    "gaussianPortions = {1: 0.6827, 2: 0.9545, 3: 0.9973, 4: 0.999937, 6: 0.99999998}\n",
    "ellipseSpecs = {\n",
    "    'x': {'alphaTwiss': alphaTwiss['x'], 'betaTwiss': betaTwiss['x']},\n",
    "    'y': {'alphaTwiss': alphaTwiss['y'], 'betaTwiss': betaTwiss['y']}}\n",
    "for planes in (['x'], ['x', 'y']):\n",
    "    print('\\nFiltering on {:d} planes:'.format(len(planes)))\n",
    "    for Fa in (1., 2., 3., 4., 6.):\n",
    "        selEllipseSpecs = {k: v for k, v in ellipseSpecs.items() if k in planes}\n",
    "        distrWithinFaSigma, portionWithinFaSigma = bd.distr_within_ellipse(targetDistr, Fa**2.*emitRef, selEllipseSpecs)\n",
    "        print(\n",
    "            'Portion within {:.1f} sigma: {:.3f} (vs. {:.3f} for Gaussian).'.format(Fa, portionWithinFaSigma, gaussianPortions[Fa]))"
   ]
  },
  {
   "cell_type": "code",
   "execution_count": null,
   "id": "309827c2-cbb7-4d54-bd2d-6e20abad446e",
   "metadata": {},
   "outputs": [],
   "source": [
    "refEllipseSpecs = {\n",
    "    'x': {'alphaTwiss': alphaTwiss['x'], 'betaTwiss': betaTwiss['x']},\n",
    "    'y': {'alphaTwiss': alphaTwiss['y'], 'betaTwiss': betaTwiss['y']}\n",
    "}\n",
    "FaList = np.arange(6., 0, -0.2)\n",
    "distrWithinRef = []\n",
    "bunchPortions = []\n",
    "emitnPortions = []\n",
    "for Fa in FaList:\n",
    "    distrWithinRef.append(bd.distr_within_ellipse(targetDistr, Fa**2.*emitRef, refEllipseSpecs)[0])\n",
    "    bunchPortions.append(distrWithinRef[-1].shape[0]/targetDistr.shape[0])\n",
    "    emitnPortions.append(bd.compute_emittance(distrWithinRef[-1], 'x', verbose=False))"
   ]
  },
  {
   "cell_type": "markdown",
   "id": "22de4f16-427f-4adb-98e9-9b4f0f10870e",
   "metadata": {},
   "source": [
    "### Emittance Vs. Bunch Portion"
   ]
  },
  {
   "cell_type": "code",
   "execution_count": null,
   "id": "b5e04901-6472-4f2f-9bb4-202c72496f47",
   "metadata": {},
   "outputs": [],
   "source": [
    "indsToAnnotate = [-5, -10, -15, -20, -25]\n",
    "fig, ax = plt.subplots()\n",
    "ax.plot(bunchPortions, emitnPortions, 'o-')\n",
    "for ind in indsToAnnotate:\n",
    "    ax.annotate(np.round(FaList[ind], 1), (bunchPortions[ind]-0.05, emitnPortions[ind]))\n",
    "ax.set_xlim([0, 1])\n",
    "ax.set_ylim([0, 14e3])\n",
    "ax.set_xlabel('Bunch portion')\n",
    "ax.set_ylabel('Norm. transv. emittance [mm mrad]')\n",
    "ax.grid()"
   ]
  },
  {
   "cell_type": "markdown",
   "id": "a8adf5d6-6d5c-436e-aaf5-663e32da04e6",
   "metadata": {},
   "source": [
    "### Bunch Portion Vs. Cut Range"
   ]
  },
  {
   "cell_type": "code",
   "execution_count": null,
   "id": "d234631c-da81-4b4e-9edc-315ab677225e",
   "metadata": {
    "tags": []
   },
   "outputs": [],
   "source": [
    "fig, ax = plt.subplots()\n",
    "ax.plot(FaList, bunchPortions, 'o-')\n",
    "ax.set_xlim([0, np.max(FaList)])\n",
    "ax.set_ylim([0, np.max(bunchPortions)])\n",
    "ax.set_xlabel('Fa of cut with Fa^2*rmsEmit ellipse')\n",
    "ax.set_ylabel('Bunch portion')\n",
    "ax.grid()"
   ]
  },
  {
   "cell_type": "markdown",
   "id": "c7b00f7c-636a-40ec-ae30-c2c80e8c4086",
   "metadata": {},
   "source": [
    "### Visualization of Filtered Distributions"
   ]
  },
  {
   "cell_type": "code",
   "execution_count": null,
   "id": "54354b97-ff78-43ee-ae98-1b6999935ff7",
   "metadata": {},
   "outputs": [],
   "source": [
    "stepsToPlot = np.arange(5*2, len(distrWithinRef), 2)\n",
    "FaListToPlot = [FaList[stepInd] for stepInd in stepsToPlot]\n",
    "plotDefs[1]['lims1'] = [-15., 15.]\n",
    "plotDefs[2]['lims1'] = plotDefs[1]['lims1']\n",
    "plotDefs[1]['displayTable'] = False\n",
    "ax = bd.plot_distr(\n",
    "    [targetDistr, *[distrWithinRef[stepInd] for stepInd in stepsToPlot]], plotDefs,\n",
    "    legendLabels=[\n",
    "        'Full bunch',\n",
    "        *['Within {:.1f} sigma'.format(Fa) for Fa in FaListToPlot]])\n",
    "for ind, Fa in enumerate(FaListToPlot):\n",
    "    bd.plot_ellipse(\n",
    "        ax[1][0,0], Fa**2.*emitRef, semiAxisOrder=1, alphaTwiss=alphaTwiss['x'], betaTwiss=betaTwiss['x'], color='k')\n",
    "    bd.plot_ellipse(\n",
    "        ax[2][0,0], Fa**2.*emitRef, semiAxisOrder=1, alphaTwiss=alphaTwiss['y'], betaTwiss=betaTwiss['y'], color='k')"
   ]
  },
  {
   "cell_type": "markdown",
   "id": "4e377cf3-afc3-4f38-a247-99ffaf020057",
   "metadata": {},
   "source": [
    "## Transverse Emittance of Different Energy Windows"
   ]
  },
  {
   "cell_type": "code",
   "execution_count": null,
   "id": "9bf74dff-06f8-457f-96b4-428ec294b097",
   "metadata": {
    "tags": []
   },
   "outputs": [],
   "source": [
    "EkinWindowEdges = np.arange(0., 500., 2.)\n",
    "particlesInWindow = []\n",
    "emitnWindows = []\n",
    "for wInd in range(len(EkinWindowEdges)-1):\n",
    "    EkinWindow = {\"Ekin\": EkinWindowEdges[wInd:wInd+2]}\n",
    "    particlesInWindow.append(bd.filter_distr(targetDistr, EkinWindow))\n",
    "    emitnWindows.append(bd.compute_emittance(particlesInWindow[wInd], 'x', verbose=False))"
   ]
  },
  {
   "cell_type": "markdown",
   "id": "2be1f032-d2fd-4686-8e2c-5b808a3a6864",
   "metadata": {},
   "source": [
    "### Emittannce Vs. Energy"
   ]
  },
  {
   "cell_type": "code",
   "execution_count": null,
   "id": "fc58d5e1-4884-4f7d-92d8-99e31742f597",
   "metadata": {
    "tags": []
   },
   "outputs": [],
   "source": [
    "fig, ax = plt.subplots(figsize=(8, 4.5))\n",
    "ax.plot(EkinWindowEdges[:-1], emitnWindows, 'o-')\n",
    "ax.set_ylim([0, 15e3])\n",
    "ax.set_xlabel('Ekin window bottom edge [MeV]')\n",
    "ax.set_ylabel('Norm. emittance [pimmmrad]')\n",
    "ax.grid()"
   ]
  },
  {
   "cell_type": "markdown",
   "id": "daf8c10e-a09c-4a9f-af6d-45bda7ee176f",
   "metadata": {},
   "source": [
    "### Visualization of Filtered Distributions"
   ]
  },
  {
   "cell_type": "code",
   "execution_count": null,
   "id": "030fc3b4-8bba-4795-9b0f-9fd770b932fe",
   "metadata": {},
   "outputs": [],
   "source": [
    "windowIndsToPlot = np.arange(0, len(particlesInWindow), 1)\n",
    "windowsToPlot = [EkinWindowEdges[wInd:wInd+2] for wInd in windowIndsToPlot]\n",
    "ax = bd.plot_distr(\n",
    "    [targetDistr, *[particlesInWindow[wInd] for wInd in windowIndsToPlot]], plotDefs,\n",
    "    legendLabels=[\n",
    "        'Full bunch',\n",
    "        *['{:.1f} MeV < Ekin < {:.1f} MeV'.format(*EkinWindow) for EkinWindow in windowsToPlot]])"
   ]
  },
  {
   "cell_type": "markdown",
   "id": "14a9a718-5641-4e40-b36a-ac7523878f20",
   "metadata": {},
   "source": [
    "## Yield at DR Vs. Energy Window Size"
   ]
  },
  {
   "cell_type": "markdown",
   "id": "5a146518-207c-4ee2-96a4-e3058b0f8160",
   "metadata": {},
   "source": [
    "### Distribution at DR"
   ]
  },
  {
   "cell_type": "code",
   "execution_count": null,
   "id": "b3fcf84d-8dba-440d-94a4-f3b28d0ce3a7",
   "metadata": {
    "tags": []
   },
   "outputs": [],
   "source": [
    "# DISTR_REL_PATH = '../../Data/Astra/WP1atDR.txt'\n",
    "# filterSpecs = {'z': [14480., 14520.]}\n",
    "# or\n",
    "DISTR_REL_PATH = '../../Data/Astra/WP2atDR.txt'\n",
    "filterSpecs = {\n",
    "    'z': [14470., 14530.],\n",
    "    'pz': [0., 1620.]}\n",
    "refParticlePz = 1565.  # [MeV/c]\n",
    "#\n",
    "drDistr = pd.read_csv(DISTR_REL_PATH, names=bd.FILE_TYPES_SPECS['astra']['columnOrder'], header=None)\n",
    "# Minimal substitution of drDistr = bd.extend_standard_df(drDistr, False)\n",
    "drDistr['xp'] = 0.\n",
    "drDistr['yp'] = 0.\n",
    "drDistr['t'] = 0.\n",
    "drDistr['Ekin'] = 0.\n",
    "drDistr['pdgId'] = -11\n",
    "drDistr.describe()"
   ]
  },
  {
   "cell_type": "code",
   "execution_count": null,
   "id": "737a5b7e-2e5b-4cac-868a-21f5dff794ef",
   "metadata": {
    "tags": []
   },
   "outputs": [],
   "source": [
    "drDistr = bd.filter_distr(drDistr, filterSpecs)\n",
    "drDistr.describe()"
   ]
  },
  {
   "cell_type": "code",
   "execution_count": null,
   "id": "a088eb78-4028-46a2-aaf9-de5b090f7a33",
   "metadata": {
    "tags": []
   },
   "outputs": [],
   "source": [
    "reload(bd)\n",
    "plotSets = ['z-pz']\n",
    "plotDefs = bd.set_plot_defs_from_distrs([drDistr], setNames=plotSets)\n",
    "plotDefs[0]['lims1'] = [14488., 14504.]\n",
    "plotDefs[0]['lims2'] = [1420., 1620.]\n",
    "_ = bd.plot_distr([drDistr], plotDefs)"
   ]
  },
  {
   "cell_type": "markdown",
   "id": "db0d95b3-9401-415a-9f62-1f7b7bf13ee3",
   "metadata": {},
   "source": [
    "### DR Acceptance Vs. Energy Window Amplitude"
   ]
  },
  {
   "cell_type": "code",
   "execution_count": null,
   "id": "85f6dc0b-d379-4bfa-986a-25a7a86f670d",
   "metadata": {
    "tags": []
   },
   "outputs": [],
   "source": [
    "pzWindowTopMax = 1620.  # [MeV/c]\n",
    "pzWindowAmplitudeStep = 0.001\n",
    "pzWindowHalfAmplitudes = np.flip(np.arange(pzWindowAmplitudeStep, 0.05+pzWindowAmplitudeStep, pzWindowAmplitudeStep))\n",
    "particlesInWindow = []\n",
    "for pzWindowAmplitude in pzWindowHalfAmplitudes:\n",
    "    optYield = 0\n",
    "    for pzWindowTop in np.linspace(drDistr['pz'].max(), drDistr['pz'].max()-200., 201):\n",
    "        pzWindow = {\n",
    "            \"pz\": [pzWindowTop-2.*pzWindowAmplitude*refParticlePz, pzWindowTop]\n",
    "        }\n",
    "        tmpParticlesInWindow = bd.filter_distr(drDistr, pzWindow)\n",
    "        if tmpParticlesInWindow.shape[0] > optYield:\n",
    "            optYield = tmpParticlesInWindow.shape[0]\n",
    "            optParticlesInWindow = tmpParticlesInWindow\n",
    "    particlesInWindow.append(optParticlesInWindow)"
   ]
  },
  {
   "cell_type": "code",
   "execution_count": null,
   "id": "1ed2a80d-4a2f-46e7-8dee-0f4da525d774",
   "metadata": {
    "tags": []
   },
   "outputs": [],
   "source": [
    "totParticlesInWindow = [partInWin.shape[0] / drDistr.shape[0] for partInWin in particlesInWindow]\n",
    "refWindowAmplitude = 0.038\n",
    "totParticlesInRefWindow = np.interp(refWindowAmplitude, np.flip(pzWindowHalfAmplitudes), np.flip(totParticlesInWindow))\n",
    "fig, ax = plt.subplots(figsize=(6., 4.))\n",
    "ax.plot(pzWindowHalfAmplitudes*100., totParticlesInWindow, '-')\n",
    "ax.plot(3.8, totParticlesInRefWindow, 'ro')\n",
    "ax.set_xlim([0., 5.])\n",
    "ax.set_ylim([0., 1.])\n",
    "ax.set_xlabel('pz window amplitude [%]')\n",
    "ax.set_ylabel('Particles in window')\n",
    "ax.grid()"
   ]
  },
  {
   "cell_type": "code",
   "execution_count": null,
   "id": "f2b26701-99d9-4611-b2c8-1dcf9834a4d3",
   "metadata": {
    "tags": []
   },
   "outputs": [],
   "source": [
    "stepsToPlot = np.arange(0, len(particlesInWindow), 10)\n",
    "pzWindowHalfAmplitudesToPlot = [pzWindowHalfAmplitudes[stepInd] for stepInd in stepsToPlot]\n",
    "# plotDefs[1]['lims2'] = [-3., 3.]\n",
    "# plotDefs[1]['displayTable'] = False\n",
    "ax = bd.plot_distr(\n",
    "    [drDistr, *[particlesInWindow[stepInd] for stepInd in stepsToPlot]], plotDefs,\n",
    "    legendLabels=[\n",
    "        'Full bunch',\n",
    "        *['Within +- {:.1f} %'.format(pzWindowHalfAmplitude*100.) for pzWindowHalfAmplitude in pzWindowHalfAmplitudesToPlot]\n",
    "    ]\n",
    ")"
   ]
  },
  {
   "cell_type": "markdown",
   "id": "8c2e2f67",
   "metadata": {},
   "source": [
    "<div class=\"alert alert-block alert-success\">\n",
    "Some good news.\n",
    "</div>"
   ]
  },
  {
   "cell_type": "markdown",
   "id": "eb6ca689",
   "metadata": {},
   "source": [
    "<div class=\"alert alert-block alert-warning\">\n",
    "Some warning.\n",
    "</div>"
   ]
  },
  {
   "cell_type": "markdown",
   "id": "4111ea5b",
   "metadata": {},
   "source": [
    "<div class=\"alert alert-block alert-danger\">\n",
    "Some danger.\n",
    "</div>"
   ]
  },
  {
   "cell_type": "code",
   "execution_count": null,
   "id": "9e5d1257-2d78-4b27-ae9a-f27a46c5eeff",
   "metadata": {},
   "outputs": [],
   "source": []
  }
 ],
 "metadata": {
  "kernelspec": {
   "display_name": "Python 3 (ipykernel)",
   "language": "python",
   "name": "python3"
  },
  "language_info": {
   "codemirror_mode": {
    "name": "ipython",
    "version": 3
   },
   "file_extension": ".py",
   "mimetype": "text/x-python",
   "name": "python",
   "nbconvert_exporter": "python",
   "pygments_lexer": "ipython3",
   "version": "3.10.10"
  },
  "toc": {
   "base_numbering": 1,
   "nav_menu": {},
   "number_sections": true,
   "sideBar": true,
   "skip_h1_title": true,
   "title_cell": "Table of Contents",
   "title_sidebar": "Contents",
   "toc_cell": true,
   "toc_position": {},
   "toc_section_display": true,
   "toc_window_display": false
  },
  "toc-showcode": false,
  "vscode": {
   "interpreter": {
    "hash": "e7370f93d1d0cde622a1f8e1c04877d8463912d04d973331ad4851f04de6915a"
   }
  }
 },
 "nbformat": 4,
 "nbformat_minor": 5
}
