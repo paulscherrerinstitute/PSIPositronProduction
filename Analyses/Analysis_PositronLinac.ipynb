{
 "cells": [
  {
   "cell_type": "code",
   "execution_count": null,
   "id": "11e4893f",
   "metadata": {},
   "outputs": [],
   "source": [
    "import os\n",
    "import numpy as np\n",
    "import pandas as pd\n",
    "import matplotlib\n",
    "import matplotlib.pyplot as plt\n",
    "import BeamDynamics as bd\n",
    "import SimulationData as sd\n",
    "import RFTrackTools as rfttools\n",
    "import copy\n",
    "import json"
   ]
  },
  {
   "cell_type": "code",
   "execution_count": null,
   "id": "eaf8d117",
   "metadata": {},
   "outputs": [],
   "source": [
    "from importlib import reload\n",
    "reload(bd)\n",
    "reload(rfttools)"
   ]
  },
  {
   "cell_type": "code",
   "execution_count": null,
   "id": "8e4c4dd0",
   "metadata": {},
   "outputs": [],
   "source": [
    "# %matplotlib inline\n",
    "# %matplotlib notebook\n",
    "%matplotlib widget\n",
    "plt.rcParams['figure.figsize'] = [9.6, 6.4]\n",
    "defaultColorCycle = plt.rcParams[\"axes.prop_cycle\"].by_key()['color']\n",
    "# plotFont = {\n",
    "#     'family' : 'sans-serif',\n",
    "#     'weight' : 'normal',\n",
    "#     'size'   : 12\n",
    "# }\n",
    "# matplotlib.rc('font', **plotFont)\n",
    "# plt.rc('legend', fontsize=10)"
   ]
  },
  {
   "cell_type": "markdown",
   "id": "39f9e228",
   "metadata": {},
   "source": [
    "# RF-Track, Positron Linac V0"
   ]
  },
  {
   "cell_type": "markdown",
   "id": "7e90f8c0-bd34-4a59-8622-56630a3222cc",
   "metadata": {},
   "source": [
    "## Distributions at the End of Positron Linac (After 22 RF Structures, ~ 1.54 GeV)"
   ]
  },
  {
   "cell_type": "markdown",
   "id": "b1c29b79-f6ce-484b-9aa6-b5adcd0149a4",
   "metadata": {},
   "source": [
    "### Trial 1"
   ]
  },
  {
   "cell_type": "code",
   "execution_count": null,
   "id": "68fff6d8-d977-44cd-8e74-71f6a72b0f2b",
   "metadata": {},
   "outputs": [],
   "source": [
    "# DISTR_REL_PATH = '../../Data/RFTrackResults/CaptureLinac/CaptureLinacUpTo200MeV_LBandLargeR/DistrOut_After1stTracking_6d.sdf_txt'\n",
    "DISTR_REL_PATH = '../../Results_CaptureLinac/LatestSim/DistrOut_After1stTracking_6d.sdf_txt'\n",
    "beamInterm1 = bd.load_standard_fwf(DISTR_REL_PATH)\n",
    "beamInterm1.describe()"
   ]
  },
  {
   "cell_type": "code",
   "execution_count": null,
   "id": "5c9e5781-3310-47e6-a38d-4e9c5c650eb4",
   "metadata": {},
   "outputs": [],
   "source": [
    "# DISTR_REL_PATH = '../../Data/RFTrackResults/CaptureLinac/CaptureLinacUpTo200MeV_LBandLargeR/DistrOut_After1stTracking_6d.sdf_txt'\n",
    "DISTR_REL_PATH = '../../Results_CaptureLinac/LatestSim/DistrOut_FrontBuckets_After1stTracking_6d.sdf_txt'\n",
    "beamInterm1Front = bd.load_standard_fwf(DISTR_REL_PATH)\n",
    "beamInterm1Front.describe()"
   ]
  },
  {
   "cell_type": "code",
   "execution_count": null,
   "id": "adb6164e-341f-403c-adff-d66caf8ce23d",
   "metadata": {},
   "outputs": [],
   "source": [
    "# DISTR_REL_PATH = '../../Data/RFTrackResults/CaptureLinac/CaptureLinacUpTo200MeV_LBandLargeR/DistrOut_After1stTracking_6d.sdf_txt'\n",
    "DISTR_REL_PATH = '../../Results_CaptureLinac/LatestSim/DistrOut_After2ndTracking_6d.sdf_txt'\n",
    "beamEnd1 = bd.load_standard_fwf(DISTR_REL_PATH)\n",
    "beamEnd1.describe()"
   ]
  },
  {
   "cell_type": "markdown",
   "id": "07c7d6d7-a749-4397-871f-93fdbc41ee4a",
   "metadata": {},
   "source": [
    "### Compare Distributions"
   ]
  },
  {
   "cell_type": "code",
   "execution_count": null,
   "id": "016b82ee-c9d1-4c45-b229-4c62d721b2b3",
   "metadata": {
    "tags": []
   },
   "outputs": [],
   "source": [
    "plotSets = ['TransvPlane', 'TransvPsAngles', 'LongPsT']\n",
    "plotDefs = bd.set_plot_defs_from_distrs([beamInterm1, beamInterm1Front], setNames=plotSets)\n",
    "_ = bd.plot_distr(\n",
    "    [beamInterm1, beamInterm1Front],\n",
    "    plotDefs, markerStyle=['o', 'x'], legendLabels=['All buckets', 'After cut']\n",
    ")"
   ]
  },
  {
   "cell_type": "code",
   "execution_count": null,
   "id": "f8235e58-f7a6-4adb-9373-ddb59d6b6cb1",
   "metadata": {},
   "outputs": [],
   "source": [
    "plotSets = ['TransvPlane', 'TransvPsAngles', 'LongPsT']\n",
    "plotDefs = bd.set_plot_defs_from_distrs([beamEnd1], setNames=plotSets)\n",
    "_ = bd.plot_distr(\n",
    "    [beamEnd1],\n",
    "    plotDefs, #markerStyle=['o'], legendLabels=['All buckets', 'After cut']\n",
    ")"
   ]
  },
  {
   "cell_type": "markdown",
   "id": "2025f16b-6875-425b-bf68-3640dca6a897",
   "metadata": {},
   "source": [
    "## Transport Along the Linac"
   ]
  },
  {
   "cell_type": "markdown",
   "id": "7af091d4-d655-457c-976e-a8050a4850ec",
   "metadata": {},
   "source": [
    "### Trial 1"
   ]
  },
  {
   "cell_type": "code",
   "execution_count": null,
   "id": "4f6c7934-a309-4b8d-8035-7151900b755c",
   "metadata": {},
   "outputs": [],
   "source": [
    "reload(rfttools)\n",
    "\n",
    "SIM_REL_PATH_1 = '../../Results_CaptureLinac/LatestSim'\n",
    "# SIM_REL_PATH_2 = '../../Data/RFTrackResults/YongkeTool_V3/CaptureLinacUpTo200MeV_LBandLargeR'\n",
    "sShiftEMFields = 0\n",
    "\n",
    "fig1, ax1 = plt.subplots(6, 1, figsize=(9.6, 15.))\n",
    "# fig1, ax1l = plt.subplots(3, 1, figsize=(9.6, 6.4))\n",
    "# ax1r = []\n",
    "# for ax in ax1l:\n",
    "#     ax1r.append(ax.twinx())\n",
    "# ax1 = [None] * (len(ax1l) + len(ax1r))\n",
    "# ax1[::2] = ax1l\n",
    "# ax1[1::2] = ax1r\n",
    "sShiftEMFields = 236.3e-3  # [m]\n",
    "rfttools.load_plot_transport(ax1, SIM_REL_PATH_1, sShiftEMFields=sShiftEMFields)\n",
    "# rfttools.load_plot_transport(ax1, SIM_REL_PATH_VOL)\n",
    "# ax1[0].legend(['Volume + Lattice', 'Volume'], loc='upper center', bbox_to_anchor=(0.5, 1.3), ncol=2)\n",
    "# _ = ax1[2].set_ylim([150., 250.])"
   ]
  },
  {
   "cell_type": "markdown",
   "id": "8c2e2f67",
   "metadata": {},
   "source": [
    "<div class=\"alert alert-block alert-success\">\n",
    "Some good news.\n",
    "</div>"
   ]
  },
  {
   "cell_type": "markdown",
   "id": "eb6ca689",
   "metadata": {},
   "source": [
    "<div class=\"alert alert-block alert-warning\">\n",
    "Some warning.\n",
    "</div>"
   ]
  },
  {
   "cell_type": "markdown",
   "id": "4111ea5b",
   "metadata": {},
   "source": [
    "<div class=\"alert alert-block alert-danger\">\n",
    "Some danger.\n",
    "</div>"
   ]
  },
  {
   "cell_type": "code",
   "execution_count": null,
   "id": "9e5d1257-2d78-4b27-ae9a-f27a46c5eeff",
   "metadata": {},
   "outputs": [],
   "source": []
  }
 ],
 "metadata": {
  "kernelspec": {
   "display_name": "Python 3 (ipykernel)",
   "language": "python",
   "name": "python3"
  },
  "language_info": {
   "codemirror_mode": {
    "name": "ipython",
    "version": 3
   },
   "file_extension": ".py",
   "mimetype": "text/x-python",
   "name": "python",
   "nbconvert_exporter": "python",
   "pygments_lexer": "ipython3",
   "version": "3.10.5"
  },
  "toc": {
   "base_numbering": 1,
   "nav_menu": {},
   "number_sections": true,
   "sideBar": true,
   "skip_h1_title": true,
   "title_cell": "Table of Contents",
   "title_sidebar": "Contents",
   "toc_cell": true,
   "toc_position": {},
   "toc_section_display": true,
   "toc_window_display": false
  },
  "toc-showcode": false
 },
 "nbformat": 4,
 "nbformat_minor": 5
}
