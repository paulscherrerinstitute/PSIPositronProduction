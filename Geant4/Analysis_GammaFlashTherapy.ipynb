{
 "cells": [
  {
   "cell_type": "code",
   "execution_count": null,
   "id": "11e4893f",
   "metadata": {},
   "outputs": [],
   "source": [
    "import os\n",
    "import numpy as np\n",
    "import pandas as pd\n",
    "import matplotlib\n",
    "import matplotlib.pyplot as plt\n",
    "import cycler\n",
    "import BeamDynamics as bd\n",
    "import copy"
   ]
  },
  {
   "cell_type": "code",
   "execution_count": null,
   "id": "eaf8d117",
   "metadata": {},
   "outputs": [],
   "source": [
    "from importlib import reload\n",
    "reload(bd)"
   ]
  },
  {
   "cell_type": "code",
   "execution_count": null,
   "id": "8e4c4dd0",
   "metadata": {},
   "outputs": [],
   "source": [
    "# %matplotlib inline\n",
    "# %matplotlib notebook\n",
    "%matplotlib widget\n",
    "plt.rcParams['figure.figsize'] = [9.6, 6.4]\n",
    "defaultColorCycle = plt.rcParams[\"axes.prop_cycle\"].by_key()['color']\n",
    "# plotFont = {\n",
    "#     'family' : 'sans-serif',\n",
    "#     'weight' : 'normal',\n",
    "#     'size'   : 12\n",
    "# }\n",
    "# matplotlib.rc('font', **plotFont)\n",
    "# plt.rc('legend', fontsize=10)"
   ]
  },
  {
   "cell_type": "markdown",
   "id": "39f9e228",
   "metadata": {},
   "source": [
    "# Gamma FLASH Therapy"
   ]
  },
  {
   "cell_type": "markdown",
   "id": "a9e7ec6e-15aa-4fd9-9d29-335df1017740",
   "metadata": {},
   "source": [
    "## Plot Drive Electron Beam at E = 35 MeV"
   ]
  },
  {
   "cell_type": "code",
   "execution_count": null,
   "id": "934b679a-5dbc-439d-87cf-3d0035af6fb6",
   "metadata": {},
   "outputs": [],
   "source": [
    "sdfFilePath = '/afs/psi.ch/project/newgun/gammaFlashTherapy/E35MeV_D5mm/FCCeeTargetTracking_primary.root.sdf_txt'\n",
    "driveBeam = bd.load_standard_fwf(sdfFilePath)\n",
    "totElectronsIn = driveBeam.shape[0]\n",
    "driveBeam.describe()"
   ]
  },
  {
   "cell_type": "markdown",
   "id": "735be2cf",
   "metadata": {},
   "source": [
    "## Optimize Gamma Fluence with Target Thickness at E = 35 MeV"
   ]
  },
  {
   "cell_type": "code",
   "execution_count": null,
   "id": "a157fcd7",
   "metadata": {},
   "outputs": [],
   "source": [
    "# sdfFilePath = '/afs/psi.ch/project/newgun/gammaFlashTherapy/E35MeV_D20mm/FCCeeTargetTracking_amor_leave.root.sdf_txt'\n",
    "# sdfFilePath = '/afs/psi.ch/project/newgun/gammaFlashTherapy/E35MeV_D10mm/FCCeeTargetTracking_amor_leave.root.sdf_txt'\n",
    "sdfFilePath = '/afs/psi.ch/project/newgun/gammaFlashTherapy/E35MeV_D3mm/FCCeeTargetTracking_amor_leave.root.sdf_txt'\n",
    "targetOut = bd.load_standard_fwf(sdfFilePath)\n",
    "targetOut.describe()"
   ]
  },
  {
   "cell_type": "code",
   "execution_count": null,
   "id": "95fb4219-fd8a-490a-b8b7-f6e8dc8bb1bf",
   "metadata": {},
   "outputs": [],
   "source": [
    "driveBeamE = 35.  # [MeV]\n",
    "EperChargeDriveBeam = driveBeamE / 1e3  # [J/nC]\n",
    "targetThicknessList = np.arange(1, 16, 1)\n",
    "simCollection = []\n",
    "pdgIdList = []\n",
    "for targetThickness in targetThicknessList:\n",
    "    sdfFilePath = '/afs/psi.ch/project/newgun/gammaFlashTherapy/E{:.0f}MeV_D{:.0f}mm/FCCeeTargetTracking_amor_leave.root.sdf_txt'.format(\n",
    "        driveBeamE, targetThickness\n",
    "    )\n",
    "    distr = bd.load_standard_fwf(sdfFilePath)\n",
    "    particleCounts = {}\n",
    "    EparticleType = {}\n",
    "    for pdgId in distr['pdgId'].unique():\n",
    "        if pdgId not in pdgIdList:\n",
    "            pdgIdList.append(pdgId)\n",
    "        selIds = distr['pdgId'].isin([pdgId])\n",
    "        particleCounts[pdgId] = distr[selIds].shape[0]\n",
    "        # TODO: Check Ekin vs. E!!!\n",
    "        EparticleType[pdgId] = distr[selIds]['Ekin'].sum() / totElectronsIn / 1e3  # [J/nC]\n",
    "    simCollection.append({\n",
    "        'driveBeamE': driveBeamE,\n",
    "        'targetThickness': targetThickness,\n",
    "        'distr': distr,\n",
    "        'partCounts': particleCounts,\n",
    "        'EparticleType': EparticleType\n",
    "    })"
   ]
  },
  {
   "cell_type": "code",
   "execution_count": null,
   "id": "f3c9c272-77aa-4ed0-9b8e-0de88f10c4d7",
   "metadata": {},
   "outputs": [],
   "source": [
    "pdgIdList"
   ]
  },
  {
   "cell_type": "code",
   "execution_count": null,
   "id": "3b2b143f-4acd-4c8f-8bb0-04002f65422f",
   "metadata": {},
   "outputs": [],
   "source": [
    "partNames = {\n",
    "    11: 'Electrons',\n",
    "    22: 'Photons',\n",
    "    -11: 'Positrons'\n",
    "}"
   ]
  },
  {
   "cell_type": "code",
   "execution_count": null,
   "id": "9c96a618-be87-47fa-b24a-2b916fec3b23",
   "metadata": {},
   "outputs": [],
   "source": [
    "selectedSims = [sim for sim in simCollection if sim['driveBeamE'] == driveBeamE]\n",
    "partCounts = {}\n",
    "EsingleTypes = {}\n",
    "selTargetThicknesses = [sim['targetThickness'] for sim in selectedSims]\n",
    "for pdgId in pdgIdList:\n",
    "    partCountSingleType = []\n",
    "    EsingleType = []\n",
    "    for sim in selectedSims:\n",
    "        try:\n",
    "            partCountSingleType.append(sim['partCounts'][pdgId])\n",
    "            EsingleType.append(sim['EparticleType'][pdgId])\n",
    "        except KeyError:\n",
    "            partCountSingleType.append(0.)\n",
    "            EsingleType.append(0.)\n",
    "    partCounts[pdgId] = partCountSingleType\n",
    "    EsingleTypes[pdgId] = EsingleType"
   ]
  },
  {
   "cell_type": "code",
   "execution_count": null,
   "id": "40961d7d-3ea6-4e65-9b84-615f1efe03b8",
   "metadata": {},
   "outputs": [],
   "source": [
    "fig, ax = plt.subplots()\n",
    "axr = ax.twinx()\n",
    "for pdgId in pdgIdList:\n",
    "    ax.plot(selTargetThicknesses, partCounts[pdgId], 'o-')\n",
    "    axr.plot(selTargetThicknesses, EsingleTypes[pdgId], 'o--')\n",
    "ax.set_xlabel('Target thickness [mm]')\n",
    "ax.set_ylabel('Counts (solid lines)')\n",
    "axr.set_ylabel('Average E per charge [J/nC] (dashed lines)')\n",
    "ax.legend([partNames[pdgId] for pdgId in pdgIdList])\n",
    "ax.set_title('E per charge drive beam = {:.3f} J/nC'.format(EperChargeDriveBeam))\n",
    "ax.grid()"
   ]
  },
  {
   "cell_type": "markdown",
   "id": "1bce06e6-ed5b-4bfd-be61-c27a36df52f9",
   "metadata": {},
   "source": [
    "## Photon Spectrum with Edrive = 35 MeV"
   ]
  },
  {
   "cell_type": "code",
   "execution_count": null,
   "id": "b52d1c92-4523-4d56-a397-cb6ea2067bf4",
   "metadata": {},
   "outputs": [],
   "source": [
    "EbinWidth = .2  # [MeV]\n",
    "Ebins = np.arange(0., driveBeamE, EbinWidth)\n",
    "fig, ax = plt.subplots(len(pdgIdList), 1)\n",
    "customCycler = (\n",
    "    cycler.cycler(color=[plt.get_cmap('jet')(1. * ind/len(selectedSims)) for ind in range(len(selectedSims))])  # +\n",
    "    # cycler(lw=[1, 2, 3, 4])\n",
    ")\n",
    "for ind, pdgId in enumerate(pdgIdList):\n",
    "    ax[ind].set_prop_cycle(customCycler)\n",
    "    for sim in selectedSims:\n",
    "        ax[ind].hist(sim['distr'][sim['distr']['pdgId'].isin([pdgId])]['Ekin'], bins=Ebins, label='D = {:.1f} mm'.format(sim['targetThickness']))\n",
    "    ax[ind].set_xlabel('E [MeV]')\n",
    "    ax[ind].set_ylabel('Counts')\n",
    "    if ind == len(pdgIdList) - 1:\n",
    "        ax[ind].legend()\n",
    "    ax[ind].set_title(partNames[pdgId])\n",
    "    ax[ind].grid()"
   ]
  },
  {
   "cell_type": "markdown",
   "id": "8c2e2f67",
   "metadata": {},
   "source": [
    "<div class=\"alert alert-block alert-success\">\n",
    "Some good news.\n",
    "</div>"
   ]
  },
  {
   "cell_type": "markdown",
   "id": "eb6ca689",
   "metadata": {},
   "source": [
    "<div class=\"alert alert-block alert-warning\">\n",
    "Some warning.\n",
    "</div>"
   ]
  },
  {
   "cell_type": "markdown",
   "id": "4111ea5b",
   "metadata": {},
   "source": [
    "<div class=\"alert alert-block alert-danger\">\n",
    "Some danger.\n",
    "</div>"
   ]
  },
  {
   "cell_type": "code",
   "execution_count": null,
   "id": "40dcde2b-c71f-42c2-86d8-2ba3e3e7fee5",
   "metadata": {},
   "outputs": [],
   "source": []
  }
 ],
 "metadata": {
  "kernelspec": {
   "display_name": "Python 3 (ipykernel)",
   "language": "python",
   "name": "python3"
  },
  "language_info": {
   "codemirror_mode": {
    "name": "ipython",
    "version": 3
   },
   "file_extension": ".py",
   "mimetype": "text/x-python",
   "name": "python",
   "nbconvert_exporter": "python",
   "pygments_lexer": "ipython3",
   "version": "3.10.5"
  },
  "toc": {
   "base_numbering": 1,
   "nav_menu": {},
   "number_sections": true,
   "sideBar": true,
   "skip_h1_title": true,
   "title_cell": "Table of Contents",
   "title_sidebar": "Contents",
   "toc_cell": true,
   "toc_position": {},
   "toc_section_display": true,
   "toc_window_display": false
  }
 },
 "nbformat": 4,
 "nbformat_minor": 5
}
