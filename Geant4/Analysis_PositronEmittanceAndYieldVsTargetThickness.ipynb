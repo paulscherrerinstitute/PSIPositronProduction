{
 "cells": [
  {
   "cell_type": "code",
   "execution_count": null,
   "id": "11e4893f",
   "metadata": {},
   "outputs": [],
   "source": [
    "import os\n",
    "import numpy as np\n",
    "import pandas as pd\n",
    "import qtconsole\n",
    "import matplotlib\n",
    "import matplotlib.pyplot as plt\n",
    "import BeamDynamics as bd\n",
    "import copy\n",
    "try:\n",
    "    import ROOT\n",
    "except:\n",
    "    print('Root framework not available.')"
   ]
  },
  {
   "cell_type": "code",
   "execution_count": null,
   "id": "eaf8d117",
   "metadata": {},
   "outputs": [],
   "source": [
    "from importlib import reload\n",
    "reload(bd)"
   ]
  },
  {
   "cell_type": "code",
   "execution_count": null,
   "id": "f2718dff",
   "metadata": {},
   "outputs": [],
   "source": [
    "%qtconsole"
   ]
  },
  {
   "cell_type": "code",
   "execution_count": null,
   "id": "8e4c4dd0",
   "metadata": {},
   "outputs": [],
   "source": [
    "%matplotlib inline\n",
    "plt.rcParams['figure.figsize'] = [16, 9]\n",
    "# %matplotlib notebook"
   ]
  },
  {
   "cell_type": "markdown",
   "id": "39f9e228",
   "metadata": {},
   "source": [
    "# Positron emittance and yield vs. amorphous target thickness"
   ]
  },
  {
   "cell_type": "code",
   "execution_count": null,
   "id": "3592acf0",
   "metadata": {},
   "outputs": [],
   "source": [
    "plotDefs = [\n",
    "    {\n",
    "        'varName1': 'x', 'varName2': 'y',\n",
    "        'opacityHist': 0.5,\n",
    "    },\n",
    "    {\n",
    "        'varName1': 'x', 'varName2': 'px',\n",
    "        'opacityHist': 0.5,\n",
    "    },\n",
    "    {\n",
    "        'varName1': 'y', 'varName2': 'py',\n",
    "        'opacityHist': 0.5,\n",
    "    },\n",
    "    {\n",
    "        'varName1': 'z', 'varName2': 'pz',\n",
    "        'opacityHist': 0.5,\n",
    "    },\n",
    "    {\n",
    "        'varName1': 't', 'varName2': 'Ekin',\n",
    "        'opacityHist': 0.5,\n",
    "    },\n",
    "    {\n",
    "        'varName1': 't', 'varName2': 'pz',\n",
    "        'opacityHist': 0.5,\n",
    "    },\n",
    "]"
   ]
  },
  {
   "cell_type": "markdown",
   "id": "bee3f05c",
   "metadata": {},
   "source": [
    "## Load distributions"
   ]
  },
  {
   "cell_type": "code",
   "execution_count": null,
   "id": "51426769",
   "metadata": {},
   "outputs": [],
   "source": [
    "simLabels = ('17p5', '15', '12p5', '10', '7p5')\n",
    "beam = {}\n",
    "pars = {}"
   ]
  },
  {
   "cell_type": "code",
   "execution_count": null,
   "id": "3430aa9d",
   "metadata": {
    "scrolled": false
   },
   "outputs": [],
   "source": [
    "sdfFilePath = '/afs/psi.ch/project/Pcubed/SimulationRuns/Geant4/000011/FCCeeTargetTracking_amor_leave_pdgId_-11.root.sdf_txt'\n",
    "beam['17p5'] = bd.load_standard_fwf(sdfFilePath)\n",
    "pars['17p5'] = beam['17p5'].describe()\n",
    "pars['17p5']"
   ]
  },
  {
   "cell_type": "code",
   "execution_count": null,
   "id": "fa08acba",
   "metadata": {
    "scrolled": false
   },
   "outputs": [],
   "source": [
    "sdfFilePath = '/afs/psi.ch/project/Pcubed/SimulationRuns/Geant4/000012/FCCeeTargetTracking_amor_leave_pdgId_-11.root.sdf_txt'\n",
    "beam['15'] = bd.load_standard_fwf(sdfFilePath)\n",
    "pars['15'] = beam['15'].describe()\n",
    "pars['15']"
   ]
  },
  {
   "cell_type": "code",
   "execution_count": null,
   "id": "2569ac4e",
   "metadata": {
    "scrolled": false
   },
   "outputs": [],
   "source": [
    "sdfFilePath = '/afs/psi.ch/project/Pcubed/SimulationRuns/Geant4/000013/FCCeeTargetTracking_amor_leave_pdgId_-11.root.sdf_txt'\n",
    "beam['12p5'] = bd.load_standard_fwf(sdfFilePath)\n",
    "pars['12p5'] = beam['12p5'].describe()\n",
    "pars['12p5']"
   ]
  },
  {
   "cell_type": "code",
   "execution_count": null,
   "id": "1a688ab6",
   "metadata": {},
   "outputs": [],
   "source": [
    "sdfFilePath = '/afs/psi.ch/project/Pcubed/SimulationRuns/Geant4/000014/FCCeeTargetTracking_amor_leave_pdgId_-11.root.sdf_txt'\n",
    "beam['10'] = bd.load_standard_fwf(sdfFilePath)\n",
    "pars['10'] = beam['10'].describe()\n",
    "pars['10']"
   ]
  },
  {
   "cell_type": "code",
   "execution_count": null,
   "id": "618366ac",
   "metadata": {},
   "outputs": [],
   "source": [
    "sdfFilePath = '/afs/psi.ch/project/Pcubed/SimulationRuns/Geant4/000015/FCCeeTargetTracking_amor_leave_pdgId_-11.root.sdf_txt'\n",
    "beam['7p5'] = bd.load_standard_fwf(sdfFilePath)\n",
    "pars['7p5'] = beam['7p5'].describe()\n",
    "pars['7p5']"
   ]
  },
  {
   "cell_type": "code",
   "execution_count": null,
   "id": "e8487ea2",
   "metadata": {},
   "outputs": [],
   "source": [
    "plotDefs[0]['lims1'] = (-15, 15.)   # [mm]\n",
    "plotDefs[0]['lims2'] = (-15., 15.)   # [mm]\n",
    "plotDefs[1]['lims1'] = plotDefs[0]['lims1']   # [mm]\n",
    "plotDefs[1]['lims2'] = (-60., 60.)   # [MeV/c]\n",
    "plotDefs[2]['lims1'] = plotDefs[0]['lims2']   # [mm]\n",
    "plotDefs[2]['lims2'] = (-60., 60.)   # [MeV/c]\n",
    "plotDefs[3]['lims1'] = (5., 20.)   # [mm]\n",
    "plotDefs[3]['lims2'] = (0., 20.)   # [MeV/c]\n",
    "plotDefs[4]['lims1'] = (-20e-3, 60e-3)   # [ns]\n",
    "plotDefs[4]['lims2'] = plotDefs[3]['lims2']   # [MeV]\n",
    "plotDefs[5]['lims1'] = plotDefs[4]['lims1']   # [ns]\n",
    "plotDefs[5]['lims2'] = plotDefs[3]['lims2']   # [MeV/c]"
   ]
  },
  {
   "cell_type": "code",
   "execution_count": null,
   "id": "affb8b5f",
   "metadata": {
    "scrolled": false
   },
   "outputs": [],
   "source": [
    "beamSel = {key: beam[key] for key in ('17p5', '12p5', '7p5')}\n",
    "_ = bd.plot_distr(\n",
    "    beamSel.values(), plotDefs,\n",
    "    title=\"Positron beam at target exit\",\n",
    "    legendLabels=['Thickness = 17.5 mm', 'Thickness = 12.5 mm', 'Thickness = 7.5 mm']\n",
    ")"
   ]
  },
  {
   "cell_type": "markdown",
   "id": "5c248007",
   "metadata": {},
   "source": [
    "<div class=\"alert alert-block alert-warning\">\n",
    "Some warning.\n",
    "</div>"
   ]
  },
  {
   "cell_type": "markdown",
   "id": "8db89b38",
   "metadata": {},
   "source": [
    "## Yield vs thickness"
   ]
  },
  {
   "cell_type": "code",
   "execution_count": null,
   "id": "f8acc29f",
   "metadata": {},
   "outputs": [],
   "source": [
    "totElectronsIn = 10000\n",
    "thicknessArray = np.array((17.5, 15., 12.5, 10., 7.5))"
   ]
  },
  {
   "cell_type": "code",
   "execution_count": null,
   "id": "658eb17b",
   "metadata": {},
   "outputs": [],
   "source": []
  },
  {
   "cell_type": "code",
   "execution_count": null,
   "id": "794d07f2",
   "metadata": {},
   "outputs": [],
   "source": [
    "yieldArray = np.array([beam[lab]['Q'].shape[0] for lab in simLabels]) / totElectronsIn\n",
    "sigmaXArray = np.array([pars[lab]['x']['std'] for lab in simLabels])\n",
    "sigmaYArray = np.array([pars[lab]['y']['std'] for lab in simLabels])\n",
    "# beamDivergenceArray = np.array([(beam[lab]['px']/beam[lab]['pz']).abs().mean() for lab in simLabels])\n",
    "# xp = np.arctan(beam[lab]['px']/beam[lab]['pz'])\n",
    "# xp = xp[xp]\n",
    "sigmaXpArray = np.array([(np.arctan(beam[lab]['px']/beam[lab]['pz'])).std() for lab in simLabels])\n",
    "sigmaYpArray = np.array([(np.arctan(beam[lab]['py']/beam[lab]['pz'])).std() for lab in simLabels])\n",
    "emitnXArray = np.array([bd.compute_emittance(beam[lab], 'x') for lab in simLabels])\n",
    "emitnYArray = np.array([bd.compute_emittance(beam[lab], 'y') for lab in simLabels])"
   ]
  },
  {
   "cell_type": "code",
   "execution_count": null,
   "id": "712999ef",
   "metadata": {},
   "outputs": [],
   "source": [
    "for lab in simLabels:\n",
    "    pr = np.sqrt(beam[lab]['px']**2. + beam[lab]['py']**2.)\n",
    "    phi = np.arctan(pr/beam[lab]['pz'])\n",
    "    beam[lab]['phi'] = phi"
   ]
  },
  {
   "cell_type": "code",
   "execution_count": null,
   "id": "8c846ac1",
   "metadata": {
    "scrolled": false
   },
   "outputs": [],
   "source": [
    "fig, ax = plt.subplots(4, 1, figsize=(12,16))\n",
    "ax[0].plot(thicknessArray, yieldArray, 'o-')\n",
    "ax[0].set_ylim([0, 15.])\n",
    "ax[0].grid()\n",
    "ax[0].set_ylabel('Positron yield')\n",
    "ax[1].plot(thicknessArray, sigmaXArray, 'o-')\n",
    "ax[1].plot(thicknessArray, sigmaYArray, 'o-')\n",
    "ax[1].set_ylim([0, 1.6])\n",
    "ax[1].grid()\n",
    "ax[1].set_ylabel('Rms spot size [mm]')\n",
    "ax[2].plot(thicknessArray, sigmaXpArray, 'o-')\n",
    "ax[2].plot(thicknessArray, sigmaYpArray, 'o-')\n",
    "ax[2].set_ylim([0, 0.45])\n",
    "ax[2].grid()\n",
    "ax[2].set_ylabel('Rms beam divergence [MeV/c]')\n",
    "lPlot = ax[3].plot(thicknessArray, emitnXArray, 'o-')\n",
    "ax[3].plot(thicknessArray, emitnYArray, 'o-')\n",
    "ax[3].plot(\n",
    "    thicknessArray, sigmaXArray*sigmaXpArray/bd.PART_CONSTS['Erest'][-11]*1e3,\n",
    "    'x-', color=lPlot[0].get_color()\n",
    ")\n",
    "ax[3].set_ylim([0, 22e3])\n",
    "ax[3].grid()\n",
    "ax[3].set_ylabel('Rms norm. emittance [mm mrad]')\n",
    "ax[3].set_xlabel('Amorphous target thickness [mm]')"
   ]
  },
  {
   "cell_type": "code",
   "execution_count": null,
   "id": "00d61c95",
   "metadata": {},
   "outputs": [],
   "source": [
    "for lab in simLabels:\n",
    "    _ = plt.hist(\n",
    "        beam[lab]['phi'][(beam[lab]['Ekin']>0) & (beam[lab]['Ekin']<200.)],\n",
    "        200, alpha=0.3\n",
    ")"
   ]
  },
  {
   "cell_type": "markdown",
   "id": "4111ea5b",
   "metadata": {
    "scrolled": false
   },
   "source": [
    "<div class=\"alert alert-block alert-danger\">\n",
    "Some danger.\n",
    "</div><br />\n",
    "<div class=\"alert alert-block alert-success\">\n",
    "Some good news.\n",
    "</div>"
   ]
  },
  {
   "cell_type": "code",
   "execution_count": null,
   "id": "2f2e637d",
   "metadata": {},
   "outputs": [],
   "source": []
  }
 ],
 "metadata": {
  "kernelspec": {
   "display_name": "Python 3 (ipykernel)",
   "language": "python",
   "name": "python3"
  },
  "language_info": {
   "codemirror_mode": {
    "name": "ipython",
    "version": 3
   },
   "file_extension": ".py",
   "mimetype": "text/x-python",
   "name": "python",
   "nbconvert_exporter": "python",
   "pygments_lexer": "ipython3",
   "version": "3.9.6"
  }
 },
 "nbformat": 4,
 "nbformat_minor": 5
}
