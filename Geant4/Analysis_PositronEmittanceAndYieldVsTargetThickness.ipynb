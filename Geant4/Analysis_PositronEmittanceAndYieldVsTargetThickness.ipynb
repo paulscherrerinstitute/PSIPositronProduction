{
 "cells": [
  {
   "cell_type": "code",
   "execution_count": null,
   "id": "11e4893f",
   "metadata": {},
   "outputs": [],
   "source": [
    "import os\n",
    "import numpy as np\n",
    "import pandas as pd\n",
    "import qtconsole\n",
    "import matplotlib\n",
    "import matplotlib.pyplot as plt\n",
    "import BeamDynamics as bd\n",
    "import copy\n",
    "try:\n",
    "    import ROOT\n",
    "except:\n",
    "    print('Root framework not available.')"
   ]
  },
  {
   "cell_type": "code",
   "execution_count": null,
   "id": "eaf8d117",
   "metadata": {},
   "outputs": [],
   "source": [
    "from importlib import reload\n",
    "reload(bd)"
   ]
  },
  {
   "cell_type": "code",
   "execution_count": null,
   "id": "f2718dff",
   "metadata": {},
   "outputs": [],
   "source": [
    "%qtconsole"
   ]
  },
  {
   "cell_type": "code",
   "execution_count": null,
   "id": "8e4c4dd0",
   "metadata": {},
   "outputs": [],
   "source": [
    "%matplotlib inline\n",
    "plt.rcParams['figure.figsize'] = [16, 9]\n",
    "plotFont = {\n",
    "    'family' : 'sans-serif',\n",
    "    'weight' : 'normal',\n",
    "    'size'   : 12\n",
    "}\n",
    "matplotlib.rc('font', **plotFont)\n",
    "plt.rc('legend', fontsize=10)\n",
    "defaultColorCycle = plt.rcParams[\"axes.prop_cycle\"]\n",
    "# %matplotlib notebook"
   ]
  },
  {
   "cell_type": "markdown",
   "id": "39f9e228",
   "metadata": {},
   "source": [
    "# Positron emittance and yield vs. amorphous target thickness"
   ]
  },
  {
   "cell_type": "markdown",
   "id": "be14b08f",
   "metadata": {
    "toc": true
   },
   "source": [
    "<h1>Table of Contents<span class=\"tocSkip\"></span></h1>\n",
    "<div class=\"toc\"><ul class=\"toc-item\"><li><span><a href=\"#Plot-drive-electron-beam\" data-toc-modified-id=\"Plot-drive-electron-beam-1\"><span class=\"toc-item-num\">1&nbsp;&nbsp;</span>Plot drive electron beam</a></span></li><li><span><a href=\"#Load-positron-distributions-simulated-with-Geant-4\" data-toc-modified-id=\"Load-positron-distributions-simulated-with-Geant-4-2\"><span class=\"toc-item-num\">2&nbsp;&nbsp;</span>Load positron distributions simulated with Geant 4</a></span></li><li><span><a href=\"#Plot-positron-distributions\" data-toc-modified-id=\"Plot-positron-distributions-3\"><span class=\"toc-item-num\">3&nbsp;&nbsp;</span>Plot positron distributions</a></span></li><li><span><a href=\"#Shaping-the-peak-of-the-kineitc-energy-distribution?\" data-toc-modified-id=\"Shaping-the-peak-of-the-kineitc-energy-distribution?-4\"><span class=\"toc-item-num\">4&nbsp;&nbsp;</span>Shaping the peak of the kineitc energy distribution?</a></span></li><li><span><a href=\"#Positron-yield-and-emittance-vs-target-thickness\" data-toc-modified-id=\"Positron-yield-and-emittance-vs-target-thickness-5\"><span class=\"toc-item-num\">5&nbsp;&nbsp;</span>Positron yield and emittance vs target thickness</a></span></li><li><span><a href=\"#Polar-coordinates-and-angular-acceptance\" data-toc-modified-id=\"Polar-coordinates-and-angular-acceptance-6\"><span class=\"toc-item-num\">6&nbsp;&nbsp;</span>Polar coordinates and angular acceptance</a></span></li><li><span><a href=\"#Positrons-vs.-electrons-and-other-particles\" data-toc-modified-id=\"Positrons-vs.-electrons-and-other-particles-7\"><span class=\"toc-item-num\">7&nbsp;&nbsp;</span>Positrons vs. electrons and other particles</a></span></li></ul></div>"
   ]
  },
  {
   "cell_type": "code",
   "execution_count": null,
   "id": "3592acf0",
   "metadata": {},
   "outputs": [],
   "source": [
    "plotDefs = [\n",
    "    {\n",
    "        'varName1': 'x', 'varName2': 'y',\n",
    "        'opacityHist': 0.5,\n",
    "    },\n",
    "    {\n",
    "        'varName1': 'x', 'varName2': 'px',\n",
    "        'opacityHist': 0.5,\n",
    "    },\n",
    "    {\n",
    "        'varName1': 'y', 'varName2': 'py',\n",
    "        'opacityHist': 0.5,\n",
    "    },\n",
    "    {\n",
    "        'varName1': 'z', 'varName2': 'pz',\n",
    "        'opacityHist': 0.5,\n",
    "    },\n",
    "    {\n",
    "        'varName1': 't', 'varName2': 'Ekin',\n",
    "        'opacityHist': 0.5,\n",
    "    },\n",
    "    {\n",
    "        'varName1': 't', 'varName2': 'pz',\n",
    "        'opacityHist': 0.5,\n",
    "    },\n",
    "]"
   ]
  },
  {
   "cell_type": "markdown",
   "id": "7e82b372",
   "metadata": {},
   "source": [
    "## Plot drive electron beam\n",
    "\n",
    "It is the same in every simulation."
   ]
  },
  {
   "cell_type": "code",
   "execution_count": null,
   "id": "e16ebe33",
   "metadata": {},
   "outputs": [],
   "source": [
    "sdfFilePath = '/afs/psi.ch/project/Pcubed/SimulationRuns/Geant4/000011/FCCeeTargetTracking_primary.root.sdf_txt'\n",
    "driveBeam = bd.load_standard_fwf(sdfFilePath)\n",
    "drivePars = driveBeam.describe()\n",
    "totElectronsIn = driveBeam.shape[0]\n",
    "drivePars"
   ]
  },
  {
   "cell_type": "code",
   "execution_count": null,
   "id": "9988e568",
   "metadata": {},
   "outputs": [],
   "source": [
    "plotDefs[0]['lims1'] = (-6, 6.)   # [mm]\n",
    "plotDefs[0]['lims2'] = (-6., 6.)   # [mm]\n",
    "plotDefs[1]['lims1'] = plotDefs[0]['lims1']   # [mm]\n",
    "plotDefs[1]['lims2'] = (-0.36, 0.36)   # [MeV/c]\n",
    "plotDefs[2]['lims1'] = plotDefs[0]['lims2']   # [mm]\n",
    "plotDefs[2]['lims2'] = (-0.36, 0.36)   # [MeV/c]\n",
    "plotDefs[3]['lims1'] = (-1e-3, 1e-3)   # [mm]\n",
    "plotDefs[3]['lims2'] = (6e3-36., 6e3+36.)   # [MeV/c]\n",
    "plotDefs[4]['lims1'] = (-0.018, 0.018)   # [ns]\n",
    "plotDefs[4]['lims2'] = plotDefs[3]['lims2']   # [MeV]\n",
    "plotDefs[5]['lims1'] = plotDefs[4]['lims1']   # [ns]\n",
    "plotDefs[5]['lims2'] = plotDefs[3]['lims2']   # [MeV/c]"
   ]
  },
  {
   "cell_type": "code",
   "execution_count": null,
   "id": "0814d255",
   "metadata": {
    "scrolled": false
   },
   "outputs": [],
   "source": [
    "ax = bd.plot_distr(\n",
    "    driveBeam, plotDefs,\n",
    "    title=\"Drive electron beam at target entrance\"\n",
    ")"
   ]
  },
  {
   "cell_type": "markdown",
   "id": "bee3f05c",
   "metadata": {},
   "source": [
    "## Load positron distributions simulated with Geant 4"
   ]
  },
  {
   "cell_type": "code",
   "execution_count": null,
   "id": "51426769",
   "metadata": {},
   "outputs": [],
   "source": [
    "simLabels = ('22p5', '20', '17p5', '15', '12p5', '10', '7p5')\n",
    "thicknessArray = np.array((22.5, 20., 17.5, 15., 12.5, 10., 7.5))\n",
    "beam = {}\n",
    "pars = {}"
   ]
  },
  {
   "cell_type": "code",
   "execution_count": null,
   "id": "05ee4c05",
   "metadata": {},
   "outputs": [],
   "source": [
    "sdfFilePath = '/afs/psi.ch/project/Pcubed/SimulationRuns/Geant4/000017/FCCeeTargetTracking_amor_leave_pdgId_-11.root.sdf_txt'\n",
    "beam['22p5'] = bd.load_standard_fwf(sdfFilePath)\n",
    "pars['22p5'] = beam['22p5'].describe()\n",
    "pars['22p5']"
   ]
  },
  {
   "cell_type": "code",
   "execution_count": null,
   "id": "7a5ebd7e",
   "metadata": {},
   "outputs": [],
   "source": [
    "sdfFilePath = '/afs/psi.ch/project/Pcubed/SimulationRuns/Geant4/000016/FCCeeTargetTracking_amor_leave_pdgId_-11.root.sdf_txt'\n",
    "beam['20'] = bd.load_standard_fwf(sdfFilePath)\n",
    "pars['20'] = beam['20'].describe()\n",
    "pars['20']"
   ]
  },
  {
   "cell_type": "code",
   "execution_count": null,
   "id": "3430aa9d",
   "metadata": {
    "scrolled": false
   },
   "outputs": [],
   "source": [
    "sdfFilePath = '/afs/psi.ch/project/Pcubed/SimulationRuns/Geant4/000011/FCCeeTargetTracking_amor_leave_pdgId_-11.root.sdf_txt'\n",
    "beam['17p5'] = bd.load_standard_fwf(sdfFilePath)\n",
    "pars['17p5'] = beam['17p5'].describe()\n",
    "pars['17p5']"
   ]
  },
  {
   "cell_type": "code",
   "execution_count": null,
   "id": "fa08acba",
   "metadata": {
    "scrolled": false
   },
   "outputs": [],
   "source": [
    "sdfFilePath = '/afs/psi.ch/project/Pcubed/SimulationRuns/Geant4/000012/FCCeeTargetTracking_amor_leave_pdgId_-11.root.sdf_txt'\n",
    "beam['15'] = bd.load_standard_fwf(sdfFilePath)\n",
    "pars['15'] = beam['15'].describe()\n",
    "pars['15']"
   ]
  },
  {
   "cell_type": "code",
   "execution_count": null,
   "id": "2569ac4e",
   "metadata": {
    "scrolled": false
   },
   "outputs": [],
   "source": [
    "sdfFilePath = '/afs/psi.ch/project/Pcubed/SimulationRuns/Geant4/000013/FCCeeTargetTracking_amor_leave_pdgId_-11.root.sdf_txt'\n",
    "beam['12p5'] = bd.load_standard_fwf(sdfFilePath)\n",
    "pars['12p5'] = beam['12p5'].describe()\n",
    "pars['12p5']"
   ]
  },
  {
   "cell_type": "code",
   "execution_count": null,
   "id": "1a688ab6",
   "metadata": {},
   "outputs": [],
   "source": [
    "sdfFilePath = '/afs/psi.ch/project/Pcubed/SimulationRuns/Geant4/000014/FCCeeTargetTracking_amor_leave_pdgId_-11.root.sdf_txt'\n",
    "beam['10'] = bd.load_standard_fwf(sdfFilePath)\n",
    "pars['10'] = beam['10'].describe()\n",
    "pars['10']"
   ]
  },
  {
   "cell_type": "code",
   "execution_count": null,
   "id": "618366ac",
   "metadata": {
    "scrolled": true
   },
   "outputs": [],
   "source": [
    "sdfFilePath = '/afs/psi.ch/project/Pcubed/SimulationRuns/Geant4/000015/FCCeeTargetTracking_amor_leave_pdgId_-11.root.sdf_txt'\n",
    "beam['7p5'] = bd.load_standard_fwf(sdfFilePath)\n",
    "pars['7p5'] = beam['7p5'].describe()\n",
    "pars['7p5']"
   ]
  },
  {
   "cell_type": "markdown",
   "id": "b2d73a10",
   "metadata": {},
   "source": [
    "## Plot positron distributions"
   ]
  },
  {
   "cell_type": "code",
   "execution_count": null,
   "id": "e8487ea2",
   "metadata": {},
   "outputs": [],
   "source": [
    "plotDefs[0]['lims1'] = (-20, 20.)   # [mm]\n",
    "plotDefs[0]['lims2'] = (-20., 20.)   # [mm]\n",
    "plotDefs[1]['lims1'] = plotDefs[0]['lims1']   # [mm]\n",
    "plotDefs[1]['lims2'] = (-80., 80.)   # [MeV/c]\n",
    "plotDefs[2]['lims1'] = plotDefs[0]['lims2']   # [mm]\n",
    "plotDefs[2]['lims2'] = (-80., 80.)   # [MeV/c]\n",
    "plotDefs[3]['lims1'] = (5., 25.)   # [mm]\n",
    "plotDefs[3]['lims2'] = (0., 20.)   # [MeV/c]\n",
    "plotDefs[4]['lims1'] = (-20e-3, 60e-3)   # [ns]\n",
    "plotDefs[4]['lims2'] = plotDefs[3]['lims2']   # [MeV]\n",
    "plotDefs[5]['lims1'] = plotDefs[4]['lims1']   # [ns]\n",
    "plotDefs[5]['lims2'] = plotDefs[3]['lims2']   # [MeV/c]"
   ]
  },
  {
   "cell_type": "code",
   "execution_count": null,
   "id": "affb8b5f",
   "metadata": {
    "scrolled": false
   },
   "outputs": [],
   "source": [
    "beamSel = {key: beam[key] for key in ('22p5', '17p5', '12p5', '7p5')}\n",
    "ax = bd.plot_distr(\n",
    "    beamSel.values(), plotDefs,\n",
    "    title=\"Positron beam at target exit\",\n",
    "    legendLabels=['Thickness = 22.5 mm', 'Thickness = 17.5 mm', 'Thickness = 12.5 mm', 'Thickness = 7.5 mm']\n",
    ")\n",
    "_ = ax[4][0,1].legend(loc=1)"
   ]
  },
  {
   "cell_type": "markdown",
   "id": "421d3568",
   "metadata": {},
   "source": [
    "<div class=\"alert alert-block alert-success\">\n",
    "<ul>\n",
    "    <li>The peak of the kinetic energy distribution does not change remarkably with target thickness.</li>\n",
    "    <li>Bunch length does not change remarkably with target thickness.</li>\n",
    "</div>"
   ]
  },
  {
   "cell_type": "markdown",
   "id": "e9a3eefc",
   "metadata": {},
   "source": [
    "## Shaping the peak of the kineitc energy distribution?\n",
    "\n",
    "From the above plots, there might be the possibility to shape the distribution of the kinetic energy around its peak at about 5 MeV by changing the thickness of the target.\n",
    "\n",
    "We plot the distribution for different target thicknesses, in a limited range (EkinMin, EkinMax) and normalizing the histogram to always have an area of 1 (probability distribution)."
   ]
  },
  {
   "cell_type": "code",
   "execution_count": null,
   "id": "78ea6269",
   "metadata": {},
   "outputs": [],
   "source": [
    "EkinMin = 0\n",
    "EkinMax = 50.\n",
    "\n",
    "fig, ax = plt.subplots()\n",
    "for key in beamSel.keys():\n",
    "    bd.plot_hist(\n",
    "        ax, beamSel[key]['Ekin'][(beamSel[key]['Ekin']>=EkinMin) & (beamSel[key]['Ekin']<=EkinMax)],\n",
    "        binWidth=.5, binLims=(EkinMin, EkinMax), density=True,\n",
    "        legendLabel='Thickness = '+key+' mm', parsInLabel=True, opacityHist=0.3\n",
    "    )\n",
    "ax.set_xlim((EkinMin, EkinMax))\n",
    "ax.grid()\n",
    "ax.set_xlabel('Ekin [MeV]')\n",
    "_ = ax.set_ylabel('Counts (normalized)')"
   ]
  },
  {
   "cell_type": "markdown",
   "id": "d4556b60",
   "metadata": {
    "scrolled": false
   },
   "source": [
    "<div class=\"alert alert-block alert-warning\">\n",
    "With a thicker target one can gain something, but the advantage is very moderate.\n",
    "</div>"
   ]
  },
  {
   "cell_type": "markdown",
   "id": "8db89b38",
   "metadata": {},
   "source": [
    "## Positron yield and emittance vs target thickness\n",
    "\n",
    "Several beam parameters are plotted against the target thickness.\n",
    "\n",
    "This is done considering all positrons leaving the target together (black lines) and within different kinetic energy bins (colored lines).\n",
    "\n",
    "Please pay attention at the different definitions of emittance! Due to the fact that we have a wide energy spectrum, important differences between the different definitions are observed!"
   ]
  },
  {
   "cell_type": "code",
   "execution_count": null,
   "id": "8c846ac1",
   "metadata": {
    "scrolled": false
   },
   "outputs": [],
   "source": [
    "EkinMin = 0.\n",
    "EkinStep = 10.\n",
    "EkinBinWidth = 5.\n",
    "EkinMax = 100.\n",
    "EkinLowArray = np.arange(EkinMin, EkinMax-EkinBinWidth, EkinStep)\n",
    "EkinHighArray = np.arange(EkinMin+EkinBinWidth, EkinMax, EkinStep)\n",
    "EkinLowArray = np.concatenate([EkinLowArray, [0]])\n",
    "EkinHighArray = np.concatenate([EkinHighArray, [np.Inf]])\n",
    "\n",
    "plt.rcParams[\"axes.prop_cycle\"] = plt.cycler(\"color\", plt.cm.viridis(np.linspace(0,1,EkinLowArray.shape[0]-1)))\n",
    "fig, ax = plt.subplots(5, 1, figsize=(16,30))\n",
    "\n",
    "for ind, (EkinLow, EkinHigh) in enumerate(zip(EkinLowArray, EkinHighArray)):\n",
    "\n",
    "    yieldArray = []\n",
    "    sigmaXArray = []\n",
    "    sigmaYArray = []\n",
    "    sigmaPxArray = []\n",
    "    sigmaPyArray = []\n",
    "    sigmaXpArray = []\n",
    "    sigmaYpArray = []\n",
    "    emitXArray = []\n",
    "    emitYArray = []\n",
    "    emittrXArray = []\n",
    "    emittrYArray = []\n",
    "    emitnXArray = []\n",
    "    emitnYArray = []\n",
    "    for lab in simLabels:\n",
    "        beamSel = (beam[lab]['Ekin']>=EkinLow) & (beam[lab]['Ekin']<=EkinHigh)\n",
    "        yieldArray.append(beam[lab]['Q'][beamSel].shape[0] / totElectronsIn)\n",
    "        sigmaXArray.append(beam[lab]['x'][beamSel].std())\n",
    "        sigmaYArray.append(beam[lab]['y'][beamSel].std())\n",
    "        sigmaPxArray.append(beam[lab]['px'][beamSel].std())\n",
    "        sigmaPyArray.append(beam[lab]['py'][beamSel].std())\n",
    "        sigmaXpArray.append(beam[lab]['xp'][beamSel].std())\n",
    "        sigmaYpArray.append(beam[lab]['yp'][beamSel].std())\n",
    "        emitXArray.append(bd.compute_emittance(beam[lab][beamSel], 'x', norm='geometric', verbose=False))\n",
    "        emitYArray.append(bd.compute_emittance(beam[lab][beamSel], 'y', norm='geometric', verbose=False))\n",
    "        emittrXArray.append(bd.compute_emittance(beam[lab][beamSel], 'x', norm='tracespace', verbose=False))\n",
    "        emittrYArray.append(bd.compute_emittance(beam[lab][beamSel], 'y', norm='tracespace', verbose=False))\n",
    "        emitnXArray.append(bd.compute_emittance(beam[lab][beamSel], 'x', norm='normalized', verbose=False))\n",
    "        emitnYArray.append(bd.compute_emittance(beam[lab][beamSel], 'y', norm='normalized', verbose=False))\n",
    "    sigmaXArray = np.array(sigmaXArray)\n",
    "    sigmaYArray = np.array(sigmaYArray)\n",
    "    sigmaPxArray = np.array(sigmaPxArray)\n",
    "    sigmaPyArray = np.array(sigmaPyArray)\n",
    "    EkinLabel = '{:.1f} MeV < Ekin < {:.1f} MeV '.format(EkinLow, EkinHigh)\n",
    "\n",
    "    if ind == EkinLowArray.shape[0]-1:\n",
    "        color = 'k'\n",
    "        label3v = 'Geometric emittance'\n",
    "        label3h = 'Trace-space emittance'\n",
    "        label4o = 'emitnX'\n",
    "        label4s = 'emitnY'\n",
    "    else:\n",
    "        color = plt.rcParams['axes.prop_cycle'].by_key()['color'][ind]\n",
    "        label3v = None\n",
    "        label3h = None\n",
    "        label4o = None\n",
    "        label4s = None\n",
    "        \n",
    "    ax[0].plot(thicknessArray, yieldArray, 'o-', color=color, label=EkinLabel)\n",
    "    ax[1].plot(thicknessArray, sigmaXArray, 'o-', color=color, label=EkinLabel+'(x-plane)')\n",
    "    ax[1].plot(thicknessArray, sigmaYArray, 's-', color=color, label=EkinLabel+'(y-plane)')\n",
    "    ax[2].plot(thicknessArray, sigmaXpArray, 'o-', color=color, label=EkinLabel+'(x-plane)')\n",
    "    ax[2].plot(thicknessArray, sigmaYpArray, 's-', color=color, label=EkinLabel+'(y-plane)')\n",
    "    ax[3].plot(thicknessArray, emitXArray, 'v-', color=color, label=label3v)\n",
    "    ax[3].plot(thicknessArray, emittrXArray, '^-', color=color, label=label3h)\n",
    "    ax[4].plot(thicknessArray, emitnXArray, 'o-', color=color, label=label4o)\n",
    "    ax[4].plot(thicknessArray, emitnYArray, 's-', color=color, label=label4s)\n",
    "    if ind == EkinLowArray.shape[0]-1:\n",
    "        ax[4].plot(\n",
    "            thicknessArray, sigmaXArray*sigmaPxArray/bd.PART_CONSTS['Erest'][-11]*1e3,\n",
    "            '<-', color=color, label='<sigmaX^2>*<sigmaPx^2>/Erest'\n",
    "        )\n",
    "        ax[4].plot(\n",
    "            thicknessArray, sigmaYArray*sigmaPyArray/bd.PART_CONSTS['Erest'][-11]*1e3,\n",
    "            '>-', color=color, label='<sigmaY^2>*<sigmaPy^2>/Erest'\n",
    "        )\n",
    "ax[0].set_ylim([0, 15.])\n",
    "ax[0].legend()\n",
    "ax[0].grid()\n",
    "ax[0].set_ylabel('Positron yield')\n",
    "ax[1].set_ylim([0, 3.])\n",
    "ax[1].legend(['x-plane', 'y-plane'])\n",
    "ax[1].grid()\n",
    "ax[1].set_ylabel('Rms spot size [mm]')\n",
    "ax[2].set_ylim([0, 800.])\n",
    "ax[2].grid()\n",
    "ax[2].set_ylabel('Rms angle [mrad]')\n",
    "ax[3].set_ylim([0, 2000.])\n",
    "ax[3].legend()\n",
    "ax[3].grid()\n",
    "ax[3].set_ylabel('Rms emittance [mm mrad]')\n",
    "ax[4].set_ylim([0, 25e3])\n",
    "ax[4].legend()\n",
    "ax[4].grid()\n",
    "ax[4].set_ylabel('Rms norm. emittance [mm mrad]')\n",
    "_ = ax[4].set_xlabel('Amorphous target thickness [mm]')"
   ]
  },
  {
   "cell_type": "markdown",
   "id": "2fc3d1b3",
   "metadata": {
    "scrolled": false
   },
   "source": [
    "<div class=\"alert alert-block alert-success\">\n",
    "The positron yield reaches a plateau with increasing thickness. The nominal thickness of 17.5 mm is basically at the beginning of the plateau.\n",
    "</div>"
   ]
  },
  {
   "cell_type": "markdown",
   "id": "e1e1fac3",
   "metadata": {
    "scrolled": false
   },
   "source": [
    "<div class=\"alert alert-block alert-success\">\n",
    "The spot size of the beam for positrons with Ekin > 50 MeV clearly converges to the spot size of the drive electron beam. For particles with small kinetic energy, the spot size increases remarkably. Please note that similar considerations regarding the rms angle do not make sense.\n",
    "</div>"
   ]
  },
  {
   "cell_type": "markdown",
   "id": "ac0cf8a8",
   "metadata": {
    "scrolled": false
   },
   "source": [
    "<div class=\"alert alert-block alert-warning\">\n",
    "Making relevant considerations on the geometric emittance of a \"beam\" with very large energy spread is not trivial.\n",
    "<ul>\n",
    "    <li>The normalized emittance is the quantity which is usually conserved along a linac.</li>\n",
    "    <li>In the first part of the positron source, i.e. along the capture system, a non-normalized emittance is actually more relevant to judge the capture efficiency.</li>\n",
    "    <li>One usually uses the geometric emittance, which is defined as the normalized emittance divided by the mean longitudinal momentum (beta*gamma) of the beam. This \"mean\" is very problematic in our case, due to the large energy spread.</li>\n",
    "    <li>This energy spread is responsible for large discrepancies between geometric and trace-space emittance, at least when considering small kinetic energies. This is very clear in the plot above. As expected, the geometric emittance over all particles leaving the target, is not a meaningful value.\n",
    "    <li>At this stage, i.e. in the judgement of the positron beam leaving the target, the trace-space emittance is very probably the most meaningful value to consider. But attention: as soon as we start to transport the beam, this quantity looses in significance!</li>\n",
    "</ul>\n",
    "</div>"
   ]
  },
  {
   "cell_type": "markdown",
   "id": "14a84727",
   "metadata": {},
   "source": [
    "## Polar coordinates and angular acceptance\n",
    "\n",
    "From the Cartesian quantities px (or xp) and py (or yp) we transform to polar quantities pr (or phi).\n",
    "\n",
    "We are mainly interested in the distribution of the angles phi, which provide the divergence of the particles from the beam axis. In the trivial -- for sure very questionable -- assumption that our system (AMD + RF structures + ...) has a certain acceptance in phi, we would like to count the particles that we would accept for the different target thicknesses.\n",
    "\n",
    "If a smaller thickness of the target would correspond to a smaller yield but to a smaller divergence of the particles -- i.e. a distribution of the angles phi more concentrated near to 0 -- there might be an optimal thickness with respect to the positron yield after e.g. 4 RF structures or at the end of linac 1."
   ]
  },
  {
   "cell_type": "code",
   "execution_count": null,
   "id": "712999ef",
   "metadata": {},
   "outputs": [],
   "source": [
    "for lab in simLabels:\n",
    "    pr = np.sqrt(beam[lab]['px']**2. + beam[lab]['py']**2.)\n",
    "    phi = np.arctan(pr/beam[lab]['pz']) * 1e3\n",
    "    beam[lab]['phi'] = phi"
   ]
  },
  {
   "cell_type": "code",
   "execution_count": null,
   "id": "00d61c95",
   "metadata": {},
   "outputs": [],
   "source": [
    "plt.rcParams[\"axes.prop_cycle\"] = defaultColorCycle\n",
    "fig, ax = plt.subplots()\n",
    "\n",
    "for lab in simLabels:\n",
    "    ax.hist(\n",
    "        beam[lab]['phi'][(beam[lab]['Ekin']>5) & (beam[lab]['Ekin']<20.)],\n",
    "        200, alpha=0.5, label='Target thickness = '+lab+' mm'\n",
    ")\n",
    "ax.grid()\n",
    "ax.legend()\n",
    "ax.set_xlabel('Particle divergence phi [mrad]')\n",
    "_ = ax.set_ylabel('Counts')"
   ]
  },
  {
   "cell_type": "markdown",
   "id": "55a9d8c3",
   "metadata": {
    "scrolled": false
   },
   "source": [
    "<div class=\"alert alert-block alert-success\">\n",
    "The result seems to be pretty clear. Independently from the value of an hypotethical acceptance in phi, the thicker target would always provide the largest yield.\n",
    "</div>"
   ]
  },
  {
   "cell_type": "markdown",
   "id": "970f6dcd",
   "metadata": {},
   "source": [
    "## Positrons vs. electrons and other particles"
   ]
  },
  {
   "cell_type": "code",
   "execution_count": null,
   "id": "b2d1985b",
   "metadata": {},
   "outputs": [],
   "source": [
    "allParticles = {}"
   ]
  },
  {
   "cell_type": "code",
   "execution_count": null,
   "id": "1455c3d8",
   "metadata": {},
   "outputs": [],
   "source": [
    "sdfFilePath = '/afs/psi.ch/project/Pcubed/SimulationRuns/Geant4/000011/FCCeeTargetTracking_amor_leave.root.sdf_txt'\n",
    "allParticles['17p5'] = bd.load_standard_fwf(sdfFilePath)\n",
    "allParticles['17p5'].head()"
   ]
  },
  {
   "cell_type": "code",
   "execution_count": null,
   "id": "3cfa692e",
   "metadata": {},
   "outputs": [],
   "source": [
    "sdfFilePath = '/afs/psi.ch/project/Pcubed/SimulationRuns/Geant4/000015/FCCeeTargetTracking_amor_leave.root.sdf_txt'\n",
    "allParticles['7p5'] = bd.load_standard_fwf(sdfFilePath)\n",
    "allParticles['7p5'].head()"
   ]
  },
  {
   "cell_type": "code",
   "execution_count": null,
   "id": "5c3d9311",
   "metadata": {},
   "outputs": [],
   "source": [
    "for key in allParticles.keys():\n",
    "    print('Target thickness = {:s} mm:'.format(key))\n",
    "    pdgIdList = allParticles[key]['pdgId'].unique()\n",
    "    print('\\tParticle IDs found: ', pdgIdList)\n",
    "    totParticles = np.array([(allParticles[key]['pdgId']==pdgId).sum() for pdgId in pdgIdList])\n",
    "    print('\\tCorresponding number: ', totParticles)\n",
    "    totElectrons = totParticles[pdgIdList==11].squeeze()\n",
    "    totPositrons = totParticles[pdgIdList==-11].squeeze()\n",
    "    diffElPos = totElectrons - totPositrons\n",
    "    print('\\tTot number of electrons leaving the target: {:d}'.format(totElectrons))\n",
    "    print('\\tTot number of positrons leaving the target: {:d}'.format(totPositrons))\n",
    "    print(\n",
    "        '\\tExcess electrons compared to positrons: {:.3f} %'.format(\n",
    "            diffElPos / totElectrons *1e2\n",
    "    ))\n",
    "    print(\n",
    "        '\\tExcess electrons normalized to the number of electrons in the drive beam: {:.3f}\\n'.format(\n",
    "            diffElPos / totElectronsIn\n",
    "    ))"
   ]
  },
  {
   "cell_type": "markdown",
   "id": "88a0c7bf",
   "metadata": {
    "scrolled": false
   },
   "source": [
    "<div class=\"alert alert-block alert-success\">\n",
    "We only have: photons (22), electrons (11) and positrons (-11).\n",
    "</div>"
   ]
  },
  {
   "cell_type": "markdown",
   "id": "55b6f77b",
   "metadata": {
    "scrolled": false
   },
   "source": [
    "<div class=\"alert alert-block alert-danger\">\n",
    "These values of number of electrons vs. positrons are unexpected and not understood at the moment! Where is charge conservation?\n",
    "</div>"
   ]
  },
  {
   "cell_type": "code",
   "execution_count": null,
   "id": "2f2e637d",
   "metadata": {},
   "outputs": [],
   "source": []
  }
 ],
 "metadata": {
  "kernelspec": {
   "display_name": "Python 3 (ipykernel)",
   "language": "python",
   "name": "python3"
  },
  "language_info": {
   "codemirror_mode": {
    "name": "ipython",
    "version": 3
   },
   "file_extension": ".py",
   "mimetype": "text/x-python",
   "name": "python",
   "nbconvert_exporter": "python",
   "pygments_lexer": "ipython3",
   "version": "3.9.6"
  },
  "toc": {
   "base_numbering": 1,
   "nav_menu": {},
   "number_sections": true,
   "sideBar": true,
   "skip_h1_title": true,
   "title_cell": "Table of Contents",
   "title_sidebar": "Contents",
   "toc_cell": true,
   "toc_position": {},
   "toc_section_display": true,
   "toc_window_display": false
  }
 },
 "nbformat": 4,
 "nbformat_minor": 5
}
