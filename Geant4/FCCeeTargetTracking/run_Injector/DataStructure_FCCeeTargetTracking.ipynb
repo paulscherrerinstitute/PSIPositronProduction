{
 "cells": [
  {
   "cell_type": "code",
   "execution_count": null,
   "id": "11e4893f",
   "metadata": {},
   "outputs": [],
   "source": [
    "import os\n",
    "import numpy as np\n",
    "import pandas as pd\n",
    "import qtconsole\n",
    "import matplotlib\n",
    "import matplotlib.pyplot as plt\n",
    "import BeamDynamics as bd\n",
    "try:\n",
    "    import ROOT\n",
    "except:\n",
    "    print('Root framework not available.')"
   ]
  },
  {
   "cell_type": "code",
   "execution_count": null,
   "id": "f2718dff",
   "metadata": {},
   "outputs": [],
   "source": [
    "%qtconsole"
   ]
  },
  {
   "cell_type": "code",
   "execution_count": null,
   "id": "8e4c4dd0",
   "metadata": {},
   "outputs": [],
   "source": [
    "%matplotlib inline\n",
    "plt.rcParams['figure.figsize'] = [16, 9]\n",
    "# %matplotlib notebook"
   ]
  },
  {
   "cell_type": "markdown",
   "id": "34e80905",
   "metadata": {},
   "source": [
    "# Root data structure from FCCee Target Tracking\n",
    "\n",
    "## Open file"
   ]
  },
  {
   "cell_type": "code",
   "execution_count": null,
   "id": "e390a2b3",
   "metadata": {},
   "outputs": [],
   "source": [
    "runPath = bd.build_data_path('SimulationRuns/Geant4/000001')\n",
    "rootFilePath = os.path.join(runPath, 'FCCeeTargetTracking.root')\n",
    "outFile = ROOT.TFile.Open(rootFilePath, 'READ')"
   ]
  },
  {
   "cell_type": "markdown",
   "id": "af7f9d9b",
   "metadata": {},
   "source": [
    "## Inspect structure"
   ]
  },
  {
   "cell_type": "markdown",
   "id": "40aa8761",
   "metadata": {},
   "source": [
    "### File structure with ls() or GetListOfKeys()"
   ]
  },
  {
   "cell_type": "code",
   "execution_count": null,
   "id": "3bf0cd71",
   "metadata": {},
   "outputs": [],
   "source": [
    "outFile.ls()"
   ]
  },
  {
   "cell_type": "code",
   "execution_count": null,
   "id": "17249419",
   "metadata": {},
   "outputs": [],
   "source": [
    "treeList = outFile.GetListOfKeys()\n",
    "for k in treeList:\n",
    "    print(k)"
   ]
  },
  {
   "cell_type": "code",
   "execution_count": null,
   "id": "98de6d76",
   "metadata": {},
   "outputs": [],
   "source": [
    "for k in treeList:\n",
    "    print(k.GetName())"
   ]
  },
  {
   "cell_type": "markdown",
   "id": "c190ddca",
   "metadata": {},
   "source": [
    "### Select TTree with Get()"
   ]
  },
  {
   "cell_type": "code",
   "execution_count": null,
   "id": "537299ab",
   "metadata": {},
   "outputs": [],
   "source": [
    "amorLeave = outFile.Get('amor_leave')\n",
    "nAmorLeave = amorLeave.GetEntries()\n",
    "print('Particles leaving the amorphous target: {:d}\\n'.format(nAmorLeave))"
   ]
  },
  {
   "cell_type": "markdown",
   "id": "beba6c84",
   "metadata": {},
   "source": [
    "### TTree strcuture with Print()"
   ]
  },
  {
   "cell_type": "code",
   "execution_count": null,
   "id": "db7d90a0",
   "metadata": {},
   "outputs": [],
   "source": [
    "amorLeave.Print()"
   ]
  },
  {
   "cell_type": "markdown",
   "id": "47e9ebfd",
   "metadata": {},
   "source": [
    "### Default entry with Show()"
   ]
  },
  {
   "cell_type": "code",
   "execution_count": null,
   "id": "69c136ee",
   "metadata": {},
   "outputs": [],
   "source": [
    "amorLeave.Show()"
   ]
  },
  {
   "cell_type": "markdown",
   "id": "b25702e4",
   "metadata": {},
   "source": [
    "## Conversion to Python Pandas Data Frame"
   ]
  },
  {
   "cell_type": "markdown",
   "id": "3d3f325d",
   "metadata": {},
   "source": [
    "### Step 1: From Root TTree to R Data Frame"
   ]
  },
  {
   "cell_type": "code",
   "execution_count": null,
   "id": "1e4a74eb",
   "metadata": {},
   "outputs": [],
   "source": [
    "amorLeaveRdf = ROOT.RDataFrame(amorLeave)"
   ]
  },
  {
   "cell_type": "markdown",
   "id": "dd48cf16",
   "metadata": {},
   "source": [
    "### Step 2: From R Data Frame to Dict with NumPy Arrays"
   ]
  },
  {
   "cell_type": "code",
   "execution_count": null,
   "id": "d4a9326e",
   "metadata": {},
   "outputs": [],
   "source": [
    "amorLeaveDict = amorLeaveRdf.AsNumpy()\n",
    "print(amorLeaveDict.keys())\n",
    "print([q.shape for q in amorLeaveDict.values()])"
   ]
  },
  {
   "cell_type": "markdown",
   "id": "1a3a705e",
   "metadata": {},
   "source": [
    "### Step 3: From NumPy Arrays to Pandas Data Frame"
   ]
  },
  {
   "cell_type": "code",
   "execution_count": null,
   "id": "91ff1a67",
   "metadata": {},
   "outputs": [],
   "source": [
    "amorLeaveMat = np.column_stack([q for q in amorLeaveDict.values()])\n",
    "amorLeaveMat.shape\n",
    "amorLeaveDf = pd.DataFrame(data=amorLeaveMat, columns=amorLeaveDict.keys())\n",
    "amorLeaveDf.rename(columns={'e':'E'}, inplace=True)\n",
    "amorLeaveDf['pdgId'] = amorLeaveDf['pdgId'].astype(int)\n",
    "print(amorLeaveDf.columns)\n",
    "print(amorLeaveDf.shape)"
   ]
  },
  {
   "cell_type": "markdown",
   "id": "7115745a",
   "metadata": {},
   "source": [
    "### Inspecting Pandas Data Frame"
   ]
  },
  {
   "cell_type": "code",
   "execution_count": null,
   "id": "d14d4540",
   "metadata": {},
   "outputs": [],
   "source": [
    "amorLeaveDf.head()"
   ]
  },
  {
   "cell_type": "code",
   "execution_count": null,
   "id": "db895ee9",
   "metadata": {},
   "outputs": [],
   "source": [
    "amorLeaveDf.tail()"
   ]
  },
  {
   "cell_type": "code",
   "execution_count": null,
   "id": "71d0d103",
   "metadata": {},
   "outputs": [],
   "source": [
    "amorLeaveDf.describe()"
   ]
  },
  {
   "cell_type": "markdown",
   "id": "8f622e52",
   "metadata": {},
   "source": [
    "### Selecting data in Pandas Data Frame"
   ]
  },
  {
   "cell_type": "code",
   "execution_count": null,
   "id": "8d9c77cc",
   "metadata": {},
   "outputs": [],
   "source": [
    "positronId = -11\n",
    "positronLeaveDf = amorLeaveDf[amorLeaveDf['pdgId']==positronId]\n",
    "positronLeaveDf.head()"
   ]
  },
  {
   "cell_type": "markdown",
   "id": "8063145d",
   "metadata": {},
   "source": [
    "### (Deprecated method for conversion)"
   ]
  },
  {
   "cell_type": "code",
   "execution_count": null,
   "id": "72bd521e",
   "metadata": {},
   "outputs": [],
   "source": [
    "amorLeaveMatDepr, amorLeaveLabelsDepr = amorLeave.AsMatrix(return_labels=True)\n",
    "print(amorLeaveLabelsDepr)\n",
    "print(amorLeaveMatDepr.shape)"
   ]
  },
  {
   "cell_type": "markdown",
   "id": "77cf31b1",
   "metadata": {},
   "source": [
    "## Conversion packed in a Python function\n",
    "\n",
    "```python\n",
    "bd.convert_fcceett_to_standard_df()\n",
    "```"
   ]
  },
  {
   "cell_type": "code",
   "execution_count": null,
   "id": "6f8fee73",
   "metadata": {
    "scrolled": false
   },
   "outputs": [],
   "source": [
    "sdfFilePath = os.path.join(runPath, 'FCCeeTargetTracking_amor_leave_StandardDf.txt')\n",
    "try:\n",
    "    distrFcceett = bd.load_standard_fwf(sdfFilePath)\n",
    "except FileNotFoundError:\n",
    "    distrFcceettAll = bd.convert_fcceett_to_standard_df(rootFilePath, pdgId=-11, saveStandardFwf=True)\n",
    "    distrFcceett = distrFcceettAll['amor_leave']"
   ]
  },
  {
   "cell_type": "markdown",
   "id": "683d6c62",
   "metadata": {},
   "source": [
    "<div class=\"alert alert-block alert-success\">\n",
    "The Python script<br />\n",
    "GIT_PSIPositronProduction/Geant4/FCCeeTargetTrackingconvert_fcceett_to_standard_df.py<br />\n",
    "simply calls the homonymous function and can be used to automatize the conversion, like e.g. in<br />\n",
    "GIT_PSIPositronProduction/Geant4/FCCeeTargetTracking/run_Injector/run_Merlin.sh\n",
    "</div>"
   ]
  },
  {
   "cell_type": "code",
   "execution_count": null,
   "id": "39d26c5b",
   "metadata": {},
   "outputs": [],
   "source": []
  }
 ],
 "metadata": {
  "kernelspec": {
   "display_name": "Python 3 (ipykernel)",
   "language": "python",
   "name": "python3"
  },
  "language_info": {
   "codemirror_mode": {
    "name": "ipython",
    "version": 3
   },
   "file_extension": ".py",
   "mimetype": "text/x-python",
   "name": "python",
   "nbconvert_exporter": "python",
   "pygments_lexer": "ipython3",
   "version": "3.9.6"
  }
 },
 "nbformat": 4,
 "nbformat_minor": 5
}
