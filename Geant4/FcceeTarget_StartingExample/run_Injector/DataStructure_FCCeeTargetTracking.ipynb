{
 "cells": [
  {
   "cell_type": "code",
   "execution_count": null,
   "id": "11e4893f",
   "metadata": {},
   "outputs": [],
   "source": [
    "try:\n",
    "    import ROOT\n",
    "except:\n",
    "    print('Root framework not available.')\n",
    "import numpy as np\n",
    "import pandas as pd\n",
    "import qtconsole\n",
    "import matplotlib\n",
    "import matplotlib.pyplot as plt\n",
    "import BeamDynamics as bd"
   ]
  },
  {
   "cell_type": "code",
   "execution_count": null,
   "id": "f2718dff",
   "metadata": {},
   "outputs": [],
   "source": [
    "%qtconsole"
   ]
  },
  {
   "cell_type": "code",
   "execution_count": null,
   "id": "8e4c4dd0",
   "metadata": {},
   "outputs": [],
   "source": [
    "%matplotlib inline\n",
    "plt.rcParams['figure.figsize'] = [16, 9]\n",
    "# %matplotlib notebook"
   ]
  },
  {
   "cell_type": "markdown",
   "id": "34e80905",
   "metadata": {},
   "source": [
    "# Root data structure from FCCee Target Tracking\n",
    "\n",
    "## Open file"
   ]
  },
  {
   "cell_type": "code",
   "execution_count": null,
   "id": "e390a2b3",
   "metadata": {},
   "outputs": [],
   "source": [
    "outFile = ROOT.TFile.Open('FCCeeTargetTracking.root', 'READ')"
   ]
  },
  {
   "cell_type": "markdown",
   "id": "af7f9d9b",
   "metadata": {},
   "source": [
    "## Inspect structure"
   ]
  },
  {
   "cell_type": "markdown",
   "id": "40aa8761",
   "metadata": {},
   "source": [
    "### File structure with ls() or GetListOfKeys()"
   ]
  },
  {
   "cell_type": "code",
   "execution_count": null,
   "id": "3bf0cd71",
   "metadata": {},
   "outputs": [],
   "source": [
    "outFile.ls()"
   ]
  },
  {
   "cell_type": "code",
   "execution_count": null,
   "id": "17249419",
   "metadata": {},
   "outputs": [],
   "source": [
    "for k in outFile.GetListOfKeys():\n",
    "    print(k)"
   ]
  },
  {
   "cell_type": "markdown",
   "id": "c190ddca",
   "metadata": {},
   "source": [
    "### Select TTree with Get()"
   ]
  },
  {
   "cell_type": "code",
   "execution_count": null,
   "id": "537299ab",
   "metadata": {},
   "outputs": [],
   "source": [
    "amorLeave = outFile.Get('amor_leave')\n",
    "nAmorLeave = amorLeave.GetEntries()\n",
    "print('Particles leaving the amorphous target: {:d}\\n'.format(nAmorLeave))"
   ]
  },
  {
   "cell_type": "markdown",
   "id": "beba6c84",
   "metadata": {},
   "source": [
    "### TTree strcuture with Print()"
   ]
  },
  {
   "cell_type": "code",
   "execution_count": null,
   "id": "db7d90a0",
   "metadata": {},
   "outputs": [],
   "source": [
    "amorLeave.Print()"
   ]
  },
  {
   "cell_type": "markdown",
   "id": "47e9ebfd",
   "metadata": {},
   "source": [
    "### Default entry with Show()"
   ]
  },
  {
   "cell_type": "code",
   "execution_count": null,
   "id": "69c136ee",
   "metadata": {},
   "outputs": [],
   "source": [
    "amorLeave.Show()"
   ]
  },
  {
   "cell_type": "markdown",
   "id": "b25702e4",
   "metadata": {},
   "source": [
    "## Conversion to Python Pandas Data Frame"
   ]
  },
  {
   "cell_type": "code",
   "execution_count": null,
   "id": "d4a9326e",
   "metadata": {},
   "outputs": [],
   "source": [
    "amorLeaveRdf = ROOT.RDataFrame(amorLeave)\n",
    "amorLeaveDict = amorLeaveRdf.AsNumpy()\n",
    "print(amorLeaveDict.keys())\n",
    "print([q.shape for q in amorLeaveDict.values()])"
   ]
  },
  {
   "cell_type": "code",
   "execution_count": null,
   "id": "91ff1a67",
   "metadata": {},
   "outputs": [],
   "source": [
    "amorLeaveMat = np.column_stack([q for q in amorLeaveDict.values()])\n",
    "amorLeaveMat.shape\n",
    "amorLeaveDf = pd.DataFrame(data=amorLeaveMat, columns=amorLeaveDict.keys())\n",
    "amorLeaveDf['pdgId'] = amorLeaveDf['pdgId'].astype(int)\n",
    "print(amorLeaveDf.columns)\n",
    "print(amorLeaveDf.shape)"
   ]
  },
  {
   "cell_type": "code",
   "execution_count": null,
   "id": "d14d4540",
   "metadata": {},
   "outputs": [],
   "source": [
    "amorLeaveDf.head()"
   ]
  },
  {
   "cell_type": "code",
   "execution_count": null,
   "id": "db895ee9",
   "metadata": {},
   "outputs": [],
   "source": [
    "amorLeaveDf.tail()"
   ]
  },
  {
   "cell_type": "code",
   "execution_count": null,
   "id": "71d0d103",
   "metadata": {},
   "outputs": [],
   "source": [
    "amorLeaveDf.describe()"
   ]
  },
  {
   "cell_type": "markdown",
   "id": "8f622e52",
   "metadata": {},
   "source": [
    "### Select positrons"
   ]
  },
  {
   "cell_type": "code",
   "execution_count": null,
   "id": "8d9c77cc",
   "metadata": {},
   "outputs": [],
   "source": [
    "positronId = 11\n",
    "positronLeaveDf = amorLeaveDf[amorLeaveDf['pdgId']==positronId]"
   ]
  },
  {
   "cell_type": "markdown",
   "id": "8063145d",
   "metadata": {},
   "source": [
    "### Deprecated method for conversion"
   ]
  },
  {
   "cell_type": "code",
   "execution_count": null,
   "id": "72bd521e",
   "metadata": {},
   "outputs": [],
   "source": [
    "amorLeaveMatDepr, amorLeaveLabelsDepr = amorLeave.AsMatrix(return_labels=True)\n",
    "print(amorLeaveLabelsDepr)\n",
    "print(amorLeaveMatDepr.shape)"
   ]
  },
  {
   "cell_type": "markdown",
   "id": "ab376f0f",
   "metadata": {},
   "source": [
    "## Import dataframe with standard format"
   ]
  },
  {
   "cell_type": "code",
   "execution_count": null,
   "id": "63b1f172",
   "metadata": {},
   "outputs": [],
   "source": [
    "positronLeaveDf = pd.read_fwf('ex_gen1_StandardDf.txt')"
   ]
  },
  {
   "cell_type": "markdown",
   "id": "2541b312",
   "metadata": {},
   "source": [
    "## Working with the Pandas Data Frame\n",
    "\n",
    "### Number of positrons after the target"
   ]
  },
  {
   "cell_type": "code",
   "execution_count": null,
   "id": "25e773b8",
   "metadata": {},
   "outputs": [],
   "source": [
    "print(positronLeaveDf.columns)\n",
    "print(positronLeaveDf.shape)"
   ]
  },
  {
   "cell_type": "code",
   "execution_count": null,
   "id": "b60bf566",
   "metadata": {},
   "outputs": [],
   "source": [
    "positronLeaveDf.describe()"
   ]
  },
  {
   "cell_type": "markdown",
   "id": "3dfde1ae",
   "metadata": {},
   "source": [
    "### Plot distribuiton"
   ]
  },
  {
   "cell_type": "code",
   "execution_count": null,
   "id": "cadcd6d2",
   "metadata": {},
   "outputs": [],
   "source": [
    "pzCutoff = 25.\n",
    "positronLowE = positronLeaveDf[positronLeaveDf['pz']<pzCutoff]\n",
    "\n",
    "color = positronLeaveDf['E'].to_numpy()\n",
    "color[color>pzCutoff] = pzCutoff\n",
    "binEdges = np.arange(0, np.max(positronLeaveDf['pz']), 5.)\n",
    "\n",
    "fig, ax = plt.subplots(2, 2)\n",
    "ax[0,0].scatter(positronLeaveDf['x'], positronLeaveDf['y'], 1, color)\n",
    "ax[1,0].hist(positronLeaveDf['x'], bins=100)\n",
    "ax[1,0].hist(positronLowE['x'], bins=100)\n",
    "ax[0,1].hist(positronLeaveDf['y'], bins=100, orientation='horizontal')\n",
    "ax[0,1].hist(positronLowE['y'], bins=100, orientation='horizontal')\n",
    "ax[1,0].set_xlim(ax[0,0].get_xlim())\n",
    "ax[0,1].set_ylim(ax[0,0].get_ylim())\n",
    "ax[0,0].set_xlabel('x [mm]')\n",
    "ax[0,0].set_ylabel('y [mm]')\n",
    "ax[0,0].yaxis.set_label_position('right')\n",
    "ax[0,0].yaxis.tick_right()\n",
    "ax[1,1].hist(positronLeaveDf['pz'], bins=binEdges)\n",
    "ax[1,1].hist(positronLowE['pz'], bins=binEdges)\n",
    "ax[1,1].set_xlabel('pz [MeV/c]')\n",
    "ax[1,1].set_xlim((0, 100.))\n",
    "ax[1,1].legend(('All', 'pz <= {:.1f} MeV/c'.format(pzCutoff)))\n",
    "plt.show()"
   ]
  },
  {
   "cell_type": "code",
   "execution_count": null,
   "id": "24a62e6c",
   "metadata": {},
   "outputs": [],
   "source": []
  }
 ],
 "metadata": {
  "kernelspec": {
   "display_name": "Python 3",
   "language": "python",
   "name": "python3"
  },
  "language_info": {
   "codemirror_mode": {
    "name": "ipython",
    "version": 3
   },
   "file_extension": ".py",
   "mimetype": "text/x-python",
   "name": "python",
   "nbconvert_exporter": "python",
   "pygments_lexer": "ipython3",
   "version": "3.8.10"
  }
 },
 "nbformat": 4,
 "nbformat_minor": 5
}
