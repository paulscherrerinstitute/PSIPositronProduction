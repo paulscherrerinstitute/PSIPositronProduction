{
 "cells": [
  {
   "cell_type": "code",
   "execution_count": null,
   "id": "11e4893f",
   "metadata": {},
   "outputs": [],
   "source": [
    "import os\n",
    "import numpy as np\n",
    "import pandas as pd\n",
    "import matplotlib\n",
    "import matplotlib.pyplot as plt\n",
    "import BeamDynamics as bd\n",
    "import copy"
   ]
  },
  {
   "cell_type": "code",
   "execution_count": null,
   "id": "eaf8d117",
   "metadata": {},
   "outputs": [],
   "source": [
    "from importlib import reload\n",
    "reload(bd)"
   ]
  },
  {
   "cell_type": "code",
   "execution_count": null,
   "id": "8e4c4dd0",
   "metadata": {},
   "outputs": [],
   "source": [
    "%matplotlib inline\n",
    "plt.rcParams['figure.figsize'] = [16, 9]\n",
    "plotFont = {\n",
    "    'family' : 'sans-serif',\n",
    "    'weight' : 'normal',\n",
    "    'size'   : 12\n",
    "}\n",
    "matplotlib.rc('font', **plotFont)\n",
    "plt.rc('legend', fontsize=10)\n",
    "defaultColorCycle = plt.rcParams[\"axes.prop_cycle\"]\n",
    "# %matplotlib notebook"
   ]
  },
  {
   "cell_type": "markdown",
   "id": "39f9e228",
   "metadata": {},
   "source": [
    "# Title"
   ]
  },
  {
   "cell_type": "markdown",
   "id": "735be2cf",
   "metadata": {},
   "source": [
    "## Section 1"
   ]
  },
  {
   "cell_type": "code",
   "execution_count": null,
   "id": "a157fcd7",
   "metadata": {},
   "outputs": [],
   "source": [
    "sdfFilePath = '../../FCCeeInjectorBeamApp/BeamDistrs/Positrons_200MeV_Yongke/CTSB-N02-F100-E06-S0.5-T5.0_HTSTest_JNov04_SolC_CLICTW-Ztc200-Ri15-Bc0.50.dat.sdf_txt'\n",
    "beamHtsClic = bd.load_standard_fwf(sdfFilePath)\n",
    "beamHtsClic.describe()"
   ]
  },
  {
   "cell_type": "code",
   "execution_count": null,
   "id": "7b59a18e",
   "metadata": {},
   "outputs": [],
   "source": [
    "plotDefs = [\n",
    "    {\n",
    "        'varName1': 'x', 'varName2': 'y',\n",
    "        'opacityHist': 0.6,\n",
    "    },\n",
    "    {\n",
    "        'varName1': 'x', 'varName2': 'xp',\n",
    "        'opacityHist': 0.6,\n",
    "    },\n",
    "    {\n",
    "        'varName1': 'y', 'varName2': 'yp',\n",
    "        'opacityHist': 0.6,\n",
    "    },\n",
    "    {\n",
    "        'varName1': 'z', 'varName2': 'pz',\n",
    "        'opacityHist': 0.6,\n",
    "    },\n",
    "    {\n",
    "        'varName1': 't', 'varName2': 'Ekin',\n",
    "        'opacityHist': 0.6,\n",
    "    },\n",
    "    {\n",
    "        'varName1': 't', 'varName2': 'pz',\n",
    "        'opacityHist': 0.6,\n",
    "    },\n",
    "]"
   ]
  },
  {
   "cell_type": "code",
   "execution_count": null,
   "id": "8cf1e567",
   "metadata": {},
   "outputs": [],
   "source": [
    "plotDefs[0]['lims1'] = (-30, 30.)   # [mm]\n",
    "plotDefs[0]['lims2'] = (-30., 30.)   # [mm]\n",
    "plotDefs[1]['lims1'] = plotDefs[0]['lims1']   # [mm]\n",
    "plotDefs[1]['lims2'] = (-25., 25.)   # [mrad]\n",
    "plotDefs[2]['lims1'] = plotDefs[0]['lims2']   # [mm]\n",
    "plotDefs[2]['lims2'] = (-25., 25.)   # [mrad]\n",
    "plotDefs[3]['lims1'] = (9999., 10001.)   # [mm]\n",
    "plotDefs[3]['lims2'] = (0., 400.)   # [MeV/c]\n",
    "plotDefs[4]['lims1'] = (62.82, 63.10)   # [ns]\n",
    "plotDefs[4]['lims2'] = plotDefs[3]['lims2']   # [MeV]\n",
    "plotDefs[5]['lims1'] = plotDefs[4]['lims1']   # [ns]\n",
    "plotDefs[5]['lims2'] = plotDefs[3]['lims2']   # [MeV/c]"
   ]
  },
  {
   "cell_type": "code",
   "execution_count": null,
   "id": "b2f38ebb",
   "metadata": {},
   "outputs": [],
   "source": [
    "filterSpecs = {\n",
    "    'x': plotDefs[1]['lims1'],\n",
    "    'xp': plotDefs[1]['lims2'],\n",
    "    'y': plotDefs[2]['lims1'],\n",
    "    'yp': plotDefs[2]['lims2'],\n",
    "}\n",
    "emitn = {}\n",
    "emitGeom = {}\n",
    "emitTraceSpace = {}\n",
    "alphaTwiss = {}\n",
    "betaTwiss = {}\n",
    "gammaTwiss = {}\n",
    "for planeName in ('x', 'y'):\n",
    "    emitn[planeName] = bd.compute_emittance(\n",
    "        beamHtsClic, planeName, norm='normalized', filterSpecs=filterSpecs\n",
    "    )\n",
    "    emitGeom[planeName] = bd.compute_emittance(\n",
    "        beamHtsClic, planeName, norm='geometric', filterSpecs=filterSpecs\n",
    "    )\n",
    "    emitTraceSpace[planeName] = bd.compute_emittance(\n",
    "        beamHtsClic, planeName, norm='tracespace', filterSpecs=filterSpecs\n",
    "    )\n",
    "    alphaTwiss[planeName], betaTwiss[planeName], gammaTwiss[planeName] = bd.compute_twiss(\n",
    "        beamHtsClic, planeName, filterSpecs=filterSpecs\n",
    "    )\n",
    "    print(\n",
    "        'emitn_{0:s} = {1:.1f} pi mm mrad, emitGeom_{0:s} = {2:.1f} pi mm mrad, emitTraceSpace_{0:s} = {3:.1f} pi mm mrad.'.format(\n",
    "            planeName, emitn[planeName], emitGeom[planeName], emitTraceSpace[planeName]\n",
    "        )\n",
    "    )\n",
    "    print(\n",
    "        'alphaTwiss_{0:s} = {1:.3f}, betaTwiss_{0:s} = {2:.3f} mm, gammaTwiss_{0:s} = {3:.3f} 1/mm.'.format(\n",
    "            planeName, alphaTwiss[planeName], betaTwiss[planeName], gammaTwiss[planeName]\n",
    "        )\n",
    "    )"
   ]
  },
  {
   "cell_type": "code",
   "execution_count": null,
   "id": "f0c38267",
   "metadata": {},
   "outputs": [],
   "source": [
    "selFa = 4.\n",
    "gaussianPortions = {1: 0.6827, 2: 0.9545, 3: 0.9973, 4: 0.999937, 6: 0.99999998}\n",
    "ellipseSpecs = {\n",
    "    'x': {'alphaTwiss': alphaTwiss['x'], 'betaTwiss': betaTwiss['x']},\n",
    "    'y': {'alphaTwiss': alphaTwiss['y'], 'betaTwiss': betaTwiss['y']}\n",
    "}\n",
    "for planes in (['x'], ['x', 'y']):\n",
    "    for Fa in (1., 2., 3., 4., 6.):\n",
    "        selEllipseSpecs = {k: v for k, v in ellipseSpecs.items() if k in planes}\n",
    "        distrWithinFaSigma, portionWithinFaSigma = bd.distr_within_ellipse(\n",
    "            beamHtsClic, Fa**2.*emitTraceSpace['x'], selEllipseSpecs\n",
    "        )\n",
    "        print(\n",
    "            'Portion within {:.1f} sigma: {:.3f} (vs. {:.3f} for Gaussian).'.format(\n",
    "                Fa, portionWithinFaSigma, gaussianPortions[Fa]\n",
    "            )\n",
    "        )"
   ]
  },
  {
   "cell_type": "markdown",
   "id": "2708e71a-232a-41bc-a09f-cc4c0d17d12f",
   "metadata": {},
   "source": [
    "## Reference values for FODO design"
   ]
  },
  {
   "cell_type": "code",
   "execution_count": null,
   "id": "343fc039-03f0-4563-a9a7-6d4c303a6cfa",
   "metadata": {
    "tags": []
   },
   "outputs": [],
   "source": [
    "emitnRef = 10e3   # [pi mm mrad]\n",
    "FaRef = 4.\n",
    "pRef = 200   # [MeV/c]\n",
    "betaGammaRef = bd.p_to_beta(pRef,-11) * bd.p_to_gamma(pRef,-11)\n",
    "betaGammaRef"
   ]
  },
  {
   "cell_type": "markdown",
   "id": "e1d392ee-33a0-4df3-9528-366d2dc6f437",
   "metadata": {},
   "source": [
    "## Select portion theoretically transported\n",
    "In the assumption of a monochromatic beam"
   ]
  },
  {
   "cell_type": "code",
   "execution_count": null,
   "id": "8f4a075e-469e-4ec1-8fc0-4d08a886fa6a",
   "metadata": {},
   "outputs": [],
   "source": [
    "refEllipseSpecs = {\n",
    "    'x': {'alphaTwiss': 0, 'betaTwiss': betaTwiss['x']},\n",
    "    'y': {'alphaTwiss': 0, 'betaTwiss': betaTwiss['y']}\n",
    "}\n",
    "FaList = (4., 3., 2., 1.)\n",
    "distrWithinRef = []\n",
    "for Fa in FaList:\n",
    "    distrWithinRef.append(bd.distr_within_ellipse(\n",
    "        beamHtsClic, Fa**2.*emitnRef/betaGammaRef, refEllipseSpecs\n",
    "    )[0])"
   ]
  },
  {
   "cell_type": "markdown",
   "id": "9bf0aa64-2593-4f20-9872-ae7ebe088672",
   "metadata": {},
   "source": [
    "## Plot"
   ]
  },
  {
   "cell_type": "code",
   "execution_count": null,
   "id": "300c5bf0",
   "metadata": {
    "tags": []
   },
   "outputs": [],
   "source": [
    "ax = bd.plot_distr(\n",
    "    [beamHtsClic, *distrWithinRef], plotDefs,\n",
    "    title='HTS AMD, CLIC L-band TW structs., Bz = 0.5 T', legendLabels=[\n",
    "        'Full distr.',\n",
    "        *['Within {:.1f} sigma'.format(Fa) for Fa in FaList]\n",
    "    ]\n",
    ")\n",
    "for ind, Fa in enumerate(FaList):\n",
    "    bd.plot_ellipse(\n",
    "        ax[1][0,0], Fa**2.*emitnRef/betaGammaRef, semiAxisOrder=2,\n",
    "        alphaTwiss=0, betaTwiss=betaTwiss['x'], color=ax[1][0,0].get_children()[ind+1].get_edgecolor()\n",
    "    )\n",
    "    bd.plot_ellipse(\n",
    "        ax[2][0,0], Fa**2.*emitnRef/betaGammaRef, semiAxisOrder=2,\n",
    "        alphaTwiss=0, betaTwiss=betaTwiss['y'], color=ax[2][0,0].get_children()[ind+1].get_edgecolor()\n",
    "    )"
   ]
  },
  {
   "cell_type": "markdown",
   "id": "8c2e2f67",
   "metadata": {},
   "source": [
    "<div class=\"alert alert-block alert-success\">\n",
    "Some good news.\n",
    "</div>"
   ]
  },
  {
   "cell_type": "markdown",
   "id": "eb6ca689",
   "metadata": {},
   "source": [
    "<div class=\"alert alert-block alert-warning\">\n",
    "Some warning.\n",
    "</div>"
   ]
  },
  {
   "cell_type": "markdown",
   "id": "4111ea5b",
   "metadata": {},
   "source": [
    "<div class=\"alert alert-block alert-danger\">\n",
    "Some danger.\n",
    "</div>"
   ]
  },
  {
   "cell_type": "code",
   "execution_count": null,
   "id": "2f2e637d",
   "metadata": {},
   "outputs": [],
   "source": []
  }
 ],
 "metadata": {
  "kernelspec": {
   "display_name": "Python 3 (ipykernel)",
   "language": "python",
   "name": "python3"
  },
  "language_info": {
   "codemirror_mode": {
    "name": "ipython",
    "version": 3
   },
   "file_extension": ".py",
   "mimetype": "text/x-python",
   "name": "python",
   "nbconvert_exporter": "python",
   "pygments_lexer": "ipython3",
   "version": "3.10.1"
  },
  "toc": {
   "base_numbering": 1,
   "nav_menu": {},
   "number_sections": true,
   "sideBar": true,
   "skip_h1_title": true,
   "title_cell": "Table of Contents",
   "title_sidebar": "Contents",
   "toc_cell": true,
   "toc_position": {},
   "toc_section_display": true,
   "toc_window_display": false
  }
 },
 "nbformat": 4,
 "nbformat_minor": 5
}
