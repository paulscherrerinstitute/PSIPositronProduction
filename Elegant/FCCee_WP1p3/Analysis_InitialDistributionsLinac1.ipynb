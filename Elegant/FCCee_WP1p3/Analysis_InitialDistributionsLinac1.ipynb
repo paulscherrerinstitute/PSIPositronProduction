{
 "cells": [
  {
   "cell_type": "code",
   "execution_count": null,
   "id": "11e4893f",
   "metadata": {},
   "outputs": [],
   "source": [
    "import os\n",
    "import numpy as np\n",
    "import pandas as pd\n",
    "import qtconsole\n",
    "import matplotlib\n",
    "import matplotlib.pyplot as plt\n",
    "import BeamDynamics as bd\n",
    "import copy\n",
    "try:\n",
    "    import ROOT\n",
    "except:\n",
    "    print('Root framework not available.')"
   ]
  },
  {
   "cell_type": "code",
   "execution_count": null,
   "id": "eaf8d117",
   "metadata": {},
   "outputs": [],
   "source": [
    "from importlib import reload\n",
    "reload(bd)"
   ]
  },
  {
   "cell_type": "code",
   "execution_count": null,
   "id": "f2718dff",
   "metadata": {},
   "outputs": [],
   "source": [
    "%qtconsole"
   ]
  },
  {
   "cell_type": "code",
   "execution_count": null,
   "id": "8e4c4dd0",
   "metadata": {},
   "outputs": [],
   "source": [
    "%matplotlib inline\n",
    "plt.rcParams['figure.figsize'] = [16, 9]\n",
    "plotFont = {\n",
    "    'family' : 'sans-serif',\n",
    "    'weight' : 'normal',\n",
    "    'size'   : 12\n",
    "}\n",
    "matplotlib.rc('font', **plotFont)\n",
    "plt.rc('legend', fontsize=10)\n",
    "defaultColorCycle = plt.rcParams[\"axes.prop_cycle\"]\n",
    "# %matplotlib notebook"
   ]
  },
  {
   "cell_type": "markdown",
   "id": "39f9e228",
   "metadata": {},
   "source": [
    "# Title"
   ]
  },
  {
   "cell_type": "markdown",
   "id": "7e20702c",
   "metadata": {
    "toc": true
   },
   "source": [
    "<h1>Table of Contents<span class=\"tocSkip\"></span></h1>\n",
    "<div class=\"toc\"><ul class=\"toc-item\"><li><span><a href=\"#Section-1\" data-toc-modified-id=\"Section-1-1\"><span class=\"toc-item-num\">1&nbsp;&nbsp;</span>Section 1</a></span></li></ul></div>"
   ]
  },
  {
   "cell_type": "markdown",
   "id": "735be2cf",
   "metadata": {},
   "source": [
    "## Section 1"
   ]
  },
  {
   "cell_type": "code",
   "execution_count": null,
   "id": "a157fcd7",
   "metadata": {},
   "outputs": [],
   "source": [
    "sdfFilePath = './Distributions_Positrons_200MeV_Yongke/CTSB-N02-F100-E06-S0.5-T5.0_HTSTest_JNov04_SolC_CLICTW-Ztc200-Ri15-Bc0.50.dat.sdf_txt'\n",
    "beamHtsClic = bd.load_standard_fwf(sdfFilePath)\n",
    "beamHtsClic.describe()"
   ]
  },
  {
   "cell_type": "code",
   "execution_count": null,
   "id": "7b59a18e",
   "metadata": {},
   "outputs": [],
   "source": [
    "plotDefs = [\n",
    "    {\n",
    "        'varName1': 'x', 'varName2': 'y',\n",
    "        'opacityHist': 0.5,\n",
    "    },\n",
    "    {\n",
    "        'varName1': 'x', 'varName2': 'xp',\n",
    "        'opacityHist': 0.5,\n",
    "    },\n",
    "    {\n",
    "        'varName1': 'y', 'varName2': 'yp',\n",
    "        'opacityHist': 0.5,\n",
    "    },\n",
    "    {\n",
    "        'varName1': 'z', 'varName2': 'pz',\n",
    "        'opacityHist': 0.5,\n",
    "    },\n",
    "    {\n",
    "        'varName1': 't', 'varName2': 'Ekin',\n",
    "        'opacityHist': 0.5,\n",
    "    },\n",
    "    {\n",
    "        'varName1': 't', 'varName2': 'pz',\n",
    "        'opacityHist': 0.5,\n",
    "    },\n",
    "]"
   ]
  },
  {
   "cell_type": "code",
   "execution_count": null,
   "id": "b2f38ebb",
   "metadata": {},
   "outputs": [],
   "source": [
    "filterSpecs = {\n",
    "    'x': plotDefs[1]['lims1'],\n",
    "    'xp': plotDefs[1]['lims2'],\n",
    "    'y': plotDefs[2]['lims1'],\n",
    "    'yp': plotDefs[2]['lims2'],\n",
    "}\n",
    "emitn = {}\n",
    "emitGeom = {}\n",
    "emitTraceSpace = {}\n",
    "alphaTwiss = {}\n",
    "betaTwiss = {}\n",
    "gammaTwiss = {}\n",
    "for planeName in ('x', 'y'):\n",
    "    emitn[planeName] = bd.compute_emittance(\n",
    "        beamHtsClic, planeName, norm='normalized', filterSpecs=filterSpecs\n",
    "    )\n",
    "    emitGeom[planeName] = bd.compute_emittance(\n",
    "        beamHtsClic, planeName, norm='geometric', filterSpecs=filterSpecs\n",
    "    )\n",
    "    emitTraceSpace[planeName] = bd.compute_emittance(\n",
    "        beamHtsClic, planeName, norm='tracespace', filterSpecs=filterSpecs\n",
    "    )\n",
    "    alphaTwiss[planeName], betaTwiss[planeName], gammaTwiss[planeName] = bd.compute_twiss(\n",
    "        beamHtsClic, planeName, filterSpecs=filterSpecs\n",
    "    )\n",
    "    print(\n",
    "        'emitn_{0:s} = {1:.1f} pi mm mrad, emitGeom_{0:s} = {2:.1f} pi mm mrad, emitTraceSpace_{0:s} = {3:.1f} pi mm mrad.'.format(\n",
    "            planeName, emitn[planeName], emitGeom[planeName], emitTraceSpace[planeName]\n",
    "        )\n",
    "    )\n",
    "    print(\n",
    "        'alphaTwiss_{0:s} = {1:.3f}, betaTwiss_{0:s} = {2:.3f} mm, gammaTwiss_{0:s} = {3:.3f} 1/mm.'.format(\n",
    "            planeName, alphaTwiss[planeName], betaTwiss[planeName], gammaTwiss[planeName]\n",
    "        )\n",
    "    )"
   ]
  },
  {
   "cell_type": "code",
   "execution_count": null,
   "id": "8cf1e567",
   "metadata": {},
   "outputs": [],
   "source": [
    "plotDefs[0]['lims1'] = (-25, 25.)   # [mm]\n",
    "plotDefs[0]['lims2'] = (-25., 25.)   # [mm]\n",
    "plotDefs[1]['lims1'] = plotDefs[0]['lims1']   # [mm]\n",
    "plotDefs[1]['lims2'] = (-25., 25.)   # [mrad]\n",
    "plotDefs[2]['lims1'] = plotDefs[0]['lims2']   # [mm]\n",
    "plotDefs[2]['lims2'] = (-25., 25.)   # [mrad]\n",
    "plotDefs[3]['lims1'] = (9999., 10001.)   # [mm]\n",
    "plotDefs[3]['lims2'] = (0., 400.)   # [MeV/c]\n",
    "plotDefs[4]['lims1'] = (62.82, 63.10)   # [ns]\n",
    "plotDefs[4]['lims2'] = plotDefs[3]['lims2']   # [MeV]\n",
    "plotDefs[5]['lims1'] = plotDefs[4]['lims1']   # [ns]\n",
    "plotDefs[5]['lims2'] = plotDefs[3]['lims2']   # [MeV/c]\n",
    "plotDefsIni = copy.deepcopy(plotDefs)"
   ]
  },
  {
   "cell_type": "code",
   "execution_count": null,
   "id": "300c5bf0",
   "metadata": {
    "scrolled": false
   },
   "outputs": [],
   "source": [
    "ax = bd.plot_distr(\n",
    "    [beamHtsClic], plotDefsIni,\n",
    "    title=\"Initial bunch\", legendLabels=['HTS AMD, CLIC RF structs.']\n",
    ")\n",
    "Fa = 6.\n",
    "bd.plot_ellipse(ax[1][0,0], alphaTwiss['x'], betaTwiss['x'], Fa*emitTraceSpace['x'], semiAxisOrder=2)\n",
    "bd.plot_ellipse(ax[2][0,0], alphaTwiss['y'], betaTwiss['y'], Fa*emitTraceSpace['y'], semiAxisOrder=2)"
   ]
  },
  {
   "cell_type": "code",
   "execution_count": null,
   "id": "f849050a",
   "metadata": {},
   "outputs": [],
   "source": [
    "import scipy.stats as scistats\n",
    "mu, sigma = scistats.norm.fit(beamHtsClic['x'])\n",
    "print(mu)\n",
    "print(sigma)"
   ]
  },
  {
   "cell_type": "code",
   "execution_count": null,
   "id": "b9e9aca5",
   "metadata": {},
   "outputs": [],
   "source": [
    "binEdges=np.linspace(-25., 25.)\n",
    "gaussFit = scistats.norm.pdf(binEdges, mu, sigma)\n",
    "gaussFit\n",
    "plt.plot(binEdges,gaussFit*beamHtsClic.shape[0]/2., orientation=orientation)"
   ]
  },
  {
   "cell_type": "markdown",
   "id": "8c2e2f67",
   "metadata": {
    "scrolled": false
   },
   "source": [
    "<div class=\"alert alert-block alert-success\">\n",
    "Some good news.\n",
    "</div>"
   ]
  },
  {
   "cell_type": "markdown",
   "id": "eb6ca689",
   "metadata": {
    "scrolled": false
   },
   "source": [
    "<div class=\"alert alert-block alert-warning\">\n",
    "Some warning.\n",
    "</div>"
   ]
  },
  {
   "cell_type": "markdown",
   "id": "4111ea5b",
   "metadata": {
    "scrolled": false
   },
   "source": [
    "<div class=\"alert alert-block alert-danger\">\n",
    "Some danger.\n",
    "</div>"
   ]
  },
  {
   "cell_type": "code",
   "execution_count": null,
   "id": "2f2e637d",
   "metadata": {},
   "outputs": [],
   "source": []
  }
 ],
 "metadata": {
  "kernelspec": {
   "display_name": "Python 3 (ipykernel)",
   "language": "python",
   "name": "python3"
  },
  "language_info": {
   "codemirror_mode": {
    "name": "ipython",
    "version": 3
   },
   "file_extension": ".py",
   "mimetype": "text/x-python",
   "name": "python",
   "nbconvert_exporter": "python",
   "pygments_lexer": "ipython3",
   "version": "3.10.1"
  },
  "toc": {
   "base_numbering": 1,
   "nav_menu": {},
   "number_sections": true,
   "sideBar": true,
   "skip_h1_title": true,
   "title_cell": "Table of Contents",
   "title_sidebar": "Contents",
   "toc_cell": true,
   "toc_position": {},
   "toc_section_display": true,
   "toc_window_display": false
  }
 },
 "nbformat": 4,
 "nbformat_minor": 5
}
