{
 "cells": [
  {
   "cell_type": "code",
   "execution_count": null,
   "id": "11e4893f",
   "metadata": {},
   "outputs": [],
   "source": [
    "import os\n",
    "import numpy as np\n",
    "import pandas as pd\n",
    "import qtconsole\n",
    "import matplotlib\n",
    "import matplotlib.pyplot as plt\n",
    "import BeamDynamics as bd\n",
    "try:\n",
    "    import ROOT\n",
    "except:\n",
    "    print('Root framework not available.')"
   ]
  },
  {
   "cell_type": "code",
   "execution_count": null,
   "id": "eaf8d117",
   "metadata": {},
   "outputs": [],
   "source": [
    "from importlib import reload\n",
    "reload(bd)"
   ]
  },
  {
   "cell_type": "code",
   "execution_count": null,
   "id": "f2718dff",
   "metadata": {},
   "outputs": [],
   "source": [
    "%qtconsole"
   ]
  },
  {
   "cell_type": "code",
   "execution_count": null,
   "id": "8e4c4dd0",
   "metadata": {},
   "outputs": [],
   "source": [
    "%matplotlib inline\n",
    "plt.rcParams['figure.figsize'] = [16, 9]\n",
    "# %matplotlib notebook"
   ]
  },
  {
   "cell_type": "markdown",
   "id": "39f9e228",
   "metadata": {},
   "source": [
    "# QuadOverRf\n",
    "\n",
    "Simple Elegant setup with a quadrupole superimposed to an RF accelerating structure."
   ]
  },
  {
   "cell_type": "code",
   "execution_count": null,
   "id": "3592acf0",
   "metadata": {},
   "outputs": [],
   "source": [
    "plotDefs = [\n",
    "    {\n",
    "        'varName1': 'x', 'varName2': 'y',\n",
    "        'opacity': 0.5,\n",
    "    },\n",
    "    {\n",
    "        'varName1': 'x', 'varName2': 'px',\n",
    "        'opacity': 0.5,\n",
    "    },\n",
    "    {\n",
    "        'varName1': 'y', 'varName2': 'py',\n",
    "        'opacity': 0.5,\n",
    "    },\n",
    "    {\n",
    "        'varName1': 'z', 'varName2': 'pz',\n",
    "        'opacity': 0.5,\n",
    "    },\n",
    "    {\n",
    "        'varName1': 't', 'varName2': 'Ekin',\n",
    "        'opacity': 0.5,\n",
    "    },\n",
    "    {\n",
    "        'varName1': 't', 'varName2': 'pz',\n",
    "        'opacity': 0.5,\n",
    "    },\n",
    "]"
   ]
  },
  {
   "cell_type": "markdown",
   "id": "bee3f05c",
   "metadata": {},
   "source": [
    "## Initial bunch"
   ]
  },
  {
   "cell_type": "code",
   "execution_count": null,
   "id": "3430aa9d",
   "metadata": {},
   "outputs": [],
   "source": [
    "sdfFilePath = './Nslices1/QuadOverRf.bun.sdf_txt'\n",
    "beamIni = bd.load_standard_fwf(sdfFilePath)\n",
    "beamIni.describe()"
   ]
  },
  {
   "cell_type": "code",
   "execution_count": null,
   "id": "1a688ab6",
   "metadata": {},
   "outputs": [],
   "source": [
    "sdfFilePath = './AstraReference/QuadOverRf.ini.sdf_txt'\n",
    "beamIniAstra = bd.load_standard_fwf(sdfFilePath)"
   ]
  },
  {
   "cell_type": "code",
   "execution_count": null,
   "id": "8510b304",
   "metadata": {
    "scrolled": true
   },
   "outputs": [],
   "source": [
    "beamIniAstra.sort_values('z', inplace=True)\n",
    "beamIniAstra.head()"
   ]
  },
  {
   "cell_type": "code",
   "execution_count": null,
   "id": "5af0c0e1",
   "metadata": {
    "scrolled": false
   },
   "outputs": [],
   "source": [
    "beamIniAstra.tail()"
   ]
  },
  {
   "cell_type": "code",
   "execution_count": null,
   "id": "d38de201",
   "metadata": {
    "scrolled": false
   },
   "outputs": [],
   "source": [
    "beamIniAstra.sort_values('Ekin', inplace=True)\n",
    "beamIniAstra.head()"
   ]
  },
  {
   "cell_type": "code",
   "execution_count": null,
   "id": "eac57841",
   "metadata": {},
   "outputs": [],
   "source": [
    "beamIniAstra.tail()"
   ]
  },
  {
   "cell_type": "code",
   "execution_count": null,
   "id": "e8487ea2",
   "metadata": {},
   "outputs": [],
   "source": [
    "plotDefs[0]['lims1'] = (-20, 20.)   # [mm]\n",
    "plotDefs[0]['lims2'] = (-60., 60.)   # [mm]\n",
    "plotDefs[1]['lims1'] = plotDefs[0]['lims1']   # [mm]\n",
    "plotDefs[1]['lims2'] = (-20., 20.)   # [MeV/c] -50 50\n",
    "plotDefs[2]['lims1'] = plotDefs[0]['lims2']   # [mm]\n",
    "plotDefs[2]['lims2'] = (-50., 50.)   # [MeV/c] -100 100\n",
    "plotDefs[3]['lims1'] = (-3., 3.)   # [mm]\n",
    "plotDefs[3]['lims2'] = (0., 400.)   # [MeV/c]\n",
    "plotDefs[4]['lims1'] = (-0.01, 0.01)   # [ns]\n",
    "plotDefs[4]['lims2'] = plotDefs[3]['lims2']   # [MeV]\n",
    "plotDefs[5]['lims1'] = plotDefs[4]['lims1']   # [ns]\n",
    "plotDefs[5]['lims2'] = plotDefs[3]['lims2']   # [MeV/c]"
   ]
  },
  {
   "cell_type": "code",
   "execution_count": null,
   "id": "affb8b5f",
   "metadata": {
    "scrolled": false
   },
   "outputs": [],
   "source": [
    "bd.plot_distr(\n",
    "    [beamIni, beamIniAstra], plotDefs,\n",
    "    title=\"Initial bunch\", legendLabels=['Elegant', 'Astra']\n",
    ")"
   ]
  },
  {
   "cell_type": "markdown",
   "id": "8db89b38",
   "metadata": {},
   "source": [
    "## Final bunch"
   ]
  },
  {
   "cell_type": "code",
   "execution_count": null,
   "id": "a1d6c4aa",
   "metadata": {},
   "outputs": [],
   "source": [
    "sdfFilePath = './Nslices1/QuadOverRf.out.sdf_txt'\n",
    "beamOut1 = bd.load_standard_fwf(sdfFilePath)\n",
    "beamOut1.describe()"
   ]
  },
  {
   "cell_type": "code",
   "execution_count": null,
   "id": "4eb133ff",
   "metadata": {
    "scrolled": false
   },
   "outputs": [],
   "source": [
    "sdfFilePath = './Nslices3/QuadOverRf.out.sdf_txt'\n",
    "beamOut3 = bd.load_standard_fwf(sdfFilePath)\n",
    "beamOut3.describe()"
   ]
  },
  {
   "cell_type": "code",
   "execution_count": null,
   "id": "d1bf71e0",
   "metadata": {},
   "outputs": [],
   "source": [
    "sdfFilePath = './Nslices6/QuadOverRf.out.sdf_txt'\n",
    "beamOut6 = bd.load_standard_fwf(sdfFilePath)\n",
    "beamOut6.describe()"
   ]
  },
  {
   "cell_type": "code",
   "execution_count": null,
   "id": "858eb884",
   "metadata": {
    "scrolled": true
   },
   "outputs": [],
   "source": [
    "sdfFilePath = './Nslices12/QuadOverRf.out.sdf_txt'\n",
    "beamOut12 = bd.load_standard_fwf(sdfFilePath)\n",
    "beamOut12.describe()"
   ]
  },
  {
   "cell_type": "code",
   "execution_count": null,
   "id": "a1385e8f",
   "metadata": {},
   "outputs": [],
   "source": [
    "sdfFilePath = './Nslices100/QuadOverRf.out.sdf_txt'\n",
    "beamOut100 = bd.load_standard_fwf(sdfFilePath)\n",
    "beamOut100.describe()"
   ]
  },
  {
   "cell_type": "code",
   "execution_count": null,
   "id": "09b7d6cc",
   "metadata": {},
   "outputs": [],
   "source": [
    "sdfFilePath = './AstraReference/QuadOverRf.0100.001_zProj500mm.sdf_txt'\n",
    "beamOutAstra = bd.load_standard_fwf(sdfFilePath)\n",
    "beamOutAstra.describe()"
   ]
  },
  {
   "cell_type": "code",
   "execution_count": null,
   "id": "be75faf7",
   "metadata": {},
   "outputs": [],
   "source": [
    "plotDefs[3]['lims1'] = (497., 503.)   # [mm]\n",
    "plotDefs[3]['lims2'] = (0., 400.)   # [MeV/c]\n",
    "plotDefs[4]['lims1'] = (1.655, 1.680)   # [ns]\n",
    "plotDefs[4]['lims2'] = plotDefs[3]['lims2']   # [MeV]\n",
    "plotDefs[5]['lims1'] = plotDefs[4]['lims1']   # [ns]\n",
    "plotDefs[5]['lims2'] = plotDefs[3]['lims2']   # [MeV/c]"
   ]
  },
  {
   "cell_type": "code",
   "execution_count": null,
   "id": "8c846ac1",
   "metadata": {
    "scrolled": false
   },
   "outputs": [],
   "source": [
    "bd.plot_distr(\n",
    "    [beamOut1, beamOutAstra], plotDefs,\n",
    "    title=\"Final bunch\", legendLabels=['Elegant', 'Astra']\n",
    ")"
   ]
  },
  {
   "cell_type": "markdown",
   "id": "12863796",
   "metadata": {},
   "source": [
    "## All verification tests"
   ]
  },
  {
   "cell_type": "markdown",
   "id": "2ca9ba64",
   "metadata": {},
   "source": [
    "### Positive drift space, DRIFT vs. EMATRIX"
   ]
  },
  {
   "cell_type": "code",
   "execution_count": null,
   "id": "ab4d3a9f",
   "metadata": {},
   "outputs": [],
   "source": [
    "sdfFilePath = './PositiveDrift/QuadOverRf1.out.sdf_txt'\n",
    "beamDriftPos = bd.load_standard_fwf(sdfFilePath)\n",
    "sdfFilePath = './PositiveDriftWithEmatrix/QuadOverRf1.out.sdf_txt'\n",
    "beamEmatrixPos = bd.load_standard_fwf(sdfFilePath)"
   ]
  },
  {
   "cell_type": "code",
   "execution_count": null,
   "id": "5f9e9280",
   "metadata": {
    "scrolled": false
   },
   "outputs": [],
   "source": [
    "bd.plot_distr(\n",
    "    [beamDriftPos, beamEmatrixPos], plotDefs,\n",
    "    title=\"Comparison, Positive drift, DRIFT vs. EMATRIX\", legendLabels=['DRIFT', 'EMATRIX']\n",
    ")"
   ]
  },
  {
   "cell_type": "markdown",
   "id": "61b38404",
   "metadata": {},
   "source": [
    "<div class=\"alert alert-block alert-success\">\n",
    "Verification succesfull, almost identical results. We know how to model a drift space with EMATRIX.\n",
    "</div><br />\n",
    "<div class=\"alert alert-block alert-success\">\n",
    "Side note: Using exactly the same initial bunch or regenerating it with the same random_number_seed provide identical results.\n",
    "</div><br />\n",
    "<div class=\"alert alert-block alert-warning\">\n",
    "Minimal difference in the longitudinal phase space for the particles in the tail of the bunch. Reason unknown.\n",
    "</div>"
   ]
  },
  {
   "cell_type": "markdown",
   "id": "0cf45fc7",
   "metadata": {},
   "source": [
    "### Negative drift space, EMATRIX vs. DRIFT"
   ]
  },
  {
   "cell_type": "code",
   "execution_count": null,
   "id": "8a68c8f6",
   "metadata": {},
   "outputs": [],
   "source": [
    "sdfFilePath = './NegativeDriftWithEmatrix/QuadOverRf1.out.sdf_txt'\n",
    "beamEmatrixNeg = bd.load_standard_fwf(sdfFilePath)"
   ]
  },
  {
   "cell_type": "code",
   "execution_count": null,
   "id": "9f53e530",
   "metadata": {
    "scrolled": false
   },
   "outputs": [],
   "source": [
    "bd.plot_distr(\n",
    "    [beamOut, beamEmatrixNeg], plotDefs,\n",
    "    title=\"Comparison, Negative drift, DRIFT vs. EMATRIX\", legendLabels=['DRIFT', 'EMATRIX']\n",
    ")"
   ]
  },
  {
   "cell_type": "markdown",
   "id": "5fd2eff1",
   "metadata": {},
   "source": [
    "<div class=\"alert alert-block alert-success\">\n",
    "Verification successful. We know how to model a negative drift with DRIFT.\n",
    "From the previous section we knew how to model a drift space with EMATRIX and used this as a reference in this test.\n",
    "</div>"
   ]
  },
  {
   "cell_type": "markdown",
   "id": "4792cfba",
   "metadata": {},
   "source": [
    "### Initial bunch with vanishing longitudinal emittance, Elegant vs. Astra"
   ]
  },
  {
   "cell_type": "code",
   "execution_count": null,
   "id": "50b640c5",
   "metadata": {},
   "outputs": [],
   "source": [
    "sdfFilePath = './Nslices1_VanishingLongEmit/QuadOverRf.bun.sdf_txt'\n",
    "beamIni = bd.load_standard_fwf(sdfFilePath)"
   ]
  },
  {
   "cell_type": "code",
   "execution_count": null,
   "id": "0f9f4b68",
   "metadata": {},
   "outputs": [],
   "source": [
    "beamIni.head()"
   ]
  },
  {
   "cell_type": "code",
   "execution_count": null,
   "id": "d9cc1572",
   "metadata": {
    "scrolled": false
   },
   "outputs": [],
   "source": [
    "beamIni.describe()"
   ]
  },
  {
   "cell_type": "code",
   "execution_count": null,
   "id": "1e10f518",
   "metadata": {},
   "outputs": [],
   "source": [
    "sdfFilePath = './AstraReference_VanishingLongEmit/QuadOverRf.ini.sdf_txt'\n",
    "beamIniAstra = bd.load_standard_fwf(sdfFilePath)"
   ]
  },
  {
   "cell_type": "code",
   "execution_count": null,
   "id": "cadcd6d2",
   "metadata": {
    "scrolled": false
   },
   "outputs": [],
   "source": [
    "bd.plot_distr(\n",
    "    [beamIni, beamIniAstra], plotDefs,\n",
    "    title=\"Initial bunch\", legendLabels=['Elegant', 'Astra']\n",
    ")"
   ]
  },
  {
   "cell_type": "markdown",
   "id": "ab376f0f",
   "metadata": {},
   "source": [
    "### Final bunch with vanishing longitudinal emittance after tracking, Elegant vs. Astra"
   ]
  },
  {
   "cell_type": "code",
   "execution_count": null,
   "id": "1efe7aaa",
   "metadata": {
    "scrolled": false
   },
   "outputs": [],
   "source": [
    "sdfFilePath = './Nslices1_VanishingLongEmit/QuadOverRf.out.sdf_txt'\n",
    "beamOutVanishLongEmit = bd.load_standard_fwf(sdfFilePath)\n",
    "beamOutVanishLongEmit.describe()"
   ]
  },
  {
   "cell_type": "code",
   "execution_count": null,
   "id": "67e0036f",
   "metadata": {},
   "outputs": [],
   "source": [
    "sdfFilePath = './AstraReference_VanishingLongEmit/QuadOverRf1.0050.001.sdf_txt'\n",
    "beamOutAstraVanishLongEmit = bd.load_standard_fwf(sdfFilePath)\n",
    "beamOutAstraVanishLongEmit.describe()"
   ]
  },
  {
   "cell_type": "code",
   "execution_count": null,
   "id": "305f31e1",
   "metadata": {},
   "outputs": [],
   "source": [
    "plotDefs[0]['lims1'] = (-20., 20.)   # [mm]\n",
    "plotDefs[0]['lims2'] = (-50., 50.)   # [mm]\n",
    "plotDefs[1]['lims1'] = plotDefs[0]['lims1']   # [mm]\n",
    "plotDefs[1]['lims2'] = (-20., 20.)   # [MeV/c]\n",
    "plotDefs[2]['lims1'] = plotDefs[0]['lims2']   # [mm]\n",
    "plotDefs[2]['lims2'] = (-50., 50.)   # [MeV/c]\n",
    "plotDefs[3]['lims1'] = (498., 501.)   # [mm]\n",
    "plotDefs[3]['lims2'] = (207., 210.)   # [MeV/c]\n",
    "plotDefs[4]['lims1'] = (1.667, 1.674)   # [ns]\n",
    "plotDefs[4]['lims2'] = plotDefs[3]['lims2']   # [MeV]\n",
    "plotDefs[5]['lims1'] = plotDefs[4]['lims1']   # [ns]\n",
    "plotDefs[5]['lims2'] = plotDefs[3]['lims2']   # [MeV/c]"
   ]
  },
  {
   "cell_type": "code",
   "execution_count": null,
   "id": "75822bb2",
   "metadata": {
    "scrolled": false
   },
   "outputs": [],
   "source": [
    "bd.plot_distr(\n",
    "    [beamOutVanishLongEmit, beamOutAstraVanishLongEmit], plotDefs,\n",
    "    title=\"Final bunch, vanishing longitudinal emittance\", legendLabels=['Elegant', 'Astra']\n",
    ")"
   ]
  },
  {
   "cell_type": "markdown",
   "id": "146ef173",
   "metadata": {},
   "source": [
    "### Only quadrupole with longitudinal emittance"
   ]
  },
  {
   "cell_type": "code",
   "execution_count": null,
   "id": "20d9bb34",
   "metadata": {},
   "outputs": [],
   "source": [
    "sdfFilePath = './Nslices1_NoRf/QuadOverRf.out.sdf_txt'\n",
    "beamOutNoRf = bd.load_standard_fwf(sdfFilePath)\n",
    "beamOutNoRf.describe()"
   ]
  },
  {
   "cell_type": "code",
   "execution_count": null,
   "id": "487f7f03",
   "metadata": {},
   "outputs": [],
   "source": [
    "sdfFilePath = './AstraReference_NoRf/QuadOverRf.0100.001_zProj500mm.sdf_txt'\n",
    "beamOutAstraNoRf = bd.load_standard_fwf(sdfFilePath)\n",
    "beamOutAstraNoRf.describe()"
   ]
  },
  {
   "cell_type": "code",
   "execution_count": null,
   "id": "8f4ebc01",
   "metadata": {
    "scrolled": false
   },
   "outputs": [],
   "source": [
    "bd.plot_distr(\n",
    "    [beamOutNoRf, beamOutAstraNoRf], plotDefs,\n",
    "    title=\"Final bunch, no RF\", legendLabels=['Elegant', 'Astra']\n",
    ")"
   ]
  },
  {
   "cell_type": "markdown",
   "id": "b4ffdf9e",
   "metadata": {},
   "source": [
    "### Difference with and without RF (stronger fileds by a factor 4)"
   ]
  },
  {
   "cell_type": "code",
   "execution_count": null,
   "id": "d2ec36cb",
   "metadata": {},
   "outputs": [],
   "source": [
    "plotDefs[0]['lims1'] = (-20., 20.)   # [mm]\n",
    "plotDefs[0]['lims2'] = (-200., 200.)   # [mm]\n",
    "plotDefs[1]['lims1'] = plotDefs[0]['lims1']   # [mm]\n",
    "plotDefs[1]['lims2'] = (-20., 20.)   # [MeV/c]\n",
    "plotDefs[2]['lims1'] = plotDefs[0]['lims2']   # [mm]\n",
    "plotDefs[2]['lims2'] = (-450., 450.)   # [MeV/c]\n",
    "plotDefs[3]['lims1'] = (460., 530.)   # [mm]\n",
    "plotDefs[3]['lims2'] = (-50., 400.)   # [MeV/c]\n",
    "plotDefs[4]['lims1'] = (1.65, 1.75)   # [ns]\n",
    "plotDefs[4]['lims2'] = plotDefs[3]['lims2']   # [MeV]\n",
    "plotDefs[5]['lims1'] = plotDefs[4]['lims1']   # [ns]\n",
    "plotDefs[5]['lims2'] = plotDefs[3]['lims2']   # [MeV/c]"
   ]
  },
  {
   "cell_type": "code",
   "execution_count": null,
   "id": "0e7a16f7",
   "metadata": {},
   "outputs": [],
   "source": [
    "sdfFilePath = './Nslices1_NoRf_StrongerQuad4/QuadOverRf.out.sdf_txt'\n",
    "beamOutNoRf4 = bd.load_standard_fwf(sdfFilePath)\n",
    "beamOutNoRf4.describe()"
   ]
  },
  {
   "cell_type": "code",
   "execution_count": null,
   "id": "b5e718ce",
   "metadata": {},
   "outputs": [],
   "source": [
    "sdfFilePath = './AstraReference_NoRf_StrongerQuad4/QuadOverRf.0100.001_zProj500mm.sdf_txt'\n",
    "beamOutAstraNoRf4 = bd.load_standard_fwf(sdfFilePath)\n",
    "beamOutAstraNoRf4.describe()"
   ]
  },
  {
   "cell_type": "code",
   "execution_count": null,
   "id": "a55ab2dd",
   "metadata": {
    "scrolled": false
   },
   "outputs": [],
   "source": [
    "bd.plot_distr(\n",
    "    [beamOutNoRf4, beamOutAstraNoRf4], plotDefs,\n",
    "    title=\"Final bunch, no RF, stronger quad 4\", legendLabels=['Elegant', 'Astra']\n",
    ")"
   ]
  },
  {
   "cell_type": "code",
   "execution_count": null,
   "id": "ff9db646",
   "metadata": {},
   "outputs": [],
   "source": [
    "# sdfFilePath = './Nslices1_StrongerQuad4/QuadOverRf.out.sdf_txt'\n",
    "sdfFilePath = './Nslices1_StrongerQuadAndRf4/QuadOverRf.out.sdf_txt'\n",
    "# sdfFilePath = './Nslices100_StrongerQuadAndRf4/QuadOverRf.out.sdf_txt'\n",
    "beamOutRf = bd.load_standard_fwf(sdfFilePath)"
   ]
  },
  {
   "cell_type": "code",
   "execution_count": null,
   "id": "c1f455ca",
   "metadata": {},
   "outputs": [],
   "source": [
    "# sdfFilePath = './AstraReference_StrongerQuad4/QuadOverRf.0050.001.sdf_txt'\n",
    "sdfFilePath = './AstraReference_StrongerQuadAndRf4/QuadOverRf.0050.001.sdf_txt'\n",
    "beamOutAstraRf = bd.load_standard_fwf(sdfFilePath)"
   ]
  },
  {
   "cell_type": "code",
   "execution_count": null,
   "id": "d7961255",
   "metadata": {
    "scrolled": false
   },
   "outputs": [],
   "source": [
    "bd.plot_distr(\n",
    "    [beamOutAstraRf, beamOutAstraNoRf], plotDefs,\n",
    "    title=\"Final bunch, Astra\", legendLabels=['With RF', 'Without RF']\n",
    ")"
   ]
  },
  {
   "cell_type": "code",
   "execution_count": null,
   "id": "6b46e6ad",
   "metadata": {
    "scrolled": true
   },
   "outputs": [],
   "source": [
    "bd.plot_distr(\n",
    "    [beamOutRf, beamOutNoRf], plotDefs,\n",
    "    title=\"Final bunch, Elegant\", legendLabels=['With RF', 'Without RF']\n",
    ")"
   ]
  },
  {
   "cell_type": "code",
   "execution_count": null,
   "id": "bcf8d563",
   "metadata": {
    "scrolled": false
   },
   "outputs": [],
   "source": [
    "bd.plot_distr(\n",
    "    [beamOutRf, beamOutAstraRf], plotDefs,\n",
    "    title=\"Final bunch, Stronger fields (factor 4)\", legendLabels=['Elegant', 'Astra']\n",
    ")"
   ]
  },
  {
   "cell_type": "code",
   "execution_count": null,
   "id": "84fd4d2b",
   "metadata": {},
   "outputs": [],
   "source": []
  }
 ],
 "metadata": {
  "kernelspec": {
   "display_name": "Python 3 (ipykernel)",
   "language": "python",
   "name": "python3"
  },
  "language_info": {
   "codemirror_mode": {
    "name": "ipython",
    "version": 3
   },
   "file_extension": ".py",
   "mimetype": "text/x-python",
   "name": "python",
   "nbconvert_exporter": "python",
   "pygments_lexer": "ipython3",
   "version": "3.9.6"
  }
 },
 "nbformat": 4,
 "nbformat_minor": 5
}
