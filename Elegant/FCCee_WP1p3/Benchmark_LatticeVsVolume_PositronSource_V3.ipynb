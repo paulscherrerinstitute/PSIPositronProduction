{
 "cells": [
  {
   "cell_type": "code",
   "execution_count": null,
   "id": "11e4893f",
   "metadata": {},
   "outputs": [],
   "source": [
    "import os\n",
    "import numpy as np\n",
    "import pandas as pd\n",
    "import matplotlib\n",
    "import matplotlib.pyplot as plt\n",
    "import BeamDynamics as bd\n",
    "import SimulationData as sd\n",
    "import RFTrackTools as rfttools\n",
    "import copy\n",
    "import json"
   ]
  },
  {
   "cell_type": "code",
   "execution_count": null,
   "id": "eaf8d117",
   "metadata": {},
   "outputs": [],
   "source": [
    "from importlib import reload\n",
    "reload(bd)\n",
    "reload(rfttools)"
   ]
  },
  {
   "cell_type": "code",
   "execution_count": null,
   "id": "8e4c4dd0",
   "metadata": {},
   "outputs": [],
   "source": [
    "# %matplotlib inline\n",
    "# %matplotlib notebook\n",
    "%matplotlib widget\n",
    "plt.rcParams['figure.figsize'] = [9.6, 6.4]\n",
    "defaultColorCycle = plt.rcParams[\"axes.prop_cycle\"].by_key()['color']\n",
    "# plotFont = {\n",
    "#     'family' : 'sans-serif',\n",
    "#     'weight' : 'normal',\n",
    "#     'size'   : 12\n",
    "# }\n",
    "# matplotlib.rc('font', **plotFont)\n",
    "# plt.rc('legend', fontsize=10)"
   ]
  },
  {
   "cell_type": "markdown",
   "id": "39f9e228",
   "metadata": {},
   "source": [
    "# RF-Track, Volume vs. Lattice for the Positron Capture Linac V0 (Yongke Tool V3)\n",
    "\n",
    "* Compare RF-Track simulations of the same physics with different modeling:\n",
    "  * Tracking with Volume in the first part of the AMD + tracking with Lattice in a homogeneous solenoidal channel with RF acceleration (Yongke's variant)\n",
    "  * Full tracking in Volume (Mattia's variant)\n",
    "* Compare simulations with homogeneous solenoidal channel vs. realistic fieldmaps of solenoids"
   ]
  },
  {
   "cell_type": "markdown",
   "id": "7e90f8c0-bd34-4a59-8622-56630a3222cc",
   "metadata": {},
   "source": [
    "## Distributions at the End of Capture Linac (After 5 RF Structures, ~ 200 MeV)"
   ]
  },
  {
   "cell_type": "markdown",
   "id": "94a6c392-0538-4b06-81e3-3a664821f70c",
   "metadata": {},
   "source": [
    "### Volume + Lattice, Yongke's Variant (Octave, Original)"
   ]
  },
  {
   "cell_type": "code",
   "execution_count": null,
   "id": "c3e4481c-bf5e-4e2c-84a8-3b739bcdcbfb",
   "metadata": {},
   "outputs": [],
   "source": [
    "DISTR_REL_PATH = '../../Data/RFTrackResults/YongkeTool_V3/CaptureLinacUpTo200MeV_LBandLargeR/RF200MeVOutputPositrons_E6GeV_SpotSize0.5mm_EmittXY15um_ConvTarget5X0_HTS_0.5T_LargeRLband.dat'\n",
    "# DISTR_REL_PATH = '../../RFTrack/YongkeTool_V3/Dat/LatestSim/RF200MeVOutputPositrons_E6GeV_SpotSize0.5mm_EmittXY15um_ConvTarget5X0_HTS_0.5T_LargeRLband.dat'\n",
    "OCTAVE_MATRIX_NAME = 'A_RF'\n",
    "RFTRACK_FORMAT = 'rftrack_xp_t'\n",
    "FILTER_SPECS_SELECTOR = None\n",
    "beamRfOutYon, _ = bd.convert_rftrack_to_standard_df(\n",
    "    sourceFilePath=DISTR_REL_PATH, octaveMatrixName=OCTAVE_MATRIX_NAME, rftrackDfFormat=RFTRACK_FORMAT,\n",
    "    filterSpecsSelector=FILTER_SPECS_SELECTOR, s=np.nan, pdgId=-11\n",
    ")\n",
    "beamRfOutYon.describe()"
   ]
  },
  {
   "cell_type": "markdown",
   "id": "b1c29b79-f6ce-484b-9aa6-b5adcd0149a4",
   "metadata": {},
   "source": [
    "### Volume, Mattia's Variant (Python)"
   ]
  },
  {
   "cell_type": "code",
   "execution_count": null,
   "id": "68fff6d8-d977-44cd-8e74-71f6a72b0f2b",
   "metadata": {},
   "outputs": [],
   "source": [
    "DISTR_REL_PATH = '../../Data/RFTrackResults/CaptureLinac/CaptureLinacUpTo200MeV_LBandLargeR/DistrOut_After1stTracking_6d.sdf_txt'\n",
    "# DISTR_REL_PATH = '../../Results_CaptureLinac/LatestSim/DistrOut_After1stTracking_6d.sdf_txt'\n",
    "beamRfOutTia = bd.load_standard_fwf(DISTR_REL_PATH)\n",
    "beamRfOutTia.describe()"
   ]
  },
  {
   "cell_type": "markdown",
   "id": "69f45b3a-a4f6-4942-80a2-a87c35ad344e",
   "metadata": {},
   "source": [
    "### Volume, Realistic Solenoids"
   ]
  },
  {
   "cell_type": "markdown",
   "id": "de42225d-5e21-4678-bb18-0ea37049a113",
   "metadata": {},
   "source": [
    "#### Solenoid Type 1 (Short)"
   ]
  },
  {
   "cell_type": "code",
   "execution_count": null,
   "id": "9381c5f7-7750-4dd0-bf64-19b82306a761",
   "metadata": {},
   "outputs": [],
   "source": [
    "DISTR_REL_PATH = '../../Data/RFTrackResults/CaptureLinac/CaptureLinacUpTo200MeV_LBandLargeR_RealSolenoids_Type1/DistrOut_After1stTracking_6d.sdf_txt'\n",
    "# DISTR_REL_PATH = '../../Results_CaptureLinac/LatestSim/DistrOut_After1stTracking_6d.sdf_txt'\n",
    "beamRfOutRealSol1 = bd.load_standard_fwf(DISTR_REL_PATH)\n",
    "beamRfOutRealSol1.describe()"
   ]
  },
  {
   "cell_type": "markdown",
   "id": "cc8a8761-8b22-48c8-91a1-c26825834cf3",
   "metadata": {},
   "source": [
    "#### Combination of Solenoid Type 1 (Short) and Type 2 (Long)"
   ]
  },
  {
   "cell_type": "code",
   "execution_count": null,
   "id": "79bc96fb-931f-41f6-a839-c9f15fb48b4b",
   "metadata": {},
   "outputs": [],
   "source": [
    "DISTR_REL_PATH = '../../Data/RFTrackResults/CaptureLinac/CaptureLinacUpTo200MeV_LBandLargeR_RealSolenoids_Type1and2/DistrOut_After1stTracking_6d.sdf_txt'\n",
    "# DISTR_REL_PATH = '../../Results_CaptureLinac/LatestSim/DistrOut_After1stTracking_6d.sdf_txt'\n",
    "beamRfOutRealSol2 = bd.load_standard_fwf(DISTR_REL_PATH)\n",
    "beamRfOutRealSol2.describe()"
   ]
  },
  {
   "cell_type": "markdown",
   "id": "61b91373-0ba1-477d-9d11-5dc7a5ae9050",
   "metadata": {},
   "source": [
    "#### Combination of Solenoid Type 1 (Short) and Type 2 (Long), Target Exit at +35 mm"
   ]
  },
  {
   "cell_type": "code",
   "execution_count": null,
   "id": "033f5ab5-3036-4c23-bec8-098086920aaf",
   "metadata": {},
   "outputs": [],
   "source": [
    "DISTR_REL_PATH = '../../Data/RFTrackResults/CaptureLinac/CaptureLinacUpTo200MeV_LBandLargeR_RealSolenoids_Type1and2_TargetAt35mm/DistrOut_After1stTracking_6d.sdf_txt'\n",
    "# DISTR_REL_PATH = '../../Results_CaptureLinac/LatestSim/DistrOut_After1stTracking_6d.sdf_txt'\n",
    "beamRfOutRealSol3 = bd.load_standard_fwf(DISTR_REL_PATH)\n",
    "beamRfOutRealSol3.describe()"
   ]
  },
  {
   "cell_type": "markdown",
   "id": "07c7d6d7-a749-4397-871f-93fdbc41ee4a",
   "metadata": {},
   "source": [
    "### Compare Distributions"
   ]
  },
  {
   "cell_type": "code",
   "execution_count": null,
   "id": "016b82ee-c9d1-4c45-b229-4c62d721b2b3",
   "metadata": {
    "tags": []
   },
   "outputs": [],
   "source": [
    "plotSets = ['TransvPlane', 'TransvPsAngles', 'LongPsT']\n",
    "plotDefs = bd.set_plot_defs_from_distrs([beamRfOutYon, beamRfOutTia], setNames=plotSets)\n",
    "_ = bd.plot_distr(\n",
    "    [beamRfOutYon, beamRfOutTia],\n",
    "    plotDefs, markerStyle=['o', 'x'], legendLabels=['Volume + Lattice', 'Volume']\n",
    ")"
   ]
  },
  {
   "cell_type": "code",
   "execution_count": null,
   "id": "f8235e58-f7a6-4adb-9373-ddb59d6b6cb1",
   "metadata": {},
   "outputs": [],
   "source": [
    "plotDefs = bd.set_plot_defs_from_distrs([beamRfOutTia, beamRfOutRealSol1, beamRfOutRealSol2, beamRfOutRealSol3], setNames=plotSets)\n",
    "_ = bd.plot_distr(\n",
    "    [beamRfOutTia, beamRfOutRealSol1, beamRfOutRealSol2, beamRfOutRealSol3],\n",
    "    plotDefs, markerStyle=['x', '+', '+', 'o'],\n",
    "    legendLabels=['Homog. sol. field', 'Solenoid type 1', 'Solenoid type 1 and 2', 'Solenoid type 1 and 2, target exit at +35 mm']\n",
    ")"
   ]
  },
  {
   "cell_type": "markdown",
   "id": "2025f16b-6875-425b-bf68-3640dca6a897",
   "metadata": {},
   "source": [
    "## Transport Along the Linac"
   ]
  },
  {
   "cell_type": "markdown",
   "id": "7af091d4-d655-457c-976e-a8050a4850ec",
   "metadata": {},
   "source": [
    "### Volume + Lattice (Yongke) vs. Volume Only (Mattia)"
   ]
  },
  {
   "cell_type": "code",
   "execution_count": null,
   "id": "4f6c7934-a309-4b8d-8035-7151900b755c",
   "metadata": {},
   "outputs": [],
   "source": [
    "reload(rfttools)\n",
    "\n",
    "SIM_REL_PATH_VOL = '../../Data/RFTrackResults/CaptureLinac/CaptureLinacUpTo200MeV_LBandLargeR'\n",
    "SIM_REL_PATH_VOLLAT = '../../Data/RFTrackResults/YongkeTool_V3/CaptureLinacUpTo200MeV_LBandLargeR'\n",
    "#\n",
    "# SIM_REL_PATH_VOL = '../../Results_CaptureLinac/LatestSim'\n",
    "# SIM_REL_PATH_VOLLAT = '../../RFTrack/YongkeTool_V3/Dat/LatestSim'\n",
    "#\n",
    "fig1, ax1l = plt.subplots(3, 1, figsize=(9.6, 6.4))\n",
    "ax1r = []\n",
    "for ax in ax1l:\n",
    "    ax1r.append(ax.twinx())\n",
    "ax1 = [None] * (len(ax1l) + len(ax1r))\n",
    "ax1[::2] = ax1l\n",
    "ax1[1::2] = ax1r\n",
    "sShiftEMFields = 236.3e-3  # [m]\n",
    "rfttools.load_plot_transport(ax1, SIM_REL_PATH_VOLLAT, sShiftEMFields=sShiftEMFields)\n",
    "rfttools.load_plot_transport(ax1, SIM_REL_PATH_VOL)\n",
    "ax1[0].legend(['Volume + Lattice', 'Volume'], loc='upper center', bbox_to_anchor=(0.5, 1.3), ncol=2)\n",
    "_ = ax1[2].set_ylim([0, 200.])"
   ]
  },
  {
   "cell_type": "markdown",
   "id": "4ce15ddb-fdfe-4670-9961-ff2c741916a2",
   "metadata": {},
   "source": [
    "### Homogeneous Solenoidal Channel Vs. Realistic Solenoids (2 Variants)"
   ]
  },
  {
   "cell_type": "code",
   "execution_count": null,
   "id": "6f7d47ca-353f-495d-a97a-3318d86bf1dd",
   "metadata": {},
   "outputs": [],
   "source": [
    "SIM_REL_PATH_HOMOG = '../../Data/RFTrackResults/CaptureLinac/CaptureLinacUpTo200MeV_LBandLargeR'\n",
    "SIM_REL_PATH_REAL_1 = '../../Data/RFTrackResults/CaptureLinac/CaptureLinacUpTo200MeV_LBandLargeR_RealSolenoids_Type1'\n",
    "SIM_REL_PATH_REAL_2 = '../../Data/RFTrackResults/CaptureLinac/CaptureLinacUpTo200MeV_LBandLargeR_RealSolenoids_Type1and2'\n",
    "# SIM_REL_PATH_REAL_2 = '../../Data/RFTrackResults/CaptureLinac/CaptureLinacUpTo200MeV_LBandLargeR_RealSolenoids_Type1and2_TargetAt35mm'\n",
    "fig1, ax1l = plt.subplots(3, 1, figsize=(9.6, 6.4))\n",
    "ax1r = []\n",
    "for ax in ax1l:\n",
    "    ax1r.append(ax.twinx())\n",
    "ax1 = [None] * (len(ax1l) + len(ax1r))\n",
    "ax1[::2] = ax1l\n",
    "ax1[1::2] = ax1r\n",
    "sShiftEMFields = 0  #225.3e-3  # [m]\n",
    "rfttools.load_plot_transport(ax1, SIM_REL_PATH_HOMOG, sShiftEMFields=sShiftEMFields)\n",
    "rfttools.load_plot_transport(ax1, SIM_REL_PATH_REAL_1)\n",
    "rfttools.load_plot_transport(ax1, SIM_REL_PATH_REAL_2)\n",
    "ax1[0].legend(\n",
    "    ['Homog. sol. field 0.5 T', 'Solenoid type 1', 'Solenoid type 1 + 2'],\n",
    "    loc='upper center', bbox_to_anchor=(0.5, 1.3), ncol=3\n",
    ")\n",
    "# ax1[0].set_xlim([0, 8.])\n",
    "# ax1[0].set_ylim([0.34, 0.54])\n",
    "ax1[1].set_visible(False)\n",
    "# ax1[1].clear()\n",
    "_ = ax1[2].set_ylim([0, 200.])"
   ]
  },
  {
   "cell_type": "markdown",
   "id": "e083f8e0-babd-4093-9338-e8af378f0961",
   "metadata": {},
   "source": [
    "### Check Constant Aperture Along Linac is OK"
   ]
  },
  {
   "cell_type": "code",
   "execution_count": null,
   "id": "bfeed64f-4dfb-4bce-8389-bece68f0e434",
   "metadata": {},
   "outputs": [],
   "source": [
    "SIM_REL_PATH = '../../Data/RFTrackResults/CaptureLinac/CaptureLinacUpTo200MeV_LBandLargeR_RealSolenoids_Type1_SmallSpacingErr'\n",
    "SIM_REL_PATH_CONST_APERT = '../../Data/RFTrackResults/CaptureLinac/CaptureLinacUpTo200MeV_LBandLargeR_RealSolenoids_Type1_SmallSpacingErr_ConstAperture'\n",
    "fig1, ax1l = plt.subplots(3, 1, figsize=(9.6, 6.4))\n",
    "ax1r = []\n",
    "for ax in ax1l:\n",
    "    ax1r.append(ax.twinx())\n",
    "ax1 = [None] * (len(ax1l) + len(ax1r))\n",
    "ax1[::2] = ax1l\n",
    "ax1[1::2] = ax1r\n",
    "sShiftEMFields = 0  #225.3e-3  # [m]\n",
    "rfttools.load_plot_transport(ax1, SIM_REL_PATH, sShiftEMFields=sShiftEMFields)\n",
    "rfttools.load_plot_transport(ax1, SIM_REL_PATH_CONST_APERT)\n",
    "ax1[0].legend(['Homog. sol. field 0.5 T', 'Realistic solenoid'], loc='upper center', bbox_to_anchor=(0.5, 1.3), ncol=2)\n",
    "# ax1[0].set_ylim([0, 0.7])\n",
    "# ax1[1].set_visible(False)\n",
    "_ = ax1[2].set_ylim([0, 200.])"
   ]
  },
  {
   "cell_type": "markdown",
   "id": "8013feec-9263-4802-92b6-5ca7301d5711",
   "metadata": {},
   "source": [
    "## FCC-ee Positron Source V0"
   ]
  },
  {
   "cell_type": "markdown",
   "id": "27f5cb38-84c9-44fb-9964-424daa03eb25",
   "metadata": {},
   "source": [
    "### Transport Along the Linac"
   ]
  },
  {
   "cell_type": "code",
   "execution_count": null,
   "id": "238efdc1-d19a-4222-bdad-174477c4d431",
   "metadata": {},
   "outputs": [],
   "source": [
    "SIM_REL_PATH_REAL = '../../Data/RFTrackResults/CaptureLinac/CaptureLinacUpTo200MeV_LBandLargeR_RealSolenoids_Type1and2_TargetAt35mm'\n",
    "fig1, ax1l = plt.subplots(3, 1, figsize=(9.6, 6.4))\n",
    "ax1r = []\n",
    "for ax in ax1l:\n",
    "    ax1r.append(ax.twinx())\n",
    "ax1 = [None] * (len(ax1l) + len(ax1r))\n",
    "ax1[::2] = ax1l\n",
    "ax1[1::2] = ax1r\n",
    "sShiftEMFields = 0  #225.3e-3  # [m]\n",
    "rfttools.load_plot_transport(ax1, SIM_REL_PATH_REAL, fileSuffix='1')\n",
    "# ax1[0].set_xlim([0, 8.])\n",
    "# ax1[0].set_ylim([0.34, 0.54])\n",
    "ax1[1].set_visible(False)\n",
    "# ax1[1].clear()\n",
    "_ = ax1[2].set_ylim([0, 200.])"
   ]
  },
  {
   "cell_type": "markdown",
   "id": "eb3c5b5a-2058-4da3-83d3-000f134a64c5",
   "metadata": {},
   "source": [
    "### Distribution at the End of Capture Linac (After 5 RF Structures, ~ 200 MeV)"
   ]
  },
  {
   "cell_type": "code",
   "execution_count": null,
   "id": "c88f975f-87b0-4827-953e-660b28c71847",
   "metadata": {},
   "outputs": [],
   "source": [
    "plotDefs = bd.set_plot_defs_from_distrs([beamRfOutRealSol3], setNames=plotSets)\n",
    "_ = bd.plot_distr([beamRfOutRealSol3], plotDefs)"
   ]
  },
  {
   "cell_type": "markdown",
   "id": "8c2e2f67",
   "metadata": {},
   "source": [
    "<div class=\"alert alert-block alert-success\">\n",
    "Some good news.\n",
    "</div>"
   ]
  },
  {
   "cell_type": "markdown",
   "id": "eb6ca689",
   "metadata": {},
   "source": [
    "<div class=\"alert alert-block alert-warning\">\n",
    "Some warning.\n",
    "</div>"
   ]
  },
  {
   "cell_type": "markdown",
   "id": "4111ea5b",
   "metadata": {},
   "source": [
    "<div class=\"alert alert-block alert-danger\">\n",
    "Some danger.\n",
    "</div>"
   ]
  },
  {
   "cell_type": "code",
   "execution_count": null,
   "id": "9e5d1257-2d78-4b27-ae9a-f27a46c5eeff",
   "metadata": {},
   "outputs": [],
   "source": []
  }
 ],
 "metadata": {
  "kernelspec": {
   "display_name": "Python 3 (ipykernel)",
   "language": "python",
   "name": "python3"
  },
  "language_info": {
   "codemirror_mode": {
    "name": "ipython",
    "version": 3
   },
   "file_extension": ".py",
   "mimetype": "text/x-python",
   "name": "python",
   "nbconvert_exporter": "python",
   "pygments_lexer": "ipython3",
   "version": "3.10.5"
  },
  "toc": {
   "base_numbering": 1,
   "nav_menu": {},
   "number_sections": true,
   "sideBar": true,
   "skip_h1_title": true,
   "title_cell": "Table of Contents",
   "title_sidebar": "Contents",
   "toc_cell": true,
   "toc_position": {},
   "toc_section_display": true,
   "toc_window_display": false
  },
  "toc-showcode": false
 },
 "nbformat": 4,
 "nbformat_minor": 5
}
