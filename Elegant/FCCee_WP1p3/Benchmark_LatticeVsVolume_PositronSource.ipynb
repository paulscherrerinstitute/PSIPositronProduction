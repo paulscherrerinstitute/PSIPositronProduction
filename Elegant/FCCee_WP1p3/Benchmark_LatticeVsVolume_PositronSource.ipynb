{
 "cells": [
  {
   "cell_type": "code",
   "execution_count": null,
   "id": "11e4893f",
   "metadata": {},
   "outputs": [],
   "source": [
    "import os\n",
    "import numpy as np\n",
    "import pandas as pd\n",
    "import matplotlib\n",
    "import matplotlib.pyplot as plt\n",
    "import BeamDynamics as bd\n",
    "import SimulationData as sd\n",
    "import copy\n",
    "import json"
   ]
  },
  {
   "cell_type": "code",
   "execution_count": null,
   "id": "eaf8d117",
   "metadata": {},
   "outputs": [],
   "source": [
    "from importlib import reload\n",
    "reload(bd)"
   ]
  },
  {
   "cell_type": "code",
   "execution_count": null,
   "id": "8e4c4dd0",
   "metadata": {},
   "outputs": [],
   "source": [
    "# %matplotlib inline\n",
    "# %matplotlib notebook\n",
    "%matplotlib widget\n",
    "plt.rcParams['figure.figsize'] = [9.6, 6.4]\n",
    "defaultColorCycle = plt.rcParams[\"axes.prop_cycle\"].by_key()['color']\n",
    "# plotFont = {\n",
    "#     'family' : 'sans-serif',\n",
    "#     'weight' : 'normal',\n",
    "#     'size'   : 12\n",
    "# }\n",
    "# matplotlib.rc('font', **plotFont)\n",
    "# plt.rc('legend', fontsize=10)"
   ]
  },
  {
   "cell_type": "markdown",
   "id": "39f9e228",
   "metadata": {},
   "source": [
    "# RF-Track, Volume vs. Lattice for the Positron Capture Linac\n",
    "\n",
    "Compare RF-Track simulations of the same physics with different modeling:\n",
    "\n",
    "* Tracking with Volume in the first part of the AMD + tracking with volume in a homogeneous solenoidal channel with RF acceleration (Yongke's variant)\n",
    "* Full tracking in Volume (Mattia's variant)"
   ]
  },
  {
   "cell_type": "markdown",
   "id": "9bf0aa64-2593-4f20-9872-ae7ebe088672",
   "metadata": {
    "toc-hr-collapsed": true
   },
   "source": [
    "## Distributions at the end of the AMD\n",
    "\n",
    "Location of the switch between Volume and Lattice in Yongke's model."
   ]
  },
  {
   "cell_type": "markdown",
   "id": "d423e2c0-7c98-46ce-aa43-5a44d993011e",
   "metadata": {},
   "source": [
    "### Yongke's Variant (Original, Python)"
   ]
  },
  {
   "cell_type": "code",
   "execution_count": null,
   "id": "93f8a227-3536-4a38-89c2-909d394249fc",
   "metadata": {
    "tags": []
   },
   "outputs": [],
   "source": [
    "DISTR_REL_PATH = '../../RFTrack/YongkeTool_V2/amd_output/HTS_5coils_CLIC_Lband.dat'\n",
    "OCTAVE_MATRIX_NAME = 'A_AMD'\n",
    "RFTRACK_FORMAT = 'rftrack_xp_t'\n",
    "FILTER_SPECS_SELECTOR = None\n",
    "beamAmdOutYon, _ = bd.convert_rftrack_to_standard_df(\n",
    "    sourceFilePath=DISTR_REL_PATH, octaveMatrixName=OCTAVE_MATRIX_NAME, rftrackDfFormat=RFTRACK_FORMAT,\n",
    "    filterSpecsSelector=FILTER_SPECS_SELECTOR, z=np.nan, pdgId=-11\n",
    ")\n",
    "beamAmdOutYon.describe()"
   ]
  },
  {
   "cell_type": "markdown",
   "id": "a4cd558e-e05c-409d-87b6-e682f9f99f41",
   "metadata": {},
   "source": [
    "### Mattia's Variant (Python)"
   ]
  },
  {
   "cell_type": "code",
   "execution_count": null,
   "id": "a273b292-67fb-4caf-b678-d459eff739c7",
   "metadata": {
    "tags": []
   },
   "outputs": [],
   "source": [
    "# TODO: Put distribution at the right location and with a meaningful name...\n",
    "# DISTR_REL_PATH = '../../DistrOut_AMD_6dT.sdf_txt'\n",
    "DISTR_REL_PATH = '../../DistrOut_AMD_6d.sdf_txt'\n",
    "beamAmdOutTia = bd.load_standard_fwf(DISTR_REL_PATH)\n",
    "beamAmdOutTia.describe()"
   ]
  },
  {
   "cell_type": "markdown",
   "id": "f74e08cc-b60a-48cf-8975-e0ed41ad4f17",
   "metadata": {},
   "source": [
    "### Compare Models"
   ]
  },
  {
   "cell_type": "code",
   "execution_count": null,
   "id": "90f63af1-46da-43e6-8c79-9e4e10381583",
   "metadata": {
    "tags": []
   },
   "outputs": [],
   "source": [
    "plotDefs = bd.set_plot_defs_from_distrs([beamAmdOutYon, beamAmdOutTia], setName='angles-t')\n",
    "_ = bd.plot_distr(\n",
    "    [beamAmdOutYon, beamAmdOutTia],\n",
    "    plotDefs, legendLabels=['Yongke (original)', 'Mattia']\n",
    ")"
   ]
  },
  {
   "cell_type": "markdown",
   "id": "7e90f8c0-bd34-4a59-8622-56630a3222cc",
   "metadata": {},
   "source": [
    "## Distributions at 200 MeV"
   ]
  },
  {
   "cell_type": "markdown",
   "id": "94a6c392-0538-4b06-81e3-3a664821f70c",
   "metadata": {},
   "source": [
    "### Yongke's Original (Lattice, Octave)"
   ]
  },
  {
   "cell_type": "code",
   "execution_count": null,
   "id": "4ddfe693-dd8c-439f-8bc7-8b1aa8adbdd4",
   "metadata": {
    "tags": []
   },
   "outputs": [],
   "source": [
    "DISTR_REL_PATH = '../../RFTrack/YongkeTool_V2/rf_output/HTS_5coils_CLIC_Lband_Original.dat'\n",
    "OCTAVE_MATRIX_NAME = 'A_RF'\n",
    "RFTRACK_FORMAT = 'rftrack_xp_t'\n",
    "FILTER_SPECS_SELECTOR = None\n",
    "beamRfOutYon, _ = bd.convert_rftrack_to_standard_df(\n",
    "    sourceFilePath=DISTR_REL_PATH, octaveMatrixName=OCTAVE_MATRIX_NAME, rftrackDfFormat=RFTRACK_FORMAT,\n",
    "    filterSpecsSelector=FILTER_SPECS_SELECTOR, z=np.nan, pdgId=-11\n",
    ")\n",
    "beamRfOutYon.describe()"
   ]
  },
  {
   "cell_type": "markdown",
   "id": "37033a3c-115a-4c90-aa2b-3fdd80583bac",
   "metadata": {},
   "source": [
    "### Mattia's Reproduction (Lattice, Octave)"
   ]
  },
  {
   "cell_type": "code",
   "execution_count": null,
   "id": "c3e4481c-bf5e-4e2c-84a8-3b739bcdcbfb",
   "metadata": {},
   "outputs": [],
   "source": [
    "DISTR_REL_PATH = '../../RFTrack/YongkeTool_V2/rf_output/HTS_5coils_CLIC_Lband.dat'\n",
    "OCTAVE_MATRIX_NAME = 'A_RF'\n",
    "RFTRACK_FORMAT = 'rftrack_xp_t'\n",
    "FILTER_SPECS_SELECTOR = None\n",
    "beamRfOutTia, _ = bd.convert_rftrack_to_standard_df(\n",
    "    sourceFilePath=DISTR_REL_PATH, octaveMatrixName=OCTAVE_MATRIX_NAME, rftrackDfFormat=RFTRACK_FORMAT,\n",
    "    filterSpecsSelector=FILTER_SPECS_SELECTOR, z=np.nan, pdgId=-11\n",
    ")\n",
    "beamRfOutTia.describe()"
   ]
  },
  {
   "cell_type": "markdown",
   "id": "b1c29b79-f6ce-484b-9aa6-b5adcd0149a4",
   "metadata": {},
   "source": [
    "### Mattia's Reproduction (Volume, Python)"
   ]
  },
  {
   "cell_type": "code",
   "execution_count": null,
   "id": "68fff6d8-d977-44cd-8e74-71f6a72b0f2b",
   "metadata": {},
   "outputs": [],
   "source": [
    "# DISTR_REL_PATH = '../../DistrOut_AMD_6d_+60deg+60deg.sdf_txt'\n",
    "DISTR_REL_PATH = '../../DistrOut_AMD_6d.sdf_txt'\n",
    "beamRfOutVolTia = bd.load_standard_fwf(DISTR_REL_PATH)\n",
    "beamRfOutVolTia.describe()"
   ]
  },
  {
   "cell_type": "code",
   "execution_count": null,
   "id": "8aa9a421-e120-46d2-a572-9680d7621a0b",
   "metadata": {},
   "outputs": [],
   "source": [
    "DISTR_REL_PATH = '../../DistrOut_AMD_6dT.sdf_txt'\n",
    "beamRfOutVol6dTTia = bd.load_standard_fwf(DISTR_REL_PATH)\n",
    "beamRfOutVol6dTTia.describe()"
   ]
  },
  {
   "cell_type": "code",
   "execution_count": null,
   "id": "016b82ee-c9d1-4c45-b229-4c62d721b2b3",
   "metadata": {},
   "outputs": [],
   "source": [
    "plotDefs = bd.set_plot_defs_from_distrs([beamRfOutYon, beamRfOutTia, beamRfOutVolTia], setName='angles-t')\n",
    "_ = bd.plot_distr(\n",
    "    [beamRfOutYon, beamRfOutTia, beamRfOutVolTia],\n",
    "    plotDefs, legendLabels=['Yongke, Lattice (original, Octave)', 'Mattia, Lattice (reproduction, Octave)', 'Mattia, Volume (Python)']\n",
    ")"
   ]
  },
  {
   "cell_type": "markdown",
   "id": "8c2e2f67",
   "metadata": {},
   "source": [
    "<div class=\"alert alert-block alert-success\">\n",
    "Some good news.\n",
    "</div>"
   ]
  },
  {
   "cell_type": "markdown",
   "id": "eb6ca689",
   "metadata": {},
   "source": [
    "<div class=\"alert alert-block alert-warning\">\n",
    "Some warning.\n",
    "</div>"
   ]
  },
  {
   "cell_type": "markdown",
   "id": "4111ea5b",
   "metadata": {},
   "source": [
    "<div class=\"alert alert-block alert-danger\">\n",
    "Some danger.\n",
    "</div>"
   ]
  },
  {
   "cell_type": "code",
   "execution_count": null,
   "id": "2f2e637d",
   "metadata": {},
   "outputs": [],
   "source": []
  }
 ],
 "metadata": {
  "kernelspec": {
   "display_name": "Python 3 (ipykernel)",
   "language": "python",
   "name": "python3"
  },
  "language_info": {
   "codemirror_mode": {
    "name": "ipython",
    "version": 3
   },
   "file_extension": ".py",
   "mimetype": "text/x-python",
   "name": "python",
   "nbconvert_exporter": "python",
   "pygments_lexer": "ipython3",
   "version": "3.10.5"
  },
  "toc": {
   "base_numbering": 1,
   "nav_menu": {},
   "number_sections": true,
   "sideBar": true,
   "skip_h1_title": true,
   "title_cell": "Table of Contents",
   "title_sidebar": "Contents",
   "toc_cell": true,
   "toc_position": {},
   "toc_section_display": true,
   "toc_window_display": false
  },
  "toc-showcode": false
 },
 "nbformat": 4,
 "nbformat_minor": 5
}
