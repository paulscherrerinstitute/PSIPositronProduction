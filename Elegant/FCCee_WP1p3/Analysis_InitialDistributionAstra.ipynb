{
 "cells": [
  {
   "cell_type": "code",
   "execution_count": null,
   "id": "11e4893f",
   "metadata": {},
   "outputs": [],
   "source": [
    "import os\n",
    "import numpy as np\n",
    "import pandas as pd\n",
    "import matplotlib\n",
    "import matplotlib.pyplot as plt\n",
    "import BeamDynamics as bd\n",
    "import copy"
   ]
  },
  {
   "cell_type": "code",
   "execution_count": null,
   "id": "eaf8d117",
   "metadata": {},
   "outputs": [],
   "source": [
    "from importlib import reload\n",
    "reload(bd)"
   ]
  },
  {
   "cell_type": "code",
   "execution_count": null,
   "id": "8e4c4dd0",
   "metadata": {},
   "outputs": [],
   "source": [
    "# %matplotlib inline\n",
    "# %matplotlib notebook\n",
    "%matplotlib widget\n",
    "plt.rcParams['figure.figsize'] = [9.6, 6.4]\n",
    "defaultColorCycle = plt.rcParams[\"axes.prop_cycle\"].by_key()['color']\n",
    "# plotFont = {\n",
    "#     'family' : 'sans-serif',\n",
    "#     'weight' : 'normal',\n",
    "#     'size'   : 12\n",
    "# }\n",
    "# matplotlib.rc('font', **plotFont)\n",
    "# plt.rc('legend', fontsize=10)"
   ]
  },
  {
   "cell_type": "markdown",
   "id": "39f9e228",
   "metadata": {},
   "source": [
    "# Title"
   ]
  },
  {
   "cell_type": "markdown",
   "id": "735be2cf",
   "metadata": {},
   "source": [
    "## Section 1"
   ]
  },
  {
   "cell_type": "code",
   "execution_count": null,
   "id": "a157fcd7",
   "metadata": {},
   "outputs": [],
   "source": [
    "# astraFilePath = '/afs/psi.ch/project/newgun/SwissFELGunNearestMode_2022/AstraReference/distr_gen.ini'\n",
    "astraFilePath = '/afs/psi.ch/project/newgun/reports/prstab_2015/figures/fullTwGun2-5ps_14_1_opt119/fullTwGun2-5ps_14_1_opt119_distr.ini'\n",
    "astraDistr, _ = bd.convert_astra_to_standard_df(astraFilePath)\n",
    "astraDistr.describe()"
   ]
  },
  {
   "cell_type": "code",
   "execution_count": null,
   "id": "7b59a18e",
   "metadata": {},
   "outputs": [],
   "source": [
    "plotDefs = [\n",
    "    {\n",
    "        'varName1': 'x', 'varName2': 'y',\n",
    "        'opacityHist': 0.6,\n",
    "    },\n",
    "    {\n",
    "        'varName1': 'x', 'varName2': 'xp',\n",
    "        'opacityHist': 0.6,\n",
    "    },\n",
    "    {\n",
    "        'varName1': 'y', 'varName2': 'yp',\n",
    "        'opacityHist': 0.6,\n",
    "    },\n",
    "    {\n",
    "        'varName1': 'z', 'varName2': 'pz',\n",
    "        'opacityHist': 0.6,\n",
    "    },\n",
    "    {\n",
    "        'varName1': 't', 'varName2': 'Ekin',\n",
    "        'opacityHist': 0.6,\n",
    "    },\n",
    "    {\n",
    "        'varName1': 't', 'varName2': 'pz',\n",
    "        'opacityHist': 0.6,\n",
    "    },\n",
    "]"
   ]
  },
  {
   "cell_type": "code",
   "execution_count": null,
   "id": "8cf1e567",
   "metadata": {},
   "outputs": [],
   "source": [
    "# plotDefs[0]['lims1'] = (-30, 30.)   # [mm]\n",
    "# plotDefs[0]['lims2'] = (-30., 30.)   # [mm]\n",
    "# plotDefs[1]['lims1'] = plotDefs[0]['lims1']   # [mm]\n",
    "# plotDefs[1]['lims2'] = (-25., 25.)   # [mrad]\n",
    "# plotDefs[2]['lims1'] = plotDefs[0]['lims2']   # [mm]\n",
    "# plotDefs[2]['lims2'] = (-25., 25.)   # [mrad]\n",
    "# plotDefs[3]['lims1'] = (9999., 10001.)   # [mm]\n",
    "# plotDefs[3]['lims2'] = (0., 400.)   # [MeV/c]\n",
    "# plotDefs[4]['lims1'] = (62.82, 63.10)   # [ns]\n",
    "# plotDefs[4]['lims2'] = plotDefs[3]['lims2']   # [MeV]\n",
    "# plotDefs[5]['lims1'] = plotDefs[4]['lims1']   # [ns]\n",
    "# plotDefs[5]['lims2'] = plotDefs[3]['lims2']   # [MeV/c]"
   ]
  },
  {
   "cell_type": "markdown",
   "id": "9bf0aa64-2593-4f20-9872-ae7ebe088672",
   "metadata": {},
   "source": [
    "## Plot"
   ]
  },
  {
   "cell_type": "code",
   "execution_count": null,
   "id": "300c5bf0",
   "metadata": {
    "tags": []
   },
   "outputs": [],
   "source": [
    "ax = bd.plot_distr(\n",
    "    [astraDistr], plotDefs, title='ASTRA distribution from generator')"
   ]
  },
  {
   "cell_type": "markdown",
   "id": "8c2e2f67",
   "metadata": {},
   "source": [
    "<div class=\"alert alert-block alert-success\">\n",
    "Some good news.\n",
    "</div>"
   ]
  },
  {
   "cell_type": "markdown",
   "id": "eb6ca689",
   "metadata": {},
   "source": [
    "<div class=\"alert alert-block alert-warning\">\n",
    "Some warning.\n",
    "</div>"
   ]
  },
  {
   "cell_type": "markdown",
   "id": "4111ea5b",
   "metadata": {},
   "source": [
    "<div class=\"alert alert-block alert-danger\">\n",
    "Some danger.\n",
    "</div>"
   ]
  },
  {
   "cell_type": "code",
   "execution_count": null,
   "id": "2f2e637d",
   "metadata": {},
   "outputs": [],
   "source": []
  }
 ],
 "metadata": {
  "kernelspec": {
   "display_name": "Python 3 (ipykernel)",
   "language": "python",
   "name": "python3"
  },
  "language_info": {
   "codemirror_mode": {
    "name": "ipython",
    "version": 3
   },
   "file_extension": ".py",
   "mimetype": "text/x-python",
   "name": "python",
   "nbconvert_exporter": "python",
   "pygments_lexer": "ipython3",
   "version": "3.10.4"
  },
  "toc": {
   "base_numbering": 1,
   "nav_menu": {},
   "number_sections": true,
   "sideBar": true,
   "skip_h1_title": true,
   "title_cell": "Table of Contents",
   "title_sidebar": "Contents",
   "toc_cell": true,
   "toc_position": {},
   "toc_section_display": true,
   "toc_window_display": false
  }
 },
 "nbformat": 4,
 "nbformat_minor": 5
}
