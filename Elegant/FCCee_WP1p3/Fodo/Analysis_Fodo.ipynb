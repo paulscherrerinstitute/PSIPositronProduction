{
 "cells": [
  {
   "cell_type": "code",
   "execution_count": null,
   "id": "11e4893f",
   "metadata": {},
   "outputs": [],
   "source": [
    "import os\n",
    "import numpy as np\n",
    "import pandas as pd\n",
    "import qtconsole\n",
    "import matplotlib\n",
    "import matplotlib.pyplot as plt\n",
    "import BeamDynamics as bd\n",
    "import copy\n",
    "try:\n",
    "    import ROOT\n",
    "except:\n",
    "    print('Root framework not available.')"
   ]
  },
  {
   "cell_type": "code",
   "execution_count": null,
   "id": "eaf8d117",
   "metadata": {},
   "outputs": [],
   "source": [
    "from importlib import reload\n",
    "reload(bd)"
   ]
  },
  {
   "cell_type": "code",
   "execution_count": null,
   "id": "f2718dff",
   "metadata": {},
   "outputs": [],
   "source": [
    "%qtconsole"
   ]
  },
  {
   "cell_type": "code",
   "execution_count": null,
   "id": "8e4c4dd0",
   "metadata": {},
   "outputs": [],
   "source": [
    "%matplotlib inline\n",
    "# %matplotlib notebook"
   ]
  },
  {
   "cell_type": "markdown",
   "id": "39f9e228",
   "metadata": {},
   "source": [
    "# FODO"
   ]
  },
  {
   "cell_type": "markdown",
   "id": "bee3f05c",
   "metadata": {},
   "source": [
    "## Cell length vs phase advance"
   ]
  },
  {
   "cell_type": "code",
   "execution_count": null,
   "id": "8abd7f27",
   "metadata": {},
   "outputs": [],
   "source": [
    "psiArr = np.array((22.5, 45., 60., 70., 90., 100.))   # [deg]\n",
    "LquadHalfArr = np.array((0.107503, 0.112642, 0.129234, 0.144463, 0.193600, 0.256245))   # [m]\n",
    "LdriftArr = np.array((0.070826, 0.235100, 0.266819, 0.259910, 0.169696, 0.034461))   # [m]\n",
    "LcellArr = 2.*2.*LquadHalfArr + 2.*LdriftArr"
   ]
  },
  {
   "cell_type": "code",
   "execution_count": null,
   "id": "1a47cdb1",
   "metadata": {},
   "outputs": [],
   "source": [
    "fig, ax = plt.subplots(3, 1, figsize=(8,12))\n",
    "ax[0].plot(psiArr, LcellArr, 'o-')\n",
    "ax[0].grid()\n",
    "ax[0].set_xlabel('Phase advance [deg]')\n",
    "ax[0].set_ylabel('FODO cell length [m]')\n",
    "ax[1].plot(psiArr, LdriftArr, 'o-')\n",
    "ax[1].grid()\n",
    "ax[1].set_xlabel('Phase advance [deg]')\n",
    "ax[1].set_ylabel('Drift length [m]')\n",
    "ax[2].plot(psiArr, LquadHalfArr*2., 'o-')\n",
    "ax[2].grid()\n",
    "ax[2].set_xlabel('Phase advance [deg]')\n",
    "ax[2].set_ylabel('Quad length [m]')"
   ]
  },
  {
   "cell_type": "markdown",
   "id": "5c248007",
   "metadata": {},
   "source": [
    "<div class=\"alert alert-block alert-warning\">\n",
    "Some warning.\n",
    "</div>"
   ]
  },
  {
   "cell_type": "markdown",
   "id": "908b3ce4",
   "metadata": {
    "scrolled": false
   },
   "source": [
    "<div class=\"alert alert-block alert-danger\">\n",
    "Some error.\n",
    "</div>"
   ]
  },
  {
   "cell_type": "markdown",
   "id": "4111ea5b",
   "metadata": {
    "scrolled": false
   },
   "source": [
    "<div class=\"alert alert-block alert-success\">\n",
    "Something good.\n",
    "</div>"
   ]
  },
  {
   "cell_type": "code",
   "execution_count": null,
   "id": "2f2e637d",
   "metadata": {},
   "outputs": [],
   "source": []
  }
 ],
 "metadata": {
  "kernelspec": {
   "display_name": "Python 3 (ipykernel)",
   "language": "python",
   "name": "python3"
  },
  "language_info": {
   "codemirror_mode": {
    "name": "ipython",
    "version": 3
   },
   "file_extension": ".py",
   "mimetype": "text/x-python",
   "name": "python",
   "nbconvert_exporter": "python",
   "pygments_lexer": "ipython3",
   "version": "3.9.7"
  }
 },
 "nbformat": 4,
 "nbformat_minor": 5
}
