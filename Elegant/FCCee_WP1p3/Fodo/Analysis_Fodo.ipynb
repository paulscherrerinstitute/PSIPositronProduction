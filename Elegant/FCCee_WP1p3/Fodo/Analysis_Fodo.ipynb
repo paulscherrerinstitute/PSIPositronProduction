{
 "cells": [
  {
   "cell_type": "code",
   "execution_count": null,
   "id": "11e4893f",
   "metadata": {},
   "outputs": [],
   "source": [
    "import os\n",
    "import numpy as np\n",
    "import pandas as pd\n",
    "import matplotlib\n",
    "import matplotlib.pyplot as plt\n",
    "from matplotlib import cm\n",
    "import BeamDynamics as bd\n",
    "import copy"
   ]
  },
  {
   "cell_type": "code",
   "execution_count": null,
   "id": "eaf8d117",
   "metadata": {},
   "outputs": [],
   "source": [
    "from importlib import reload\n",
    "reload(bd)"
   ]
  },
  {
   "cell_type": "code",
   "execution_count": null,
   "id": "9c6151f1",
   "metadata": {},
   "outputs": [],
   "source": [
    "%connect_info"
   ]
  },
  {
   "cell_type": "code",
   "execution_count": null,
   "id": "8e4c4dd0",
   "metadata": {},
   "outputs": [],
   "source": [
    "# %matplotlib inline\n",
    "# %matplotlib notebook\n",
    "%matplotlib widget\n",
    "plt.rcParams['figure.figsize'] = [9.6, 6.4]\n",
    "defaultColorCycle = plt.rcParams[\"axes.prop_cycle\"].by_key()['color']"
   ]
  },
  {
   "cell_type": "markdown",
   "id": "39f9e228",
   "metadata": {
    "tags": []
   },
   "source": [
    "# FODO"
   ]
  },
  {
   "cell_type": "markdown",
   "id": "df854176",
   "metadata": {},
   "source": [
    "## Analytical relations from thin lens approximation"
   ]
  },
  {
   "cell_type": "markdown",
   "id": "99cc8f22",
   "metadata": {},
   "source": [
    "### General relations"
   ]
  },
  {
   "cell_type": "code",
   "execution_count": null,
   "id": "d23ebc18",
   "metadata": {},
   "outputs": [],
   "source": [
    "def fodo_thin_lcell(betaPlus, psi):\n",
    "    Lcell = betaPlus * np.sin(psi) / (1 + np.sin(psi/2.))\n",
    "    return Lcell\n",
    "\n",
    "def fodo_thin_lcell_2(f, psi):\n",
    "    Lcell = 4 * f * np.sin(psi/2.)\n",
    "    return Lcell\n",
    "\n",
    "def fodo_thin_betaminus(Lcell, psi):\n",
    "    betaMinus = Lcell * (1 - np.sin(psi/2.)) / np.sin(psi)\n",
    "    return betaMinus\n",
    "\n",
    "def fodo_thin_f(Lcell, psi):\n",
    "    f = Lcell / (4 * np.sin(psi/2.))\n",
    "    return f\n",
    "\n",
    "def fodo_thin_lquad_1(f, kQuad):\n",
    "    Lquad = 1 / (kQuad * f)\n",
    "    return Lquad\n",
    "\n",
    "def fodo_thin_kquad(f, Lquad):\n",
    "    kQuad = 1. / (Lquad * f)\n",
    "    return kQuad\n",
    "\n",
    "def fodo_thin_ldrift_1(Lcell, Lquad):\n",
    "    Ldrift = (Lcell - 2.*Lquad) / 2.\n",
    "    return Ldrift\n",
    "\n",
    "def fodo_thin_lquad_2(Lcell, Ldrift):\n",
    "    Lquad = (Lcell - 2.*Ldrift) / 2.\n",
    "    return Lquad"
   ]
  },
  {
   "cell_type": "markdown",
   "id": "e9e424aa",
   "metadata": {},
   "source": [
    "### Assumption: BetaMax determined by emittance and aperture"
   ]
  },
  {
   "cell_type": "code",
   "execution_count": null,
   "id": "a2aafe85",
   "metadata": {},
   "outputs": [],
   "source": [
    "def fodo_thin_betaplus(Ra, Fa, gammaRel, emitn):\n",
    "    betaRel = bd.gamma_to_beta(gammaRel)\n",
    "    betaPlus = (Ra/Fa)**2. * betaRel * gammaRel / emitn\n",
    "    return betaPlus"
   ]
  },
  {
   "cell_type": "markdown",
   "id": "77efcbe3",
   "metadata": {},
   "source": [
    "### Assumption: Using the max. available quad gradient"
   ]
  },
  {
   "cell_type": "code",
   "execution_count": null,
   "id": "3f145e2c",
   "metadata": {},
   "outputs": [],
   "source": [
    "def fodo_thin_ldrift_2(Ra, Fa, gammaRel, emitn, psi, Gquad):\n",
    "    betaPlus = fodo_thin_betaplus(Ra, Fa, gammaRel, emitn)\n",
    "    term1 = betaPlus * np.sin(psi) / (2.*(1.+np.sin(psi/2.)))\n",
    "    kQuad = bd.quad_strength(Gquad, bd.gamma_to_p(gammaRel, -11))\n",
    "    term2 = 4. * np.sin(psi/2.) * (1.+np.sin(psi/2.)) / (betaPlus * np.sin(psi) * kQuad)\n",
    "    Ldrift = term1 - term2\n",
    "    return Ldrift"
   ]
  },
  {
   "cell_type": "markdown",
   "id": "b94a9532",
   "metadata": {},
   "source": [
    "### Assumption: Limit aperture to length ratio of the quad"
   ]
  },
  {
   "cell_type": "code",
   "execution_count": null,
   "id": "65cc7798",
   "metadata": {},
   "outputs": [],
   "source": [
    "def fodo_thin_lquad_3(f, quadGradMax, p, Rpole, RpoleToLquadMaxRatio):\n",
    "    kQuadMax = bd.quad_strength(quadGradMax, p)\n",
    "    LquadMin = 1 / (kQuadMax * f)\n",
    "    takeLquadMinInds = Rpole / LquadMin < RpoleToLquadMaxRatio\n",
    "    Lquad = np.zeros(takeLquadMinInds.shape)\n",
    "    Lquad[takeLquadMinInds] = LquadMin[takeLquadMinInds]\n",
    "    Lquad[~takeLquadMinInds] = Rpole / RpoleToLquadMaxRatio\n",
    "    return Lquad"
   ]
  },
  {
   "cell_type": "markdown",
   "id": "1c0f454d",
   "metadata": {},
   "source": [
    "## Results from Elegant optimizations (thick lenses)"
   ]
  },
  {
   "cell_type": "code",
   "execution_count": null,
   "id": "8abd7f27",
   "metadata": {},
   "outputs": [],
   "source": [
    "data = {\n",
    "    'Ra': [\n",
    "             20.,      20.,      20.,      20.,      20.,      20.,      20.,\n",
    "             25.,      30.,      35.,      40.,      45.,\n",
    "             30.,\n",
    "    ],   # [mm]\n",
    "    'Fa': [\n",
    "              3.,       3.,       3.,       3.,       3.,       3.,       3.,\n",
    "              4.,       4.,       4.,       4.,       4.,\n",
    "              4.,\n",
    "    ],\n",
    "    'psi': [\n",
    "            22.5,      45.,      60.,      70.,   76.345,      90.,     100.,\n",
    "          76.345,   76.345,   76.345,   76.345,   76.345,\n",
    "          76.345,\n",
    "    ],   # [deg]\n",
    "    'LquadHalf' : [\n",
    "        0.107503, 0.112642, 0.129234, 0.144463, 0.156520, 0.193600, 0.256245,\n",
    "        0.203432, 0.135236, 0.079521, 0.059732, 0.046750,\n",
    "        0.5,\n",
    "    ],   # [m]\n",
    "    'Ldrift': [\n",
    "        0.070826, 0.235100, 0.266819, 0.259910, 0.243498, 0.169696, 0.034461,\n",
    "        0.094104, 0.408817, 0.759710, 1.071240, 1.407448,\n",
    "        0.757640,\n",
    "    ],   # [m]\n",
    "    'p': [\n",
    "            200.,     200.,     200.,     200.,     200.,     200.,     200.,\n",
    "            200.,     200.,     200.,     200.,     200.,\n",
    "            500.,\n",
    "    ],\n",
    "}\n",
    "fodoDf = pd.DataFrame(data=data)\n",
    "fodoDf['Lcell'] = 2.*2.*fodoDf['LquadHalf'] + 2.*fodoDf['Ldrift']"
   ]
  },
  {
   "cell_type": "markdown",
   "id": "bee3f05c",
   "metadata": {},
   "source": [
    "## Cell length vs phase advance"
   ]
  },
  {
   "cell_type": "markdown",
   "id": "8b10af09",
   "metadata": {},
   "source": [
    "### Fix parameters"
   ]
  },
  {
   "cell_type": "code",
   "execution_count": null,
   "id": "552a34b3",
   "metadata": {},
   "outputs": [],
   "source": [
    "Ra = 20.   # [mm]\n",
    "Fa = 3.\n",
    "p = 200.   # [MeV/c]\n",
    "gammaRel = bd.p_to_gamma(p, -11)\n",
    "emitn = 10e3   # [pi mm mrad]\n",
    "betaPlus = fodo_thin_betaplus(Ra, Fa, gammaRel, emitn)\n",
    "Gquad = 0.6 / 0.1   # [T/m]\n",
    "kQuad = bd.quad_strength(Gquad, p)\n",
    "print('gammaRel = {:.1f}.'.format(gammaRel))\n",
    "print('betaPlus = {:.3f} m.'.format(betaPlus))\n",
    "print('kQuad = {:.3f} 1/m2.'.format(kQuad))"
   ]
  },
  {
   "cell_type": "markdown",
   "id": "7edd095a",
   "metadata": {},
   "source": [
    "### Select Elegant results"
   ]
  },
  {
   "cell_type": "code",
   "execution_count": null,
   "id": "98b08027",
   "metadata": {},
   "outputs": [],
   "source": [
    "fodoSel = fodoDf[(fodoDf['Fa']==Fa) & (fodoDf['p']==p)]"
   ]
  },
  {
   "cell_type": "markdown",
   "id": "1dbad997",
   "metadata": {},
   "source": [
    "### Variable parameter: Phase advance psi"
   ]
  },
  {
   "cell_type": "code",
   "execution_count": null,
   "id": "1fe65d40",
   "metadata": {},
   "outputs": [],
   "source": [
    "psi = np.linspace(fodoSel['psi'].min(), fodoSel['psi'].max())"
   ]
  },
  {
   "cell_type": "markdown",
   "id": "0bffe975",
   "metadata": {},
   "source": [
    "### Compute curves from thin lens approx."
   ]
  },
  {
   "cell_type": "code",
   "execution_count": null,
   "id": "df4295f8",
   "metadata": {},
   "outputs": [],
   "source": [
    "LcellThin = fodo_thin_lcell(betaPlus, psi/180.*np.pi)\n",
    "LquadThin = fodo_thin_lquad_1(fodo_thin_f(LcellThin, psi/180.*np.pi), kQuad)\n",
    "LdriftThin = fodo_thin_ldrift_1(LcellThin, LquadThin)"
   ]
  },
  {
   "cell_type": "markdown",
   "id": "b0bb3e13",
   "metadata": {},
   "source": [
    "### Compare thick lenses (Elegant) vs. thin lens approx."
   ]
  },
  {
   "cell_type": "code",
   "execution_count": null,
   "id": "1a47cdb1",
   "metadata": {},
   "outputs": [],
   "source": [
    "fig, ax = plt.subplots(3, 1, figsize=(8,12))\n",
    "ax[0].plot(fodoSel['psi'], fodoSel['Lcell'], 'o-')\n",
    "ax[0].plot(psi, LcellThin, '--')\n",
    "ax[0].grid()\n",
    "ax[0].set_ylim((0, 1.2))\n",
    "ax[0].set_xlabel('Phase advance [deg]')\n",
    "ax[0].set_ylabel('FODO cell length [m]')\n",
    "ax[0].legend(('Elegant optim.', 'Analytical (thin lens)'), loc=8)\n",
    "ax[1].plot(fodoSel['psi'], fodoSel['Ldrift'], 'o-')\n",
    "ax[1].plot(psi, LdriftThin, '--')\n",
    "ax[1].grid()\n",
    "ax[1].set_ylim((0, 0.3))\n",
    "ax[1].set_xlabel('Phase advance [deg]')\n",
    "ax[1].set_ylabel('Drift length [m]')\n",
    "ax[1].legend(('Elegant optim.', 'Analytical (thin lens)'), loc=8)\n",
    "ax[2].plot(fodoSel['psi'], fodoSel['LquadHalf']*2., 'o-')\n",
    "ax[2].plot(psi, LquadThin, '--')\n",
    "ax[2].grid()\n",
    "ax[2].set_ylim((0, 0.6))\n",
    "ax[2].set_xlabel('Phase advance [deg]')\n",
    "ax[2].set_ylabel('Quad length [m]')\n",
    "_ = ax[2].legend(('Elegant optim.', 'Analytical (thin lens)'), loc=8)"
   ]
  },
  {
   "cell_type": "markdown",
   "id": "a32de131",
   "metadata": {},
   "source": [
    "## Cell length vs. aperture"
   ]
  },
  {
   "cell_type": "markdown",
   "id": "4aa2d990",
   "metadata": {},
   "source": [
    "### Fix parameters"
   ]
  },
  {
   "cell_type": "code",
   "execution_count": null,
   "id": "e096de1b",
   "metadata": {},
   "outputs": [],
   "source": [
    "Fa = 4.\n",
    "p = 200.   # [MeV/c]\n",
    "gammaRel = bd.p_to_gamma(p, -11)\n",
    "emitn = 10e3   # [pi mm mrad]\n",
    "Gquad = 0.6 / 0.1   # [T/m]\n",
    "kQuad = bd.quad_strength(Gquad, p)\n",
    "psi = 76.345 / 180. * np.pi   # [rad]\n",
    "print('gammaRel = {:.1f}.'.format(gammaRel))\n",
    "print('kQuad = {:.3f} 1/m2.'.format(kQuad))"
   ]
  },
  {
   "cell_type": "markdown",
   "id": "677ca4f0",
   "metadata": {},
   "source": [
    "### Select Elegant results"
   ]
  },
  {
   "cell_type": "code",
   "execution_count": null,
   "id": "f77b585b",
   "metadata": {},
   "outputs": [],
   "source": [
    "fodoSel = fodoDf[(fodoDf['Fa']==Fa) & (fodoDf['p']==p)]"
   ]
  },
  {
   "cell_type": "markdown",
   "id": "f8dfaecb",
   "metadata": {},
   "source": [
    "### Variable parameter"
   ]
  },
  {
   "cell_type": "code",
   "execution_count": null,
   "id": "68bb5d74",
   "metadata": {},
   "outputs": [],
   "source": [
    "Ra = np.linspace(20., fodoSel['Ra'].max())"
   ]
  },
  {
   "cell_type": "markdown",
   "id": "5c242782",
   "metadata": {},
   "source": [
    "### Compute curves from thin lens approx."
   ]
  },
  {
   "cell_type": "code",
   "execution_count": null,
   "id": "68e8295a",
   "metadata": {},
   "outputs": [],
   "source": [
    "LdriftThin = fodo_thin_ldrift_2(Ra, Fa, gammaRel, emitn, psi, Gquad)\n",
    "LcellThin = fodo_thin_lcell(fodo_thin_betaplus(Ra, Fa, gammaRel, emitn), psi)\n",
    "LquadThin = fodo_thin_lquad_2(LcellThin, LdriftThin)"
   ]
  },
  {
   "cell_type": "markdown",
   "id": "5d336650",
   "metadata": {},
   "source": [
    "### Compare thick lenses (Elegant) vs. thin lens approx."
   ]
  },
  {
   "cell_type": "code",
   "execution_count": null,
   "id": "cea66b59",
   "metadata": {},
   "outputs": [],
   "source": [
    "fig, ax = plt.subplots(3, 1, figsize=(8,12))\n",
    "ax[0].plot(fodoSel['Ra'], fodoSel['Lcell'], 'o-')\n",
    "ax[0].plot(Ra, LcellThin, '--')\n",
    "ax[0].grid()\n",
    "ax[0].set_ylim((0, 3.5))\n",
    "ax[0].set_xlabel('Aperture (iris radius) [mm]')\n",
    "ax[0].set_ylabel('FODO cell length [m]')\n",
    "ax[0].legend(('Elegant optim.', 'Analytical (thin lens)'), loc=9)\n",
    "ax[1].plot(fodoSel['Ra'], fodoSel['Ldrift'], 'o-')\n",
    "ax[1].plot(Ra, LdriftThin, '--')\n",
    "ax[1].grid()\n",
    "ax[1].set_ylim((-0.2, 1.6))\n",
    "ax[1].set_xlabel('Aperture (iris radius) [mm]')\n",
    "ax[1].set_ylabel('Drift length [m]')\n",
    "ax[1].legend(('Elegant optim.', 'Analytical (thin lens)'), loc=9)\n",
    "ax[2].plot(fodoSel['Ra'], fodoSel['LquadHalf']*2., 'o-')\n",
    "ax[2].plot(Ra, LquadThin, '--')\n",
    "ax[2].grid()\n",
    "ax[2].set_ylim((0, 0.5))\n",
    "ax[2].set_xlabel('Aperture (iris radius) [mm]')\n",
    "ax[2].set_ylabel('Quad length [m]')\n",
    "_ = ax[2].legend(('Elegant optim.', 'Analytical (thin lens)'), loc=9)"
   ]
  },
  {
   "cell_type": "markdown",
   "id": "f6d144ec",
   "metadata": {},
   "source": [
    "## Maximize drift length"
   ]
  },
  {
   "cell_type": "markdown",
   "id": "ec3c2b20",
   "metadata": {},
   "source": [
    "### Fix parameters"
   ]
  },
  {
   "cell_type": "code",
   "execution_count": null,
   "id": "3198fe12",
   "metadata": {},
   "outputs": [],
   "source": [
    "Fa = 4.\n",
    "emitn = 10e3   # [pi mm mrad]\n",
    "Gquad = 1.0 / 0.1   # [T/m]"
   ]
  },
  {
   "cell_type": "markdown",
   "id": "32545196",
   "metadata": {},
   "source": [
    "### Discrete parameters"
   ]
  },
  {
   "cell_type": "code",
   "execution_count": null,
   "id": "c1f363ff",
   "metadata": {},
   "outputs": [],
   "source": [
    "pArr = np.array((200., 350., 500.))   # [MeV/c]\n",
    "gammaRelArr = bd.p_to_gamma(pArr, -11)\n",
    "kQuadArr = bd.quad_strength(Gquad, pArr)"
   ]
  },
  {
   "cell_type": "markdown",
   "id": "fa9e1d55",
   "metadata": {},
   "source": [
    "### Variable parameters"
   ]
  },
  {
   "cell_type": "code",
   "execution_count": null,
   "id": "698cb365",
   "metadata": {},
   "outputs": [],
   "source": [
    "Ra = np.linspace(20., 40.)\n",
    "psi = np.linspace(10., 90.) / 180. * np.pi   # [rad]\n",
    "Ra, psi = np.meshgrid(Ra, psi)\n",
    "psiDeg = psi / np.pi * 180"
   ]
  },
  {
   "cell_type": "code",
   "execution_count": null,
   "id": "f73cbaf1",
   "metadata": {},
   "outputs": [],
   "source": [
    "fig, ax = plt.subplots(figsize=(16,9), subplot_kw={\"projection\": \"3d\"})\n",
    "for p, gammaRel, kQuad in zip(pArr, gammaRelArr, kQuadArr):\n",
    "    # Compute curves from thin lens approx.\n",
    "    LdriftThin = fodo_thin_ldrift_2(Ra, Fa, gammaRel, emitn, psi, Gquad)\n",
    "    LcellThin = fodo_thin_lcell(fodo_thin_betaplus(Ra, Fa, gammaRel, emitn), psi)\n",
    "    LquadThin = fodo_thin_lquad_2(LcellThin, LdriftThin)\n",
    "    # Plot\n",
    "    surf = ax.plot_surface(\n",
    "        Ra, psiDeg, LdriftThin,\n",
    "        cmap=cm.coolwarm, vmin=0, vmax=2.7,\n",
    "        linewidth=0, rstride=5, cstride=5, antialiased=False\n",
    "    )\n",
    "fig.colorbar(surf, shrink=0.3, aspect=15)\n",
    "ax.set_xlim(np.min(Ra), np.max(Ra))\n",
    "ax.set_ylim(np.min(psiDeg), np.max(psiDeg))\n",
    "ax.set_xlabel('Ra [mm]')\n",
    "ax.set_ylabel('Phase advance [deg]')\n",
    "ax.set_zlabel('Ldrift [m]')\n",
    "ax.view_init(elev=35., azim=20.)\n",
    "ax.text(32.5, 80., 0, 'p = 200 MeV/c', (1,0,0.05), zorder=4)\n",
    "ax.text(32.5, 80., 0.9, 'p = 350 MeV/c', (1,0,0.09), zorder=5)\n",
    "_ = ax.text(37.5, 85., 2.5, 'p = 500 MeV/c', (1,0,0.11), zorder=6)"
   ]
  },
  {
   "cell_type": "markdown",
   "id": "cba55616",
   "metadata": {},
   "source": [
    "## Select working points"
   ]
  },
  {
   "cell_type": "markdown",
   "id": "f0515444",
   "metadata": {},
   "source": [
    "### Fix parameters"
   ]
  },
  {
   "cell_type": "markdown",
   "id": "bb19fdc6-c62b-4f5c-87fd-59cc62dd2f41",
   "metadata": {},
   "source": [
    "#### Section 2"
   ]
  },
  {
   "cell_type": "code",
   "execution_count": null,
   "id": "5f0ad783",
   "metadata": {},
   "outputs": [],
   "source": [
    "# Ra = 30.   # [mm]\n",
    "# Fa = 4.\n",
    "# p = 500.   # [MeV/c]\n",
    "# gammaRel = bd.p_to_gamma(p, -11)\n",
    "# emitn = 10e3   # [pi mm mrad]\n",
    "# betaPlus = fodo_thin_betaplus(Ra, Fa, gammaRel, emitn)\n",
    "# Rpole = 0.1   # [m]\n",
    "# Gquad = 1. / Rpole   # [T/m]\n",
    "# RpoleToLquadMaxRatio = 0.1\n",
    "# print('gammaRel = {:.1f}.'.format(gammaRel))\n",
    "# print('betaPlus = {:.3f} m.'.format(betaPlus))"
   ]
  },
  {
   "cell_type": "markdown",
   "id": "3f41148a-ac8f-4ca0-b30e-35d1c5fbe754",
   "metadata": {},
   "source": [
    "#### Section 3"
   ]
  },
  {
   "cell_type": "code",
   "execution_count": null,
   "id": "5999ab0e-6944-4024-ab15-2d6c7ca7aaeb",
   "metadata": {},
   "outputs": [],
   "source": [
    "Ra = 20.   # [mm], beam pipe aperture\n",
    "Fa = 4.\n",
    "p = 1000.   # [MeV/c]\n",
    "gammaRel = bd.p_to_gamma(p, -11)\n",
    "emitn = 10e3   # [pi mm mrad]\n",
    "betaPlus = fodo_thin_betaplus(Ra, Fa, gammaRel, emitn)\n",
    "Rpole = 0.025   # [m]\n",
    "Gquad = 1. / Rpole   # [T/m]\n",
    "RpoleToLquadMaxRatio = 0.1\n",
    "print('gammaRel = {:.1f}.'.format(gammaRel))\n",
    "print('betaPlus = {:.3f} m.'.format(betaPlus))"
   ]
  },
  {
   "cell_type": "markdown",
   "id": "25bd5554",
   "metadata": {},
   "source": [
    "### Select Elegant results"
   ]
  },
  {
   "cell_type": "code",
   "execution_count": null,
   "id": "3f4c5e25",
   "metadata": {},
   "outputs": [],
   "source": [
    "fodoSel = fodoDf.iloc[-1,:]"
   ]
  },
  {
   "cell_type": "markdown",
   "id": "33f9879e",
   "metadata": {},
   "source": [
    "### Variable parameter: Phase advance psi"
   ]
  },
  {
   "cell_type": "code",
   "execution_count": null,
   "id": "aee094fc",
   "metadata": {},
   "outputs": [],
   "source": [
    "psiDeg = np.linspace(10., 90.)   # [deg]\n",
    "psi = psiDeg / 180. * np.pi   # [rad]"
   ]
  },
  {
   "cell_type": "markdown",
   "id": "446dbd47",
   "metadata": {},
   "source": [
    "### Compute curves from thin lens approx."
   ]
  },
  {
   "cell_type": "code",
   "execution_count": null,
   "id": "a8118b81",
   "metadata": {},
   "outputs": [],
   "source": [
    "LcellThin = fodo_thin_lcell(betaPlus, psi)\n",
    "LquadThin = fodo_thin_lquad_1(fodo_thin_f(LcellThin, psi), kQuad)\n",
    "LquadRealMagnet = fodo_thin_lquad_3(fodo_thin_f(LcellThin, psi), Gquad, p, Rpole, RpoleToLquadMaxRatio)\n",
    "LdriftThin = fodo_thin_ldrift_1(LcellThin, LquadThin)\n",
    "LdriftRealMagnet = fodo_thin_ldrift_1(LcellThin, LquadRealMagnet)"
   ]
  },
  {
   "cell_type": "markdown",
   "id": "4bee8d79",
   "metadata": {},
   "source": [
    "### Compare thick lenses (Elegant) vs. thin lens approx."
   ]
  },
  {
   "cell_type": "code",
   "execution_count": null,
   "id": "27dcf9c7",
   "metadata": {},
   "outputs": [],
   "source": [
    "fig, ax = plt.subplots(3, 1, figsize=(9.6,12))\n",
    "ax[0].plot(fodoSel['psi'], fodoSel['Lcell'], 'o-')\n",
    "ax[0].plot(psiDeg, LcellThin, '--')\n",
    "ax[0].grid()\n",
    "ax[0].set_ylim((0, 6.))\n",
    "ax[0].set_xlabel('Phase advance [deg]')\n",
    "ax[0].set_ylabel('FODO cell length [m]')\n",
    "ax[0].legend(('Elegant optim.', 'Analytical (thin lens)'), loc=8)\n",
    "ax[1].plot(fodoSel['psi'], fodoSel['Ldrift'], 'o-')\n",
    "ax[1].plot(psiDeg, LdriftThin, '--')\n",
    "ax[1].plot(psiDeg, LdriftRealMagnet, '--')\n",
    "ax[1].grid()\n",
    "ax[1].set_ylim((-0.5, 3.0))\n",
    "ax[1].set_xlabel('Phase advance [deg]')\n",
    "ax[1].set_ylabel('Quad spacing [m]')\n",
    "ax[1].legend(('Elegant optim.', 'Analytical (thin lens)', 'Analytical (limit Rpole/Lquad ratio)'), loc=8)\n",
    "ax[2].plot(fodoSel['psi'], fodoSel['LquadHalf']*2., 'o-')\n",
    "ax[2].plot(psiDeg, LquadThin, '--')\n",
    "ax[2].plot(psiDeg, LquadRealMagnet, '--')\n",
    "ax[2].grid()\n",
    "ax[2].set_ylim((0, 1.1))\n",
    "ax[2].set_xlabel('Phase advance [deg]')\n",
    "ax[2].set_ylabel('Min. quad length [m]')\n",
    "_ = ax[2].legend(('Elegant optim.', 'Analytical (thin lens)', 'Analytical (limit Rpole/Lquad ratio)'), loc=8)"
   ]
  },
  {
   "cell_type": "markdown",
   "id": "7eeb0d70-cf94-46f1-8d0e-6c0d455c05ad",
   "metadata": {},
   "source": [
    "## Beta Function and Beam Size vs. Energy"
   ]
  },
  {
   "cell_type": "markdown",
   "id": "0b7fb7ec-557a-42fb-972a-a2412f3e2b4e",
   "metadata": {},
   "source": [
    "### Relations Computing the Beam Size"
   ]
  },
  {
   "cell_type": "code",
   "execution_count": null,
   "id": "b8199704-9c64-41f5-a035-db571d059c02",
   "metadata": {},
   "outputs": [],
   "source": [
    "def sigma_from_twiss(betaTwiss, emitn, gammaRel):\n",
    "    sigma = np.sqrt(betaTwiss * emitn / (gammaRel*bd.gamma_to_beta(gammaRel))) / 1e3   # [m]\n",
    "    return sigma"
   ]
  },
  {
   "cell_type": "markdown",
   "id": "0434b313-8ffe-4293-ae04-5c8a0bb21528",
   "metadata": {},
   "source": [
    "### Fix Parameters"
   ]
  },
  {
   "cell_type": "code",
   "execution_count": null,
   "id": "ddd45bb4-e47f-44a2-b90e-48ce879893cf",
   "metadata": {},
   "outputs": [],
   "source": [
    "# Ra = 30.   # [mm], beam pipe aperture\n",
    "# Fa = 4.\n",
    "# pStart = 500.   # [MeV/c]\n",
    "# emitn = 10e3   # [pi mm mrad]\n",
    "# psiDeg = 76.345   # [deg]\n",
    "# gammaRelStart = bd.p_to_gamma(pStart, -11)\n",
    "# betaPlusStart = fodo_thin_betaplus(Ra, Fa, gammaRelStart, emitn)\n",
    "# print('gammaRelStart = {:.1f}.'.format(gammaRelStart))\n",
    "# print('betaPlusStart = {:.3f} m.'.format(betaPlusStart))"
   ]
  },
  {
   "cell_type": "code",
   "execution_count": null,
   "id": "2ce8794d-0fcb-453d-ab29-6e9cb1656b83",
   "metadata": {},
   "outputs": [],
   "source": [
    "Ra = 20.   # [mm], beam pipe aperture\n",
    "Fa = 4.\n",
    "pStart = 500.   # [MeV/c]\n",
    "emitn = 10e3   # [pi mm mrad]\n",
    "psiDeg = 76.345   # [deg]\n",
    "gammaRelStart = bd.p_to_gamma(pStart, -11)\n",
    "betaPlusStart = fodo_thin_betaplus(Ra, Fa, gammaRelStart, emitn)\n",
    "print('gammaRelStart = {:.1f}.'.format(gammaRelStart))\n",
    "print('betaPlusStart = {:.3f} m.'.format(betaPlusStart))"
   ]
  },
  {
   "cell_type": "markdown",
   "id": "3f21d458-f6ff-4c29-8f94-e88ccdf2d3dd",
   "metadata": {},
   "source": [
    "### Variable Parameters"
   ]
  },
  {
   "cell_type": "code",
   "execution_count": null,
   "id": "55f184ab-b784-4e7f-b01a-275ef0959531",
   "metadata": {},
   "outputs": [],
   "source": [
    "p = np.linspace(pStart, 1500.)\n",
    "gammaRel = bd.p_to_gamma(p, -11)"
   ]
  },
  {
   "cell_type": "markdown",
   "id": "b6a75579-5bd2-490c-967c-7f35e22166ef",
   "metadata": {},
   "source": [
    "### Compute Curves from Thin Lens Approximation"
   ]
  },
  {
   "cell_type": "markdown",
   "id": "bce060dd-10ff-4b86-9c7d-c51fb367db82",
   "metadata": {
    "tags": []
   },
   "source": [
    "$$ \\beta^+_{x,lim} = \\left( \\frac{R_a}{F_a} \\right)^2 \\frac{\\gamma_r \\beta_r}{\\epsilon_{norm,x}} $$\n",
    "\n",
    "$$ L_{cell} = \\beta^\\pm_x \\frac{\\sin \\psi}{1 \\pm \\sin \\frac{\\psi}{2}} = 4 * f * \\sin \\frac{\\psi}{2} $$\n",
    "\n",
    "$$ f = \\frac{1}{k_{quad} \\cdot L_{quad}} $$\n",
    "\n",
    "$$ \\sigma_x = \\sqrt{\\beta_x \\epsilon_{geom,x}} = \\sqrt{\\frac{\\beta_x \\epsilon_{norm,x}}{\\gamma_r \\beta_r}} $$"
   ]
  },
  {
   "cell_type": "code",
   "execution_count": null,
   "id": "541de2b3-6e90-4dc6-a603-b4606af371d9",
   "metadata": {
    "tags": []
   },
   "outputs": [],
   "source": [
    "betaPlusLim = fodo_thin_betaplus(Ra, Fa, gammaRel, emitn)\n",
    "LcellLim = fodo_thin_lcell(betaPlusLim, psiDeg/180.*np.pi)\n",
    "betaMinusLim = fodo_thin_betaminus(LcellLim, psiDeg/180.*np.pi)"
   ]
  },
  {
   "cell_type": "code",
   "execution_count": null,
   "id": "246868ba-be47-4828-80e1-84bf0f86ba0a",
   "metadata": {
    "tags": []
   },
   "outputs": [],
   "source": [
    "pStart2 = 500.\n",
    "pEnd2 = 1000.\n",
    "Rpole2 = 0.1   # [m]\n",
    "GquadMax2 = 1. / Rpole2   # [T/m]\n",
    "pSection2 = np.linspace(pStart2, pEnd2)\n",
    "gammaRel2 = bd.p_to_gamma(pSection2, -11)\n",
    "betaPlusActual2 = np.full(pSection2.shape, np.interp(pStart2, p, betaPlusLim))\n",
    "betaMinusActual2 = np.full(pSection2.shape, np.interp(pStart2, p, betaMinusLim))\n",
    "sigmaPlusActual2 = sigma_from_twiss(betaPlusActual2, emitn, gammaRel2)\n",
    "sigmaMinusActual2 = sigma_from_twiss(betaMinusActual2, emitn, gammaRel2)\n",
    "LcellActual2 = fodo_thin_lcell(betaPlusActual2, psiDeg/180.*np.pi)\n",
    "fActual2 = fodo_thin_f(LcellActual2, psiDeg/180.*np.pi)\n",
    "LquadActual2 = fodo_thin_lquad_3(fActual2, GquadMax2, pSection2, Rpole2, RpoleToLquadMaxRatio)\n",
    "kQuadActual2 = fodo_thin_kquad(fActual2, LquadActual2)\n",
    "GquadActual2 = bd.quad_gradient(kQuadActual2, pSection2)\n",
    "LdriftActual2 = fodo_thin_ldrift_1(LcellActual2, LquadActual2)"
   ]
  },
  {
   "cell_type": "code",
   "execution_count": null,
   "id": "383d2d0b-f0ef-4c5c-b5f5-db50d2fb4046",
   "metadata": {
    "tags": []
   },
   "outputs": [],
   "source": [
    "pStart3 = 1000.\n",
    "pEnd3 = 1500.\n",
    "pSection3 = np.linspace(pStart3, pEnd3)\n",
    "gammaRel3 = bd.p_to_gamma(pSection3, -11)\n",
    "# Rpole3 = 0.035   # [m]\n",
    "Rpole3 = 0.025   # [m]\n",
    "GquadMax3 = 1. / Rpole3   # [T/m]\n",
    "betaPlusActual3 = np.full(pSection3.shape, np.interp(pStart3, p, betaPlusLim))\n",
    "betaMinusActual3 = np.full(pSection3.shape, np.interp(pStart3, p, betaMinusLim))\n",
    "sigmaPlusActual3 = sigma_from_twiss(betaPlusActual3, emitn, gammaRel3)\n",
    "sigmaMinusActual3 = sigma_from_twiss(betaMinusActual3, emitn, gammaRel3)\n",
    "LcellActual3 = fodo_thin_lcell(betaPlusActual3, psiDeg/180.*np.pi)\n",
    "fActual3 = fodo_thin_f(LcellActual3, psiDeg/180.*np.pi)\n",
    "LquadActual3 = fodo_thin_lquad_3(fActual3, GquadMax3, pSection3, Rpole3, RpoleToLquadMaxRatio)\n",
    "kQuadActual3 = fodo_thin_kquad(fActual3, LquadActual3)\n",
    "GquadActual3 = bd.quad_gradient(kQuadActual3, pSection3)\n",
    "LdriftActual3 = fodo_thin_ldrift_1(LcellActual3, LquadActual3)"
   ]
  },
  {
   "cell_type": "markdown",
   "id": "d2faec64-7843-4904-9f7a-ad7344598455",
   "metadata": {},
   "source": [
    "### Plot"
   ]
  },
  {
   "cell_type": "code",
   "execution_count": null,
   "id": "67477f82-44af-4e76-9fb2-51c15de3b287",
   "metadata": {
    "tags": []
   },
   "outputs": [],
   "source": [
    "fig, ax = plt.subplots(4, 1, figsize=(9.6, 16))\n",
    "bplL = ax[0].plot(p, betaPlusLim, 'k-', label=r'$\\beta^+_{x,lim}$')\n",
    "bmlL = ax[0].plot(p, betaMinusLim, 'k--', label=r'$\\beta^-_{x,lim}$')\n",
    "ax[0].fill_between(\n",
    "    pSection2, betaPlusActual2, betaMinusActual2,\n",
    "    color=defaultColorCycle[3], alpha=0.5, label=r'$\\beta_{x,Section2}$'\n",
    ")\n",
    "ax[0].plot(pSection2, betaPlusActual2, '-', color=defaultColorCycle[3], label=r'$\\beta^+_{x,Section2}$')\n",
    "ax[0].plot(pSection2, betaMinusActual2, '--', color=defaultColorCycle[3], label=r'$\\beta^-_{x,Section2}$')\n",
    "ax[0].fill_between(\n",
    "    pSection3, betaPlusActual3, betaMinusActual3,\n",
    "    color=defaultColorCycle[0], alpha=0.5, label=r'$\\beta_{x,Section3}$'\n",
    ")\n",
    "ax[0].plot(pSection3, betaPlusActual3, '-', color=defaultColorCycle[0], label=r'$\\beta^+_{x,Section3}$')\n",
    "ax[0].plot(pSection3, betaMinusActual3, '--', color=defaultColorCycle[0], label=r'$\\beta^-_{x,Section3}$')\n",
    "ax[0].set_xlabel('Beam momentum [MeV/c]')\n",
    "ax[0].set_ylabel('Beta function')\n",
    "ax[0].legend()\n",
    "ax[0].grid()\n",
    "ax[1].fill_between(\n",
    "    pSection2, sigmaPlusActual2*1e3, sigmaMinusActual2*1e3,\n",
    "    color=defaultColorCycle[3], alpha=0.5, label=r'$\\sigma_{x,Section2}$'\n",
    ")\n",
    "ax[1].plot(pSection2, sigmaPlusActual2*1e3, '-', color=defaultColorCycle[3], label=r'$\\sigma^+_{x,Section2}$')\n",
    "ax[1].plot(pSection2, sigmaMinusActual2*1e3, '--', color=defaultColorCycle[3], label=r'$\\sigma^-_{x,Section2}$')\n",
    "ax[1].fill_between(\n",
    "    pSection3, sigmaPlusActual3*1e3, sigmaMinusActual3*1e3,\n",
    "    color=defaultColorCycle[0], alpha=0.5, label=r'$\\sigma_{x,Section3}$'\n",
    ")\n",
    "ax[1].plot(pSection3, sigmaPlusActual3*1e3, '-', color=defaultColorCycle[0], label=r'$\\sigma^+_{x,Section3}$')\n",
    "ax[1].plot(pSection3, sigmaMinusActual3*1e3, '--', color=defaultColorCycle[0], label=r'$\\sigma^-_{x,Section2}$')\n",
    "ax[1].set_xlim(ax[0].get_xlim())\n",
    "ax[1].set_ylim((0, 8.))\n",
    "ax[1].set_xlabel('Beam momentum [MeV/c]')\n",
    "ax[1].set_ylabel('Sigma beam [mm]')\n",
    "ax[1].legend()\n",
    "ax[1].grid()\n",
    "ax[2].plot(pSection2, LdriftActual2, '-', color=defaultColorCycle[3], label='Quad spacing, Section 2')\n",
    "ax[2].plot(pSection3, LdriftActual3, '-', color=defaultColorCycle[0], label='Quad spacing, Section 3')\n",
    "ax[2].plot(pSection2, LquadActual2, '--', color=defaultColorCycle[3], label='Quad length, Section 2')\n",
    "ax[2].plot(pSection3, LquadActual3, '--', color=defaultColorCycle[0], label='Quad length, Section 3')\n",
    "ax[2].set_xlim(ax[0].get_xlim())\n",
    "ax[2].set_ylim((-0.5, 4.))\n",
    "ax[2].set_xlabel('Beam momentum [MeV/c]')\n",
    "ax[2].set_ylabel('Quadrupole spacing / length [m]')\n",
    "ax[2].legend()\n",
    "ax[2].grid()\n",
    "ax[3].plot(pSection2, kQuadActual2, '-', color=defaultColorCycle[3], label='Quad strength, Section 2')\n",
    "ax[3].plot(pSection3, kQuadActual3, '-', color=defaultColorCycle[0], label='Quad strength, Section 3')\n",
    "ax[3].set_xlim(ax[0].get_xlim())\n",
    "ax[3].set_ylim((0, 4.0))\n",
    "ax[3].set_xlabel('Beam momentum [MeV/c]')\n",
    "ax[3].set_ylabel('Quad strength [1/m2] (solid)')\n",
    "ax[3].legend()\n",
    "ax[3].grid()\n",
    "ax3b = ax[3].twinx()\n",
    "ax3b.plot(pSection2, GquadActual2, '--', color=defaultColorCycle[3], label='Quad gradient, Section 2')\n",
    "ax3b.plot(pSection3, GquadActual3, '--', color=defaultColorCycle[0], label='Quad gradient, Section 3')\n",
    "ax3b.set_ylim((0, 20.))\n",
    "ax3b.set_ylabel('Quad gradient [T/m] (dashed)')"
   ]
  },
  {
   "cell_type": "code",
   "execution_count": null,
   "id": "2bd2ced2-1903-42b0-9365-498790325d4d",
   "metadata": {},
   "outputs": [],
   "source": [
    "15.*0.025"
   ]
  },
  {
   "cell_type": "code",
   "execution_count": null,
   "id": "0b8eda4a-2428-4ffd-a904-55262b8a2cec",
   "metadata": {},
   "outputs": [],
   "source": [
    "kQuadActual3"
   ]
  },
  {
   "cell_type": "markdown",
   "id": "a9e7eafd-8b7f-4a6c-b78d-a07de39b0f4e",
   "metadata": {},
   "source": [
    "## Cost Model"
   ]
  },
  {
   "cell_type": "code",
   "execution_count": null,
   "id": "f47c3326-c5db-4a9a-9782-b38eb6cec1a1",
   "metadata": {},
   "outputs": [],
   "source": [
    "Eaccel = 15.   # [MV/m]\n",
    "L2 = (pEnd2 - pStart2) / Eaccel\n",
    "Nquads2 = np.round(L2 / LcellActual2 * 2.)\n",
    "print('L2 = {:.3f} m.'.format(L2))\n",
    "print('Nquads2 = {:.0f}.'.format(Nquads2[0]))\n",
    "L3 = (pEnd3 - pStart3) / Eaccel\n",
    "Nquads3 = np.round(L3 / LcellActual3 * 2.)\n",
    "print('L3 = {:.3f} m.'.format(L3))\n",
    "print('Nquads3 = {:.0f}.'.format(Nquads3[0]))"
   ]
  },
  {
   "cell_type": "markdown",
   "id": "a5a17137-d726-4255-9940-30a30ebb3f93",
   "metadata": {},
   "source": [
    "## Input Parameters"
   ]
  },
  {
   "cell_type": "code",
   "execution_count": null,
   "id": "f3d2af85-f91d-487a-97bc-7feac965afb7",
   "metadata": {},
   "outputs": [],
   "source": [
    "emitnSelected = 10e3   # [pi mm mrad]\n",
    "pSelected = 500.   # [MeV/c]\n",
    "RaSelected = 30.   # [mm]\n",
    "FaSelected = 4.\n",
    "psiDegSelected = 76.345   # [deg]\n",
    "LquadSelected = 1."
   ]
  },
  {
   "cell_type": "code",
   "execution_count": null,
   "id": "a4ee5fd7-6a28-419b-8d16-dccc3fdd64e3",
   "metadata": {},
   "outputs": [],
   "source": [
    "kQuadElegantOptim = 0.894860   # [1/m2]"
   ]
  },
  {
   "cell_type": "markdown",
   "id": "907db8a9-ea82-4012-9e9b-be567bc065ac",
   "metadata": {},
   "source": [
    "### Elegant"
   ]
  },
  {
   "cell_type": "code",
   "execution_count": null,
   "id": "4aed1ee2-7bca-4d51-9b93-2ef195499e7c",
   "metadata": {},
   "outputs": [],
   "source": [
    "gammaRelSelected = bd.p_to_gamma(pSelected, -11)\n",
    "betaRelSelected = bd.p_to_beta(pSelected, -11)\n",
    "gammaRelSelected * betaRelSelected"
   ]
  },
  {
   "cell_type": "code",
   "execution_count": null,
   "id": "0fd2ff2a-2866-4850-9f76-b94e0db94351",
   "metadata": {},
   "outputs": [],
   "source": [
    "betaPlusSelected = fodo_thin_betaplus(RaSelected, FaSelected, gammaRelSelected, emitnSelected)\n",
    "betaPlusSelected"
   ]
  },
  {
   "cell_type": "code",
   "execution_count": null,
   "id": "55d13d83-f52b-4750-871b-d2d456971f92",
   "metadata": {},
   "outputs": [],
   "source": [
    "psiSelected = psiDegSelected / 180. * np.pi\n",
    "LcellSelected = fodo_thin_lcell(betaPlusSelected, psiSelected)\n",
    "LcellSelected"
   ]
  },
  {
   "cell_type": "code",
   "execution_count": null,
   "id": "a3edba7a-4bae-44fd-8a55-11a1488183f4",
   "metadata": {},
   "outputs": [],
   "source": [
    "betaMinusSelected = fodo_thin_betaminus(LcellSelected, psiSelected)\n",
    "betaMinusSelected"
   ]
  },
  {
   "cell_type": "code",
   "execution_count": null,
   "id": "492a5259-be47-414e-976d-c52fec437c05",
   "metadata": {},
   "outputs": [],
   "source": [
    "LdriftSelected = fodo_thin_ldrift_1(LcellSelected, LquadSelected)\n",
    "LdriftSelected"
   ]
  },
  {
   "cell_type": "code",
   "execution_count": null,
   "id": "3713e585-83aa-44a3-bff1-1b2d25ee95bd",
   "metadata": {},
   "outputs": [],
   "source": [
    "kQuadSelected = fodo_thin_kquad(fodo_thin_f(LcellSelected, psiSelected), LquadSelected)\n",
    "kQuadSelected"
   ]
  },
  {
   "cell_type": "markdown",
   "id": "a8ba76e8-6249-4f0d-a6fb-0d765075d617",
   "metadata": {},
   "source": [
    "## Placet"
   ]
  },
  {
   "cell_type": "code",
   "execution_count": null,
   "id": "bfe10459-dec1-4bd0-8d32-54fe8db7ec00",
   "metadata": {},
   "outputs": [],
   "source": [
    "EkinSelected = bd.p_to_Ekin(pSelected, -11)\n",
    "EkinSelected"
   ]
  },
  {
   "cell_type": "code",
   "execution_count": null,
   "id": "06e59122-f8ac-4e27-a503-7147b194d982",
   "metadata": {},
   "outputs": [],
   "source": [
    "betaRelSelected"
   ]
  },
  {
   "cell_type": "code",
   "execution_count": null,
   "id": "08d68d5a-907b-4d3d-af4d-5a3c0fc62e49",
   "metadata": {},
   "outputs": [],
   "source": [
    "fQuadSelected = fodo_thin_f(LcellSelected, psiSelected)\n",
    "fQuadSelected"
   ]
  },
  {
   "cell_type": "code",
   "execution_count": null,
   "id": "4cc60bb8-eabf-4e3f-91fc-a73e53f7077b",
   "metadata": {},
   "outputs": [],
   "source": [
    "fQuadElegantOptim = 1. / (kQuadElegantOptim * LquadSelected)\n",
    "fQuadElegantOptim"
   ]
  },
  {
   "cell_type": "markdown",
   "id": "5c248007",
   "metadata": {},
   "source": [
    "<div class=\"alert alert-block alert-warning\">\n",
    "Some warning.\n",
    "</div>"
   ]
  },
  {
   "cell_type": "markdown",
   "id": "908b3ce4",
   "metadata": {},
   "source": [
    "<div class=\"alert alert-block alert-danger\">\n",
    "Some error.\n",
    "</div>"
   ]
  },
  {
   "cell_type": "markdown",
   "id": "4111ea5b",
   "metadata": {},
   "source": [
    "<div class=\"alert alert-block alert-success\">\n",
    "Something good.\n",
    "</div>"
   ]
  },
  {
   "cell_type": "code",
   "execution_count": null,
   "id": "2f2e637d",
   "metadata": {},
   "outputs": [],
   "source": []
  }
 ],
 "metadata": {
  "kernelspec": {
   "display_name": "Python 3 (ipykernel)",
   "language": "python",
   "name": "python3"
  },
  "language_info": {
   "codemirror_mode": {
    "name": "ipython",
    "version": 3
   },
   "file_extension": ".py",
   "mimetype": "text/x-python",
   "name": "python",
   "nbconvert_exporter": "python",
   "pygments_lexer": "ipython3",
   "version": "3.10.1"
  },
  "toc": {
   "base_numbering": 1,
   "nav_menu": {},
   "number_sections": true,
   "sideBar": true,
   "skip_h1_title": false,
   "title_cell": "Table of Contents",
   "title_sidebar": "Contents",
   "toc_cell": false,
   "toc_position": {},
   "toc_section_display": true,
   "toc_window_display": false
  },
  "toc-autonumbering": true,
  "toc-showmarkdowntxt": true,
  "toc-showtags": false
 },
 "nbformat": 4,
 "nbformat_minor": 5
}
