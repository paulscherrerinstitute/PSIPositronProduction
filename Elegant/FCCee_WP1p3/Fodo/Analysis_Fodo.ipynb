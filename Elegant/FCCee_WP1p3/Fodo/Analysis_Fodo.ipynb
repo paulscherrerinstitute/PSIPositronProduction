{
 "cells": [
  {
   "cell_type": "code",
   "execution_count": null,
   "id": "11e4893f",
   "metadata": {},
   "outputs": [],
   "source": [
    "import os\n",
    "import numpy as np\n",
    "import pandas as pd\n",
    "import qtconsole\n",
    "import matplotlib\n",
    "import matplotlib.pyplot as plt\n",
    "from matplotlib import cm\n",
    "import BeamDynamics as bd\n",
    "import copy\n",
    "try:\n",
    "    import ROOT\n",
    "except:\n",
    "    print('Root framework not available.')"
   ]
  },
  {
   "cell_type": "code",
   "execution_count": null,
   "id": "eaf8d117",
   "metadata": {},
   "outputs": [],
   "source": [
    "from importlib import reload\n",
    "reload(bd)"
   ]
  },
  {
   "cell_type": "code",
   "execution_count": null,
   "id": "f2718dff",
   "metadata": {},
   "outputs": [],
   "source": [
    "%qtconsole"
   ]
  },
  {
   "cell_type": "code",
   "execution_count": null,
   "id": "9c6151f1",
   "metadata": {},
   "outputs": [],
   "source": [
    "%connect_info"
   ]
  },
  {
   "cell_type": "code",
   "execution_count": null,
   "id": "8e4c4dd0",
   "metadata": {},
   "outputs": [],
   "source": [
    "%matplotlib inline\n",
    "# %matplotlib notebook"
   ]
  },
  {
   "cell_type": "markdown",
   "id": "39f9e228",
   "metadata": {},
   "source": [
    "# FODO"
   ]
  },
  {
   "cell_type": "markdown",
   "id": "df854176",
   "metadata": {},
   "source": [
    "## Analytical relations from thin lens approximation"
   ]
  },
  {
   "cell_type": "markdown",
   "id": "99cc8f22",
   "metadata": {},
   "source": [
    "### General relations"
   ]
  },
  {
   "cell_type": "code",
   "execution_count": null,
   "id": "d23ebc18",
   "metadata": {},
   "outputs": [],
   "source": [
    "def fodo_thin_lcell(betaPlus, psi):\n",
    "    Lcell = betaPlus * np.sin(psi) / (1 + np.sin(psi/2.))\n",
    "    return Lcell\n",
    "\n",
    "def fodo_thin_betaminus(Lcell, psi):\n",
    "    betaMinus = Lcell * (1 - np.sin(psi/2.)) / np.sin(psi)\n",
    "    return betaMinus\n",
    "\n",
    "def fodo_thin_f(Lcell, psi):\n",
    "    f = Lcell / (4 * np.sin(psi/2.))\n",
    "    return f\n",
    "\n",
    "def fodo_thin_lquad_1(f, kQuad):\n",
    "    Lquad = 1 / (kQuad * f)\n",
    "    return Lquad\n",
    "\n",
    "def fodo_thin_ldrift_1(Lcell, Lquad):\n",
    "    Ldrift = (Lcell - 2.*Lquad) / 2.\n",
    "    return Ldrift\n",
    "\n",
    "def fodo_thin_lquad_2(Lcell, Ldrift):\n",
    "    Lquad = (Lcell - 2.*Ldrift) / 2.\n",
    "    return Lquad"
   ]
  },
  {
   "cell_type": "markdown",
   "id": "e9e424aa",
   "metadata": {},
   "source": [
    "### Assumption: BetaMax determined by emittance and aperture"
   ]
  },
  {
   "cell_type": "code",
   "execution_count": null,
   "id": "a2aafe85",
   "metadata": {},
   "outputs": [],
   "source": [
    "def fodo_thin_betaplus(Ra, Fa, gammaRel, emitn):\n",
    "    betaRel = bd.gamma_to_beta(gammaRel)\n",
    "    betaPlus = (Ra/Fa)**2. * betaRel * gammaRel / emitn\n",
    "    return betaPlus"
   ]
  },
  {
   "cell_type": "markdown",
   "id": "77efcbe3",
   "metadata": {},
   "source": [
    "### Assumption: Using the max. available quad gradient"
   ]
  },
  {
   "cell_type": "code",
   "execution_count": null,
   "id": "3f145e2c",
   "metadata": {},
   "outputs": [],
   "source": [
    "def fodo_thin_ldrift_2(Ra, Fa, gammaRel, emitn, psi, Gquad):\n",
    "    betaPlus = fodo_thin_betaplus(Ra, Fa, gammaRel, emitn)\n",
    "    term1 = betaPlus * np.sin(psi) / (2.*(1.+np.sin(psi/2.)))\n",
    "    kQuad = bd.quad_strength(Gquad, bd.gamma_to_p(gammaRel, -11))\n",
    "    term2 = 4. * np.sin(psi/2.) * (1.+np.sin(psi/2.)) / (betaPlus * np.sin(psi) * kQuad)\n",
    "    Ldrift = term1 - term2\n",
    "    return Ldrift"
   ]
  },
  {
   "cell_type": "markdown",
   "id": "b94a9532",
   "metadata": {},
   "source": [
    "### Assumption: Limit aperture to length ratio of the quad"
   ]
  },
  {
   "cell_type": "code",
   "execution_count": null,
   "id": "65cc7798",
   "metadata": {},
   "outputs": [],
   "source": [
    "def fodo_thin_lquad_3(f, quadGradMax, p, Rpole, RpoleToLquadMaxRatio):\n",
    "    kQuadMax = bd.quad_strength(quadGradMax, p)\n",
    "    LquadMin = 1 / (kQuadMax * f)\n",
    "    takeLquadMinInds = Rpole / LquadMin < RpoleToLquadMaxRatio\n",
    "    Lquad = np.zeros(takeLquadMinInds.shape)\n",
    "    Lquad[takeLquadMinInds] = LquadMin[takeLquadMinInds]\n",
    "    Lquad[~takeLquadMinInds] = Rpole / RpoleToLquadMaxRatio\n",
    "    return Lquad"
   ]
  },
  {
   "cell_type": "markdown",
   "id": "1c0f454d",
   "metadata": {},
   "source": [
    "## Results from Elegant optimizations (thick lenses)"
   ]
  },
  {
   "cell_type": "code",
   "execution_count": null,
   "id": "8abd7f27",
   "metadata": {},
   "outputs": [],
   "source": [
    "data = {\n",
    "    'Ra': [\n",
    "             20.,      20.,      20.,      20.,      20.,      20.,      20.,\n",
    "             25.,      30.,      35.,      40.,      45.,\n",
    "             30.,\n",
    "    ],   # [mm]\n",
    "    'Fa': [\n",
    "              3.,       3.,       3.,       3.,       3.,       3.,       3.,\n",
    "              4.,       4.,       4.,       4.,       4.,\n",
    "              4.,\n",
    "    ],\n",
    "    'psi': [\n",
    "            22.5,      45.,      60.,      70.,   76.345,      90.,     100.,\n",
    "          76.345,   76.345,   76.345,   76.345,   76.345,\n",
    "             60.,\n",
    "    ],   # [deg]\n",
    "    'LquadHalf' : [\n",
    "        0.107503, 0.112642, 0.129234, 0.144463, 0.156520, 0.193600, 0.256245,\n",
    "        0.203432, 0.135236, 0.079521, 0.059732, 0.046750,\n",
    "        0.000000,\n",
    "    ],   # [m]\n",
    "    'Ldrift': [\n",
    "        0.070826, 0.235100, 0.266819, 0.259910, 0.243498, 0.169696, 0.034461,\n",
    "        0.094104, 0.408817, 0.759710, 1.071240, 1.407448,\n",
    "        0.000000,\n",
    "    ],   # [m]\n",
    "}\n",
    "fodoDf = pd.DataFrame(data=data)\n",
    "fodoDf['Lcell'] = 2.*2.*fodoDf['LquadHalf'] + 2.*fodoDf['Ldrift']"
   ]
  },
  {
   "cell_type": "markdown",
   "id": "bee3f05c",
   "metadata": {},
   "source": [
    "## Cell length vs phase advance"
   ]
  },
  {
   "cell_type": "markdown",
   "id": "8b10af09",
   "metadata": {},
   "source": [
    "### Fix parameters"
   ]
  },
  {
   "cell_type": "code",
   "execution_count": null,
   "id": "552a34b3",
   "metadata": {},
   "outputs": [],
   "source": [
    "Ra = 20.   # [mm]\n",
    "Fa = 3.\n",
    "p = 200.   # [MeV/c]\n",
    "gammaRel = bd.p_to_gamma(p, -11)\n",
    "emitn = 10e3   # [pi mm mrad]\n",
    "betaPlus = fodo_thin_betaplus(Ra, Fa, gammaRel, emitn)\n",
    "Gquad = 0.6 / 0.1   # [T/m]\n",
    "kQuad = bd.quad_strength(Gquad, p)\n",
    "print('gammaRel = {:.1f}.'.format(gammaRel))\n",
    "print('betaPlus = {:.3f} m.'.format(betaPlus))\n",
    "print('kQuad = {:.3f} 1/m2.'.format(kQuad))"
   ]
  },
  {
   "cell_type": "markdown",
   "id": "7edd095a",
   "metadata": {},
   "source": [
    "### Select Elegant results"
   ]
  },
  {
   "cell_type": "code",
   "execution_count": null,
   "id": "98b08027",
   "metadata": {},
   "outputs": [],
   "source": [
    "fodoSel = fodoDf[fodoDf['Fa']==Fa]"
   ]
  },
  {
   "cell_type": "markdown",
   "id": "1dbad997",
   "metadata": {},
   "source": [
    "### Variable parameter: Phase advance psi"
   ]
  },
  {
   "cell_type": "code",
   "execution_count": null,
   "id": "1fe65d40",
   "metadata": {},
   "outputs": [],
   "source": [
    "psi = np.linspace(fodoSel['psi'].min(), fodoSel['psi'].max())"
   ]
  },
  {
   "cell_type": "markdown",
   "id": "0bffe975",
   "metadata": {},
   "source": [
    "### Compute curves from thin lens approx."
   ]
  },
  {
   "cell_type": "code",
   "execution_count": null,
   "id": "df4295f8",
   "metadata": {},
   "outputs": [],
   "source": [
    "LcellThin = fodo_thin_lcell(betaPlus, psi/180.*np.pi)\n",
    "LquadThin = fodo_thin_lquad_1(fodo_thin_f(LcellThin, psi/180.*np.pi), kQuad)\n",
    "LdriftThin = fodo_thin_ldrift_1(LcellThin, LquadThin)"
   ]
  },
  {
   "cell_type": "markdown",
   "id": "b0bb3e13",
   "metadata": {},
   "source": [
    "### Compare thick lenses (Elegant) vs. thin lens approx."
   ]
  },
  {
   "cell_type": "code",
   "execution_count": null,
   "id": "1a47cdb1",
   "metadata": {
    "scrolled": false
   },
   "outputs": [],
   "source": [
    "fig, ax = plt.subplots(3, 1, figsize=(8,12))\n",
    "ax[0].plot(fodoSel['psi'], fodoSel['Lcell'], 'o-')\n",
    "ax[0].plot(psi, LcellThin, '--')\n",
    "ax[0].grid()\n",
    "ax[0].set_ylim((0, 1.2))\n",
    "ax[0].set_xlabel('Phase advance [deg]')\n",
    "ax[0].set_ylabel('FODO cell length [m]')\n",
    "ax[0].legend(('Elegant optim.', 'Analytical (thin lens)'), loc=8)\n",
    "ax[1].plot(fodoSel['psi'], fodoSel['Ldrift'], 'o-')\n",
    "ax[1].plot(psi, LdriftThin, '--')\n",
    "ax[1].grid()\n",
    "ax[1].set_ylim((0, 0.3))\n",
    "ax[1].set_xlabel('Phase advance [deg]')\n",
    "ax[1].set_ylabel('Drift length [m]')\n",
    "ax[1].legend(('Elegant optim.', 'Analytical (thin lens)'), loc=8)\n",
    "ax[2].plot(fodoSel['psi'], fodoSel['LquadHalf']*2., 'o-')\n",
    "ax[2].plot(psi, LquadThin, '--')\n",
    "ax[2].grid()\n",
    "ax[2].set_ylim((0, 0.6))\n",
    "ax[2].set_xlabel('Phase advance [deg]')\n",
    "ax[2].set_ylabel('Quad length [m]')\n",
    "_ = ax[2].legend(('Elegant optim.', 'Analytical (thin lens)'), loc=8)"
   ]
  },
  {
   "cell_type": "markdown",
   "id": "a32de131",
   "metadata": {},
   "source": [
    "## Cell length vs. aperture"
   ]
  },
  {
   "cell_type": "markdown",
   "id": "4aa2d990",
   "metadata": {},
   "source": [
    "### Fix parameters"
   ]
  },
  {
   "cell_type": "code",
   "execution_count": null,
   "id": "e096de1b",
   "metadata": {},
   "outputs": [],
   "source": [
    "Fa = 4.\n",
    "p = 200.   # [MeV/c]\n",
    "gammaRel = bd.p_to_gamma(p, -11)\n",
    "emitn = 10e3   # [pi mm mrad]\n",
    "Gquad = 0.6 / 0.1   # [T/m]\n",
    "kQuad = bd.quad_strength(Gquad, p)\n",
    "psi = 76.345 / 180. * np.pi   # [rad]\n",
    "print('gammaRel = {:.1f}.'.format(gammaRel))\n",
    "print('kQuad = {:.3f} 1/m2.'.format(kQuad))"
   ]
  },
  {
   "cell_type": "markdown",
   "id": "677ca4f0",
   "metadata": {},
   "source": [
    "### Select Elegant results"
   ]
  },
  {
   "cell_type": "code",
   "execution_count": null,
   "id": "f77b585b",
   "metadata": {},
   "outputs": [],
   "source": [
    "fodoSel = fodoDf[fodoDf['Fa']==Fa]"
   ]
  },
  {
   "cell_type": "markdown",
   "id": "f8dfaecb",
   "metadata": {},
   "source": [
    "### Variable parameter"
   ]
  },
  {
   "cell_type": "code",
   "execution_count": null,
   "id": "68bb5d74",
   "metadata": {},
   "outputs": [],
   "source": [
    "Ra = np.linspace(20., fodoSel['Ra'].max())"
   ]
  },
  {
   "cell_type": "markdown",
   "id": "5c242782",
   "metadata": {},
   "source": [
    "### Compute curves from thin lens approx."
   ]
  },
  {
   "cell_type": "code",
   "execution_count": null,
   "id": "68e8295a",
   "metadata": {},
   "outputs": [],
   "source": [
    "LdriftThin = fodo_thin_ldrift_2(Ra, Fa, gammaRel, emitn, psi, Gquad)\n",
    "LcellThin = fodo_thin_lcell(fodo_thin_betaplus(Ra, Fa, gammaRel, emitn), psi)\n",
    "LquadThin = fodo_thin_lquad_2(LcellThin, LdriftThin)"
   ]
  },
  {
   "cell_type": "markdown",
   "id": "5d336650",
   "metadata": {},
   "source": [
    "### Compare thick lenses (Elegant) vs. thin lens approx."
   ]
  },
  {
   "cell_type": "code",
   "execution_count": null,
   "id": "cea66b59",
   "metadata": {},
   "outputs": [],
   "source": [
    "fig, ax = plt.subplots(3, 1, figsize=(8,12))\n",
    "ax[0].plot(fodoSel['Ra'], fodoSel['Lcell'], 'o-')\n",
    "ax[0].plot(Ra, LcellThin, '--')\n",
    "ax[0].grid()\n",
    "ax[0].set_ylim((0, 3.5))\n",
    "ax[0].set_xlabel('Aperture (iris radius) [mm]')\n",
    "ax[0].set_ylabel('FODO cell length [m]')\n",
    "ax[0].legend(('Elegant optim.', 'Analytical (thin lens)'), loc=9)\n",
    "ax[1].plot(fodoSel['Ra'], fodoSel['Ldrift'], 'o-')\n",
    "ax[1].plot(Ra, LdriftThin, '--')\n",
    "ax[1].grid()\n",
    "ax[1].set_ylim((-0.2, 1.6))\n",
    "ax[1].set_xlabel('Aperture (iris radius) [mm]')\n",
    "ax[1].set_ylabel('Drift length [m]')\n",
    "ax[1].legend(('Elegant optim.', 'Analytical (thin lens)'), loc=9)\n",
    "ax[2].plot(fodoSel['Ra'], fodoSel['LquadHalf']*2., 'o-')\n",
    "ax[2].plot(Ra, LquadThin, '--')\n",
    "ax[2].grid()\n",
    "ax[2].set_ylim((0, 0.5))\n",
    "ax[2].set_xlabel('Aperture (iris radius) [mm]')\n",
    "ax[2].set_ylabel('Quad length [m]')\n",
    "_ = ax[2].legend(('Elegant optim.', 'Analytical (thin lens)'), loc=9)"
   ]
  },
  {
   "cell_type": "markdown",
   "id": "f6d144ec",
   "metadata": {},
   "source": [
    "## Maximize drift length"
   ]
  },
  {
   "cell_type": "markdown",
   "id": "ec3c2b20",
   "metadata": {},
   "source": [
    "### Fix parameters"
   ]
  },
  {
   "cell_type": "code",
   "execution_count": null,
   "id": "3198fe12",
   "metadata": {},
   "outputs": [],
   "source": [
    "Fa = 4.\n",
    "emitn = 10e3   # [pi mm mrad]\n",
    "Gquad = 1.0 / 0.1   # [T/m]"
   ]
  },
  {
   "cell_type": "markdown",
   "id": "32545196",
   "metadata": {},
   "source": [
    "### Discrete parameters"
   ]
  },
  {
   "cell_type": "code",
   "execution_count": null,
   "id": "c1f363ff",
   "metadata": {},
   "outputs": [],
   "source": [
    "pArr = np.array((200., 350., 500.))   # [MeV/c]\n",
    "gammaRelArr = bd.p_to_gamma(pArr, -11)\n",
    "kQuadArr = bd.quad_strength(Gquad, pArr)"
   ]
  },
  {
   "cell_type": "markdown",
   "id": "fa9e1d55",
   "metadata": {},
   "source": [
    "### Variable parameters"
   ]
  },
  {
   "cell_type": "code",
   "execution_count": null,
   "id": "698cb365",
   "metadata": {},
   "outputs": [],
   "source": [
    "Ra = np.linspace(20., 40.)\n",
    "psi = np.linspace(10., 90.) / 180. * np.pi   # [rad]\n",
    "Ra, psi = np.meshgrid(Ra, psi)\n",
    "psiDeg = psi / np.pi * 180"
   ]
  },
  {
   "cell_type": "code",
   "execution_count": null,
   "id": "f73cbaf1",
   "metadata": {},
   "outputs": [],
   "source": [
    "fig, ax = plt.subplots(figsize=(9,16), subplot_kw={\"projection\": \"3d\"})\n",
    "for p, gammaRel, kQuad in zip(pArr, gammaRelArr, kQuadArr):\n",
    "    # Compute curves from thin lens approx.\n",
    "    LdriftThin = fodo_thin_ldrift_2(Ra, Fa, gammaRel, emitn, psi, Gquad)\n",
    "    LcellThin = fodo_thin_lcell(fodo_thin_betaplus(Ra, Fa, gammaRel, emitn), psi)\n",
    "    LquadThin = fodo_thin_lquad_2(LcellThin, LdriftThin)\n",
    "    # Plot\n",
    "    surf = ax.plot_surface(\n",
    "        Ra, psiDeg, LdriftThin,\n",
    "        cmap=cm.coolwarm, vmin=0, vmax=2.7,\n",
    "        linewidth=0, rstride=5, cstride=5, antialiased=False\n",
    "    )\n",
    "fig.colorbar(surf, shrink=0.3, aspect=15)\n",
    "ax.set_xlim(np.min(Ra), np.max(Ra))\n",
    "ax.set_ylim(np.min(psiDeg), np.max(psiDeg))\n",
    "ax.set_xlabel('Ra [mm]')\n",
    "ax.set_ylabel('psi [deg]')\n",
    "ax.set_zlabel('Ldrift [m]')\n",
    "ax.view_init(elev=35., azim=20.)\n",
    "ax.text(32.5, 80., 0, 'p = 200 MeV/c', (1,0,0.05), zorder=4)\n",
    "ax.text(32.5, 80., 0.9, 'p = 350 MeV/c', (1,0,0.09), zorder=5)\n",
    "_ = ax.text(37.5, 85., 2.5, 'p = 500 MeV/c', (1,0,0.11), zorder=6)"
   ]
  },
  {
   "cell_type": "markdown",
   "id": "cba55616",
   "metadata": {},
   "source": [
    "## Select working point"
   ]
  },
  {
   "cell_type": "markdown",
   "id": "f0515444",
   "metadata": {},
   "source": [
    "### Fix parameters"
   ]
  },
  {
   "cell_type": "code",
   "execution_count": null,
   "id": "5f0ad783",
   "metadata": {},
   "outputs": [],
   "source": [
    "Ra = 30.   # [mm]\n",
    "Fa = 4.\n",
    "p = 500.   # [MeV/c]\n",
    "gammaRel = bd.p_to_gamma(p, -11)\n",
    "emitn = 10e3   # [pi mm mrad]\n",
    "betaPlus = fodo_thin_betaplus(Ra, Fa, gammaRel, emitn)\n",
    "Rpole = 0.1   # [m]\n",
    "Gquad = 1. / Rpole   # [T/m]\n",
    "RpoleToLquadMaxRatio = 0.1\n",
    "print('gammaRel = {:.1f}.'.format(gammaRel))\n",
    "print('betaPlus = {:.3f} m.'.format(betaPlus))"
   ]
  },
  {
   "cell_type": "markdown",
   "id": "25bd5554",
   "metadata": {},
   "source": [
    "### Select Elegant results"
   ]
  },
  {
   "cell_type": "code",
   "execution_count": null,
   "id": "3f4c5e25",
   "metadata": {},
   "outputs": [],
   "source": [
    "fodoSel = fodoDf.iloc[-1,:]"
   ]
  },
  {
   "cell_type": "markdown",
   "id": "33f9879e",
   "metadata": {},
   "source": [
    "### Variable parameter: Phase advance psi"
   ]
  },
  {
   "cell_type": "code",
   "execution_count": null,
   "id": "aee094fc",
   "metadata": {},
   "outputs": [],
   "source": [
    "psiDeg = np.linspace(10., 90.)   # [deg]\n",
    "psi = psiDeg / 180. * np.pi   # [rad]"
   ]
  },
  {
   "cell_type": "markdown",
   "id": "446dbd47",
   "metadata": {},
   "source": [
    "### Compute curves from thin lens approx."
   ]
  },
  {
   "cell_type": "code",
   "execution_count": null,
   "id": "a8118b81",
   "metadata": {},
   "outputs": [],
   "source": [
    "LcellThin = fodo_thin_lcell(betaPlus, psi)\n",
    "LquadThin = fodo_thin_lquad_1(fodo_thin_f(LcellThin, psi), kQuad)\n",
    "LquadRealMagnet = fodo_thin_lquad_3(fodo_thin_f(LcellThin, psi), Gquad, p, Rpole, RpoleToLquadMaxRatio)\n",
    "LdriftThin = fodo_thin_ldrift_1(LcellThin, LquadThin)\n",
    "LdriftRealMagnet = fodo_thin_ldrift_1(LcellThin, LquadRealMagnet)"
   ]
  },
  {
   "cell_type": "markdown",
   "id": "4bee8d79",
   "metadata": {},
   "source": [
    "### Compare thick lenses (Elegant) vs. thin lens approx."
   ]
  },
  {
   "cell_type": "code",
   "execution_count": null,
   "id": "27dcf9c7",
   "metadata": {
    "scrolled": false
   },
   "outputs": [],
   "source": [
    "fig, ax = plt.subplots(3, 1, figsize=(8,12))\n",
    "ax[0].plot(fodoSel['psi'], fodoSel['Lcell'], 'o-')\n",
    "ax[0].plot(psiDeg, LcellThin, '--')\n",
    "ax[0].grid()\n",
    "ax[0].set_ylim((0, 3.5))\n",
    "ax[0].set_xlabel('Phase advance [deg]')\n",
    "ax[0].set_ylabel('FODO cell length [m]')\n",
    "ax[0].legend(('Elegant optim.', 'Analytical (thin lens)'), loc=8)\n",
    "ax[1].plot(fodoSel['psi'], fodoSel['Ldrift'], 'o-')\n",
    "ax[1].plot(psiDeg, LdriftThin, '--')\n",
    "ax[1].plot(psiDeg, LdriftRealMagnet, '--')\n",
    "ax[1].grid()\n",
    "ax[1].set_ylim((0, 1.6))\n",
    "ax[1].set_xlabel('Phase advance [deg]')\n",
    "ax[1].set_ylabel('Drift length [m]')\n",
    "ax[1].legend(('Elegant optim.', 'Analytical (thin lens)', 'Analytical (limit Rpole/Lquad ratio)'), loc=8)\n",
    "ax[2].plot(fodoSel['psi'], fodoSel['LquadHalf']*2., 'o-')\n",
    "ax[2].plot(psiDeg, LquadThin, '--')\n",
    "ax[2].plot(psiDeg, LquadRealMagnet, '--')\n",
    "ax[2].grid()\n",
    "ax[2].set_ylim((0, 1.1))\n",
    "ax[2].set_xlabel('Phase advance [deg]')\n",
    "ax[2].set_ylabel('Quad length [m]')\n",
    "_ = ax[2].legend(('Elegant optim.', 'Analytical (thin lens)', 'Analytical (limit Rpole/Lquad ratio)'), loc=8)"
   ]
  },
  {
   "cell_type": "markdown",
   "id": "5c248007",
   "metadata": {},
   "source": [
    "<div class=\"alert alert-block alert-warning\">\n",
    "Some warning.\n",
    "</div>"
   ]
  },
  {
   "cell_type": "markdown",
   "id": "908b3ce4",
   "metadata": {
    "scrolled": false
   },
   "source": [
    "<div class=\"alert alert-block alert-danger\">\n",
    "Some error.\n",
    "</div>"
   ]
  },
  {
   "cell_type": "markdown",
   "id": "4111ea5b",
   "metadata": {
    "scrolled": false
   },
   "source": [
    "<div class=\"alert alert-block alert-success\">\n",
    "Something good.\n",
    "</div>"
   ]
  },
  {
   "cell_type": "code",
   "execution_count": null,
   "id": "2f2e637d",
   "metadata": {},
   "outputs": [],
   "source": []
  }
 ],
 "metadata": {
  "kernelspec": {
   "display_name": "Python 3 (ipykernel)",
   "language": "python",
   "name": "python3"
  },
  "language_info": {
   "codemirror_mode": {
    "name": "ipython",
    "version": 3
   },
   "file_extension": ".py",
   "mimetype": "text/x-python",
   "name": "python",
   "nbconvert_exporter": "python",
   "pygments_lexer": "ipython3",
   "version": "3.10.1"
  },
  "toc": {
   "base_numbering": 1,
   "nav_menu": {},
   "number_sections": true,
   "sideBar": true,
   "skip_h1_title": false,
   "title_cell": "Table of Contents",
   "title_sidebar": "Contents",
   "toc_cell": false,
   "toc_position": {},
   "toc_section_display": true,
   "toc_window_display": false
  }
 },
 "nbformat": 4,
 "nbformat_minor": 5
}
