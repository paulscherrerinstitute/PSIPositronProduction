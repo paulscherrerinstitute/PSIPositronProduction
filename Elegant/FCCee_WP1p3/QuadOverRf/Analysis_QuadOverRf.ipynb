{
 "cells": [
  {
   "cell_type": "code",
   "execution_count": null,
   "id": "11e4893f",
   "metadata": {},
   "outputs": [],
   "source": [
    "import os\n",
    "import numpy as np\n",
    "import pandas as pd\n",
    "import qtconsole\n",
    "import matplotlib\n",
    "import matplotlib.pyplot as plt\n",
    "import BeamDynamics as bd\n",
    "import copy\n",
    "try:\n",
    "    import ROOT\n",
    "except:\n",
    "    print('Root framework not available.')"
   ]
  },
  {
   "cell_type": "code",
   "execution_count": null,
   "id": "eaf8d117",
   "metadata": {},
   "outputs": [],
   "source": [
    "from importlib import reload\n",
    "reload(bd)"
   ]
  },
  {
   "cell_type": "code",
   "execution_count": null,
   "id": "f2718dff",
   "metadata": {},
   "outputs": [],
   "source": [
    "%qtconsole"
   ]
  },
  {
   "cell_type": "code",
   "execution_count": null,
   "id": "8e4c4dd0",
   "metadata": {},
   "outputs": [],
   "source": [
    "%matplotlib inline\n",
    "plt.rcParams['figure.figsize'] = [16, 9]\n",
    "# %matplotlib notebook"
   ]
  },
  {
   "cell_type": "markdown",
   "id": "39f9e228",
   "metadata": {},
   "source": [
    "# QuadOverRf\n",
    "\n",
    "Simple Elegant setup with a quadrupole superimposed to an RF accelerating structure.\n",
    "\n",
    "![Modeling principle in Elegant](20211013_FCCeeInjectorStudyCollab_9thJointWp1Meeting_Task1p3_Slide3.png)\n",
    "![Modeling principle in Elegant](20211013_FCCeeInjectorStudyCollab_9thJointWp1Meeting_Task1p3_Slide4.png)"
   ]
  },
  {
   "cell_type": "code",
   "execution_count": null,
   "id": "3592acf0",
   "metadata": {},
   "outputs": [],
   "source": [
    "plotDefs = [\n",
    "    {\n",
    "        'varName1': 'x', 'varName2': 'y',\n",
    "        'opacityHist': 0.5,\n",
    "    },\n",
    "    {\n",
    "        'varName1': 'x', 'varName2': 'px',\n",
    "        'opacityHist': 0.5,\n",
    "    },\n",
    "    {\n",
    "        'varName1': 'y', 'varName2': 'py',\n",
    "        'opacityHist': 0.5,\n",
    "    },\n",
    "    {\n",
    "        'varName1': 'z', 'varName2': 'pz',\n",
    "        'opacityHist': 0.5,\n",
    "    },\n",
    "    {\n",
    "        'varName1': 't', 'varName2': 'Ekin',\n",
    "        'opacityHist': 0.5,\n",
    "    },\n",
    "    {\n",
    "        'varName1': 't', 'varName2': 'pz',\n",
    "        'opacityHist': 0.5,\n",
    "    },\n",
    "]"
   ]
  },
  {
   "cell_type": "markdown",
   "id": "bee3f05c",
   "metadata": {},
   "source": [
    "## Initial bunch"
   ]
  },
  {
   "cell_type": "code",
   "execution_count": null,
   "id": "3430aa9d",
   "metadata": {
    "scrolled": false
   },
   "outputs": [],
   "source": [
    "sdfFilePath = './Nslices1/QuadOverRf.bun.sdf_txt'\n",
    "beamIni = bd.load_standard_fwf(sdfFilePath)\n",
    "beamIni.describe()"
   ]
  },
  {
   "cell_type": "code",
   "execution_count": null,
   "id": "1a688ab6",
   "metadata": {},
   "outputs": [],
   "source": [
    "sdfFilePath = './AstraReference/QuadOverRf.ini.sdf_txt'\n",
    "beamIniAstra = bd.load_standard_fwf(sdfFilePath)\n",
    "beamIniAstra.describe()"
   ]
  },
  {
   "cell_type": "code",
   "execution_count": null,
   "id": "e8487ea2",
   "metadata": {},
   "outputs": [],
   "source": [
    "plotDefs[0]['lims1'] = (-20, 20.)   # [mm]\n",
    "plotDefs[0]['lims2'] = (-60., 60.)   # [mm]\n",
    "plotDefs[1]['lims1'] = plotDefs[0]['lims1']   # [mm]\n",
    "plotDefs[1]['lims2'] = (-20., 20.)   # [MeV/c]\n",
    "plotDefs[2]['lims1'] = plotDefs[0]['lims2']   # [mm]\n",
    "plotDefs[2]['lims2'] = (-50., 50.)   # [MeV/c]\n",
    "plotDefs[3]['lims1'] = (-3., 3.)   # [mm]\n",
    "plotDefs[3]['lims2'] = (0., 400.)   # [MeV/c]\n",
    "plotDefs[4]['lims1'] = (-0.01, 0.01)   # [ns]\n",
    "plotDefs[4]['lims2'] = plotDefs[3]['lims2']   # [MeV]\n",
    "plotDefs[5]['lims1'] = plotDefs[4]['lims1']   # [ns]\n",
    "plotDefs[5]['lims2'] = plotDefs[3]['lims2']   # [MeV/c]\n",
    "plotDefsIni = copy.deepcopy(plotDefs)"
   ]
  },
  {
   "cell_type": "code",
   "execution_count": null,
   "id": "affb8b5f",
   "metadata": {
    "scrolled": false
   },
   "outputs": [],
   "source": [
    "_ = bd.plot_distr(\n",
    "    [beamIni, beamIniAstra], plotDefsIni,\n",
    "    title=\"Initial bunch\", legendLabels=['Elegant', 'Astra']\n",
    ")"
   ]
  },
  {
   "cell_type": "markdown",
   "id": "5c248007",
   "metadata": {},
   "source": [
    "<div class=\"alert alert-block alert-warning\">\n",
    "Potential source of discrepancy: The initial Astra distribution sets t = 0 for all particles and distributes them along the z axis. This means that those with zStart > 0 are missing the effect of the fileds in the region between z = 0 and z = zStart. This can be better understood looking at the above comparison of the longitudinal phase spaces.\n",
    "</div>"
   ]
  },
  {
   "cell_type": "markdown",
   "id": "8db89b38",
   "metadata": {},
   "source": [
    "## Final bunch"
   ]
  },
  {
   "cell_type": "code",
   "execution_count": null,
   "id": "a1d6c4aa",
   "metadata": {},
   "outputs": [],
   "source": [
    "sdfFilePath = './Nslices1/QuadOverRf.out.sdf_txt'\n",
    "beamOut1 = bd.load_standard_fwf(sdfFilePath)\n",
    "beamOut1.describe()"
   ]
  },
  {
   "cell_type": "code",
   "execution_count": null,
   "id": "4eb133ff",
   "metadata": {
    "scrolled": false
   },
   "outputs": [],
   "source": [
    "sdfFilePath = './Nslices3/QuadOverRf.out.sdf_txt'\n",
    "beamOut3 = bd.load_standard_fwf(sdfFilePath)"
   ]
  },
  {
   "cell_type": "code",
   "execution_count": null,
   "id": "d1bf71e0",
   "metadata": {},
   "outputs": [],
   "source": [
    "sdfFilePath = './Nslices6/QuadOverRf.out.sdf_txt'\n",
    "beamOut6 = bd.load_standard_fwf(sdfFilePath)"
   ]
  },
  {
   "cell_type": "code",
   "execution_count": null,
   "id": "858eb884",
   "metadata": {
    "scrolled": true
   },
   "outputs": [],
   "source": [
    "sdfFilePath = './Nslices12/QuadOverRf.out.sdf_txt'\n",
    "beamOut12 = bd.load_standard_fwf(sdfFilePath)"
   ]
  },
  {
   "cell_type": "code",
   "execution_count": null,
   "id": "a1385e8f",
   "metadata": {},
   "outputs": [],
   "source": [
    "sdfFilePath = './Nslices100/QuadOverRf.out.sdf_txt'\n",
    "beamOut100 = bd.load_standard_fwf(sdfFilePath)\n",
    "beamOut100.describe()"
   ]
  },
  {
   "cell_type": "code",
   "execution_count": null,
   "id": "09b7d6cc",
   "metadata": {},
   "outputs": [],
   "source": [
    "sdfFilePath = './AstraReference/QuadOverRf.0100.001_zProj500mm.sdf_txt'\n",
    "beamOutAstra = bd.load_standard_fwf(sdfFilePath)\n",
    "beamOutAstra.describe()"
   ]
  },
  {
   "cell_type": "code",
   "execution_count": null,
   "id": "be75faf7",
   "metadata": {},
   "outputs": [],
   "source": [
    "plotDefs[0]['lims1'] = (-15, 15.)   # [mm]\n",
    "plotDefs[0]['lims2'] = (-100., 100.)   # [mm]\n",
    "plotDefs[1]['lims1'] = plotDefs[0]['lims1']   # [mm]\n",
    "plotDefs[1]['lims2'] = (-15., 15.)   # [MeV/c]\n",
    "plotDefs[2]['lims1'] = plotDefs[0]['lims2']   # [mm]\n",
    "plotDefs[2]['lims2'] = (-60., 60.)   # [MeV/c]\n",
    "plotDefs[3]['lims1'] = (497., 503.)   # [mm]\n",
    "plotDefs[3]['lims2'] = (0., 400.)   # [MeV/c]\n",
    "plotDefs[4]['lims1'] = (1.655, 1.685)   # [ns]\n",
    "plotDefs[4]['lims2'] = plotDefs[3]['lims2']   # [MeV]\n",
    "plotDefs[5]['lims1'] = plotDefs[4]['lims1']   # [ns]\n",
    "plotDefs[5]['lims2'] = plotDefs[3]['lims2']   # [MeV/c]\n",
    "plotDefsBeamOut = copy.deepcopy(plotDefs)"
   ]
  },
  {
   "cell_type": "code",
   "execution_count": null,
   "id": "8c846ac1",
   "metadata": {
    "scrolled": false
   },
   "outputs": [],
   "source": [
    "_ = bd.plot_distr(\n",
    "    [beamOut1, beamOut100, beamOutAstra], plotDefs,\n",
    "    title=\"Final bunch\", legendLabels=['Elegant (1 slice)', 'Elegant (100 slices)', 'Astra']\n",
    ")"
   ]
  },
  {
   "cell_type": "markdown",
   "id": "bcf7273d",
   "metadata": {},
   "source": [
    "<div class=\"alert alert-block alert-warning\">\n",
    "With these large Gaussian distributions it is difficult to quantify and judge the discrepancies between the two codes. In any case, it seems that there are important differences at least in the transverse phase spaces, where we note a clear difference in phase advance.\n",
    "</div>"
   ]
  },
  {
   "cell_type": "markdown",
   "id": "56b25ce0",
   "metadata": {},
   "source": [
    "## Only quadrupole (RF off)"
   ]
  },
  {
   "cell_type": "markdown",
   "id": "8fe9fb86",
   "metadata": {},
   "source": [
    "### Initial cross distribution"
   ]
  },
  {
   "cell_type": "code",
   "execution_count": null,
   "id": "4bb8a152",
   "metadata": {
    "scrolled": false
   },
   "outputs": [],
   "source": [
    "sdfFilePath = './CrossDistribution.sdf_txt'\n",
    "crossIni = bd.load_standard_fwf(sdfFilePath)\n",
    "crossIni"
   ]
  },
  {
   "cell_type": "code",
   "execution_count": null,
   "id": "725366fa",
   "metadata": {},
   "outputs": [],
   "source": [
    "plotDefs[0]['lims1'] = (-25., 25.)   # [mm]\n",
    "plotDefs[0]['lims2'] = (-25., 25.)   # [mm]\n",
    "plotDefs[1]['lims1'] = plotDefs[0]['lims1']   # [mm]\n",
    "plotDefs[1]['lims2'] = (-20., 20.)   # [MeV/c]\n",
    "plotDefs[2]['lims1'] = plotDefs[0]['lims2']   # [mm]\n",
    "plotDefs[2]['lims2'] = (-80., 80.)   # [MeV/c]\n",
    "plotDefs[3]['lims1'] = (-3., 3.)   # [mm]\n",
    "plotDefs[3]['lims2'] = (50., 350.)   # [MeV/c]\n",
    "plotDefs[4]['lims1'] = (-0.01, 0.01)   # [ns]\n",
    "plotDefs[4]['lims2'] = plotDefs[3]['lims2']   # [MeV]\n",
    "plotDefs[5]['lims1'] = plotDefs[4]['lims1']   # [ns]\n",
    "plotDefs[5]['lims2'] = plotDefs[3]['lims2']   # [MeV/c]"
   ]
  },
  {
   "cell_type": "code",
   "execution_count": null,
   "id": "6d7e988e",
   "metadata": {},
   "outputs": [],
   "source": [
    "markerSize = [15. + np.abs(crossIni['pz'].to_numpy()-200.)]\n",
    "markerStyle = [['^' if pz-200. > 0 else 'v' for pz in crossIni['pz']]]"
   ]
  },
  {
   "cell_type": "code",
   "execution_count": null,
   "id": "3803b0df",
   "metadata": {
    "scrolled": false
   },
   "outputs": [],
   "source": [
    "_ = bd.plot_distr(\n",
    "    crossIni, plotDefs, markerStyle=markerStyle, markerSize=markerSize,\n",
    "    title=\"Initial cross distribution\"\n",
    ")"
   ]
  },
  {
   "cell_type": "markdown",
   "id": "a7ea9c19",
   "metadata": {},
   "source": [
    "### Final cross distribution"
   ]
  },
  {
   "cell_type": "code",
   "execution_count": null,
   "id": "20cf6ed2",
   "metadata": {
    "scrolled": false
   },
   "outputs": [],
   "source": [
    "sdfFilePath = './Nslices1_NoRf/QuadOverRf_CrossDistr_Order1.out.sdf_txt'\n",
    "crossOut1Order1 = bd.load_standard_fwf(sdfFilePath)\n",
    "sdfFilePath = './Nslices1_NoRf/QuadOverRf_CrossDistr_Order2.out.sdf_txt'\n",
    "crossOut1Order2 = bd.load_standard_fwf(sdfFilePath)\n",
    "sdfFilePath = './Nslices1_NoRf/QuadOverRf_CrossDistr_Order3.out.sdf_txt'\n",
    "crossOut1Order3 = bd.load_standard_fwf(sdfFilePath)\n",
    "crossOut1Order3"
   ]
  },
  {
   "cell_type": "code",
   "execution_count": null,
   "id": "d2c9630b",
   "metadata": {
    "scrolled": false
   },
   "outputs": [],
   "source": [
    "sdfFilePath = './Nslices1_NoRf_Fringe/QuadOverRf_CrossDistr.out.sdf_txt'\n",
    "crossOut1Fringe = bd.load_standard_fwf(sdfFilePath)\n",
    "crossOut1Fringe"
   ]
  },
  {
   "cell_type": "code",
   "execution_count": null,
   "id": "17fc072a",
   "metadata": {
    "scrolled": false
   },
   "outputs": [],
   "source": [
    "sdfFilePath = './AstraReference_NoRf/QuadOverRf.0100.001_zProj500mm.sdf_txt'\n",
    "crossOutAstra = bd.load_standard_fwf(sdfFilePath)\n",
    "crossOutAstra"
   ]
  },
  {
   "cell_type": "code",
   "execution_count": null,
   "id": "93a4df8f",
   "metadata": {},
   "outputs": [],
   "source": [
    "plotDefs[0]['lims1'] = (-20., 20.)   # [mm]\n",
    "plotDefs[0]['lims2'] = (-150., 150.)   # [mm]\n",
    "plotDefs[1]['lims1'] = plotDefs[0]['lims1']   # [mm]\n",
    "plotDefs[1]['lims2'] = (-20., 20.)   # [MeV/c]\n",
    "plotDefs[2]['lims1'] = plotDefs[0]['lims2']   # [mm]\n",
    "plotDefs[2]['lims2'] = (-80., 80.)   # [MeV/c]\n",
    "plotDefs[3]['lims1'] = (497., 503.)   # [mm]\n",
    "plotDefs[3]['lims2'] = (50., 350.)   # [MeV/c]\n",
    "plotDefs[4]['lims1'] = (1.665, 1.72)   # [ns]\n",
    "plotDefs[4]['lims2'] = plotDefs[3]['lims2']   # [MeV]\n",
    "plotDefs[5]['lims1'] = plotDefs[4]['lims1']   # [ns]\n",
    "plotDefs[5]['lims2'] = plotDefs[3]['lims2']   # [MeV/c]"
   ]
  },
  {
   "cell_type": "code",
   "execution_count": null,
   "id": "081636cc",
   "metadata": {},
   "outputs": [],
   "source": [
    "# EkinMin = 149.   # [MeV]\n",
    "# EkinMax = 251.   # [MeV]\n",
    "EkinMin = 0   # [MeV]\n",
    "EkinMax = np.Inf   # [MeV]\n",
    "crossOut = crossOut1Order3\n",
    "crossOutFilt = crossOut[(crossOut['Ekin']>EkinMin) & (crossOut['Ekin']<EkinMax)]\n",
    "crossOutAstraFilt = crossOutAstra[(crossOutAstra['Ekin']>EkinMin) & (crossOutAstra['Ekin']<EkinMax)]"
   ]
  },
  {
   "cell_type": "code",
   "execution_count": null,
   "id": "5e2d6e59",
   "metadata": {},
   "outputs": [],
   "source": [
    "kQuad200 = 11.2136   # [1/m2]\n",
    "lQuad = 0.5   # [m]\n",
    "MquadFocusing200,MquadDefocusing200 = bd.quad_matrix(kQuad200, lQuad)\n",
    "MquadFocusing100,MquadDefocusing100 = bd.quad_matrix(kQuad200*200./100., lQuad)\n",
    "uIni = np.array((\n",
    "    (+0.02, 0),   # ([m], [])\n",
    "    (-0.02, 0)   # ([m], [])\n",
    ")).transpose()\n",
    "uOutFocused200 = np.dot(MquadFocusing200, uIni).transpose()\n",
    "uOutDefocused200 = np.dot(MquadDefocusing200, uIni).transpose()\n",
    "convertUnits200 = np.array((1e3, 200.))   # ([mm], [MeV/c])\n",
    "uOutFocused200 *= convertUnits200\n",
    "uOutDefocused200 *= convertUnits200\n",
    "uOutFocused100 = np.dot(MquadFocusing100, uIni).transpose()\n",
    "uOutDefocused100 = np.dot(MquadDefocusing100, uIni).transpose()\n",
    "convertUnits100 = np.array((1e3, 100.))   # ([mm], [MeV/c])\n",
    "uOutFocused100 *= convertUnits100\n",
    "uOutDefocused100 *= convertUnits100"
   ]
  },
  {
   "cell_type": "code",
   "execution_count": null,
   "id": "f2cb9426",
   "metadata": {},
   "outputs": [],
   "source": [
    "totDistr = 4\n",
    "markerSize = [15. + np.abs(crossOutFilt['pz'].to_numpy()-200.)] * totDistr\n",
    "markerStyle = [['^' if pz-200. > 0 else 'v' for pz in crossOutFilt['pz']]] * totDistr"
   ]
  },
  {
   "cell_type": "code",
   "execution_count": null,
   "id": "173aa9af",
   "metadata": {
    "scrolled": false
   },
   "outputs": [],
   "source": [
    "axs = bd.plot_distr(\n",
    "    [crossOut1Order1, crossOut1Order2, crossOut1Order3, crossOutAstraFilt],\n",
    "    plotDefs, markerStyle=markerStyle, markerSize=markerSize,\n",
    "    title='Final cross distribution', legendLabels=['Elegant, 1st order', 'Elegant, 2nd order', 'Elegant, 3rd order', 'Astra']\n",
    ")\n",
    "axs[1][0,0].plot(uOutFocused200[:,0], uOutFocused200[:,1], 'k-', label='Analytical, 200 MeV/c')\n",
    "axs[2][0,0].plot(uOutDefocused200[:,0], uOutDefocused200[:,1], 'k-', label='Analytical, 200 MeV/c')\n",
    "axs[1][0,0].plot(uOutFocused100[:,0], uOutFocused100[:,1], 'k--', label='Analytical, 100 MeV/c')\n",
    "axs[2][0,0].plot(uOutDefocused100[:,0], uOutDefocused100[:,1], 'k--', label='Analytical, 100 MeV/c')\n",
    "axs[1][0,0].legend()\n",
    "_ = axs[2][0,0].legend()"
   ]
  },
  {
   "cell_type": "markdown",
   "id": "4111ea5b",
   "metadata": {
    "scrolled": false
   },
   "source": [
    "<div class=\"alert alert-block alert-danger\">\n",
    "Large discrepancies between Elegant and Astra in the transverse as well as in the longitudinal phase space for particles with momentum different than the reference momentum of 200 MeV/c.\n",
    "</div><br />\n",
    "<div class=\"alert alert-block alert-success\">\n",
    "The analytical computation matches well with Astra.\n",
    "</div>"
   ]
  },
  {
   "cell_type": "markdown",
   "id": "12863796",
   "metadata": {},
   "source": [
    "## Additional tests"
   ]
  },
  {
   "cell_type": "markdown",
   "id": "2ca9ba64",
   "metadata": {},
   "source": [
    "### Positive drift space, DRIFT vs. EMATRIX"
   ]
  },
  {
   "cell_type": "code",
   "execution_count": null,
   "id": "1564c33e",
   "metadata": {},
   "outputs": [],
   "source": [
    "sdfFilePath = './PositiveDriftFirstOrder/QuadOverRf.out.sdf_txt'\n",
    "beamDriftPos1 = bd.load_standard_fwf(sdfFilePath)"
   ]
  },
  {
   "cell_type": "code",
   "execution_count": null,
   "id": "bcc18040",
   "metadata": {},
   "outputs": [],
   "source": [
    "sdfFilePath = './PositiveDriftWithEmatrix/QuadOverRf.out.sdf_txt'\n",
    "beamEmatrixPos = bd.load_standard_fwf(sdfFilePath)"
   ]
  },
  {
   "cell_type": "code",
   "execution_count": null,
   "id": "ab4d3a9f",
   "metadata": {},
   "outputs": [],
   "source": [
    "sdfFilePath = './PositiveDriftSecondOrder/QuadOverRf.out.sdf_txt'\n",
    "beamDriftPos2 = bd.load_standard_fwf(sdfFilePath)"
   ]
  },
  {
   "cell_type": "code",
   "execution_count": null,
   "id": "85c1877d",
   "metadata": {},
   "outputs": [],
   "source": [
    "plotDefs[0]['lims1'] = (-50., 50.)   # [mm]\n",
    "plotDefs[0]['lims2'] = (-200., 200.)   # [mm]\n",
    "plotDefs[1]['lims1'] = plotDefs[0]['lims1']   # [mm]\n",
    "plotDefs[1]['lims2'] = (-15., 15.)   # [MeV/c]\n",
    "plotDefs[2]['lims1'] = plotDefs[0]['lims2']   # [mm]\n",
    "plotDefs[2]['lims2'] = (-40., 40.)   # [MeV/c]\n",
    "plotDefs[3]['lims1'] = (1999., 2001.)   # [mm]\n",
    "plotDefs[3]['lims2'] = (210., 220.)   # [MeV/c]\n",
    "plotDefs[4]['lims1'] = (6.670, 6.725)   # [ns]\n",
    "plotDefs[4]['lims2'] = plotDefs[3]['lims2']   # [MeV]\n",
    "plotDefs[5]['lims1'] = plotDefs[4]['lims1']   # [ns]\n",
    "plotDefs[5]['lims2'] = plotDefs[3]['lims2']   # [MeV/c]"
   ]
  },
  {
   "cell_type": "code",
   "execution_count": null,
   "id": "5f9e9280",
   "metadata": {
    "scrolled": false
   },
   "outputs": [],
   "source": [
    "_ = bd.plot_distr(\n",
    "    [beamDriftPos1, beamEmatrixPos, beamDriftPos2], plotDefs,\n",
    "    title=\"Positive drift in Elegant, DRIFT vs. EMATRIX\",\n",
    "    legendLabels=['DRIFT, 1st order', 'EMATRIX', 'DRIFT, 2nd order']\n",
    ")"
   ]
  },
  {
   "cell_type": "markdown",
   "id": "61b38404",
   "metadata": {},
   "source": [
    "<div class=\"alert alert-block alert-success\">\n",
    "Verification succesfull for the transverse and the longitudinal plane with a modeling up to 1st order. We know how to model a drift space with EMATRIX.\n",
    "</div>\n",
    "<div class=\"alert alert-block alert-warning\">\n",
    "Non-negligible difference in the longitudinal phase space between 1st and 2nd order modeling.\n",
    "</div>\n",
    "<div class=\"alert alert-block alert-success\">\n",
    "Side note: Using exactly the same initial bunch or regenerating it with the same random_number_seed provide identical results.\n",
    "</div>"
   ]
  },
  {
   "cell_type": "markdown",
   "id": "0cf45fc7",
   "metadata": {},
   "source": [
    "### Negative drift space, EMATRIX vs. DRIFT"
   ]
  },
  {
   "cell_type": "code",
   "execution_count": null,
   "id": "407a63a3",
   "metadata": {},
   "outputs": [],
   "source": [
    "sdfFilePath = './Nslices1_NegativeDriftFirstOrder/QuadOverRf.out.sdf_txt'\n",
    "beamOut1DriftFirstOrder = bd.load_standard_fwf(sdfFilePath)"
   ]
  },
  {
   "cell_type": "code",
   "execution_count": null,
   "id": "8a68c8f6",
   "metadata": {},
   "outputs": [],
   "source": [
    "sdfFilePath = './NegativeDriftWithEmatrix/QuadOverRf.out.sdf_txt'\n",
    "beamEmatrixNeg = bd.load_standard_fwf(sdfFilePath)"
   ]
  },
  {
   "cell_type": "code",
   "execution_count": null,
   "id": "9f53e530",
   "metadata": {
    "scrolled": false
   },
   "outputs": [],
   "source": [
    "_ = bd.plot_distr(\n",
    "    [beamOut1DriftFirstOrder, beamEmatrixNeg, beamOut1], plotDefsBeamOut,\n",
    "    title=\"Negative drift in Elegant, DRIFT vs. EMATRIX\",\n",
    "    legendLabels=['DRIFT, 1st order', 'EMATRIX', 'DRIFT, 2nd order']\n",
    ")"
   ]
  },
  {
   "cell_type": "markdown",
   "id": "5fd2eff1",
   "metadata": {},
   "source": [
    "<div class=\"alert alert-block alert-success\">\n",
    "Verification successful. We know how to model a negative drift with DRIFT.\n",
    "(From the previous section we knew how to model a drift space up to 1st order with EMATRIX and used this as a reference in this test.)\n",
    "We note again that the discrepancy between 1st and 2nd order is not negligible.\n",
    "</div>"
   ]
  },
  {
   "cell_type": "markdown",
   "id": "4792cfba",
   "metadata": {},
   "source": [
    "### Initial bunch with vanishing longitudinal emittance, Elegant vs. Astra"
   ]
  },
  {
   "cell_type": "code",
   "execution_count": null,
   "id": "50b640c5",
   "metadata": {},
   "outputs": [],
   "source": [
    "sdfFilePath = './Nslices1_VanishingLongEmit/QuadOverRf.bun.sdf_txt'\n",
    "beamIni = bd.load_standard_fwf(sdfFilePath)"
   ]
  },
  {
   "cell_type": "code",
   "execution_count": null,
   "id": "1e10f518",
   "metadata": {},
   "outputs": [],
   "source": [
    "sdfFilePath = './AstraReference_VanishingLongEmit/QuadOverRf.ini.sdf_txt'\n",
    "beamIniAstra = bd.load_standard_fwf(sdfFilePath)"
   ]
  },
  {
   "cell_type": "code",
   "execution_count": null,
   "id": "cadcd6d2",
   "metadata": {
    "scrolled": false
   },
   "outputs": [],
   "source": [
    "_ = bd.plot_distr(\n",
    "    [beamIni, beamIniAstra], plotDefsIni,\n",
    "    title=\"Initial bunch\", legendLabels=['Elegant', 'Astra']\n",
    ")"
   ]
  },
  {
   "cell_type": "markdown",
   "id": "ab376f0f",
   "metadata": {},
   "source": [
    "### Final bunch with vanishing longitudinal emittance after tracking, Elegant vs. Astra"
   ]
  },
  {
   "cell_type": "code",
   "execution_count": null,
   "id": "1efe7aaa",
   "metadata": {
    "scrolled": false
   },
   "outputs": [],
   "source": [
    "sdfFilePath = './Nslices1_VanishingLongEmit/QuadOverRf.out.sdf_txt'\n",
    "beamOutVanishLongEmit = bd.load_standard_fwf(sdfFilePath)"
   ]
  },
  {
   "cell_type": "code",
   "execution_count": null,
   "id": "67e0036f",
   "metadata": {},
   "outputs": [],
   "source": [
    "sdfFilePath = './AstraReference_VanishingLongEmit/QuadOverRf.0100.001_zProj500mm.sdf_txt'\n",
    "beamOutAstraVanishLongEmit = bd.load_standard_fwf(sdfFilePath)"
   ]
  },
  {
   "cell_type": "code",
   "execution_count": null,
   "id": "305f31e1",
   "metadata": {},
   "outputs": [],
   "source": [
    "plotDefs[0]['lims1'] = (-20., 20.)   # [mm]\n",
    "plotDefs[0]['lims2'] = (-50., 50.)   # [mm]\n",
    "plotDefs[1]['lims1'] = plotDefs[0]['lims1']   # [mm]\n",
    "plotDefs[1]['lims2'] = (-20., 20.)   # [MeV/c]\n",
    "plotDefs[2]['lims1'] = plotDefs[0]['lims2']   # [mm]\n",
    "plotDefs[2]['lims2'] = (-50., 50.)   # [MeV/c]\n",
    "plotDefs[3]['lims1'] = (499.5, 500.5)   # [mm]\n",
    "plotDefs[3]['lims2'] = (207., 210.)   # [MeV/c]\n",
    "plotDefs[4]['lims1'] = (1.6675, 1.6725)   # [ns]\n",
    "plotDefs[4]['lims2'] = plotDefs[3]['lims2']   # [MeV]\n",
    "plotDefs[5]['lims1'] = plotDefs[4]['lims1']   # [ns]\n",
    "plotDefs[5]['lims2'] = plotDefs[3]['lims2']   # [MeV/c]"
   ]
  },
  {
   "cell_type": "code",
   "execution_count": null,
   "id": "75822bb2",
   "metadata": {
    "scrolled": false
   },
   "outputs": [],
   "source": [
    "_ = bd.plot_distr(\n",
    "    [beamOutVanishLongEmit, beamOutAstraVanishLongEmit], plotDefs,\n",
    "    title=\"Final bunch, vanishing longitudinal emittance\", legendLabels=['Elegant', 'Astra']\n",
    ")"
   ]
  },
  {
   "cell_type": "markdown",
   "id": "e2c0a0a6",
   "metadata": {},
   "source": [
    "<div class=\"alert alert-block alert-success\">\n",
    "Excellent agreement bewtween Astra and Elegant when the initial energy spread and bunch length are vanishing. As expected.\n",
    "</div>"
   ]
  },
  {
   "cell_type": "markdown",
   "id": "b4ffdf9e",
   "metadata": {},
   "source": [
    "### Difference with and without RF, stronger fileds by a factor 4"
   ]
  },
  {
   "cell_type": "code",
   "execution_count": null,
   "id": "0e7a16f7",
   "metadata": {},
   "outputs": [],
   "source": [
    "sdfFilePath = './Nslices1_NoRf_StrongerQuad4/QuadOverRf.out.sdf_txt'\n",
    "beamOutNoRf4 = bd.load_standard_fwf(sdfFilePath)"
   ]
  },
  {
   "cell_type": "code",
   "execution_count": null,
   "id": "b5e718ce",
   "metadata": {},
   "outputs": [],
   "source": [
    "sdfFilePath = './AstraReference_NoRf_StrongerQuad4/QuadOverRf.0100.001_zProj500mm.sdf_txt'\n",
    "beamOutAstraNoRf4 = bd.load_standard_fwf(sdfFilePath)"
   ]
  },
  {
   "cell_type": "code",
   "execution_count": null,
   "id": "d2ec36cb",
   "metadata": {},
   "outputs": [],
   "source": [
    "plotDefs[0]['lims1'] = (-20., 20.)   # [mm]\n",
    "plotDefs[0]['lims2'] = (-300., 300.)   # [mm]\n",
    "plotDefs[1]['lims1'] = plotDefs[0]['lims1']   # [mm]\n",
    "plotDefs[1]['lims2'] = (-20., 20.)   # [MeV/c]\n",
    "plotDefs[2]['lims1'] = plotDefs[0]['lims2']   # [mm]\n",
    "plotDefs[2]['lims2'] = (-500., 500.)   # [MeV/c]\n",
    "plotDefs[3]['lims1'] = (460., 530.)   # [mm]\n",
    "plotDefs[3]['lims2'] = (-50., 400.)   # [MeV/c]\n",
    "plotDefs[4]['lims1'] = (1.60, 1.90)   # [ns]\n",
    "plotDefs[4]['lims2'] = plotDefs[3]['lims2']   # [MeV]\n",
    "plotDefs[5]['lims1'] = plotDefs[4]['lims1']   # [ns]\n",
    "plotDefs[5]['lims2'] = plotDefs[3]['lims2']   # [MeV/c]"
   ]
  },
  {
   "cell_type": "code",
   "execution_count": null,
   "id": "a55ab2dd",
   "metadata": {
    "scrolled": false
   },
   "outputs": [],
   "source": [
    "_ = bd.plot_distr(\n",
    "    [beamOutNoRf4, beamOutAstraNoRf4], plotDefs,\n",
    "    title=\"Final bunch, no RF, stronger quad 4\", legendLabels=['Elegant', 'Astra']\n",
    ")"
   ]
  },
  {
   "cell_type": "markdown",
   "id": "5bfdabe6",
   "metadata": {},
   "source": [
    "<div class=\"alert alert-block alert-danger\">\n",
    "In this extreme case, there is something wrong going on in Elegant, at least for certain particles. See the y-py-phase space and pz distribution.\n",
    "</div>"
   ]
  },
  {
   "cell_type": "code",
   "execution_count": null,
   "id": "c1f455ca",
   "metadata": {},
   "outputs": [],
   "source": [
    "sdfFilePath = './AstraReference_StrongerQuadAndRf4/QuadOverRf.0100.001_zProj500mm.sdf_txt'\n",
    "beamOutAstraRf4 = bd.load_standard_fwf(sdfFilePath)"
   ]
  },
  {
   "cell_type": "code",
   "execution_count": null,
   "id": "d7961255",
   "metadata": {
    "scrolled": false
   },
   "outputs": [],
   "source": [
    "_ = bd.plot_distr(\n",
    "    [beamOutAstraRf4, beamOutAstraNoRf4], plotDefs,\n",
    "    title=\"Final bunch, Astra (stronger fields x4)\", legendLabels=['RF on', 'RF off']\n",
    ")"
   ]
  },
  {
   "cell_type": "markdown",
   "id": "93a3a3a6",
   "metadata": {},
   "source": [
    "<div class=\"alert alert-block alert-success\">\n",
    "Even in this extreme case, everything seems to be fine in Astra.\n",
    "</div>"
   ]
  },
  {
   "cell_type": "code",
   "execution_count": null,
   "id": "ff9db646",
   "metadata": {},
   "outputs": [],
   "source": [
    "sdfFilePath = './Nslices1_StrongerQuadAndRf4/QuadOverRf.out.sdf_txt'\n",
    "beamOutRf4 = bd.load_standard_fwf(sdfFilePath)"
   ]
  },
  {
   "cell_type": "code",
   "execution_count": null,
   "id": "6b46e6ad",
   "metadata": {
    "scrolled": false
   },
   "outputs": [],
   "source": [
    "_ = bd.plot_distr(\n",
    "    [beamOutRf4, beamOutNoRf4], plotDefs,\n",
    "    title=\"Final bunch, Elegant (stronger fields x4)\", legendLabels=['RF on', 'RF off']\n",
    ")"
   ]
  },
  {
   "cell_type": "markdown",
   "id": "02bf54a5",
   "metadata": {},
   "source": [
    "<div class=\"alert alert-block alert-danger\">\n",
    "As already observed above, there is something wrong going on in Elegant.\n",
    "</div>"
   ]
  },
  {
   "cell_type": "code",
   "execution_count": null,
   "id": "bcf8d563",
   "metadata": {
    "scrolled": false
   },
   "outputs": [],
   "source": [
    "_ = bd.plot_distr(\n",
    "    [beamOutRf4, beamOutAstraRf4], plotDefs,\n",
    "    title=\"Final bunch, stronger fields x4\", legendLabels=['Elegant', 'Astra']\n",
    ")"
   ]
  },
  {
   "cell_type": "markdown",
   "id": "af8d152d",
   "metadata": {},
   "source": [
    "<div class=\"alert alert-block alert-danger\">\n",
    "Due to the unphysical results from Elegant, this comparison does not make sense at this stage.\n",
    "</div>"
   ]
  },
  {
   "cell_type": "code",
   "execution_count": null,
   "id": "2f2e637d",
   "metadata": {},
   "outputs": [],
   "source": []
  }
 ],
 "metadata": {
  "kernelspec": {
   "display_name": "Python 3 (ipykernel)",
   "language": "python",
   "name": "python3"
  },
  "language_info": {
   "codemirror_mode": {
    "name": "ipython",
    "version": 3
   },
   "file_extension": ".py",
   "mimetype": "text/x-python",
   "name": "python",
   "nbconvert_exporter": "python",
   "pygments_lexer": "ipython3",
   "version": "3.10.1"
  }
 },
 "nbformat": 4,
 "nbformat_minor": 5
}
