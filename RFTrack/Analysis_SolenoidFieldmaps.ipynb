{
 "cells": [
  {
   "cell_type": "code",
   "execution_count": null,
   "id": "11e4893f",
   "metadata": {},
   "outputs": [],
   "source": [
    "import os\n",
    "import numpy as np\n",
    "import pandas as pd\n",
    "import matplotlib\n",
    "import matplotlib.pyplot as plt\n",
    "import BeamDynamics as bd\n",
    "import RFTrackTools as rfttools\n",
    "import copy"
   ]
  },
  {
   "cell_type": "code",
   "execution_count": null,
   "id": "eaf8d117",
   "metadata": {},
   "outputs": [],
   "source": [
    "from importlib import reload\n",
    "reload(bd)"
   ]
  },
  {
   "cell_type": "code",
   "execution_count": null,
   "id": "8e4c4dd0",
   "metadata": {},
   "outputs": [],
   "source": [
    "# %matplotlib inline\n",
    "# %matplotlib notebook\n",
    "%matplotlib widget\n",
    "plt.rcParams['figure.figsize'] = [9.6, 6.4]\n",
    "defaultColorCycle = plt.rcParams[\"axes.prop_cycle\"].by_key()['color']\n",
    "# plotFont = {\n",
    "#     'family' : 'sans-serif',\n",
    "#     'weight' : 'normal',\n",
    "#     'size'   : 12\n",
    "# }\n",
    "# matplotlib.rc('font', **plotFont)\n",
    "# plt.rc('legend', fontsize=10)"
   ]
  },
  {
   "cell_type": "markdown",
   "id": "39f9e228",
   "metadata": {},
   "source": [
    "# Compare Different Solenoid Fieldmaps"
   ]
  },
  {
   "cell_type": "code",
   "execution_count": null,
   "id": "a5cc2c55-b315-4027-bee9-f872b077a84a",
   "metadata": {},
   "outputs": [],
   "source": [
    "FILE_PATH = '/afs/psi.ch/project/Pcubed/SimulationRuns/fieldmap/custom_solenoid_n_9_cavity.txt'\n",
    "BZ_CORR_FACTOR = 0.955   # For L_SOLENOID = 0.65\n",
    "BZ_SOLENOID = 1   # [T]\n",
    "L_SOLENOID = 0.65   # [m]\n",
    "R_IN_SOLENOID = 0.100   # [m]\n",
    "L_SEPARATION = 0.2   # [m]"
   ]
  },
  {
   "cell_type": "markdown",
   "id": "735be2cf",
   "metadata": {},
   "source": [
    "## Generate with analytical formula"
   ]
  },
  {
   "cell_type": "code",
   "execution_count": null,
   "id": "88666a60-ee09-4b1e-ae76-e534b077cc03",
   "metadata": {},
   "outputs": [],
   "source": [
    "solAnalyticZaxis, solAnalyticBzOnAxis = bd.generate_solenoid_fieldmap(L_SOLENOID, BZ_SOLENOID, R_IN_SOLENOID)"
   ]
  },
  {
   "cell_type": "markdown",
   "id": "89cb6ee3-4cab-4301-9b21-04ab8b5f19ff",
   "metadata": {},
   "source": [
    "## Load fieldmap from FEM simulation"
   ]
  },
  {
   "cell_type": "code",
   "execution_count": null,
   "id": "afc4fe74-d4e7-43cb-ab74-82e9e2b60166",
   "metadata": {},
   "outputs": [],
   "source": [
    "solFemMatrix = np.loadtxt(FILE_PATH)\n",
    "solFemZaxis = solFemMatrix[:,0]\n",
    "solFemBzOnAxis = BZ_SOLENOID * BZ_CORR_FACTOR * solFemMatrix[:,1]\n",
    "# solFemFieldmapStep = solFemMatrix[1,0] - solFemMatrix[0,0]"
   ]
  },
  {
   "cell_type": "markdown",
   "id": "ec1e905d-03ba-4c45-938c-a99bd2e8becd",
   "metadata": {},
   "source": [
    "## Compare"
   ]
  },
  {
   "cell_type": "code",
   "execution_count": null,
   "id": "9a8d48a5-6f1d-4393-ba04-4e7c1fc6e951",
   "metadata": {},
   "outputs": [],
   "source": [
    "fix1, ax1 = plt.subplots()\n",
    "ax1.plot(solAnalyticZaxis, solAnalyticBzOnAxis)\n",
    "ax1.plot(solFemZaxis, solFemBzOnAxis)\n",
    "ax1.set_xlabel('z [m]')\n",
    "ax1.set_ylabel('Bz [T]')\n",
    "ax1.grid()"
   ]
  },
  {
   "cell_type": "code",
   "execution_count": null,
   "id": "2749a08d-f6fa-4d10-ac92-ad021a0596e2",
   "metadata": {},
   "outputs": [],
   "source": [
    "L_SPACING = L_SOLENOID + L_SEPARATION"
   ]
  },
  {
   "cell_type": "markdown",
   "id": "979e2090-5b82-4253-9d50-1ae37c27d6c5",
   "metadata": {},
   "source": [
    "## Fieldmap of HTS AMD"
   ]
  },
  {
   "cell_type": "code",
   "execution_count": null,
   "id": "dc4f7079-10b5-4bdd-8e53-d07faea526e9",
   "metadata": {},
   "outputs": [],
   "source": [
    "FILE_PATH = '/afs/psi.ch/project/Pcubed/SimulationRuns/fieldmap/narrow_no_W.txt'\n",
    "amd = np.loadtxt(FILE_PATH, delimiter=',')\n",
    "AMD_DELTA_Z = amd[1,0] - amd[0,0]"
   ]
  },
  {
   "cell_type": "code",
   "execution_count": null,
   "id": "14fa8894-bf64-42ee-82cf-4328b8543183",
   "metadata": {},
   "outputs": [],
   "source": [
    "fig3, ax3 = plt.subplots()\n",
    "_ = ax3.plot(amd[:,0], amd[:,1])\n",
    "ax3.set_xlabel('z [m]')\n",
    "ax3.set_ylabel('Bz [T]')\n",
    "ax3.grid()"
   ]
  },
  {
   "cell_type": "markdown",
   "id": "24aa40a3-0d9a-4a88-a493-b5b481d2d232",
   "metadata": {},
   "source": [
    "## Fieldmap from BiLFINGER, SC Solenoids around RF structures"
   ]
  },
  {
   "cell_type": "code",
   "execution_count": null,
   "id": "db15d789-4f5c-4390-9f85-edd52fb24140",
   "metadata": {},
   "outputs": [],
   "source": [
    "FILE_PATH = '/mnt/8414/CHARTProject/Pcubed/Components/Magnets/Experiment/SolenoidAroundRF/Bilfinger/20220519_FieldOnAxis_Sum_ExportedData.txt'\n",
    "solBilfSum = np.loadtxt(FILE_PATH, delimiter=',')"
   ]
  },
  {
   "cell_type": "code",
   "execution_count": null,
   "id": "4c0fd73e-bfc4-41af-8d4f-3d4a5d3e088b",
   "metadata": {},
   "outputs": [],
   "source": [
    "L_SOLENOID = 0.17\n",
    "SEPARATION_SOLENOID = 0.3\n",
    "BZ_SOLENOID = 3.\n",
    "R_IN_SOLENOID = 0.22\n",
    "solAnalyticBilfSingleZ, solAnalyticBilfSingleBzOnAxis = bd.generate_solenoid_fieldmap(L_SOLENOID, BZ_SOLENOID, R_IN_SOLENOID)\n",
    "# solAnalyticBilfSumBzOnAxis = np.zeros(solAnalyticBilfSingleBzOnAxis.shape)\n",
    "# for solInd in range(4):\n",
    "#     solAnalyticBilfSumBzOnAxis += np.interp"
   ]
  },
  {
   "cell_type": "code",
   "execution_count": null,
   "id": "c0598cff-b12b-4498-8feb-82c1e96d4633",
   "metadata": {},
   "outputs": [],
   "source": [
    "R_IN_COIL = 0.22\n",
    "R_OUT_COIL = 0.23\n",
    "L_SOLENOID = 0.17\n",
    "J = 255e6\n",
    "Z_CENTERS = [-1.05, -0.76, -0.45, -0.155, 0.155, 0.45, 0.76, 1.05]\n",
    "DIST_AMD_TO_RF_MIDDLE = 1.535   # [m]\n",
    "solAnalytic2BilfZ = np.arange(amd[0,0]-DIST_AMD_TO_RF_MIDDLE, 2.0, AMD_DELTA_Z)\n",
    "solAnalytic2BilfSingleBzOnAxis = []\n",
    "solAnalytic2BilfSumBzOnAxis = np.zeros(solAnalytic2BilfZ.shape)\n",
    "for zCenter in Z_CENTERS:\n",
    "    solAnalytic2BilfSingleBzOnAxis.append(bd.generate_solenoid_fieldmap_wilson(\n",
    "        solAnalytic2BilfZ, zCenter, R_IN_COIL, R_OUT_COIL, L_SOLENOID/2., J\n",
    "    ))\n",
    "    solAnalytic2BilfSumBzOnAxis += solAnalytic2BilfSingleBzOnAxis[-1]"
   ]
  },
  {
   "cell_type": "code",
   "execution_count": null,
   "id": "f62093f0-73dd-4524-8037-7a0e9a9fcc22",
   "metadata": {},
   "outputs": [],
   "source": [
    "fig2, ax2 = plt.subplots()\n",
    "hLeg = []\n",
    "hPlot, = ax2.plot(solBilfSum[:,0], solBilfSum[:,1], color=defaultColorCycle[0])\n",
    "# ax2.plot(solAnalyticBilfSingleZ-0.15, solAnalyticBilfSingleBzOnAxis)\n",
    "# ax2.plot(solAnalyticBilfSingleZ-0.45, solAnalyticBilfSingleBzOnAxis)\n",
    "# ax2.plot(solAnalyticBilfSingleZ-0.75, solAnalyticBilfSingleBzOnAxis)\n",
    "# ax2.plot(solAnalyticBilfSingleZ-1.05, solAnalyticBilfSingleBzOnAxis)\n",
    "hLeg.append(hPlot)\n",
    "hPlot, = ax2.plot(\n",
    "    solAnalytic2BilfZ, solAnalytic2BilfSumBzOnAxis, '-', color=defaultColorCycle[1])\n",
    "hLeg.append(hPlot)\n",
    "for singleBzOnAxis, zCenter in zip(solAnalytic2BilfSingleBzOnAxis, Z_CENTERS):\n",
    "    hPlot, = ax2.plot(solAnalytic2BilfZ, singleBzOnAxis, '--', color=defaultColorCycle[1])\n",
    "hLeg.append(hPlot)\n",
    "ax2.set_xlabel('z [m]')\n",
    "ax2.set_ylabel('Bz [T]')\n",
    "ax2.legend(hLeg, [\n",
    "    \"Field profile from BiLFINGER\",\n",
    "    \"Analytic reconstruction (Jaap's formula), Single coils\",\n",
    "    \"Analytic reconstruction (Jaap's formula)\"\n",
    "])\n",
    "ax2.grid()"
   ]
  },
  {
   "cell_type": "markdown",
   "id": "60077bd3-fde2-48be-b534-e7a1cb3de779",
   "metadata": {},
   "source": [
    "## Superposition AMD + Solenoids Around RF Structures, P3 Experiment"
   ]
  },
  {
   "cell_type": "code",
   "execution_count": null,
   "id": "0979c81d-208a-49cd-b2d9-9308f2f837e5",
   "metadata": {},
   "outputs": [],
   "source": [
    "# Z_TARGET_REL_TO_PEAK = 0.   # [m]\n",
    "# Z_RF_MIDDLE_FROM_TARGET = 0.850   # [m]\n",
    "totBzOnAxis = solAnalytic2BilfSumBzOnAxis.copy()\n",
    "totBzOnAxis[0:amd.shape[0]] += amd[:,1]"
   ]
  },
  {
   "cell_type": "code",
   "execution_count": null,
   "id": "0c7ba8e2-c706-4ed2-94f8-6502e81a5380",
   "metadata": {},
   "outputs": [],
   "source": [
    "fig4, ax4 = plt.subplots()\n",
    "ax4.plot(\n",
    "    amd[:,0], amd[:,1], '-', color=defaultColorCycle[0],\n",
    "    label=\"AMD\"\n",
    ")\n",
    "ax4.plot(\n",
    "    solAnalytic2BilfZ+DIST_AMD_TO_RF_MIDDLE, solAnalytic2BilfSumBzOnAxis, '-', color=defaultColorCycle[1],\n",
    "    label=\"Analytic reconstruction of BiLFINGER (Jaap's formula)\"\n",
    ")\n",
    "ax4.plot(\n",
    "    solAnalytic2BilfZ+DIST_AMD_TO_RF_MIDDLE, totBzOnAxis, '-', color=defaultColorCycle[2],\n",
    "    label=\"Total field on axis\"\n",
    ")\n",
    "ax4.set_xlabel('z [m]')\n",
    "ax4.set_ylabel('Bz [T]')\n",
    "ax4.grid()"
   ]
  },
  {
   "cell_type": "markdown",
   "id": "18bb1127-11fb-4dc2-9ce2-e8287137cd3a",
   "metadata": {},
   "source": [
    "## Superposition AMD + Solenoids Around RF Structures, FCC-ee Injector"
   ]
  },
  {
   "cell_type": "code",
   "execution_count": null,
   "id": "7ec15253-2214-46fd-8c45-9c5261e2cdb9",
   "metadata": {},
   "outputs": [],
   "source": [
    "Z_MAX = 10.   # [m]\n",
    "zLinac = np.arange(amd[0,0], Z_MAX, AMD_DELTA_Z)\n",
    "TARGET_EXIT_Z = 0.041   # [m]\n",
    "BzOnAxisLinac = np.zeros(zLinac.shape)\n",
    "BzOnAxisLinac[0:amd.shape[0]] += amd[:,1]"
   ]
  },
  {
   "cell_type": "code",
   "execution_count": null,
   "id": "6ea43312-3bb7-47c3-9768-779a426a9b9f",
   "metadata": {},
   "outputs": [],
   "source": [
    "SOL_HOMOG_BZ = 0.5   # [T]\n",
    "indZConstBzStart = np.nonzero(amd[:,1] > SOL_HOMOG_BZ)[0][-1] + 1"
   ]
  },
  {
   "cell_type": "code",
   "execution_count": null,
   "id": "35fc45ec-82f9-48a2-b01f-3aee313c046d",
   "metadata": {},
   "outputs": [],
   "source": [
    "RF_L_STRUCTURE = 1.2   # [m]\n",
    "RF_L_FLANGE = 0.05461   # [m]\n",
    "RF_L_MECH_MARGIN = 0.01   # [m]\n",
    "RF_CELLS_PER_PERIOD = 3.\n",
    "RF_L_CELL = bd.C / rfttools.RF_CLIC_FREQ / RF_CELLS_PER_PERIOD\n",
    "RF_N_STRUCTURES = 5\n",
    "RF_SEPARATION = 0.2   # [m]\n",
    "RF_SPACING = RF_L_STRUCTURE + RF_SEPARATION\n",
    "SOL_R_IN_COIL = 0.130   # [m]\n",
    "SOL_R_OUT_COIL = 0.250   # [m]\n",
    "SOL_L = RF_L_STRUCTURE - RF_L_FLANGE - RF_L_CELL - RF_L_MECH_MARGIN\n",
    "SOL_SPACING = RF_SPACING\n",
    "SOL_J = 3.54e6   # [A/m2]\n",
    "AMD_Z_EXIT = 0.2253   # [m]\n",
    "INITIAL_L = 0.   # [m]\n",
    "Z_CENTER_FIRST_SOL = AMD_Z_EXIT + INITIAL_L + RF_L_STRUCTURE / 2.\n",
    "Z_CENTER_SOLS = Z_CENTER_FIRST_SOL + np.arange(RF_N_STRUCTURES) * SOL_SPACING\n",
    "# DIST_AMD_TO_RF_MIDDLE = 1.535   # [m]\n",
    "# solAnalytic2BilfZ = np.arange(amd[0,0]-DIST_AMD_TO_RF_MIDDLE, 2.0, AMD_DELTA_Z)\n",
    "BzOnAxisSingles = []\n",
    "for zCenter in Z_CENTER_SOLS:\n",
    "    BzOnAxisSingles.append(bd.generate_solenoid_fieldmap_wilson(\n",
    "        zLinac, zCenter, SOL_R_IN_COIL, SOL_R_OUT_COIL, SOL_L/2., SOL_J\n",
    "    ))\n",
    "    BzOnAxisLinac += BzOnAxisSingles[-1]"
   ]
  },
  {
   "cell_type": "code",
   "execution_count": null,
   "id": "1aa9d7f0-48b2-4729-ab1c-841f0ee152d6",
   "metadata": {},
   "outputs": [],
   "source": [
    "fig5, ax5 = plt.subplots()\n",
    "hLeg = []\n",
    "hPlot, ax5.vlines(TARGET_EXIT_Z, np.min(amd[:,1]), np.max(amd[:,1]), linestyles='-', colors=defaultColorCycle[3])\n",
    "hLeg.append(hPlot)\n",
    "hPlot, ax5.plot(amd[:,0], amd[:,1], '--', color=defaultColorCycle[0])\n",
    "hLeg.append(hPlot)\n",
    "hPlot, ax5.plot([amd[indZConstBzStart,0], zLinac[-1]], [SOL_HOMOG_BZ, SOL_HOMOG_BZ], '--', color=defaultColorCycle[0])\n",
    "hLeg.append(hPlot)\n",
    "for BzOnAxis, zCenter in zip(BzOnAxisSingles, Z_CENTER_SOLS):\n",
    "    hPlot, = ax5.plot(zLinac, BzOnAxis, '--', color=defaultColorCycle[1])\n",
    "hLeg.append(hPlot)\n",
    "hPlot, = ax5.plot(zLinac, BzOnAxisLinac, '-', color=defaultColorCycle[2])\n",
    "hLeg.append(hPlot)\n",
    "ax5.set_xlabel('z [m]')\n",
    "ax5.set_ylabel('Bz [T]')\n",
    "ax5.legend(hLeg, [\n",
    "    \"Target exit\",\n",
    "    \"AMD\",\n",
    "    \"Homogeneous solenoidal channel\",\n",
    "    \"Single solenoids around RF\",\n",
    "    \"Total\"\n",
    "])\n",
    "ax5.grid()"
   ]
  },
  {
   "cell_type": "markdown",
   "id": "8c2e2f67",
   "metadata": {},
   "source": [
    "<div class=\"alert alert-block alert-success\">\n",
    "Some good news.\n",
    "</div>"
   ]
  },
  {
   "cell_type": "markdown",
   "id": "eb6ca689",
   "metadata": {},
   "source": [
    "<div class=\"alert alert-block alert-warning\">\n",
    "Some warning.\n",
    "</div>"
   ]
  },
  {
   "cell_type": "markdown",
   "id": "4111ea5b",
   "metadata": {},
   "source": [
    "<div class=\"alert alert-block alert-danger\">\n",
    "Some danger.\n",
    "</div>"
   ]
  },
  {
   "cell_type": "code",
   "execution_count": null,
   "id": "2f2e637d",
   "metadata": {},
   "outputs": [],
   "source": []
  }
 ],
 "metadata": {
  "kernelspec": {
   "display_name": "Python 3 (ipykernel)",
   "language": "python",
   "name": "python3"
  },
  "language_info": {
   "codemirror_mode": {
    "name": "ipython",
    "version": 3
   },
   "file_extension": ".py",
   "mimetype": "text/x-python",
   "name": "python",
   "nbconvert_exporter": "python",
   "pygments_lexer": "ipython3",
   "version": "3.10.5"
  },
  "toc": {
   "base_numbering": 1,
   "nav_menu": {},
   "number_sections": true,
   "sideBar": true,
   "skip_h1_title": true,
   "title_cell": "Table of Contents",
   "title_sidebar": "Contents",
   "toc_cell": true,
   "toc_position": {},
   "toc_section_display": true,
   "toc_window_display": false
  }
 },
 "nbformat": 4,
 "nbformat_minor": 5
}
