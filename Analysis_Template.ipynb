{
 "cells": [
  {
   "cell_type": "code",
   "execution_count": null,
   "id": "11e4893f",
   "metadata": {},
   "outputs": [],
   "source": [
    "import os\n",
    "import numpy as np\n",
    "import pandas as pd\n",
    "import qtconsole\n",
    "import matplotlib\n",
    "import matplotlib.pyplot as plt\n",
    "import BeamDynamics as bd\n",
    "import copy\n",
    "try:\n",
    "    import ROOT\n",
    "except:\n",
    "    print('Root framework not available.')"
   ]
  },
  {
   "cell_type": "code",
   "execution_count": null,
   "id": "eaf8d117",
   "metadata": {},
   "outputs": [],
   "source": [
    "from importlib import reload\n",
    "reload(bd)"
   ]
  },
  {
   "cell_type": "code",
   "execution_count": null,
   "id": "f2718dff",
   "metadata": {},
   "outputs": [],
   "source": [
    "%qtconsole"
   ]
  },
  {
   "cell_type": "code",
   "execution_count": null,
   "id": "8e4c4dd0",
   "metadata": {},
   "outputs": [],
   "source": [
    "%matplotlib inline\n",
    "plt.rcParams['figure.figsize'] = [16, 9]\n",
    "plotFont = {\n",
    "    'family' : 'sans-serif',\n",
    "    'weight' : 'normal',\n",
    "    'size'   : 12\n",
    "}\n",
    "matplotlib.rc('font', **plotFont)\n",
    "plt.rc('legend', fontsize=10)\n",
    "defaultColorCycle = plt.rcParams[\"axes.prop_cycle\"]\n",
    "# %matplotlib notebook"
   ]
  },
  {
   "cell_type": "markdown",
   "id": "39f9e228",
   "metadata": {},
   "source": [
    "# Title"
   ]
  },
  {
   "cell_type": "markdown",
   "id": "7e20702c",
   "metadata": {
    "toc": true
   },
   "source": [
    "<h1>Table of Contents<span class=\"tocSkip\"></span></h1>\n",
    "<div class=\"toc\"><ul class=\"toc-item\"><li><span><a href=\"#Section-1\" data-toc-modified-id=\"Section-1-1\"><span class=\"toc-item-num\">1&nbsp;&nbsp;</span>Section 1</a></span></li><li><span><a href=\"#Load-positron-distributions-simulated-with-Geant-4\" data-toc-modified-id=\"Load-positron-distributions-simulated-with-Geant-4-2\"><span class=\"toc-item-num\">2&nbsp;&nbsp;</span>Load positron distributions simulated with Geant 4</a></span></li><li><span><a href=\"#Plot-positron-distributions\" data-toc-modified-id=\"Plot-positron-distributions-3\"><span class=\"toc-item-num\">3&nbsp;&nbsp;</span>Plot positron distributions</a></span></li><li><span><a href=\"#Shaping-the-peak-of-the-kineitc-energy-distribution?\" data-toc-modified-id=\"Shaping-the-peak-of-the-kineitc-energy-distribution?-4\"><span class=\"toc-item-num\">4&nbsp;&nbsp;</span>Shaping the peak of the kineitc energy distribution?</a></span></li><li><span><a href=\"#Positron-yield-and-emittance-vs-target-thickness\" data-toc-modified-id=\"Positron-yield-and-emittance-vs-target-thickness-5\"><span class=\"toc-item-num\">5&nbsp;&nbsp;</span>Positron yield and emittance vs target thickness</a></span></li><li><span><a href=\"#Polar-coordinates-and-angular-acceptance\" data-toc-modified-id=\"Polar-coordinates-and-angular-acceptance-6\"><span class=\"toc-item-num\">6&nbsp;&nbsp;</span>Polar coordinates and angular acceptance</a></span></li><li><span><a href=\"#Positrons-vs.-electrons-and-other-particles\" data-toc-modified-id=\"Positrons-vs.-electrons-and-other-particles-7\"><span class=\"toc-item-num\">7&nbsp;&nbsp;</span>Positrons vs. electrons and other particles</a></span></li></ul></div>"
   ]
  },
  {
   "cell_type": "markdown",
   "id": "735be2cf",
   "metadata": {},
   "source": [
    "## Section 1"
   ]
  },
  {
   "cell_type": "code",
   "execution_count": null,
   "id": "a157fcd7",
   "metadata": {},
   "outputs": [],
   "source": []
  },
  {
   "cell_type": "markdown",
   "id": "8c2e2f67",
   "metadata": {
    "scrolled": false
   },
   "source": [
    "<div class=\"alert alert-block alert-success\">\n",
    "Some good news.\n",
    "</div>"
   ]
  },
  {
   "cell_type": "markdown",
   "id": "eb6ca689",
   "metadata": {
    "scrolled": false
   },
   "source": [
    "<div class=\"alert alert-block alert-warning\">\n",
    "Some warning.\n",
    "</div>"
   ]
  },
  {
   "cell_type": "markdown",
   "id": "4111ea5b",
   "metadata": {
    "scrolled": false
   },
   "source": [
    "<div class=\"alert alert-block alert-danger\">\n",
    "Some danger.\n",
    "</div>"
   ]
  },
  {
   "cell_type": "code",
   "execution_count": null,
   "id": "2f2e637d",
   "metadata": {},
   "outputs": [],
   "source": []
  }
 ],
 "metadata": {
  "kernelspec": {
   "display_name": "Python 3 (ipykernel)",
   "language": "python",
   "name": "python3"
  },
  "language_info": {
   "codemirror_mode": {
    "name": "ipython",
    "version": 3
   },
   "file_extension": ".py",
   "mimetype": "text/x-python",
   "name": "python",
   "nbconvert_exporter": "python",
   "pygments_lexer": "ipython3",
   "version": "3.9.6"
  },
  "toc": {
   "base_numbering": 1,
   "nav_menu": {},
   "number_sections": true,
   "sideBar": true,
   "skip_h1_title": true,
   "title_cell": "Table of Contents",
   "title_sidebar": "Contents",
   "toc_cell": true,
   "toc_position": {},
   "toc_section_display": true,
   "toc_window_display": false
  }
 },
 "nbformat": 4,
 "nbformat_minor": 5
}
