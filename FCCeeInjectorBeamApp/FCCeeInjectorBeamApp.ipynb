{
 "cells": [
  {
   "cell_type": "code",
   "execution_count": null,
   "id": "11e4893f",
   "metadata": {
    "jupyter": {
     "source_hidden": true
    },
    "tags": []
   },
   "outputs": [],
   "source": [
    "import os\n",
    "import numpy as np\n",
    "import pandas as pd\n",
    "import matplotlib\n",
    "import matplotlib.pyplot as plt\n",
    "import BeamDynamics as bd\n",
    "import copy\n",
    "import ipywidgets as iwdg\n",
    "import IPython.display as idsp"
   ]
  },
  {
   "cell_type": "code",
   "execution_count": null,
   "id": "8e4c4dd0",
   "metadata": {
    "jupyter": {
     "source_hidden": true
    },
    "tags": []
   },
   "outputs": [],
   "source": [
    "plotFont = {\n",
    "    'family' : 'sans-serif',\n",
    "    'weight' : 'normal',\n",
    "    'size'   : 12\n",
    "}\n",
    "matplotlib.rc('font', **plotFont)\n",
    "plt.rc('legend', fontsize=10)\n",
    "defaultColorCycle = plt.rcParams[\"axes.prop_cycle\"]"
   ]
  },
  {
   "cell_type": "code",
   "execution_count": null,
   "id": "7b59a18e",
   "metadata": {
    "jupyter": {
     "source_hidden": true
    },
    "tags": []
   },
   "outputs": [],
   "source": [
    "plotDefsBase = [\n",
    "    {\n",
    "        'varName1': 'x', 'varName2': 'y',\n",
    "        'opacityHist': 0.5,\n",
    "    },\n",
    "    {\n",
    "        'varName1': 't', 'varName2': 'x',\n",
    "        'opacityHist': 0.5,\n",
    "    },\n",
    "    {\n",
    "        'varName1': 't', 'varName2': 'y',\n",
    "        'opacityHist': 0.5,\n",
    "    },\n",
    "    {\n",
    "        'varName1': 'x', 'varName2': 'xp',\n",
    "        'opacityHist': 0.5,\n",
    "    },\n",
    "    {\n",
    "        'varName1': 'y', 'varName2': 'yp',\n",
    "        'opacityHist': 0.5,\n",
    "    },\n",
    "    {\n",
    "        'varName1': 'z', 'varName2': 'pz',\n",
    "        'opacityHist': 0.5,\n",
    "    },\n",
    "    {\n",
    "        'varName1': 't', 'varName2': 'Ekin',\n",
    "        'opacityHist': 0.5,\n",
    "    },\n",
    "    {\n",
    "        'varName1': 't', 'varName2': 'pz',\n",
    "        'opacityHist': 0.5,\n",
    "    },\n",
    "]"
   ]
  },
  {
   "cell_type": "code",
   "execution_count": null,
   "id": "bb6bcb70-7ea5-4aab-bcbc-ea9e2c5e5b02",
   "metadata": {
    "jupyter": {
     "source_hidden": true
    },
    "tags": []
   },
   "outputs": [],
   "source": [
    "distrDatabase = {\n",
    "    'CTSB-N02-F100-E06-S0.5-T5.0_FCTest_Pavel_SolC_CLICTW-OptionA08B7-Bc0.50': {\n",
    "        'plotDefs': [\n",
    "            {\n",
    "                'lims1': (-25, 25.),   # [mm]\n",
    "                'lims2': (-25., 25.)   # [mm]\n",
    "            },\n",
    "            {\n",
    "                'lims1': (62.2, 62.5),   # [ns]\n",
    "            },\n",
    "            {},\n",
    "            {\n",
    "                'lims2': (-30., 30.),   # [mrad]\n",
    "            },\n",
    "            {\n",
    "                'lims2': (-30., 30.),   # [mrad]\n",
    "            },\n",
    "            {\n",
    "                'lims1': (9999., 10001.),   # [mm]\n",
    "                'lims2': (0., 400.)   # [MeV/c]\n",
    "            },\n",
    "            {},\n",
    "            {},\n",
    "        ]\n",
    "    },\n",
    "    'CTSB-N02-F100-E06-S0.5-T5.0_HTSTest_JNov04_SolC_CLICTW-Ztc200-Ri15-Bc0.50': {\n",
    "        'plotDefs': [\n",
    "            {\n",
    "                'lims1': (-25, 25.),   # [mm]\n",
    "                'lims2': (-25., 25.)   # [mm]\n",
    "            },\n",
    "            {\n",
    "                'lims1': (62.8, 63.1),   # [ns]\n",
    "            },\n",
    "            {},\n",
    "            {\n",
    "                'lims2': (-30., 30.),   # [mrad]\n",
    "            },\n",
    "            {\n",
    "                'lims2': (-30., 30.),   # [mrad]\n",
    "            },\n",
    "            {\n",
    "                'lims1': (9999., 10001.),   # [mm]\n",
    "                'lims2': (0., 400.)   # [MeV/c]\n",
    "            },\n",
    "            {},\n",
    "            {},\n",
    "        ]\n",
    "    },\n",
    "    'CTSB-N02-F100-E06-S0.5-T5.0_HTSTest_JNov04_SolC_PSISW-Ztc200-Ri15-Bc1.50': {\n",
    "        'plotDefs': [\n",
    "            {\n",
    "                'lims1': (-25, 25.),   # [mm]\n",
    "                'lims2': (-25., 25.)   # [mm]\n",
    "            },\n",
    "            {\n",
    "                'lims1': (58.6, 58.9),   # [ns]\n",
    "            },\n",
    "            {},\n",
    "            {\n",
    "                'lims2': (-30., 30.),   # [mrad]\n",
    "            },\n",
    "            {\n",
    "                'lims2': (-30., 30.),   # [mrad]\n",
    "            },\n",
    "            {\n",
    "                'lims1': (9999., 10001.),   # [mm]\n",
    "                'lims2': (0., 400.)   # [MeV/c]\n",
    "            },\n",
    "            {},\n",
    "            {},\n",
    "        ]\n",
    "    }\n",
    "}\n",
    "\n",
    "for distr in distrDatabase.values():\n",
    "    distr['plotDefs'][1]['lims2'] = distr['plotDefs'][0]['lims1']   # [mm]\n",
    "    distr['plotDefs'][2]['lims1'] = distr['plotDefs'][1]['lims1']   # [ns]\n",
    "    distr['plotDefs'][2]['lims2'] = distr['plotDefs'][0]['lims2']   # [mm]\n",
    "    distr['plotDefs'][3]['lims1'] = distr['plotDefs'][0]['lims1']   # [mm]\n",
    "    distr['plotDefs'][4]['lims1'] = distr['plotDefs'][0]['lims2']   # [mm]\n",
    "    distr['plotDefs'][6]['lims1'] = distr['plotDefs'][1]['lims1']   # [ns]\n",
    "    distr['plotDefs'][6]['lims2'] = distr['plotDefs'][5]['lims2']   # [MeV]\n",
    "    distr['plotDefs'][7]['lims1'] = distr['plotDefs'][6]['lims1']   # [ns]\n",
    "    distr['plotDefs'][7]['lims2'] = distr['plotDefs'][5]['lims2']   # [MeV/c]"
   ]
  },
  {
   "cell_type": "code",
   "execution_count": null,
   "id": "a157fcd7",
   "metadata": {
    "jupyter": {
     "source_hidden": true
    },
    "tags": []
   },
   "outputs": [],
   "source": [
    "def load_distr(distrName):\n",
    "    sdfFilePath = './BeamDistrs/Positrons_200MeV_Yongke/' + distrName + '.dat.sdf_txt'\n",
    "    distr = bd.load_standard_fwf(sdfFilePath)\n",
    "    return distr"
   ]
  },
  {
   "cell_type": "markdown",
   "id": "39f9e228",
   "metadata": {},
   "source": [
    "# FCC-ee Injector Beams App"
   ]
  },
  {
   "cell_type": "code",
   "execution_count": null,
   "id": "33154261-a4b9-46ea-b79b-349eadce6dca",
   "metadata": {
    "jupyter": {
     "source_hidden": true
    },
    "tags": []
   },
   "outputs": [],
   "source": [
    "distrKeys = list(distrDatabase.keys())\n",
    "distr_dropdown = iwdg.Dropdown(\n",
    "    options=distrKeys,\n",
    "    value=distrKeys[-1],\n",
    "    description='Distribution:',\n",
    "    disabled=False,\n",
    "    layout={'width': 'initial'},\n",
    ")\n",
    "\n",
    "plot_out = []\n",
    "for pDef in plotDefsBase:\n",
    "    plot_out.append(iwdg.Output())\n",
    "descr_out = iwdg.Output(overflow='auto')\n",
    "descr_out.layout.width = '1024px'\n",
    "\n",
    "def plot_all(distr, distrName):\n",
    "    for p_out in plot_out:\n",
    "        p_out.clear_output()\n",
    "    descr_out.clear_output()\n",
    "    plotDefs = [{**pDefBase, **pDefDb} for pDefBase, pDefDb in zip(plotDefsBase, distrDatabase[distrName]['plotDefs'])]\n",
    "    for pDef, p_out in zip(plotDefs, plot_out):\n",
    "        with p_out:\n",
    "            bd.plot_distr([distr], [pDef], figHeight=7, figWidth=12.44)\n",
    "            plt.show()\n",
    "    with descr_out:\n",
    "        idsp.display(distr.describe())\n",
    "        \n",
    "def distr_dropdown_eventhandler(change):\n",
    "    distr = load_distr(change.new)\n",
    "    filterSpecs = {\n",
    "        'x': distrDatabase[change.new]['plotDefs'][3]['lims1'],\n",
    "        'xp': distrDatabase[change.new]['plotDefs'][3]['lims2'],\n",
    "        'y': distrDatabase[change.new]['plotDefs'][4]['lims1'],\n",
    "        'yp': distrDatabase[change.new]['plotDefs'][4]['lims2'],\n",
    "        't': distrDatabase[change.new]['plotDefs'][7]['lims1'],\n",
    "        'pz': distrDatabase[change.new]['plotDefs'][7]['lims2'],\n",
    "    }\n",
    "    distr = bd.filter_distr(distr, filterSpecs)\n",
    "    plot_all(distr, change.new)\n",
    "    \n",
    "distr_dropdown.observe(distr_dropdown_eventhandler, names='value')\n",
    "tab_layout = iwdg.Layout(margin='25px 0 0 0')\n",
    "outputs_tab = iwdg.Tab(plot_out+[descr_out], layout=tab_layout)\n",
    "for tabInd, pDef in enumerate(plotDefsBase):\n",
    "    outputs_tab.set_title(tabInd, pDef['varName1']+'-'+pDef['varName2'])\n",
    "outputs_tab.set_title(len(plotDefsBase), 'Description')\n",
    "dashboard = iwdg.VBox([distr_dropdown, outputs_tab])\n",
    "display(dashboard)\n",
    "distr_dropdown.value = distrKeys[0]"
   ]
  },
  {
   "cell_type": "code",
   "execution_count": null,
   "id": "6b660255-5810-4b2e-92c2-5708b7313374",
   "metadata": {},
   "outputs": [],
   "source": []
  }
 ],
 "metadata": {
  "kernelspec": {
   "display_name": "Python 3 (ipykernel)",
   "language": "python",
   "name": "python3"
  },
  "language_info": {
   "codemirror_mode": {
    "name": "ipython",
    "version": 3
   },
   "file_extension": ".py",
   "mimetype": "text/x-python",
   "name": "python",
   "nbconvert_exporter": "python",
   "pygments_lexer": "ipython3",
   "version": "3.10.1"
  },
  "toc": {
   "base_numbering": 1,
   "nav_menu": {},
   "number_sections": true,
   "sideBar": true,
   "skip_h1_title": true,
   "title_cell": "Table of Contents",
   "title_sidebar": "Contents",
   "toc_cell": true,
   "toc_position": {},
   "toc_section_display": true,
   "toc_window_display": false
  }
 },
 "nbformat": 4,
 "nbformat_minor": 5
}
